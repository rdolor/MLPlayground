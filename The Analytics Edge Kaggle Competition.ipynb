{
 "cells": [
  {
   "cell_type": "code",
   "execution_count": 1,
   "metadata": {},
   "outputs": [
    {
     "name": "stdout",
     "output_type": "stream",
     "text": [
      "/Users/user/Downloads\n"
     ]
    }
   ],
   "source": [
    "%cd \\Users\\user\\Downloads\\"
   ]
  },
  {
   "cell_type": "code",
   "execution_count": 2,
   "metadata": {},
   "outputs": [],
   "source": [
    "import pandas as pd\n",
    "from sklearn import linear_model,tree, ensemble,decomposition,datasets,preprocessing, grid_search\n",
    "from sklearn.metrics import roc_curve, auc\n",
    "import numpy as np\n",
    "import pylab as pl\n",
    "import datetime\n",
    "import re\n",
    "from nltk.tag import pos_tag\n",
    "from sklearn.decomposition import ProjectedGradientNMF\n",
    "import sklearn.feature_extraction.text as text\n",
    "%matplotlib inline"
   ]
  },
  {
   "cell_type": "code",
   "execution_count": 3,
   "metadata": {},
   "outputs": [],
   "source": [
    "train = pd.read_csv(\"NYTimesBlogTrain.csv\")\n",
    "test = pd.read_csv(\"NYTimesBlogTest.csv\")"
   ]
  },
  {
   "cell_type": "code",
   "execution_count": 4,
   "metadata": {},
   "outputs": [],
   "source": [
    "#Random sampling\n",
    "num_obs = len(train)\n",
    "num_train_sample = int((num_obs) * 0.70)\n",
    "\n",
    "from random import sample\n",
    "\n",
    "#create random index\n",
    "rindex = np.array(sample(xrange(len(train)),num_train_sample))\n",
    "\n",
    "#get \"num_train_sample\" random rows from train\n",
    "\n",
    "train_df = train.ix[rindex]\n",
    "\n",
    "train_df_cv = train.drop(rindex)"
   ]
  },
  {
   "cell_type": "code",
   "execution_count": 5,
   "metadata": {},
   "outputs": [
    {
     "name": "stdout",
     "output_type": "stream",
     "text": [
      "number of obs for training: 4572\n",
      "number of obs for cross validation: 1960\n",
      "number of obs for test dataset: 1870\n"
     ]
    }
   ],
   "source": [
    "print \"number of obs for training:\",len(train_df)\n",
    "print \"number of obs for cross validation:\",len(train_df_cv)\n",
    "print \"number of obs for test dataset:\",len(test)"
   ]
  },
  {
   "cell_type": "code",
   "execution_count": 6,
   "metadata": {},
   "outputs": [
    {
     "data": {
      "text/plain": [
       "['NewsDesk',\n",
       " 'SectionName',\n",
       " 'SubsectionName',\n",
       " 'Headline',\n",
       " 'Snippet',\n",
       " 'Abstract',\n",
       " 'WordCount',\n",
       " 'PubDate',\n",
       " 'Popular',\n",
       " 'UniqueID']"
      ]
     },
     "execution_count": 6,
     "metadata": {},
     "output_type": "execute_result"
    }
   ],
   "source": [
    "#Available columns in training dataset\n",
    "list(train.columns)"
   ]
  },
  {
   "cell_type": "code",
   "execution_count": 7,
   "metadata": {},
   "outputs": [
    {
     "data": {
      "text/plain": [
       "['NewsDesk',\n",
       " 'SectionName',\n",
       " 'SubsectionName',\n",
       " 'Headline',\n",
       " 'Snippet',\n",
       " 'Abstract',\n",
       " 'WordCount',\n",
       " 'PubDate',\n",
       " 'UniqueID']"
      ]
     },
     "execution_count": 7,
     "metadata": {},
     "output_type": "execute_result"
    }
   ],
   "source": [
    "#Available columns in test dataset\n",
    "list(test.columns)"
   ]
  },
  {
   "cell_type": "code",
   "execution_count": 8,
   "metadata": {},
   "outputs": [
    {
     "name": "stdout",
     "output_type": "stream",
     "text": [
      "Number of variables in training dataset 10\n",
      "Number of variables in test dataset 9\n"
     ]
    }
   ],
   "source": [
    "print 'Number of variables in training dataset',len(train_df.columns)\n",
    "print 'Number of variables in test dataset',len(test.columns)"
   ]
  },
  {
   "cell_type": "markdown",
   "metadata": {},
   "source": [
    "## Training Dataset"
   ]
  },
  {
   "cell_type": "code",
   "execution_count": 9,
   "metadata": {},
   "outputs": [
    {
     "data": {
      "text/html": [
       "<div style=\"max-height:1000px;max-width:1500px;overflow:auto;\">\n",
       "<table border=\"1\" class=\"dataframe\">\n",
       "  <thead>\n",
       "    <tr style=\"text-align: right;\">\n",
       "      <th></th>\n",
       "      <th>NewsDesk</th>\n",
       "      <th>SectionName</th>\n",
       "      <th>SubsectionName</th>\n",
       "      <th>Headline</th>\n",
       "      <th>Snippet</th>\n",
       "      <th>Abstract</th>\n",
       "      <th>WordCount</th>\n",
       "      <th>PubDate</th>\n",
       "      <th>Popular</th>\n",
       "      <th>UniqueID</th>\n",
       "    </tr>\n",
       "  </thead>\n",
       "  <tbody>\n",
       "    <tr>\n",
       "      <th>3749</th>\n",
       "      <td>    OpEd</td>\n",
       "      <td> Opinion</td>\n",
       "      <td> NaN</td>\n",
       "      <td>              Republicans Against Toll Roads</td>\n",
       "      <td> The allure of a free lunch is hard to resist, ...</td>\n",
       "      <td> The allure of a free lunch is hard to resist, ...</td>\n",
       "      <td> 239</td>\n",
       "      <td> 2014-10-20 16:15:05</td>\n",
       "      <td> 1</td>\n",
       "      <td> 3750</td>\n",
       "    </tr>\n",
       "    <tr>\n",
       "      <th>5846</th>\n",
       "      <td> Science</td>\n",
       "      <td>  Health</td>\n",
       "      <td> NaN</td>\n",
       "      <td> Vegetarian Thanksgiving: Vegan Mac N Cheez </td>\n",
       "      <td> Vegan diners and people who cant tolerate dair...</td>\n",
       "      <td> Vegan diners and people who cant tolerate dair...</td>\n",
       "      <td> 402</td>\n",
       "      <td> 2014-11-18 14:58:58</td>\n",
       "      <td> 0</td>\n",
       "      <td> 5847</td>\n",
       "    </tr>\n",
       "  </tbody>\n",
       "</table>\n",
       "</div>"
      ],
      "text/plain": [
       "     NewsDesk SectionName SubsectionName  \\\n",
       "3749     OpEd     Opinion            NaN   \n",
       "5846  Science      Health            NaN   \n",
       "\n",
       "                                         Headline  \\\n",
       "3749               Republicans Against Toll Roads   \n",
       "5846  Vegetarian Thanksgiving: Vegan Mac N Cheez    \n",
       "\n",
       "                                                Snippet  \\\n",
       "3749  The allure of a free lunch is hard to resist, ...   \n",
       "5846  Vegan diners and people who cant tolerate dair...   \n",
       "\n",
       "                                               Abstract  WordCount  \\\n",
       "3749  The allure of a free lunch is hard to resist, ...        239   \n",
       "5846  Vegan diners and people who cant tolerate dair...        402   \n",
       "\n",
       "                  PubDate  Popular  UniqueID  \n",
       "3749  2014-10-20 16:15:05        1      3750  \n",
       "5846  2014-11-18 14:58:58        0      5847  "
      ]
     },
     "execution_count": 9,
     "metadata": {},
     "output_type": "execute_result"
    }
   ],
   "source": [
    "train_df.head(2)"
   ]
  },
  {
   "cell_type": "code",
   "execution_count": 10,
   "metadata": {},
   "outputs": [],
   "source": [
    "train_df['Headline_len'] = train_df.Headline.map(lambda x: len(x))\n",
    "train_df['PubDate_year'] = train_df.PubDate.map(lambda x: datetime.datetime.strptime(x[2:],'%y-%m-%d %H:%M:%S').year)\n",
    "train_df['PubDate_month'] = train_df.PubDate.map(lambda x: datetime.datetime.strptime(x[2:],'%y-%m-%d %H:%M:%S').month)\n",
    "train_df['PubDate_day'] = train_df.PubDate.map(lambda x: datetime.datetime.strptime(x[2:],'%y-%m-%d %H:%M:%S').day)\n",
    "train_df['PubDate_hour'] = train_df.PubDate.map(lambda x: datetime.datetime.strptime(x[2:],'%y-%m-%d %H:%M:%S').hour)\n",
    "train_df['PubDate_wkday'] = train_df.PubDate.map(lambda x: datetime.datetime.strptime(x[2:],'%y-%m-%d %H:%M:%S').weekday())"
   ]
  },
  {
   "cell_type": "code",
   "execution_count": 11,
   "metadata": {},
   "outputs": [
    {
     "name": "stdout",
     "output_type": "stream",
     "text": [
      "Popular : True    =  757\n",
      "Popular : False   =  3815\n",
      "Percentage of True =  16.56 %\n"
     ]
    }
   ],
   "source": [
    "print 'Popular : True    = ' , len(train_df.loc[train_df['Popular'] == 1])\n",
    "print 'Popular : False   = ' , len(train_df.loc[train_df['Popular'] == 0])\n",
    "print 'Percentage of True = ' , np.round((float(len(train_df.loc[train_df['Popular'] == 1]))/ (len(train_df.loc[train_df['Popular'] == 1]) + len(train_df.loc[train_df['Popular'] == 0]))) * 100,2),'%'"
   ]
  },
  {
   "cell_type": "code",
   "execution_count": 12,
   "metadata": {},
   "outputs": [],
   "source": [
    "#List columns that will be included in the model\n",
    "train_cols = [\n",
    " 'WordCount',\n",
    " 'Headline_len',\n",
    " 'PubDate_year',\n",
    " 'PubDate_month',\n",
    " 'PubDate_day',\n",
    " 'PubDate_hour',\n",
    " 'PubDate_wkday']"
   ]
  },
  {
   "cell_type": "markdown",
   "metadata": {},
   "source": [
    "#### Fit Model"
   ]
  },
  {
   "cell_type": "code",
   "execution_count": 13,
   "metadata": {},
   "outputs": [],
   "source": [
    "X_train = train_df[train_cols].values\n",
    "Y_train = train_df['Popular'].values"
   ]
  },
  {
   "cell_type": "code",
   "execution_count": 14,
   "metadata": {},
   "outputs": [
    {
     "data": {
      "text/plain": [
       "ExtraTreesRegressor(bootstrap=False, compute_importances=None,\n",
       "          criterion='mse', max_depth=None, max_features='auto',\n",
       "          max_leaf_nodes=None, min_density=None, min_samples_leaf=1,\n",
       "          min_samples_split=2, n_estimators=50, n_jobs=1, oob_score=False,\n",
       "          random_state=None, verbose=0)"
      ]
     },
     "execution_count": 14,
     "metadata": {},
     "output_type": "execute_result"
    }
   ],
   "source": [
    "#Model = ensemble.GradientBoostingRegressor()\n",
    "#Model = linear_model.LinearRegression()\n",
    "Model = ensemble.ExtraTreesRegressor(n_estimators = 50)\n",
    "Model.fit(X_train,Y_train)"
   ]
  },
  {
   "cell_type": "markdown",
   "metadata": {},
   "source": [
    "## CROSS VALIDATION DATASET"
   ]
  },
  {
   "cell_type": "code",
   "execution_count": 15,
   "metadata": {},
   "outputs": [],
   "source": [
    "train_df_cv['Headline_len'] = train_df_cv.Headline.map(lambda x: len(x))\n",
    "train_df_cv['PubDate_year'] = train_df_cv.PubDate.map(lambda x: datetime.datetime.strptime(x[2:],'%y-%m-%d %H:%M:%S').year)\n",
    "train_df_cv['PubDate_month'] = train_df_cv.PubDate.map(lambda x: datetime.datetime.strptime(x[2:],'%y-%m-%d %H:%M:%S').month)\n",
    "train_df_cv['PubDate_day'] = train_df_cv.PubDate.map(lambda x: datetime.datetime.strptime(x[2:],'%y-%m-%d %H:%M:%S').day)\n",
    "train_df_cv['PubDate_hour'] = train_df_cv.PubDate.map(lambda x: datetime.datetime.strptime(x[2:],'%y-%m-%d %H:%M:%S').hour)\n",
    "train_df_cv['PubDate_wkday'] = train_df_cv.PubDate.map(lambda x: datetime.datetime.strptime(x[2:],'%y-%m-%d %H:%M:%S').weekday())"
   ]
  },
  {
   "cell_type": "code",
   "execution_count": 16,
   "metadata": {},
   "outputs": [],
   "source": [
    "X_cv = train_df_cv[train_cols].values"
   ]
  },
  {
   "cell_type": "markdown",
   "metadata": {},
   "source": [
    "#### Predict Cross Validation"
   ]
  },
  {
   "cell_type": "code",
   "execution_count": 17,
   "metadata": {},
   "outputs": [],
   "source": [
    "Output_cv  = Model.predict(X_cv)"
   ]
  },
  {
   "cell_type": "code",
   "execution_count": 18,
   "metadata": {},
   "outputs": [],
   "source": [
    "Table = pd.DataFrame(Output_cv,columns=[\"_Predicted_\"])\n",
    "Table[\"Actual\"] = train_df_cv['Popular'].values"
   ]
  },
  {
   "cell_type": "code",
   "execution_count": 19,
   "metadata": {},
   "outputs": [],
   "source": [
    "Table['Predicted'] = Table._Predicted_.map(lambda x: 0 if x < 0 else x)"
   ]
  },
  {
   "cell_type": "code",
   "execution_count": 20,
   "metadata": {},
   "outputs": [
    {
     "data": {
      "text/html": [
       "<div style=\"max-height:1000px;max-width:1500px;overflow:auto;\">\n",
       "<table border=\"1\" class=\"dataframe\">\n",
       "  <thead>\n",
       "    <tr style=\"text-align: right;\">\n",
       "      <th></th>\n",
       "      <th>_Predicted_</th>\n",
       "      <th>Actual</th>\n",
       "      <th>Predicted</th>\n",
       "    </tr>\n",
       "  </thead>\n",
       "  <tbody>\n",
       "    <tr>\n",
       "      <th>0</th>\n",
       "      <td> 0.54</td>\n",
       "      <td> 0</td>\n",
       "      <td> 0.54</td>\n",
       "    </tr>\n",
       "    <tr>\n",
       "      <th>1</th>\n",
       "      <td> 0.44</td>\n",
       "      <td> 1</td>\n",
       "      <td> 0.44</td>\n",
       "    </tr>\n",
       "    <tr>\n",
       "      <th>2</th>\n",
       "      <td> 0.40</td>\n",
       "      <td> 1</td>\n",
       "      <td> 0.40</td>\n",
       "    </tr>\n",
       "    <tr>\n",
       "      <th>3</th>\n",
       "      <td> 0.10</td>\n",
       "      <td> 1</td>\n",
       "      <td> 0.10</td>\n",
       "    </tr>\n",
       "    <tr>\n",
       "      <th>4</th>\n",
       "      <td> 0.02</td>\n",
       "      <td> 0</td>\n",
       "      <td> 0.02</td>\n",
       "    </tr>\n",
       "  </tbody>\n",
       "</table>\n",
       "</div>"
      ],
      "text/plain": [
       "   _Predicted_  Actual  Predicted\n",
       "0         0.54       0       0.54\n",
       "1         0.44       1       0.44\n",
       "2         0.40       1       0.40\n",
       "3         0.10       1       0.10\n",
       "4         0.02       0       0.02"
      ]
     },
     "execution_count": 20,
     "metadata": {},
     "output_type": "execute_result"
    }
   ],
   "source": [
    "Table.head()"
   ]
  },
  {
   "cell_type": "code",
   "execution_count": 21,
   "metadata": {},
   "outputs": [
    {
     "name": "stdout",
     "output_type": "stream",
     "text": [
      "Actual 0.171428571429\n",
      "Predicted 0.180326530612\n"
     ]
    }
   ],
   "source": [
    "print 'Actual',np.mean(Table['Actual'])\n",
    "print 'Predicted',np.mean(Table['Predicted'])"
   ]
  },
  {
   "cell_type": "code",
   "execution_count": 22,
   "metadata": {},
   "outputs": [
    {
     "name": "stdout",
     "output_type": "stream",
     "text": [
      "Actual Received True     =  336\n",
      "Actual Received False    =  1624\n",
      "Predicted Received True  =  4\n",
      "Predicted Received False =  1770\n",
      "\n",
      "True Positive  =  107\n",
      "False Positive =  83\n",
      "True Negative  =  1541\n",
      "False Negative =  229\n",
      "\n",
      "True Positive Rate   =  31.85 %\n",
      "False Positive Rate  =  5.11 %\n",
      "True Negative Rate   =  94.89 %\n",
      "False Negative Rate  =  68.15 %\n"
     ]
    }
   ],
   "source": [
    "print 'Actual Received True     = ' , len(Table.loc[Table['Actual'] == 1])\n",
    "print 'Actual Received False    = ' , len(Table.loc[Table['Actual'] == 0])\n",
    "print 'Predicted Received True  = ' , len(Table.loc[Table['Predicted'] == 1 ])\n",
    "print 'Predicted Received False = ' , len(Table.loc[Table['Predicted'] < 0.5])\n",
    "print ''\n",
    "print 'True Positive  = ', len(Table[(Table['Predicted'] >= 0.5) & (Table['Actual'] == 1)])\n",
    "print 'False Positive = ', len(Table[(Table['Predicted'] >= 0.5) & (Table['Actual'] == 0)])\n",
    "print 'True Negative  = ', len(Table[(Table['Predicted'] < 0.5) & (Table['Actual'] == 0)])\n",
    "print 'False Negative = ', len(Table[(Table['Predicted'] < 0.5) & (Table['Actual'] == 1)])\n",
    "print ''\n",
    "print 'True Positive Rate   = ', np.round((len(Table[(Table['Predicted'] >= 0.5) & (Table['Actual'] == 1)])/float((len(Table[(Table['Predicted'] >= 0.5) & (Table['Actual'] == 1)]) + len(Table[(Table['Predicted'] < 0.5) & (Table['Actual'] == 1)]))) * 100),2),'%'\n",
    "print 'False Positive Rate  = ', np.round((len(Table[(Table['Predicted'] >= 0.5) & (Table['Actual'] == 0)])/float((len(Table[(Table['Predicted'] >= 0.5) & (Table['Actual'] == 0)]) + len(Table[(Table['Predicted'] < 0.5) & (Table['Actual'] == 0)]))) * 100),2),'%'\n",
    "print 'True Negative Rate   = ', np.round((1-(len(Table[(Table['Predicted'] >= 0.5) & (Table['Actual'] == 0)])/float((len(Table[(Table['Predicted'] >= 0.5) & (Table['Actual'] == 0)]) + len(Table[(Table['Predicted'] < 0.5) & (Table['Actual'] == 0)]))))) * 100,2),'%'\n",
    "print 'False Negative Rate  = ', np.round((1-(len(Table[(Table['Predicted'] >= 0.5) & (Table['Actual'] == 1)])/float((len(Table[(Table['Predicted'] >= 0.5) & (Table['Actual'] == 1)]) + len(Table[(Table['Predicted'] < 0.5) & (Table['Actual'] == 1)]))))) * 100,2),'%'"
   ]
  },
  {
   "cell_type": "code",
   "execution_count": 23,
   "metadata": {},
   "outputs": [
    {
     "name": "stdout",
     "output_type": "stream",
     "text": [
      "Area under the ROC curve : 0.781874\n"
     ]
    },
    {
     "data": {
      "image/png": "[encoded data removed]",
      "text/plain": [
       "<matplotlib.figure.Figure at 0x1160c8b90>"
      ]
     },
     "metadata": {},
     "output_type": "display_data"
    }
   ],
   "source": [
    "# Compute ROC curve and area the curve\n",
    "fpr, tpr, thresholds = roc_curve(Table['Actual'],Table['Predicted'])\n",
    "roc_auc = auc(fpr, tpr)\n",
    "print \"Area under the ROC curve : %f\" % roc_auc\n",
    "\n",
    "# Plot ROC curve\n",
    "pl.clf()\n",
    "pl.plot(fpr, tpr, label='ROC curve (area = %0.2f)' % roc_auc)\n",
    "pl.plot([0, 1], [0, 1], 'k--')\n",
    "pl.xlim([0.0, 1.0])\n",
    "pl.ylim([0.0, 1.0])\n",
    "pl.xlabel('False Positive Rate')\n",
    "pl.ylabel('True Positive Rate')\n",
    "pl.title('Receiver operating characteristic example')\n",
    "pl.legend(loc=\"lower right\")\n",
    "pl.show()"
   ]
  },
  {
   "cell_type": "markdown",
   "metadata": {},
   "source": [
    "## Test Dataset"
   ]
  },
  {
   "cell_type": "code",
   "execution_count": 24,
   "metadata": {},
   "outputs": [],
   "source": [
    "test['Headline_len'] = test.Headline.map(lambda x: len(x))\n",
    "test['PubDate_year'] = test.PubDate.map(lambda x: datetime.datetime.strptime(x[2:],'%y-%m-%d %H:%M:%S').year)\n",
    "test['PubDate_month'] = test.PubDate.map(lambda x: datetime.datetime.strptime(x[2:],'%y-%m-%d %H:%M:%S').month)\n",
    "test['PubDate_day'] = test.PubDate.map(lambda x: datetime.datetime.strptime(x[2:],'%y-%m-%d %H:%M:%S').day)\n",
    "test['PubDate_hour'] = test.PubDate.map(lambda x: datetime.datetime.strptime(x[2:],'%y-%m-%d %H:%M:%S').hour)\n",
    "test['PubDate_wkday'] = test.PubDate.map(lambda x: datetime.datetime.strptime(x[2:],'%y-%m-%d %H:%M:%S').weekday())"
   ]
  },
  {
   "cell_type": "code",
   "execution_count": 25,
   "metadata": {},
   "outputs": [],
   "source": [
    "X_test = test[train_cols].values\n",
    "Output_test  = Model.predict(X_test)"
   ]
  },
  {
   "cell_type": "code",
   "execution_count": 26,
   "metadata": {},
   "outputs": [],
   "source": [
    "ids  = pd.DataFrame(test['UniqueID'])\n",
    "predicted = pd.DataFrame(Output_test)"
   ]
  },
  {
   "cell_type": "code",
   "execution_count": 27,
   "metadata": {},
   "outputs": [],
   "source": [
    "Table2 = ids.join(predicted)\n",
    "Table2.columns = ['UniqueID','_Probability1_']"
   ]
  },
  {
   "cell_type": "code",
   "execution_count": 28,
   "metadata": {},
   "outputs": [],
   "source": [
    "Table2['Probability1'] = Table2._Probability1_.map(lambda x: 0 if x < 0 else x)"
   ]
  },
  {
   "cell_type": "code",
   "execution_count": 29,
   "metadata": {},
   "outputs": [
    {
     "data": {
      "text/html": [
       "<div style=\"max-height:1000px;max-width:1500px;overflow:auto;\">\n",
       "<table border=\"1\" class=\"dataframe\">\n",
       "  <thead>\n",
       "    <tr style=\"text-align: right;\">\n",
       "      <th></th>\n",
       "      <th>UniqueID</th>\n",
       "      <th>_Probability1_</th>\n",
       "      <th>Probability1</th>\n",
       "    </tr>\n",
       "  </thead>\n",
       "  <tbody>\n",
       "    <tr>\n",
       "      <th>0</th>\n",
       "      <td> 6533</td>\n",
       "      <td> 0.70</td>\n",
       "      <td> 0.70</td>\n",
       "    </tr>\n",
       "    <tr>\n",
       "      <th>1</th>\n",
       "      <td> 6534</td>\n",
       "      <td> 0.24</td>\n",
       "      <td> 0.24</td>\n",
       "    </tr>\n",
       "    <tr>\n",
       "      <th>2</th>\n",
       "      <td> 6535</td>\n",
       "      <td> 0.70</td>\n",
       "      <td> 0.70</td>\n",
       "    </tr>\n",
       "  </tbody>\n",
       "</table>\n",
       "</div>"
      ],
      "text/plain": [
       "   UniqueID  _Probability1_  Probability1\n",
       "0      6533            0.70          0.70\n",
       "1      6534            0.24          0.24\n",
       "2      6535            0.70          0.70"
      ]
     },
     "execution_count": 29,
     "metadata": {},
     "output_type": "execute_result"
    }
   ],
   "source": [
    "Table2.head(3)"
   ]
  },
  {
   "cell_type": "code",
   "execution_count": 30,
   "metadata": {},
   "outputs": [
    {
     "data": {
      "text/plain": [
       "0.19337967914438503"
      ]
     },
     "execution_count": 30,
     "metadata": {},
     "output_type": "execute_result"
    }
   ],
   "source": [
    "np.mean(Table2['Probability1'])"
   ]
  },
  {
   "cell_type": "code",
   "execution_count": 31,
   "metadata": {},
   "outputs": [
    {
     "data": {
      "text/plain": [
       "0.20405624739378067"
      ]
     },
     "execution_count": 31,
     "metadata": {},
     "output_type": "execute_result"
    }
   ],
   "source": [
    "np.std(Table2['Probability1'])"
   ]
  },
  {
   "cell_type": "code",
   "execution_count": 32,
   "metadata": {},
   "outputs": [
    {
     "data": {
      "text/plain": [
       "0.0"
      ]
     },
     "execution_count": 32,
     "metadata": {},
     "output_type": "execute_result"
    }
   ],
   "source": [
    "np.min(Table2['Probability1'])"
   ]
  },
  {
   "cell_type": "code",
   "execution_count": 33,
   "metadata": {},
   "outputs": [
    {
     "name": "stdout",
     "output_type": "stream",
     "text": [
      "True 191\n",
      "False 1679\n"
     ]
    }
   ],
   "source": [
    "print 'True' , len(Table2.loc[Table2['Probability1'] >= 0.5])\n",
    "print 'False' , len(Table2.loc[Table2['Probability1'] < 0.5])"
   ]
  },
  {
   "cell_type": "code",
   "execution_count": 34,
   "metadata": {},
   "outputs": [],
   "source": [
    "Table2 = Table2[['UniqueID','Probability1']]"
   ]
  },
  {
   "cell_type": "code",
   "execution_count": 35,
   "metadata": {},
   "outputs": [
    {
     "data": {
      "text/html": [
       "<div style=\"max-height:1000px;max-width:1500px;overflow:auto;\">\n",
       "<table border=\"1\" class=\"dataframe\">\n",
       "  <thead>\n",
       "    <tr style=\"text-align: right;\">\n",
       "      <th></th>\n",
       "      <th>UniqueID</th>\n",
       "      <th>Probability1</th>\n",
       "    </tr>\n",
       "  </thead>\n",
       "  <tbody>\n",
       "    <tr>\n",
       "      <th>0</th>\n",
       "      <td> 6533</td>\n",
       "      <td> 0.70</td>\n",
       "    </tr>\n",
       "    <tr>\n",
       "      <th>1</th>\n",
       "      <td> 6534</td>\n",
       "      <td> 0.24</td>\n",
       "    </tr>\n",
       "    <tr>\n",
       "      <th>2</th>\n",
       "      <td> 6535</td>\n",
       "      <td> 0.70</td>\n",
       "    </tr>\n",
       "  </tbody>\n",
       "</table>\n",
       "</div>"
      ],
      "text/plain": [
       "   UniqueID  Probability1\n",
       "0      6533          0.70\n",
       "1      6534          0.24\n",
       "2      6535          0.70"
      ]
     },
     "execution_count": 35,
     "metadata": {},
     "output_type": "execute_result"
    }
   ],
   "source": [
    "Table2.head(3)"
   ]
  },
  {
   "cell_type": "code",
   "execution_count": 36,
   "metadata": {},
   "outputs": [],
   "source": [
    "#Export file\n",
    "Table2.to_csv('ExtraTrees1.csv',index=False)"
   ]
  },
  {
   "cell_type": "code",
   "execution_count": 36,
   "metadata": {},
   "outputs": [],
   "source": []
  }
 ],
 "metadata": {
  "kernelspec": {
   "display_name": "Python 3",
   "language": "python",
   "name": "python3"
  },
  "language_info": {
   "codemirror_mode": {
    "name": "ipython",
    "version": 3
   },
   "file_extension": ".py",
   "mimetype": "text/x-python",
   "name": "python",
   "nbconvert_exporter": "python",
   "pygments_lexer": "ipython3",
   "version": "3.7.3"
  }
 },
 "nbformat": 4,
 "nbformat_minor": 1
}
