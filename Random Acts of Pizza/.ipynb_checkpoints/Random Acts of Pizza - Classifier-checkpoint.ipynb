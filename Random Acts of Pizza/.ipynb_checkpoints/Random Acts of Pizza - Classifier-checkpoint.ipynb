{
 "cells": [
  {
   "cell_type": "markdown",
   "metadata": {},
   "source": [
    "## Random Acts of Pizza"
   ]
  },
  {
   "cell_type": "raw",
   "metadata": {},
   "source": [
    "This competition contains a dataset with 5671 textual requests for pizza from the Reddit community Random Acts of Pizza together with their outcome (successful/unsuccessful) and meta-data. Participants must create an algorithm capable of predicting which requests will garner a cheesy (but sincere!) act of kindness."
   ]
  },
  {
   "cell_type": "markdown",
   "metadata": {},
   "source": [
    "### ===================================================================================================="
   ]
  },
  {
   "cell_type": "code",
   "execution_count": 1,
   "metadata": {},
   "outputs": [
    {
     "name": "stdout",
     "output_type": "stream",
     "text": [
      "/Users/user/Downloads\n"
     ]
    }
   ],
   "source": [
    "%cd \\Users\\user\\Downloads\\"
   ]
  },
  {
   "cell_type": "code",
   "execution_count": 2,
   "metadata": {},
   "outputs": [],
   "source": [
    "import pandas as pd\n",
    "from sklearn import linear_model,tree, ensemble,decomposition,datasets,preprocessing, grid_search\n",
    "from sklearn.metrics import roc_curve, auc\n",
    "import numpy as np\n",
    "import pylab as pl\n",
    "import datetime\n",
    "import re\n",
    "%matplotlib inline"
   ]
  },
  {
   "cell_type": "code",
   "execution_count": 3,
   "metadata": {},
   "outputs": [],
   "source": [
    "train = pd.read_json(\"train.json\")\n",
    "test = pd.read_json(\"test.json\")"
   ]
  },
  {
   "cell_type": "code",
   "execution_count": 4,
   "metadata": {},
   "outputs": [],
   "source": [
    "#Random sampling\n",
    "num_obs = len(train)\n",
    "num_train_sample = int((num_obs) * 0.7)\n",
    "\n",
    "from random import sample\n",
    "\n",
    "#create random index\n",
    "rindex = np.array(sample(xrange(len(train)),num_train_sample))\n",
    "\n",
    "#get \"num_train_sample\" random rows from train\n",
    "\n",
    "train_df = train.ix[rindex]\n",
    "\n",
    "train_df_cv = train.drop(rindex)"
   ]
  },
  {
   "cell_type": "code",
   "execution_count": 5,
   "metadata": {},
   "outputs": [
    {
     "name": "stdout",
     "output_type": "stream",
     "text": [
      "number of obs for training: 2828\n",
      "number of obs for cross validation: 1212\n",
      "number of obs for test dataset: 1631\n"
     ]
    }
   ],
   "source": [
    "print \"number of obs for training:\",len(train_df)\n",
    "print \"number of obs for cross validation:\",len(train_df_cv)\n",
    "print \"number of obs for test dataset:\",len(test)"
   ]
  },
  {
   "cell_type": "code",
   "execution_count": 6,
   "metadata": {},
   "outputs": [
    {
     "data": {
      "text/plain": [
       "[u'giver_username_if_known',\n",
       " u'number_of_downvotes_of_request_at_retrieval',\n",
       " u'number_of_upvotes_of_request_at_retrieval',\n",
       " u'post_was_edited',\n",
       " u'request_id',\n",
       " u'request_number_of_comments_at_retrieval',\n",
       " u'request_text',\n",
       " u'request_text_edit_aware',\n",
       " u'request_title',\n",
       " u'requester_account_age_in_days_at_request',\n",
       " u'requester_account_age_in_days_at_retrieval',\n",
       " u'requester_days_since_first_post_on_raop_at_request',\n",
       " u'requester_days_since_first_post_on_raop_at_retrieval',\n",
       " u'requester_number_of_comments_at_request',\n",
       " u'requester_number_of_comments_at_retrieval',\n",
       " u'requester_number_of_comments_in_raop_at_request',\n",
       " u'requester_number_of_comments_in_raop_at_retrieval',\n",
       " u'requester_number_of_posts_at_request',\n",
       " u'requester_number_of_posts_at_retrieval',\n",
       " u'requester_number_of_posts_on_raop_at_request',\n",
       " u'requester_number_of_posts_on_raop_at_retrieval',\n",
       " u'requester_number_of_subreddits_at_request',\n",
       " u'requester_received_pizza',\n",
       " u'requester_subreddits_at_request',\n",
       " u'requester_upvotes_minus_downvotes_at_request',\n",
       " u'requester_upvotes_minus_downvotes_at_retrieval',\n",
       " u'requester_upvotes_plus_downvotes_at_request',\n",
       " u'requester_upvotes_plus_downvotes_at_retrieval',\n",
       " u'requester_user_flair',\n",
       " u'requester_username',\n",
       " u'unix_timestamp_of_request',\n",
       " u'unix_timestamp_of_request_utc']"
      ]
     },
     "execution_count": 6,
     "metadata": {},
     "output_type": "execute_result"
    }
   ],
   "source": [
    "#Available columns in training dataset\n",
    "list(train.columns)"
   ]
  },
  {
   "cell_type": "code",
   "execution_count": 7,
   "metadata": {},
   "outputs": [
    {
     "data": {
      "text/plain": [
       "[u'giver_username_if_known',\n",
       " u'request_id',\n",
       " u'request_text_edit_aware',\n",
       " u'request_title',\n",
       " u'requester_account_age_in_days_at_request',\n",
       " u'requester_days_since_first_post_on_raop_at_request',\n",
       " u'requester_number_of_comments_at_request',\n",
       " u'requester_number_of_comments_in_raop_at_request',\n",
       " u'requester_number_of_posts_at_request',\n",
       " u'requester_number_of_posts_on_raop_at_request',\n",
       " u'requester_number_of_subreddits_at_request',\n",
       " u'requester_subreddits_at_request',\n",
       " u'requester_upvotes_minus_downvotes_at_request',\n",
       " u'requester_upvotes_plus_downvotes_at_request',\n",
       " u'requester_username',\n",
       " u'unix_timestamp_of_request',\n",
       " u'unix_timestamp_of_request_utc']"
      ]
     },
     "execution_count": 7,
     "metadata": {},
     "output_type": "execute_result"
    }
   ],
   "source": [
    "#Available columns in test dataset\n",
    "list(test.columns)"
   ]
  },
  {
   "cell_type": "code",
   "execution_count": 8,
   "metadata": {},
   "outputs": [
    {
     "name": "stdout",
     "output_type": "stream",
     "text": [
      "Number of variables in training dataset 32\n",
      "Number of variables in test dataset 17\n"
     ]
    }
   ],
   "source": [
    "print 'Number of variables in training dataset',len(train_df.columns)\n",
    "print 'Number of variables in test dataset',len(test.columns)"
   ]
  },
  {
   "cell_type": "markdown",
   "metadata": {},
   "source": [
    "## Training Dataset"
   ]
  },
  {
   "cell_type": "code",
   "execution_count": 9,
   "metadata": {},
   "outputs": [
    {
     "data": {
      "text/html": [
       "<div style=\"max-height:1000px;max-width:1500px;overflow:auto;\">\n",
       "<table border=\"1\" class=\"dataframe\">\n",
       "  <thead>\n",
       "    <tr style=\"text-align: right;\">\n",
       "      <th></th>\n",
       "      <th>giver_username_if_known</th>\n",
       "      <th>number_of_downvotes_of_request_at_retrieval</th>\n",
       "      <th>number_of_upvotes_of_request_at_retrieval</th>\n",
       "      <th>post_was_edited</th>\n",
       "      <th>request_id</th>\n",
       "      <th>request_number_of_comments_at_retrieval</th>\n",
       "      <th>request_text</th>\n",
       "      <th>request_text_edit_aware</th>\n",
       "      <th>request_title</th>\n",
       "      <th>requester_account_age_in_days_at_request</th>\n",
       "      <th>...</th>\n",
       "      <th>requester_received_pizza</th>\n",
       "      <th>requester_subreddits_at_request</th>\n",
       "      <th>requester_upvotes_minus_downvotes_at_request</th>\n",
       "      <th>requester_upvotes_minus_downvotes_at_retrieval</th>\n",
       "      <th>requester_upvotes_plus_downvotes_at_request</th>\n",
       "      <th>requester_upvotes_plus_downvotes_at_retrieval</th>\n",
       "      <th>requester_user_flair</th>\n",
       "      <th>requester_username</th>\n",
       "      <th>unix_timestamp_of_request</th>\n",
       "      <th>unix_timestamp_of_request_utc</th>\n",
       "    </tr>\n",
       "  </thead>\n",
       "  <tbody>\n",
       "    <tr>\n",
       "      <th>219 </th>\n",
       "      <td> N/A</td>\n",
       "      <td> 0</td>\n",
       "      <td> 5</td>\n",
       "      <td> 0</td>\n",
       "      <td> t3_10pz0s</td>\n",
       "      <td> 0</td>\n",
       "      <td>                            I just want a pizza :]</td>\n",
       "      <td>                            I just want a pizza :]</td>\n",
       "      <td> [Request] Salton City, CA; Willing to do silly...</td>\n",
       "      <td> 338.593229</td>\n",
       "      <td>...</td>\n",
       "      <td> False</td>\n",
       "      <td> [AdviceAnimals, AskReddit, Gore, IAmA, MorbidR...</td>\n",
       "      <td> 9089</td>\n",
       "      <td> 13228</td>\n",
       "      <td> 16887</td>\n",
       "      <td> 27134</td>\n",
       "      <td> None</td>\n",
       "      <td> SPMex760</td>\n",
       "      <td> 1349035020</td>\n",
       "      <td> 1349031420</td>\n",
       "    </tr>\n",
       "    <tr>\n",
       "      <th>3564</th>\n",
       "      <td> N/A</td>\n",
       "      <td> 1</td>\n",
       "      <td> 4</td>\n",
       "      <td> 1</td>\n",
       "      <td>  t3_loudp</td>\n",
       "      <td> 0</td>\n",
       "      <td> Hi! I don't consider myself particularly desti...</td>\n",
       "      <td> Hi! I don't consider myself particularly desti...</td>\n",
       "      <td>                    [REQUEST] Stuck at work in STL</td>\n",
       "      <td> 448.121991</td>\n",
       "      <td>...</td>\n",
       "      <td> False</td>\n",
       "      <td> [AskReddit, Cooking, Minecraft, dating_advice,...</td>\n",
       "      <td>  114</td>\n",
       "      <td>  4042</td>\n",
       "      <td>   276</td>\n",
       "      <td>  6298</td>\n",
       "      <td> None</td>\n",
       "      <td>    icbat</td>\n",
       "      <td> 1319579071</td>\n",
       "      <td> 1319575471</td>\n",
       "    </tr>\n",
       "  </tbody>\n",
       "</table>\n",
       "<p>2 rows × 32 columns</p>\n",
       "</div>"
      ],
      "text/plain": [
       "     giver_username_if_known  number_of_downvotes_of_request_at_retrieval  \\\n",
       "219                      N/A                                            0   \n",
       "3564                     N/A                                            1   \n",
       "\n",
       "      number_of_upvotes_of_request_at_retrieval  post_was_edited request_id  \\\n",
       "219                                           5                0  t3_10pz0s   \n",
       "3564                                          4                1   t3_loudp   \n",
       "\n",
       "      request_number_of_comments_at_retrieval  \\\n",
       "219                                         0   \n",
       "3564                                        0   \n",
       "\n",
       "                                           request_text  \\\n",
       "219                              I just want a pizza :]   \n",
       "3564  Hi! I don't consider myself particularly desti...   \n",
       "\n",
       "                                request_text_edit_aware  \\\n",
       "219                              I just want a pizza :]   \n",
       "3564  Hi! I don't consider myself particularly desti...   \n",
       "\n",
       "                                          request_title  \\\n",
       "219   [Request] Salton City, CA; Willing to do silly...   \n",
       "3564                     [REQUEST] Stuck at work in STL   \n",
       "\n",
       "      requester_account_age_in_days_at_request              ...                \\\n",
       "219                                 338.593229              ...                 \n",
       "3564                                448.121991              ...                 \n",
       "\n",
       "      requester_received_pizza  \\\n",
       "219                      False   \n",
       "3564                     False   \n",
       "\n",
       "                        requester_subreddits_at_request  \\\n",
       "219   [AdviceAnimals, AskReddit, Gore, IAmA, MorbidR...   \n",
       "3564  [AskReddit, Cooking, Minecraft, dating_advice,...   \n",
       "\n",
       "      requester_upvotes_minus_downvotes_at_request  \\\n",
       "219                                           9089   \n",
       "3564                                           114   \n",
       "\n",
       "      requester_upvotes_minus_downvotes_at_retrieval  \\\n",
       "219                                            13228   \n",
       "3564                                            4042   \n",
       "\n",
       "      requester_upvotes_plus_downvotes_at_request  \\\n",
       "219                                         16887   \n",
       "3564                                          276   \n",
       "\n",
       "      requester_upvotes_plus_downvotes_at_retrieval  requester_user_flair  \\\n",
       "219                                           27134                  None   \n",
       "3564                                           6298                  None   \n",
       "\n",
       "      requester_username  unix_timestamp_of_request  \\\n",
       "219             SPMex760                 1349035020   \n",
       "3564               icbat                 1319579071   \n",
       "\n",
       "      unix_timestamp_of_request_utc  \n",
       "219                      1349031420  \n",
       "3564                     1319575471  \n",
       "\n",
       "[2 rows x 32 columns]"
      ]
     },
     "execution_count": 9,
     "metadata": {},
     "output_type": "execute_result"
    }
   ],
   "source": [
    "train_df.head(2)"
   ]
  },
  {
   "cell_type": "code",
   "execution_count": 10,
   "metadata": {},
   "outputs": [],
   "source": [
    "#Select only columns that are both present in the test data and training data \n",
    "train_df = train_df[[ u'requester_received_pizza',\n",
    " u'giver_username_if_known',\n",
    " u'request_id',\n",
    " u'request_text_edit_aware',\n",
    " u'request_title',\n",
    " u'requester_account_age_in_days_at_request',\n",
    " u'requester_days_since_first_post_on_raop_at_request',\n",
    " u'requester_number_of_comments_at_request',\n",
    " u'requester_number_of_comments_in_raop_at_request',\n",
    " u'requester_number_of_posts_at_request',\n",
    " u'requester_number_of_posts_on_raop_at_request',\n",
    " u'requester_number_of_subreddits_at_request',\n",
    " u'requester_subreddits_at_request',\n",
    " u'requester_upvotes_minus_downvotes_at_request',\n",
    " u'requester_upvotes_plus_downvotes_at_request',\n",
    " u'requester_username',\n",
    " u'unix_timestamp_of_request',\n",
    " u'unix_timestamp_of_request_utc']]"
   ]
  },
  {
   "cell_type": "code",
   "execution_count": 11,
   "metadata": {},
   "outputs": [
    {
     "data": {
      "text/html": [
       "<div style=\"max-height:1000px;max-width:1500px;overflow:auto;\">\n",
       "<table border=\"1\" class=\"dataframe\">\n",
       "  <thead>\n",
       "    <tr style=\"text-align: right;\">\n",
       "      <th></th>\n",
       "      <th>requester_received_pizza</th>\n",
       "      <th>giver_username_if_known</th>\n",
       "      <th>request_id</th>\n",
       "      <th>request_text_edit_aware</th>\n",
       "      <th>request_title</th>\n",
       "      <th>requester_account_age_in_days_at_request</th>\n",
       "      <th>requester_days_since_first_post_on_raop_at_request</th>\n",
       "      <th>requester_number_of_comments_at_request</th>\n",
       "      <th>requester_number_of_comments_in_raop_at_request</th>\n",
       "      <th>requester_number_of_posts_at_request</th>\n",
       "      <th>requester_number_of_posts_on_raop_at_request</th>\n",
       "      <th>requester_number_of_subreddits_at_request</th>\n",
       "      <th>requester_subreddits_at_request</th>\n",
       "      <th>requester_upvotes_minus_downvotes_at_request</th>\n",
       "      <th>requester_upvotes_plus_downvotes_at_request</th>\n",
       "      <th>requester_username</th>\n",
       "      <th>unix_timestamp_of_request</th>\n",
       "      <th>unix_timestamp_of_request_utc</th>\n",
       "    </tr>\n",
       "  </thead>\n",
       "  <tbody>\n",
       "    <tr>\n",
       "      <th>219 </th>\n",
       "      <td> False</td>\n",
       "      <td> N/A</td>\n",
       "      <td> t3_10pz0s</td>\n",
       "      <td>                            I just want a pizza :]</td>\n",
       "      <td> [Request] Salton City, CA; Willing to do silly...</td>\n",
       "      <td> 338.593229</td>\n",
       "      <td> 0</td>\n",
       "      <td> 512</td>\n",
       "      <td> 0</td>\n",
       "      <td> 94</td>\n",
       "      <td> 0</td>\n",
       "      <td> 30</td>\n",
       "      <td> [AdviceAnimals, AskReddit, Gore, IAmA, MorbidR...</td>\n",
       "      <td> 9089</td>\n",
       "      <td> 16887</td>\n",
       "      <td> SPMex760</td>\n",
       "      <td> 1349035020</td>\n",
       "      <td> 1349031420</td>\n",
       "    </tr>\n",
       "    <tr>\n",
       "      <th>3564</th>\n",
       "      <td> False</td>\n",
       "      <td> N/A</td>\n",
       "      <td>  t3_loudp</td>\n",
       "      <td> Hi! I don't consider myself particularly desti...</td>\n",
       "      <td>                    [REQUEST] Stuck at work in STL</td>\n",
       "      <td> 448.121991</td>\n",
       "      <td> 0</td>\n",
       "      <td>   0</td>\n",
       "      <td> 0</td>\n",
       "      <td> 38</td>\n",
       "      <td> 0</td>\n",
       "      <td> 14</td>\n",
       "      <td> [AskReddit, Cooking, Minecraft, dating_advice,...</td>\n",
       "      <td>  114</td>\n",
       "      <td>   276</td>\n",
       "      <td>    icbat</td>\n",
       "      <td> 1319579071</td>\n",
       "      <td> 1319575471</td>\n",
       "    </tr>\n",
       "  </tbody>\n",
       "</table>\n",
       "</div>"
      ],
      "text/plain": [
       "     requester_received_pizza giver_username_if_known request_id  \\\n",
       "219                     False                     N/A  t3_10pz0s   \n",
       "3564                    False                     N/A   t3_loudp   \n",
       "\n",
       "                                request_text_edit_aware  \\\n",
       "219                              I just want a pizza :]   \n",
       "3564  Hi! I don't consider myself particularly desti...   \n",
       "\n",
       "                                          request_title  \\\n",
       "219   [Request] Salton City, CA; Willing to do silly...   \n",
       "3564                     [REQUEST] Stuck at work in STL   \n",
       "\n",
       "      requester_account_age_in_days_at_request  \\\n",
       "219                                 338.593229   \n",
       "3564                                448.121991   \n",
       "\n",
       "      requester_days_since_first_post_on_raop_at_request  \\\n",
       "219                                                   0    \n",
       "3564                                                  0    \n",
       "\n",
       "      requester_number_of_comments_at_request  \\\n",
       "219                                       512   \n",
       "3564                                        0   \n",
       "\n",
       "      requester_number_of_comments_in_raop_at_request  \\\n",
       "219                                                 0   \n",
       "3564                                                0   \n",
       "\n",
       "      requester_number_of_posts_at_request  \\\n",
       "219                                     94   \n",
       "3564                                    38   \n",
       "\n",
       "      requester_number_of_posts_on_raop_at_request  \\\n",
       "219                                              0   \n",
       "3564                                             0   \n",
       "\n",
       "      requester_number_of_subreddits_at_request  \\\n",
       "219                                          30   \n",
       "3564                                         14   \n",
       "\n",
       "                        requester_subreddits_at_request  \\\n",
       "219   [AdviceAnimals, AskReddit, Gore, IAmA, MorbidR...   \n",
       "3564  [AskReddit, Cooking, Minecraft, dating_advice,...   \n",
       "\n",
       "      requester_upvotes_minus_downvotes_at_request  \\\n",
       "219                                           9089   \n",
       "3564                                           114   \n",
       "\n",
       "      requester_upvotes_plus_downvotes_at_request requester_username  \\\n",
       "219                                         16887           SPMex760   \n",
       "3564                                          276              icbat   \n",
       "\n",
       "      unix_timestamp_of_request  unix_timestamp_of_request_utc  \n",
       "219                  1349035020                     1349031420  \n",
       "3564                 1319579071                     1319575471  "
      ]
     },
     "execution_count": 11,
     "metadata": {},
     "output_type": "execute_result"
    }
   ],
   "source": [
    "train_df.head(2)"
   ]
  },
  {
   "cell_type": "code",
   "execution_count": 12,
   "metadata": {},
   "outputs": [],
   "source": [
    "re_pattern_img = r'\\b(?:img|jpg|gif|png)\\b'\n",
    "re_pattern_reciprocity = r'\\b(?:pay it forward|pay it back|return the favor)\\b'"
   ]
  },
  {
   "cell_type": "code",
   "execution_count": 13,
   "metadata": {},
   "outputs": [],
   "source": [
    "#Create new features\n",
    "train_df['received'] = train_df.requester_received_pizza.map(lambda x: 0 if x == False else 1)\n",
    "train_df['giver_username_if_known_011'] = train_df.giver_username_if_known.map(lambda x: 0 if x == \"N/A\" else 1)\n",
    "train_df['request_text_edit_aware_len'] = train_df.request_text_edit_aware.map(lambda x: len(x))\n",
    "train_df['request_title_len'] = train_df.request_title.map(lambda x: len(x))"
   ]
  },
  {
   "cell_type": "code",
   "execution_count": 14,
   "metadata": {},
   "outputs": [],
   "source": [
    "train_df['unix_timestamp_of_request_utc_year'] = train_df.unix_timestamp_of_request.map(lambda x: datetime.datetime.fromtimestamp(x).year)\n",
    "train_df['unix_timestamp_of_request_utc_month'] = train_df.unix_timestamp_of_request.map(lambda x: datetime.datetime.fromtimestamp(x).month)\n",
    "train_df['unix_timestamp_of_request_utc_day'] = train_df.unix_timestamp_of_request.map(lambda x: datetime.datetime.fromtimestamp(x).day)\n",
    "train_df['unix_timestamp_of_request_utc_hour'] = train_df.unix_timestamp_of_request.map(lambda x: datetime.datetime.fromtimestamp(x).hour)\n",
    "train_df['unix_timestamp_of_request_utc_wkday'] = train_df.unix_timestamp_of_request.map(lambda x: datetime.datetime.fromtimestamp(x).weekday())"
   ]
  },
  {
   "cell_type": "code",
   "execution_count": 15,
   "metadata": {},
   "outputs": [],
   "source": [
    "train_df['request_text_edit_aware_img'] = train_df.request_text_edit_aware.map(lambda x: 1 if len(re.findall(re_pattern_img, x)) <> 0 else 0 )\n",
    "train_df['request_text_edit_aware_reciprocity'] = train_df.request_text_edit_aware.map(lambda x: 1 if len(re.findall(re_pattern_reciprocity, x)) <> 0 else 0 )"
   ]
  },
  {
   "cell_type": "code",
   "execution_count": 16,
   "metadata": {},
   "outputs": [
    {
     "name": "stdout",
     "output_type": "stream",
     "text": [
      "Received : True    =  719\n",
      "Received : False   =  2109\n",
      "Percentage of True =  25.42 %\n"
     ]
    }
   ],
   "source": [
    "print 'Received : True    = ' , len(train_df.loc[train_df['received'] == 1])\n",
    "print 'Received : False   = ' , len(train_df.loc[train_df['received'] == 0])\n",
    "print 'Percentage of True = ' , np.round((float(len(train_df.loc[train_df['received'] == 1]))/ (len(train_df.loc[train_df['received'] == 1]) + len(train_df.loc[train_df['received'] == 0]))) * 100,2),'%'"
   ]
  },
  {
   "cell_type": "code",
   "execution_count": 17,
   "metadata": {},
   "outputs": [],
   "source": [
    "#List columns that will be included in the model\n",
    "train_cols = ['requester_account_age_in_days_at_request',\n",
    " 'requester_days_since_first_post_on_raop_at_request',\n",
    " 'requester_number_of_comments_at_request',\n",
    " 'requester_number_of_comments_in_raop_at_request',\n",
    " 'requester_number_of_posts_at_request',\n",
    " 'requester_number_of_posts_on_raop_at_request',\n",
    " 'requester_number_of_subreddits_at_request',\n",
    " 'requester_upvotes_minus_downvotes_at_request',\n",
    " 'requester_upvotes_plus_downvotes_at_request',\n",
    " 'giver_username_if_known_011',\n",
    " 'request_text_edit_aware_len',\n",
    " 'request_title_len',\n",
    " 'unix_timestamp_of_request_utc_year',\n",
    " 'unix_timestamp_of_request_utc_month',\n",
    " 'unix_timestamp_of_request_utc_day',\n",
    " 'unix_timestamp_of_request_utc_hour',\n",
    " 'unix_timestamp_of_request_utc_year',\n",
    " 'unix_timestamp_of_request_utc_wkday',\n",
    " 'request_text_edit_aware_img',\n",
    " 'request_text_edit_aware_reciprocity'\n",
    " ]"
   ]
  },
  {
   "cell_type": "markdown",
   "metadata": {},
   "source": [
    "#### Fit Model"
   ]
  },
  {
   "cell_type": "code",
   "execution_count": 18,
   "metadata": {},
   "outputs": [],
   "source": [
    "X_train = train_df[train_cols].values\n",
    "Y_train = train_df['received'].values"
   ]
  },
  {
   "cell_type": "code",
   "execution_count": 19,
   "metadata": {},
   "outputs": [
    {
     "data": {
      "text/plain": [
       "GradientBoostingClassifier(init=None, learning_rate=0.1, loss='deviance',\n",
       "              max_depth=3, max_features=None, max_leaf_nodes=None,\n",
       "              min_samples_leaf=1, min_samples_split=2, n_estimators=100,\n",
       "              random_state=None, subsample=1.0, verbose=0,\n",
       "              warm_start=False)"
      ]
     },
     "execution_count": 19,
     "metadata": {},
     "output_type": "execute_result"
    }
   ],
   "source": [
    "Extratrees = ensemble.GradientBoostingClassifier()\n",
    "Extratrees.fit(X_train,Y_train)"
   ]
  },
  {
   "cell_type": "markdown",
   "metadata": {},
   "source": [
    "## CROSS VALIDATION DATASET"
   ]
  },
  {
   "cell_type": "code",
   "execution_count": 20,
   "metadata": {},
   "outputs": [],
   "source": [
    "#Create new features\n",
    "train_df_cv['received'] = train_df_cv.requester_received_pizza.map(lambda x: 0 if x == False else 1)\n",
    "train_df_cv['giver_username_if_known_011'] = train_df_cv.giver_username_if_known.map(lambda x: 0 if x == \"N/A\" else 1)\n",
    "train_df_cv['request_text_edit_aware_len'] = train_df_cv.request_text_edit_aware.map(lambda x: len(x))\n",
    "train_df_cv['request_title_len'] = train_df_cv.request_title.map(lambda x: len(x))"
   ]
  },
  {
   "cell_type": "code",
   "execution_count": 21,
   "metadata": {},
   "outputs": [],
   "source": [
    "train_df_cv['unix_timestamp_of_request_utc_year'] = train_df_cv.unix_timestamp_of_request.map(lambda x: datetime.datetime.fromtimestamp(x).year)\n",
    "train_df_cv['unix_timestamp_of_request_utc_month'] = train_df_cv.unix_timestamp_of_request.map(lambda x: datetime.datetime.fromtimestamp(x).month)\n",
    "train_df_cv['unix_timestamp_of_request_utc_day'] = train_df_cv.unix_timestamp_of_request.map(lambda x: datetime.datetime.fromtimestamp(x).day)\n",
    "train_df_cv['unix_timestamp_of_request_utc_hour'] = train_df_cv.unix_timestamp_of_request.map(lambda x: datetime.datetime.fromtimestamp(x).hour)\n",
    "train_df_cv['unix_timestamp_of_request_utc_wkday'] = train_df_cv.unix_timestamp_of_request.map(lambda x: datetime.datetime.fromtimestamp(x).weekday())"
   ]
  },
  {
   "cell_type": "code",
   "execution_count": 22,
   "metadata": {},
   "outputs": [],
   "source": [
    "train_df_cv['request_text_edit_aware_img'] = train_df_cv.request_text_edit_aware.map(lambda x: 1 if len(re.findall(re_pattern_img, x)) <> 0 else 0 )\n",
    "train_df_cv['request_text_edit_aware_reciprocity'] = train_df_cv.request_text_edit_aware.map(lambda x: 1 if len(re.findall(re_pattern_reciprocity, x)) <> 0 else 0 )"
   ]
  },
  {
   "cell_type": "code",
   "execution_count": 23,
   "metadata": {},
   "outputs": [],
   "source": [
    "X_cv = train_df_cv[train_cols].values"
   ]
  },
  {
   "cell_type": "markdown",
   "metadata": {},
   "source": [
    "#### Predict Cross Validation"
   ]
  },
  {
   "cell_type": "code",
   "execution_count": 24,
   "metadata": {},
   "outputs": [],
   "source": [
    "Output_cv  = Extratrees.predict_proba(X_cv)"
   ]
  },
  {
   "cell_type": "code",
   "execution_count": 25,
   "metadata": {},
   "outputs": [],
   "source": [
    "Table = pd.DataFrame(Output_cv)\n",
    "Table = pd.DataFrame(Table[1])\n",
    "Table.columns = ['Predicted']\n",
    "Table[\"Actual\"] = train_df_cv['received'].values"
   ]
  },
  {
   "cell_type": "code",
   "execution_count": 26,
   "metadata": {},
   "outputs": [
    {
     "data": {
      "text/html": [
       "<div style=\"max-height:1000px;max-width:1500px;overflow:auto;\">\n",
       "<table border=\"1\" class=\"dataframe\">\n",
       "  <thead>\n",
       "    <tr style=\"text-align: right;\">\n",
       "      <th></th>\n",
       "      <th>Predicted</th>\n",
       "      <th>Actual</th>\n",
       "    </tr>\n",
       "  </thead>\n",
       "  <tbody>\n",
       "    <tr>\n",
       "      <th>0</th>\n",
       "      <td> 0.115330</td>\n",
       "      <td> 0</td>\n",
       "    </tr>\n",
       "    <tr>\n",
       "      <th>1</th>\n",
       "      <td> 0.176894</td>\n",
       "      <td> 0</td>\n",
       "    </tr>\n",
       "    <tr>\n",
       "      <th>2</th>\n",
       "      <td> 0.224075</td>\n",
       "      <td> 0</td>\n",
       "    </tr>\n",
       "    <tr>\n",
       "      <th>3</th>\n",
       "      <td> 0.149730</td>\n",
       "      <td> 0</td>\n",
       "    </tr>\n",
       "    <tr>\n",
       "      <th>4</th>\n",
       "      <td> 0.146504</td>\n",
       "      <td> 1</td>\n",
       "    </tr>\n",
       "  </tbody>\n",
       "</table>\n",
       "</div>"
      ],
      "text/plain": [
       "   Predicted  Actual\n",
       "0   0.115330       0\n",
       "1   0.176894       0\n",
       "2   0.224075       0\n",
       "3   0.149730       0\n",
       "4   0.146504       1"
      ]
     },
     "execution_count": 26,
     "metadata": {},
     "output_type": "execute_result"
    }
   ],
   "source": [
    "Table.head()"
   ]
  },
  {
   "cell_type": "code",
   "execution_count": 27,
   "metadata": {},
   "outputs": [
    {
     "name": "stdout",
     "output_type": "stream",
     "text": [
      "Actual 0.226897689769\n",
      "Predicted 0.249550666534\n"
     ]
    }
   ],
   "source": [
    "print 'Actual',np.mean(Table['Actual'])\n",
    "print 'Predicted',np.mean(Table['Predicted'])"
   ]
  },
  {
   "cell_type": "code",
   "execution_count": 28,
   "metadata": {},
   "outputs": [
    {
     "name": "stdout",
     "output_type": "stream",
     "text": [
      "Actual Received True     =  275\n",
      "Actual Received False    =  937\n",
      "Predicted Received True  =  0\n",
      "Predicted Received False =  1087\n",
      "\n",
      "True Positive  =  110\n",
      "False Positive =  15\n",
      "True Negative  =  922\n",
      "False Negative =  165\n",
      "\n",
      "True Positive Rate   =  40.0 %\n",
      "False Positive Rate  =  1.6 %\n",
      "True Negative Rate   =  98.4 %\n",
      "False Negative Rate  =  60.0 %\n"
     ]
    }
   ],
   "source": [
    "print 'Actual Received True     = ' , len(Table.loc[Table['Actual'] == 1])\n",
    "print 'Actual Received False    = ' , len(Table.loc[Table['Actual'] == 0])\n",
    "print 'Predicted Received True  = ' , len(Table.loc[Table['Predicted'] == 1 ])\n",
    "print 'Predicted Received False = ' , len(Table.loc[Table['Predicted'] < 0.5])\n",
    "print ''\n",
    "print 'True Positive  = ', len(Table[(Table['Predicted'] >= 0.5) & (Table['Actual'] == 1)])\n",
    "print 'False Positive = ', len(Table[(Table['Predicted'] >= 0.5) & (Table['Actual'] == 0)])\n",
    "print 'True Negative  = ', len(Table[(Table['Predicted'] < 0.5) & (Table['Actual'] == 0)])\n",
    "print 'False Negative = ', len(Table[(Table['Predicted'] < 0.5) & (Table['Actual'] == 1)])\n",
    "print ''\n",
    "print 'True Positive Rate   = ', np.round((len(Table[(Table['Predicted'] >= 0.5) & (Table['Actual'] == 1)])/float((len(Table[(Table['Predicted'] >= 0.5) & (Table['Actual'] == 1)]) + len(Table[(Table['Predicted'] < 0.5) & (Table['Actual'] == 1)]))) * 100),2),'%'\n",
    "print 'False Positive Rate  = ', np.round((len(Table[(Table['Predicted'] >= 0.5) & (Table['Actual'] == 0)])/float((len(Table[(Table['Predicted'] >= 0.5) & (Table['Actual'] == 0)]) + len(Table[(Table['Predicted'] < 0.5) & (Table['Actual'] == 0)]))) * 100),2),'%'\n",
    "print 'True Negative Rate   = ', np.round((1-(len(Table[(Table['Predicted'] >= 0.5) & (Table['Actual'] == 0)])/float((len(Table[(Table['Predicted'] >= 0.5) & (Table['Actual'] == 0)]) + len(Table[(Table['Predicted'] < 0.5) & (Table['Actual'] == 0)]))))) * 100,2),'%'\n",
    "print 'False Negative Rate  = ', np.round((1-(len(Table[(Table['Predicted'] >= 0.5) & (Table['Actual'] == 1)])/float((len(Table[(Table['Predicted'] >= 0.5) & (Table['Actual'] == 1)]) + len(Table[(Table['Predicted'] < 0.5) & (Table['Actual'] == 1)]))))) * 100,2),'%'"
   ]
  },
  {
   "cell_type": "code",
   "execution_count": 29,
   "metadata": {},
   "outputs": [
    {
     "name": "stdout",
     "output_type": "stream",
     "text": [
      "Area under the ROC curve : 0.809425\n"
     ]
    },
    {
     "data": {
      "image/png": "[encoded data removed]",
      "text/plain": [
       "<matplotlib.figure.Figure at 0x113bfb990>"
      ]
     },
     "metadata": {},
     "output_type": "display_data"
    }
   ],
   "source": [
    "# Compute ROC curve and area the curve\n",
    "fpr, tpr, thresholds = roc_curve(Table['Actual'],Table['Predicted'])\n",
    "roc_auc = auc(fpr, tpr)\n",
    "print \"Area under the ROC curve : %f\" % roc_auc\n",
    "\n",
    "# Plot ROC curve\n",
    "pl.clf()\n",
    "pl.plot(fpr, tpr, label='ROC curve (area = %0.2f)' % roc_auc)\n",
    "pl.plot([0, 1], [0, 1], 'k--')\n",
    "pl.xlim([0.0, 1.0])\n",
    "pl.ylim([0.0, 1.0])\n",
    "pl.xlabel('False Positive Rate')\n",
    "pl.ylabel('True Positive Rate')\n",
    "pl.title('Receiver operating characteristic example')\n",
    "pl.legend(loc=\"lower right\")\n",
    "pl.show()"
   ]
  },
  {
   "cell_type": "markdown",
   "metadata": {},
   "source": [
    "## Test Dataset"
   ]
  },
  {
   "cell_type": "code",
   "execution_count": 30,
   "metadata": {},
   "outputs": [],
   "source": [
    "#Create new features\n",
    "test['giver_username_if_known_011'] = test.giver_username_if_known.map(lambda x: 0 if x == \"N/A\" else 1)\n",
    "test['request_text_edit_aware_len'] = test.request_text_edit_aware.map(lambda x: len(x))\n",
    "test['request_title_len'] = test.request_title.map(lambda x: len(x))"
   ]
  },
  {
   "cell_type": "code",
   "execution_count": 31,
   "metadata": {},
   "outputs": [],
   "source": [
    "test['unix_timestamp_of_request_utc_year'] = test.unix_timestamp_of_request.map(lambda x: datetime.datetime.fromtimestamp(x).year)\n",
    "test['unix_timestamp_of_request_utc_month'] = test.unix_timestamp_of_request.map(lambda x: datetime.datetime.fromtimestamp(x).month)\n",
    "test['unix_timestamp_of_request_utc_day'] = test.unix_timestamp_of_request.map(lambda x: datetime.datetime.fromtimestamp(x).day)\n",
    "test['unix_timestamp_of_request_utc_hour'] = test.unix_timestamp_of_request.map(lambda x: datetime.datetime.fromtimestamp(x).hour)\n",
    "test['unix_timestamp_of_request_utc_wkday'] = test.unix_timestamp_of_request.map(lambda x: datetime.datetime.fromtimestamp(x).weekday())"
   ]
  },
  {
   "cell_type": "code",
   "execution_count": 32,
   "metadata": {},
   "outputs": [],
   "source": [
    "test['request_text_edit_aware_img'] = test.request_text_edit_aware.map(lambda x: 1 if len(re.findall(re_pattern_img, x)) <> 0 else 0 )\n",
    "test['request_text_edit_aware_reciprocity'] = test.request_text_edit_aware.map(lambda x: 1 if len(re.findall(re_pattern_reciprocity, x)) <> 0 else 0 )"
   ]
  },
  {
   "cell_type": "code",
   "execution_count": 33,
   "metadata": {},
   "outputs": [],
   "source": [
    "X_test = test[train_cols].values\n",
    "Output_test  = Extratrees.predict_proba(X_test)"
   ]
  },
  {
   "cell_type": "code",
   "execution_count": 34,
   "metadata": {},
   "outputs": [],
   "source": [
    "ids  = pd.DataFrame(test['request_id'])\n",
    "predicted = pd.DataFrame(pd.DataFrame(Output_test)[1])\n",
    "predicted.columns = [\"Predicted\"]"
   ]
  },
  {
   "cell_type": "code",
   "execution_count": 35,
   "metadata": {},
   "outputs": [],
   "source": [
    "Table2 = ids.join(predicted)\n",
    "Table2.columns = ['request_id','requester_received_pizza']"
   ]
  },
  {
   "cell_type": "code",
   "execution_count": 36,
   "metadata": {},
   "outputs": [
    {
     "data": {
      "text/html": [
       "<div style=\"max-height:1000px;max-width:1500px;overflow:auto;\">\n",
       "<table border=\"1\" class=\"dataframe\">\n",
       "  <thead>\n",
       "    <tr style=\"text-align: right;\">\n",
       "      <th></th>\n",
       "      <th>request_id</th>\n",
       "      <th>requester_received_pizza</th>\n",
       "    </tr>\n",
       "  </thead>\n",
       "  <tbody>\n",
       "    <tr>\n",
       "      <th>0</th>\n",
       "      <td>  t3_i8iy4</td>\n",
       "      <td> 0.531735</td>\n",
       "    </tr>\n",
       "    <tr>\n",
       "      <th>1</th>\n",
       "      <td> t3_1mfqi0</td>\n",
       "      <td> 0.167540</td>\n",
       "    </tr>\n",
       "    <tr>\n",
       "      <th>2</th>\n",
       "      <td>  t3_lclka</td>\n",
       "      <td> 0.143944</td>\n",
       "    </tr>\n",
       "    <tr>\n",
       "      <th>3</th>\n",
       "      <td> t3_1jdgdj</td>\n",
       "      <td> 0.071600</td>\n",
       "    </tr>\n",
       "    <tr>\n",
       "      <th>4</th>\n",
       "      <td>  t3_t2qt4</td>\n",
       "      <td> 0.151605</td>\n",
       "    </tr>\n",
       "  </tbody>\n",
       "</table>\n",
       "</div>"
      ],
      "text/plain": [
       "  request_id  requester_received_pizza\n",
       "0   t3_i8iy4                  0.531735\n",
       "1  t3_1mfqi0                  0.167540\n",
       "2   t3_lclka                  0.143944\n",
       "3  t3_1jdgdj                  0.071600\n",
       "4   t3_t2qt4                  0.151605"
      ]
     },
     "execution_count": 36,
     "metadata": {},
     "output_type": "execute_result"
    }
   ],
   "source": [
    "Table2.head()"
   ]
  },
  {
   "cell_type": "code",
   "execution_count": 37,
   "metadata": {},
   "outputs": [
    {
     "data": {
      "text/plain": [
       "0.24716780944257982"
      ]
     },
     "execution_count": 37,
     "metadata": {},
     "output_type": "execute_result"
    }
   ],
   "source": [
    "np.mean(Table2['requester_received_pizza'])"
   ]
  },
  {
   "cell_type": "code",
   "execution_count": 38,
   "metadata": {},
   "outputs": [
    {
     "data": {
      "text/plain": [
       "0.23014820685270954"
      ]
     },
     "execution_count": 38,
     "metadata": {},
     "output_type": "execute_result"
    }
   ],
   "source": [
    "np.std(Table2['requester_received_pizza'])"
   ]
  },
  {
   "cell_type": "code",
   "execution_count": 39,
   "metadata": {},
   "outputs": [
    {
     "name": "stdout",
     "output_type": "stream",
     "text": [
      "True 154\n",
      "False 1477\n"
     ]
    }
   ],
   "source": [
    "print 'True' , len(Table2.loc[Table2['requester_received_pizza'] >= 0.5])\n",
    "print 'False' , len(Table2.loc[Table2['requester_received_pizza'] < 0.5])"
   ]
  },
  {
   "cell_type": "code",
   "execution_count": 40,
   "metadata": {},
   "outputs": [],
   "source": [
    "#Export file\n",
    "Table2.to_csv('GradientBoostingClassifier1.csv',index=False)"
   ]
  }
 ],
 "metadata": {
  "kernelspec": {
   "display_name": "Python 3",
   "language": "python",
   "name": "python3"
  },
  "language_info": {
   "codemirror_mode": {
    "name": "ipython",
    "version": 3
   },
   "file_extension": ".py",
   "mimetype": "text/x-python",
   "name": "python",
   "nbconvert_exporter": "python",
   "pygments_lexer": "ipython3",
   "version": "3.7.3"
  }
 },
 "nbformat": 4,
 "nbformat_minor": 1
}
