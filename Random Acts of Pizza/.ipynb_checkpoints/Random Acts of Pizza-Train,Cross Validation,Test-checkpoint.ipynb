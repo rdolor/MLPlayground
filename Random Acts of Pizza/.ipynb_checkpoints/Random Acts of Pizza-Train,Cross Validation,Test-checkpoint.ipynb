{
 "cells": [
  {
   "cell_type": "markdown",
   "metadata": {},
   "source": [
    "# Random Acts of Pizza"
   ]
  },
  {
   "cell_type": "raw",
   "metadata": {},
   "source": [
    "This competition contains a dataset with 5671 textual requests for pizza from the Reddit community Random Acts of Pizza together with their outcome (successful/unsuccessful) and meta-data. Participants must create an algorithm capable of predicting which requests will garner a cheesy (but sincere!) act of kindness."
   ]
  },
  {
   "cell_type": "markdown",
   "metadata": {},
   "source": [
    "### ===================================================================================================="
   ]
  },
  {
   "cell_type": "code",
   "execution_count": 1,
   "metadata": {},
   "outputs": [
    {
     "name": "stdout",
     "output_type": "stream",
     "text": [
      "/Users/user/Downloads\n"
     ]
    }
   ],
   "source": [
    "%cd \\Users\\user\\Downloads\\"
   ]
  },
  {
   "cell_type": "code",
   "execution_count": 2,
   "metadata": {},
   "outputs": [],
   "source": [
    "import pandas as pd\n",
    "from sklearn import linear_model,tree, ensemble,decomposition,datasets,preprocessing, grid_search\n",
    "import numpy as np\n",
    "import pylab as pl\n",
    "from sklearn.metrics import roc_curve, auc\n",
    "from random import sample\n",
    "%matplotlib inline"
   ]
  },
  {
   "cell_type": "code",
   "execution_count": 3,
   "metadata": {},
   "outputs": [
    {
     "name": "stdout",
     "output_type": "stream",
     "text": [
      "Number of observations =  4040\n"
     ]
    }
   ],
   "source": [
    "data = pd.read_json(\"train.json\")\n",
    "num_obs = len(data)\n",
    "print 'Number of observations = ',num_obs"
   ]
  },
  {
   "cell_type": "code",
   "execution_count": 4,
   "metadata": {},
   "outputs": [],
   "source": [
    "import datetime"
   ]
  },
  {
   "cell_type": "code",
   "execution_count": 5,
   "metadata": {},
   "outputs": [
    {
     "name": "stdout",
     "output_type": "stream",
     "text": [
      "Received : True  =  994\n",
      "Received : False =  3046\n",
      "Percentage of True =  24.6 %\n"
     ]
    }
   ],
   "source": [
    "print 'Received : True  = ' , len(data[data['requester_received_pizza'] == True])\n",
    "print 'Received : False = ' , len(data[data['requester_received_pizza'] == False])\n",
    "print 'Percentage of True = ',np.round((len(data[data['requester_received_pizza'] == True])/float(num_obs))*100,2),'%'"
   ]
  },
  {
   "cell_type": "markdown",
   "metadata": {},
   "source": [
    "## Create Train, Cross validation and Test sets"
   ]
  },
  {
   "cell_type": "code",
   "execution_count": 9,
   "metadata": {},
   "outputs": [
    {
     "name": "stdout",
     "output_type": "stream",
     "text": [
      "Train            =  2020\n",
      "Cross validation =  1010\n",
      "Test             =  1010\n"
     ]
    }
   ],
   "source": [
    "#50-25-25 separation\n",
    "\n",
    "num_train = int((num_obs) * 0.5)\n",
    "num_crossval = int((num_obs) * 0.25)\n",
    "num_test = num_obs - num_train - num_crossval\n",
    "print 'Train            = ',num_train\n",
    "print 'Cross validation = ',num_crossval\n",
    "print 'Test             = ',num_test"
   ]
  },
  {
   "cell_type": "markdown",
   "metadata": {},
   "source": [
    "### Random Sampling"
   ]
  },
  {
   "cell_type": "markdown",
   "metadata": {},
   "source": [
    "#### Hold out sample for test set (this will be like the Leaderboard)"
   ]
  },
  {
   "cell_type": "code",
   "execution_count": 10,
   "metadata": {},
   "outputs": [],
   "source": [
    "#create random index for the test set\n",
    "rindex1 = np.array(sample(xrange(len(data)),num_test))\n",
    "\n",
    "#This is the training set\n",
    "test_df = data.ix[rindex1]"
   ]
  },
  {
   "cell_type": "markdown",
   "metadata": {},
   "source": [
    "#### Training set and Cross validation set"
   ]
  },
  {
   "cell_type": "code",
   "execution_count": 11,
   "metadata": {},
   "outputs": [],
   "source": [
    "#Left: ALL - num_test\n",
    "data_minus_train = data.drop(rindex1).reset_index()\n",
    "\n",
    "#create random index for the cross validation set\n",
    "rindex2 = np.array(sample(xrange(len(data_minus_train)),num_train))\n",
    "\n",
    "#This is the cross validation set\n",
    "train_df = data_minus_train.ix[rindex2]\n",
    "\n",
    "#This is the test set\n",
    "train_df_cv = data_minus_train.drop(rindex2)\n",
    "\n",
    "train_df=train_df.drop('index',axis=1)\n",
    "train_df_cv=train_df_cv.drop('index',axis=1)"
   ]
  },
  {
   "cell_type": "markdown",
   "metadata": {},
   "source": [
    "#### Compare the data in train,cross validation and test sets"
   ]
  },
  {
   "cell_type": "code",
   "execution_count": 12,
   "metadata": {},
   "outputs": [
    {
     "name": "stdout",
     "output_type": "stream",
     "text": [
      "Received : True  =  736\n",
      "Received : False =  2294\n",
      "Percentage of True =  24.29 %\n"
     ]
    }
   ],
   "source": [
    "print 'Received : True  = ' , len(data_minus_train[data_minus_train['requester_received_pizza'] == True])\n",
    "print 'Received : False = ' , len(data_minus_train[data_minus_train['requester_received_pizza'] == False])\n",
    "print 'Percentage of True = ',np.round((len(data_minus_train[data_minus_train['requester_received_pizza'] == True])/float(len(data_minus_train)))*100,2),'%'"
   ]
  },
  {
   "cell_type": "code",
   "execution_count": 13,
   "metadata": {},
   "outputs": [
    {
     "name": "stdout",
     "output_type": "stream",
     "text": [
      "Received : True  =  258\n",
      "Received : False =  752\n",
      "Percentage of True =  25.54 %\n"
     ]
    }
   ],
   "source": [
    "print 'Received : True  = ' , len(test_df[test_df['requester_received_pizza'] == True])\n",
    "print 'Received : False = ' , len(test_df[test_df['requester_received_pizza'] == False])\n",
    "print 'Percentage of True = ',np.round((len(test_df[test_df['requester_received_pizza'] == True])/float(len(test_df)))*100,2),'%'"
   ]
  },
  {
   "cell_type": "code",
   "execution_count": 14,
   "metadata": {},
   "outputs": [],
   "source": [
    "training_set = data_minus_train\n",
    "test_set = test_df "
   ]
  },
  {
   "cell_type": "code",
   "execution_count": 15,
   "metadata": {},
   "outputs": [
    {
     "name": "stdout",
     "output_type": "stream",
     "text": [
      "3030\n",
      "1010\n"
     ]
    }
   ],
   "source": [
    "print len(training_set) \n",
    "print len(test_set)"
   ]
  },
  {
   "cell_type": "code",
   "execution_count": 16,
   "metadata": {},
   "outputs": [
    {
     "data": {
      "text/plain": [
       "0.2429042904290429"
      ]
     },
     "execution_count": 16,
     "metadata": {},
     "output_type": "execute_result"
    }
   ],
   "source": [
    "len(training_set[training_set['requester_received_pizza'] == True])/float(len(training_set))"
   ]
  },
  {
   "cell_type": "code",
   "execution_count": 17,
   "metadata": {},
   "outputs": [
    {
     "data": {
      "text/plain": [
       "0.25544554455445545"
      ]
     },
     "execution_count": 17,
     "metadata": {},
     "output_type": "execute_result"
    }
   ],
   "source": [
    "len(test_set[test_set['requester_received_pizza'] == True])/float(len(test_set))"
   ]
  },
  {
   "cell_type": "code",
   "execution_count": 18,
   "metadata": {},
   "outputs": [],
   "source": [
    "training_set['requester_id'] = training_set.index.map(lambda x: 'requester_' + str(x))"
   ]
  },
  {
   "cell_type": "code",
   "execution_count": 19,
   "metadata": {},
   "outputs": [],
   "source": [
    "test_set = test_set.reset_index()"
   ]
  },
  {
   "cell_type": "code",
   "execution_count": 20,
   "metadata": {},
   "outputs": [],
   "source": [
    "test_set = test_set.reset_index()"
   ]
  },
  {
   "cell_type": "code",
   "execution_count": 21,
   "metadata": {},
   "outputs": [],
   "source": [
    "test_set['requester_id'] = test_set.level_0.map(lambda x: 'requester_' + str(x + 3030))"
   ]
  },
  {
   "cell_type": "code",
   "execution_count": 25,
   "metadata": {},
   "outputs": [],
   "source": [
    "training = training_set[[\n",
    "'requester_id',\n",
    "'requester_received_pizza',\n",
    "'giver_username_if_known',\n",
    "'request_text_edit_aware',\n",
    " 'request_title',\n",
    " 'requester_account_age_in_days_at_request',\n",
    " 'requester_days_since_first_post_on_raop_at_request',\n",
    " 'requester_number_of_comments_at_request',\n",
    " 'requester_number_of_comments_in_raop_at_request',\n",
    " 'requester_number_of_posts_at_request',\n",
    " 'requester_number_of_posts_on_raop_at_request',\n",
    "'requester_number_of_subreddits_at_request',\n",
    " 'requester_subreddits_at_request',\n",
    " 'requester_upvotes_minus_downvotes_at_request',\n",
    "'requester_upvotes_plus_downvotes_at_request',\n",
    " 'unix_timestamp_of_request',\n",
    " 'unix_timestamp_of_request_utc']]"
   ]
  },
  {
   "cell_type": "code",
   "execution_count": 30,
   "metadata": {},
   "outputs": [
    {
     "name": "stdout",
     "output_type": "stream",
     "text": [
      "giver_username_if_known\n",
      "request_text_edit_aware\n",
      "request_title\n",
      "requester_account_age_in_days_at_request\n",
      "requester_days_since_first_post_on_raop_at_request\n",
      "requester_id\n",
      "requester_number_of_comments_at_request\n",
      "requester_number_of_comments_in_raop_at_request\n",
      "requester_number_of_posts_at_request\n",
      "requester_number_of_posts_on_raop_at_request\n",
      "requester_number_of_subreddits_at_request\n",
      "requester_received_pizza\n",
      "requester_subreddits_at_request\n",
      "requester_upvotes_minus_downvotes_at_request\n",
      "requester_upvotes_plus_downvotes_at_request\n",
      "unix_timestamp_of_request\n",
      "unix_timestamp_of_request_utc\n"
     ]
    }
   ],
   "source": [
    "import numpy as np\n",
    "for i in np.sort(list(training.columns)):\n",
    "    print i"
   ]
  },
  {
   "cell_type": "code",
   "execution_count": 86,
   "metadata": {},
   "outputs": [],
   "source": [
    "test = test_set[[\n",
    "'requester_id',\n",
    "'giver_username_if_known',\n",
    " 'request_text_edit_aware',\n",
    " 'request_title',\n",
    " 'requester_account_age_in_days_at_request',\n",
    " 'requester_days_since_first_post_on_raop_at_request',\n",
    " 'requester_number_of_comments_at_request',\n",
    " 'requester_number_of_comments_in_raop_at_request',\n",
    " 'requester_number_of_posts_at_request',\n",
    " 'requester_number_of_posts_on_raop_at_request',\n",
    " 'requester_number_of_subreddits_at_request',\n",
    " 'requester_subreddits_at_request',\n",
    " 'requester_upvotes_minus_downvotes_at_request',\n",
    " 'requester_upvotes_plus_downvotes_at_request',\n",
    " 'unix_timestamp_of_request',\n",
    " 'unix_timestamp_of_request_utc']]"
   ]
  },
  {
   "cell_type": "code",
   "execution_count": 72,
   "metadata": {},
   "outputs": [
    {
     "data": {
      "text/html": [
       "<div style=\"max-height:1000px;max-width:1500px;overflow:auto;\">\n",
       "<table border=\"1\" class=\"dataframe\">\n",
       "  <thead>\n",
       "    <tr style=\"text-align: right;\">\n",
       "      <th></th>\n",
       "      <th>requester_id</th>\n",
       "      <th>giver_username_if_known</th>\n",
       "      <th>request_text_edit_aware</th>\n",
       "      <th>request_title</th>\n",
       "      <th>requester_account_age_in_days_at_request</th>\n",
       "      <th>requester_days_since_first_post_on_raop_at_request</th>\n",
       "      <th>requester_number_of_comments_at_request</th>\n",
       "      <th>requester_number_of_comments_in_raop_at_request</th>\n",
       "      <th>requester_number_of_posts_at_request</th>\n",
       "      <th>requester_number_of_posts_on_raop_at_request</th>\n",
       "      <th>requester_number_of_subreddits_at_request</th>\n",
       "      <th>requester_subreddits_at_request</th>\n",
       "      <th>requester_upvotes_minus_downvotes_at_request</th>\n",
       "      <th>requester_upvotes_plus_downvotes_at_request</th>\n",
       "      <th>unix_timestamp_of_request</th>\n",
       "      <th>unix_timestamp_of_request_utc</th>\n",
       "    </tr>\n",
       "  </thead>\n",
       "  <tbody>\n",
       "    <tr>\n",
       "      <th>0</th>\n",
       "      <td> requester_3030</td>\n",
       "      <td> N/A</td>\n",
       "      <td> Been sick for a few days and I'm starting to r...</td>\n",
       "      <td> [Request] Sick cannot get to the store for food.</td>\n",
       "      <td> 52.108264</td>\n",
       "      <td> 44.966481</td>\n",
       "      <td>  7</td>\n",
       "      <td> 1</td>\n",
       "      <td> 5</td>\n",
       "      <td> 0</td>\n",
       "      <td> 5</td>\n",
       "      <td> [Minecraft, RandomActsOfPizza, Random_Acts_Of_...</td>\n",
       "      <td>   7</td>\n",
       "      <td>  69</td>\n",
       "      <td> 1321402735</td>\n",
       "      <td> 1321402735</td>\n",
       "    </tr>\n",
       "    <tr>\n",
       "      <th>1</th>\n",
       "      <td> requester_3031</td>\n",
       "      <td> N/A</td>\n",
       "      <td> So here I am, stuck at home on vacation. I hav...</td>\n",
       "      <td>      [Request] Vacationing at home with no money</td>\n",
       "      <td> 77.059815</td>\n",
       "      <td>  0.000000</td>\n",
       "      <td> 24</td>\n",
       "      <td> 0</td>\n",
       "      <td> 1</td>\n",
       "      <td> 0</td>\n",
       "      <td> 5</td>\n",
       "      <td> [AskReddit, Magicdeckbuilding, fffffffuuuuuuuu...</td>\n",
       "      <td> 173</td>\n",
       "      <td> 267</td>\n",
       "      <td> 1337801421</td>\n",
       "      <td> 1337797821</td>\n",
       "    </tr>\n",
       "  </tbody>\n",
       "</table>\n",
       "</div>"
      ],
      "text/plain": [
       "     requester_id giver_username_if_known  \\\n",
       "0  requester_3030                     N/A   \n",
       "1  requester_3031                     N/A   \n",
       "\n",
       "                             request_text_edit_aware  \\\n",
       "0  Been sick for a few days and I'm starting to r...   \n",
       "1  So here I am, stuck at home on vacation. I hav...   \n",
       "\n",
       "                                      request_title  \\\n",
       "0  [Request] Sick cannot get to the store for food.   \n",
       "1       [Request] Vacationing at home with no money   \n",
       "\n",
       "   requester_account_age_in_days_at_request  \\\n",
       "0                                 52.108264   \n",
       "1                                 77.059815   \n",
       "\n",
       "   requester_days_since_first_post_on_raop_at_request  \\\n",
       "0                                          44.966481    \n",
       "1                                           0.000000    \n",
       "\n",
       "   requester_number_of_comments_at_request  \\\n",
       "0                                        7   \n",
       "1                                       24   \n",
       "\n",
       "   requester_number_of_comments_in_raop_at_request  \\\n",
       "0                                                1   \n",
       "1                                                0   \n",
       "\n",
       "   requester_number_of_posts_at_request  \\\n",
       "0                                     5   \n",
       "1                                     1   \n",
       "\n",
       "   requester_number_of_posts_on_raop_at_request  \\\n",
       "0                                             0   \n",
       "1                                             0   \n",
       "\n",
       "   requester_number_of_subreddits_at_request  \\\n",
       "0                                          5   \n",
       "1                                          5   \n",
       "\n",
       "                     requester_subreddits_at_request  \\\n",
       "0  [Minecraft, RandomActsOfPizza, Random_Acts_Of_...   \n",
       "1  [AskReddit, Magicdeckbuilding, fffffffuuuuuuuu...   \n",
       "\n",
       "   requester_upvotes_minus_downvotes_at_request  \\\n",
       "0                                             7   \n",
       "1                                           173   \n",
       "\n",
       "   requester_upvotes_plus_downvotes_at_request  unix_timestamp_of_request  \\\n",
       "0                                           69                 1321402735   \n",
       "1                                          267                 1337801421   \n",
       "\n",
       "   unix_timestamp_of_request_utc  \n",
       "0                     1321402735  \n",
       "1                     1337797821  "
      ]
     },
     "execution_count": 72,
     "metadata": {},
     "output_type": "execute_result"
    }
   ],
   "source": [
    "test.head(2)"
   ]
  },
  {
   "cell_type": "code",
   "execution_count": 73,
   "metadata": {},
   "outputs": [
    {
     "data": {
      "text/html": [
       "<div style=\"max-height:1000px;max-width:1500px;overflow:auto;\">\n",
       "<table border=\"1\" class=\"dataframe\">\n",
       "  <thead>\n",
       "    <tr style=\"text-align: right;\">\n",
       "      <th></th>\n",
       "      <th>requester_id</th>\n",
       "      <th>requester_received_pizza</th>\n",
       "      <th>giver_username_if_known</th>\n",
       "      <th>request_text_edit_aware</th>\n",
       "      <th>request_title</th>\n",
       "      <th>requester_account_age_in_days_at_request</th>\n",
       "      <th>requester_days_since_first_post_on_raop_at_request</th>\n",
       "      <th>requester_number_of_comments_at_request</th>\n",
       "      <th>requester_number_of_comments_in_raop_at_request</th>\n",
       "      <th>requester_number_of_posts_at_request</th>\n",
       "      <th>requester_number_of_posts_on_raop_at_request</th>\n",
       "      <th>requester_number_of_subreddits_at_request</th>\n",
       "      <th>requester_subreddits_at_request</th>\n",
       "      <th>requester_upvotes_minus_downvotes_at_request</th>\n",
       "      <th>requester_upvotes_plus_downvotes_at_request</th>\n",
       "      <th>unix_timestamp_of_request</th>\n",
       "      <th>unix_timestamp_of_request_utc</th>\n",
       "    </tr>\n",
       "  </thead>\n",
       "  <tbody>\n",
       "    <tr>\n",
       "      <th>0</th>\n",
       "      <td> requester_3030</td>\n",
       "      <td> False</td>\n",
       "      <td> N/A</td>\n",
       "      <td> Been sick for a few days and I'm starting to r...</td>\n",
       "      <td> [Request] Sick cannot get to the store for food.</td>\n",
       "      <td> 52.108264</td>\n",
       "      <td> 44.966481</td>\n",
       "      <td>  7</td>\n",
       "      <td> 1</td>\n",
       "      <td> 5</td>\n",
       "      <td> 0</td>\n",
       "      <td> 5</td>\n",
       "      <td> [Minecraft, RandomActsOfPizza, Random_Acts_Of_...</td>\n",
       "      <td>   7</td>\n",
       "      <td>  69</td>\n",
       "      <td> 1321402735</td>\n",
       "      <td> 1321402735</td>\n",
       "    </tr>\n",
       "    <tr>\n",
       "      <th>1</th>\n",
       "      <td> requester_3031</td>\n",
       "      <td> False</td>\n",
       "      <td> N/A</td>\n",
       "      <td> So here I am, stuck at home on vacation. I hav...</td>\n",
       "      <td>      [Request] Vacationing at home with no money</td>\n",
       "      <td> 77.059815</td>\n",
       "      <td>  0.000000</td>\n",
       "      <td> 24</td>\n",
       "      <td> 0</td>\n",
       "      <td> 1</td>\n",
       "      <td> 0</td>\n",
       "      <td> 5</td>\n",
       "      <td> [AskReddit, Magicdeckbuilding, fffffffuuuuuuuu...</td>\n",
       "      <td> 173</td>\n",
       "      <td> 267</td>\n",
       "      <td> 1337801421</td>\n",
       "      <td> 1337797821</td>\n",
       "    </tr>\n",
       "  </tbody>\n",
       "</table>\n",
       "</div>"
      ],
      "text/plain": [
       "     requester_id requester_received_pizza giver_username_if_known  \\\n",
       "0  requester_3030                    False                     N/A   \n",
       "1  requester_3031                    False                     N/A   \n",
       "\n",
       "                             request_text_edit_aware  \\\n",
       "0  Been sick for a few days and I'm starting to r...   \n",
       "1  So here I am, stuck at home on vacation. I hav...   \n",
       "\n",
       "                                      request_title  \\\n",
       "0  [Request] Sick cannot get to the store for food.   \n",
       "1       [Request] Vacationing at home with no money   \n",
       "\n",
       "   requester_account_age_in_days_at_request  \\\n",
       "0                                 52.108264   \n",
       "1                                 77.059815   \n",
       "\n",
       "   requester_days_since_first_post_on_raop_at_request  \\\n",
       "0                                          44.966481    \n",
       "1                                           0.000000    \n",
       "\n",
       "   requester_number_of_comments_at_request  \\\n",
       "0                                        7   \n",
       "1                                       24   \n",
       "\n",
       "   requester_number_of_comments_in_raop_at_request  \\\n",
       "0                                                1   \n",
       "1                                                0   \n",
       "\n",
       "   requester_number_of_posts_at_request  \\\n",
       "0                                     5   \n",
       "1                                     1   \n",
       "\n",
       "   requester_number_of_posts_on_raop_at_request  \\\n",
       "0                                             0   \n",
       "1                                             0   \n",
       "\n",
       "   requester_number_of_subreddits_at_request  \\\n",
       "0                                          5   \n",
       "1                                          5   \n",
       "\n",
       "                     requester_subreddits_at_request  \\\n",
       "0  [Minecraft, RandomActsOfPizza, Random_Acts_Of_...   \n",
       "1  [AskReddit, Magicdeckbuilding, fffffffuuuuuuuu...   \n",
       "\n",
       "   requester_upvotes_minus_downvotes_at_request  \\\n",
       "0                                             7   \n",
       "1                                           173   \n",
       "\n",
       "   requester_upvotes_plus_downvotes_at_request  unix_timestamp_of_request  \\\n",
       "0                                           69                 1321402735   \n",
       "1                                          267                 1337801421   \n",
       "\n",
       "   unix_timestamp_of_request_utc  \n",
       "0                     1321402735  \n",
       "1                     1337797821  "
      ]
     },
     "execution_count": 73,
     "metadata": {},
     "output_type": "execute_result"
    }
   ],
   "source": [
    "test_answers.head(2)"
   ]
  },
  {
   "cell_type": "code",
   "execution_count": 74,
   "metadata": {},
   "outputs": [
    {
     "name": "stdout",
     "output_type": "stream",
     "text": [
      "Received : True  =  511\n",
      "Received : False =  1509\n",
      "Percentage of True =  25.3 %\n"
     ]
    }
   ],
   "source": [
    "print 'Received : True  = ' , len(train_df[train_df['requester_received_pizza'] == True])\n",
    "print 'Received : False = ' , len(train_df[train_df['requester_received_pizza'] == False])\n",
    "print 'Percentage of True = ',np.round((len(train_df[train_df['requester_received_pizza'] == True])/float(len(train_df)))*100,2),'%'"
   ]
  },
  {
   "cell_type": "code",
   "execution_count": 88,
   "metadata": {},
   "outputs": [],
   "source": [
    "test_answers.to_json('test_answers.json')"
   ]
  },
  {
   "cell_type": "code",
   "execution_count": 6,
   "metadata": {},
   "outputs": [],
   "source": [
    "test_answers = pd.read_json(\"test_answers.json\")"
   ]
  },
  {
   "cell_type": "code",
   "execution_count": 8,
   "metadata": {},
   "outputs": [],
   "source": [
    "test_answers_edit = test_answers[['requester_id','requester_received_pizza']]"
   ]
  },
  {
   "cell_type": "code",
   "execution_count": 10,
   "metadata": {},
   "outputs": [],
   "source": [
    "#Export file\n",
    "test_answers_edit.to_csv('SampleSubmission.csv',index=False)"
   ]
  },
  {
   "cell_type": "code",
   "execution_count": 11,
   "metadata": {},
   "outputs": [
    {
     "data": {
      "text/html": [
       "<div style=\"max-height:1000px;max-width:1500px;overflow:auto;\">\n",
       "<table border=\"1\" class=\"dataframe\">\n",
       "  <thead>\n",
       "    <tr style=\"text-align: right;\">\n",
       "      <th></th>\n",
       "      <th>requester_id</th>\n",
       "      <th>requester_received_pizza</th>\n",
       "    </tr>\n",
       "  </thead>\n",
       "  <tbody>\n",
       "    <tr>\n",
       "      <th>0   </th>\n",
       "      <td> requester_3030</td>\n",
       "      <td> False</td>\n",
       "    </tr>\n",
       "    <tr>\n",
       "      <th>1   </th>\n",
       "      <td> requester_3031</td>\n",
       "      <td> False</td>\n",
       "    </tr>\n",
       "    <tr>\n",
       "      <th>10  </th>\n",
       "      <td> requester_3040</td>\n",
       "      <td> False</td>\n",
       "    </tr>\n",
       "    <tr>\n",
       "      <th>100 </th>\n",
       "      <td> requester_3130</td>\n",
       "      <td> False</td>\n",
       "    </tr>\n",
       "    <tr>\n",
       "      <th>1000</th>\n",
       "      <td> requester_4030</td>\n",
       "      <td> False</td>\n",
       "    </tr>\n",
       "  </tbody>\n",
       "</table>\n",
       "</div>"
      ],
      "text/plain": [
       "        requester_id requester_received_pizza\n",
       "0     requester_3030                    False\n",
       "1     requester_3031                    False\n",
       "10    requester_3040                    False\n",
       "100   requester_3130                    False\n",
       "1000  requester_4030                    False"
      ]
     },
     "execution_count": 11,
     "metadata": {},
     "output_type": "execute_result"
    }
   ],
   "source": [
    "test_answers_edit.head()"
   ]
  },
  {
   "cell_type": "code",
   "execution_count": null,
   "metadata": {},
   "outputs": [],
   "source": []
  },
  {
   "cell_type": "code",
   "execution_count": null,
   "metadata": {},
   "outputs": [],
   "source": []
  },
  {
   "cell_type": "code",
   "execution_count": null,
   "metadata": {},
   "outputs": [],
   "source": []
  },
  {
   "cell_type": "code",
   "execution_count": null,
   "metadata": {},
   "outputs": [],
   "source": []
  },
  {
   "cell_type": "code",
   "execution_count": 63,
   "metadata": {},
   "outputs": [
    {
     "name": "stdout",
     "output_type": "stream",
     "text": [
      "Received : True  =  232\n",
      "Received : False =  778\n",
      "Percentage of True =  22.97 %\n"
     ]
    }
   ],
   "source": [
    "print 'Received : True  = ' , len(train_df_cv[train_df_cv['requester_received_pizza'] == True])\n",
    "print 'Received : False = ' , len(train_df_cv[train_df_cv['requester_received_pizza'] == False])\n",
    "print 'Percentage of True = ',np.round((len(train_df_cv[train_df_cv['requester_received_pizza'] == True])/float(len(train_df_cv)))*100,2),'%'"
   ]
  },
  {
   "cell_type": "code",
   "execution_count": 65,
   "metadata": {},
   "outputs": [
    {
     "name": "stdout",
     "output_type": "stream",
     "text": [
      "Received : True  =  741\n",
      "Received : False =  2289\n",
      "Percentage of True =  24.46 %\n"
     ]
    }
   ],
   "source": [
    "print 'Received : True  = ' , len(data_minus_train[data_minus_train['requester_received_pizza'] == True])\n",
    "print 'Received : False = ' , len(data_minus_train[data_minus_train['requester_received_pizza'] == False])\n",
    "print 'Percentage of True = ',np.round((len(data_minus_train[data_minus_train['requester_received_pizza'] == True])/float(len(data_minus_train)))*100,2),'%'"
   ]
  },
  {
   "cell_type": "code",
   "execution_count": 64,
   "metadata": {},
   "outputs": [
    {
     "name": "stdout",
     "output_type": "stream",
     "text": [
      "Received : True  =  253\n",
      "Received : False =  757\n",
      "Percentage of True =  25.05 %\n"
     ]
    }
   ],
   "source": [
    "print 'Received : True  = ' , len(test_df[test_df['requester_received_pizza'] == True])\n",
    "print 'Received : False = ' , len(test_df[test_df['requester_received_pizza'] == False])\n",
    "print 'Percentage of True = ',np.round((len(test_df[test_df['requester_received_pizza'] == True])/float(len(test_df)))*100,2),'%'"
   ]
  },
  {
   "cell_type": "code",
   "execution_count": 54,
   "metadata": {},
   "outputs": [
    {
     "name": "stdout",
     "output_type": "stream",
     "text": [
      "2020 1010 1010\n",
      "Intersection of the sets should be empty =  set([])\n"
     ]
    }
   ],
   "source": [
    "train_df_set = set(train_df['request_id'].tolist())\n",
    "train_df_cv_set = set(train_df_cv['request_id'].tolist())\n",
    "test_df_set = set(test_df['request_id'].tolist())\n",
    "print len(train_df_set),len(train_df_cv_set),len(test_df_set)\n",
    "print 'Intersection of the sets should be empty = ',train_df_set & train_df_cv_set & test_df_set"
   ]
  },
  {
   "cell_type": "markdown",
   "metadata": {},
   "source": [
    "## Training Dataset"
   ]
  },
  {
   "cell_type": "code",
   "execution_count": 12,
   "metadata": {},
   "outputs": [
    {
     "data": {
      "text/html": [
       "<div style=\"max-height:1000px;max-width:1500px;overflow:auto;\">\n",
       "<table border=\"1\" class=\"dataframe\">\n",
       "  <thead>\n",
       "    <tr style=\"text-align: right;\">\n",
       "      <th></th>\n",
       "      <th>giver_username_if_known</th>\n",
       "      <th>number_of_downvotes_of_request_at_retrieval</th>\n",
       "      <th>number_of_upvotes_of_request_at_retrieval</th>\n",
       "      <th>post_was_edited</th>\n",
       "      <th>request_id</th>\n",
       "      <th>request_number_of_comments_at_retrieval</th>\n",
       "      <th>request_text</th>\n",
       "      <th>request_text_edit_aware</th>\n",
       "      <th>request_title</th>\n",
       "      <th>requester_account_age_in_days_at_request</th>\n",
       "      <th>...</th>\n",
       "      <th>requester_received_pizza</th>\n",
       "      <th>requester_subreddits_at_request</th>\n",
       "      <th>requester_upvotes_minus_downvotes_at_request</th>\n",
       "      <th>requester_upvotes_minus_downvotes_at_retrieval</th>\n",
       "      <th>requester_upvotes_plus_downvotes_at_request</th>\n",
       "      <th>requester_upvotes_plus_downvotes_at_retrieval</th>\n",
       "      <th>requester_user_flair</th>\n",
       "      <th>requester_username</th>\n",
       "      <th>unix_timestamp_of_request</th>\n",
       "      <th>unix_timestamp_of_request_utc</th>\n",
       "    </tr>\n",
       "  </thead>\n",
       "  <tbody>\n",
       "    <tr>\n",
       "      <th>646 </th>\n",
       "      <td> N/A</td>\n",
       "      <td> 3</td>\n",
       "      <td> 3</td>\n",
       "      <td> 0</td>\n",
       "      <td> t3_1kruz9</td>\n",
       "      <td> 2</td>\n",
       "      <td> I've got my story just like everyone, I would ...</td>\n",
       "      <td> I've got my story just like everyone, I would ...</td>\n",
       "      <td> [Request] Hey folks, I could use some pizza to...</td>\n",
       "      <td> 1325.117581</td>\n",
       "      <td>...</td>\n",
       "      <td>  True</td>\n",
       "      <td> [AdviceAnimals, Art, AskCulinary, AskReddit, C...</td>\n",
       "      <td> 2411</td>\n",
       "      <td> 3822</td>\n",
       "      <td> 4669</td>\n",
       "      <td> 7686</td>\n",
       "      <td> shroom</td>\n",
       "      <td>   SDAdam</td>\n",
       "      <td> 1377051158</td>\n",
       "      <td> 1377047558</td>\n",
       "    </tr>\n",
       "    <tr>\n",
       "      <th>1886</th>\n",
       "      <td> N/A</td>\n",
       "      <td> 1</td>\n",
       "      <td> 1</td>\n",
       "      <td> 0</td>\n",
       "      <td>  t3_lfmlt</td>\n",
       "      <td> 0</td>\n",
       "      <td> me my mom and sister with 3 dogs and we got no...</td>\n",
       "      <td> me my mom and sister with 3 dogs and we got no...</td>\n",
       "      <td>             [REQUEST] no food in the house at all</td>\n",
       "      <td>    0.000000</td>\n",
       "      <td>...</td>\n",
       "      <td> False</td>\n",
       "      <td>                                                []</td>\n",
       "      <td>    0</td>\n",
       "      <td>    0</td>\n",
       "      <td>    0</td>\n",
       "      <td>    2</td>\n",
       "      <td>   None</td>\n",
       "      <td> Temari22</td>\n",
       "      <td> 1318894326</td>\n",
       "      <td> 1318890726</td>\n",
       "    </tr>\n",
       "  </tbody>\n",
       "</table>\n",
       "<p>2 rows × 32 columns</p>\n",
       "</div>"
      ],
      "text/plain": [
       "     giver_username_if_known  number_of_downvotes_of_request_at_retrieval  \\\n",
       "646                      N/A                                            3   \n",
       "1886                     N/A                                            1   \n",
       "\n",
       "      number_of_upvotes_of_request_at_retrieval  post_was_edited request_id  \\\n",
       "646                                           3                0  t3_1kruz9   \n",
       "1886                                          1                0   t3_lfmlt   \n",
       "\n",
       "      request_number_of_comments_at_retrieval  \\\n",
       "646                                         2   \n",
       "1886                                        0   \n",
       "\n",
       "                                           request_text  \\\n",
       "646   I've got my story just like everyone, I would ...   \n",
       "1886  me my mom and sister with 3 dogs and we got no...   \n",
       "\n",
       "                                request_text_edit_aware  \\\n",
       "646   I've got my story just like everyone, I would ...   \n",
       "1886  me my mom and sister with 3 dogs and we got no...   \n",
       "\n",
       "                                          request_title  \\\n",
       "646   [Request] Hey folks, I could use some pizza to...   \n",
       "1886              [REQUEST] no food in the house at all   \n",
       "\n",
       "      requester_account_age_in_days_at_request              ...                \\\n",
       "646                                1325.117581              ...                 \n",
       "1886                                  0.000000              ...                 \n",
       "\n",
       "      requester_received_pizza  \\\n",
       "646                       True   \n",
       "1886                     False   \n",
       "\n",
       "                        requester_subreddits_at_request  \\\n",
       "646   [AdviceAnimals, Art, AskCulinary, AskReddit, C...   \n",
       "1886                                                 []   \n",
       "\n",
       "      requester_upvotes_minus_downvotes_at_request  \\\n",
       "646                                           2411   \n",
       "1886                                             0   \n",
       "\n",
       "      requester_upvotes_minus_downvotes_at_retrieval  \\\n",
       "646                                             3822   \n",
       "1886                                               0   \n",
       "\n",
       "      requester_upvotes_plus_downvotes_at_request  \\\n",
       "646                                          4669   \n",
       "1886                                            0   \n",
       "\n",
       "      requester_upvotes_plus_downvotes_at_retrieval  requester_user_flair  \\\n",
       "646                                            7686                shroom   \n",
       "1886                                              2                  None   \n",
       "\n",
       "      requester_username  unix_timestamp_of_request  \\\n",
       "646               SDAdam                 1377051158   \n",
       "1886            Temari22                 1318894326   \n",
       "\n",
       "      unix_timestamp_of_request_utc  \n",
       "646                      1377047558  \n",
       "1886                     1318890726  \n",
       "\n",
       "[2 rows x 32 columns]"
      ]
     },
     "execution_count": 12,
     "metadata": {},
     "output_type": "execute_result"
    }
   ],
   "source": [
    "train_df.head(2)"
   ]
  },
  {
   "cell_type": "code",
   "execution_count": 13,
   "metadata": {},
   "outputs": [
    {
     "data": {
      "text/plain": [
       "[u'giver_username_if_known',\n",
       " u'number_of_downvotes_of_request_at_retrieval',\n",
       " u'number_of_upvotes_of_request_at_retrieval',\n",
       " u'post_was_edited',\n",
       " u'request_id',\n",
       " u'request_number_of_comments_at_retrieval',\n",
       " u'request_text',\n",
       " u'request_text_edit_aware',\n",
       " u'request_title',\n",
       " u'requester_account_age_in_days_at_request',\n",
       " u'requester_account_age_in_days_at_retrieval',\n",
       " u'requester_days_since_first_post_on_raop_at_request',\n",
       " u'requester_days_since_first_post_on_raop_at_retrieval',\n",
       " u'requester_number_of_comments_at_request',\n",
       " u'requester_number_of_comments_at_retrieval',\n",
       " u'requester_number_of_comments_in_raop_at_request',\n",
       " u'requester_number_of_comments_in_raop_at_retrieval',\n",
       " u'requester_number_of_posts_at_request',\n",
       " u'requester_number_of_posts_at_retrieval',\n",
       " u'requester_number_of_posts_on_raop_at_request',\n",
       " u'requester_number_of_posts_on_raop_at_retrieval',\n",
       " u'requester_number_of_subreddits_at_request',\n",
       " u'requester_received_pizza',\n",
       " u'requester_subreddits_at_request',\n",
       " u'requester_upvotes_minus_downvotes_at_request',\n",
       " u'requester_upvotes_minus_downvotes_at_retrieval',\n",
       " u'requester_upvotes_plus_downvotes_at_request',\n",
       " u'requester_upvotes_plus_downvotes_at_retrieval',\n",
       " u'requester_user_flair',\n",
       " u'requester_username',\n",
       " u'unix_timestamp_of_request',\n",
       " u'unix_timestamp_of_request_utc']"
      ]
     },
     "execution_count": 13,
     "metadata": {},
     "output_type": "execute_result"
    }
   ],
   "source": [
    "list(train_df.columns)"
   ]
  },
  {
   "cell_type": "code",
   "execution_count": 14,
   "metadata": {},
   "outputs": [
    {
     "name": "stdout",
     "output_type": "stream",
     "text": [
      "Number of variables in training dataset 32\n"
     ]
    }
   ],
   "source": [
    "print 'Number of variables in training dataset',len(train_df.columns)"
   ]
  },
  {
   "cell_type": "code",
   "execution_count": 15,
   "metadata": {},
   "outputs": [],
   "source": [
    "#Create new features\n",
    "train_df['received'] = train_df.requester_received_pizza.map(lambda x: 0 if x == False else 1)\n",
    "train_df['request_text_edit_aware_len'] = train_df.request_text_edit_aware.map(lambda x: len(x))\n",
    "train_df['request_title_len'] = train_df.request_title.map(lambda x: len(x))"
   ]
  },
  {
   "cell_type": "code",
   "execution_count": 16,
   "metadata": {},
   "outputs": [
    {
     "name": "stdout",
     "output_type": "stream",
     "text": [
      "Received : True  =  497\n",
      "Received : False =  1523\n"
     ]
    }
   ],
   "source": [
    "print 'Received : True  = ' , len(train_df.loc[train_df['received'] == 1])\n",
    "print 'Received : False = ' , len(train_df.loc[train_df['received'] == 0])"
   ]
  },
  {
   "cell_type": "code",
   "execution_count": 17,
   "metadata": {},
   "outputs": [],
   "source": [
    "#List columns that will be included in the model\n",
    "variables = ['requester_account_age_in_days_at_request',\n",
    " 'requester_days_since_first_post_on_raop_at_request',\n",
    " 'requester_number_of_comments_at_request',\n",
    " 'requester_number_of_comments_in_raop_at_request',\n",
    " 'requester_number_of_posts_at_request',\n",
    " 'requester_number_of_posts_on_raop_at_request',\n",
    " 'requester_number_of_subreddits_at_request',\n",
    " 'requester_upvotes_minus_downvotes_at_request',\n",
    " 'requester_upvotes_plus_downvotes_at_request',\n",
    " 'request_text_edit_aware_len',\n",
    " 'request_title_len'\n",
    " ]"
   ]
  },
  {
   "cell_type": "markdown",
   "metadata": {},
   "source": [
    "#### Fit Model"
   ]
  },
  {
   "cell_type": "code",
   "execution_count": 18,
   "metadata": {},
   "outputs": [],
   "source": [
    "X_train = train_df[variables].values\n",
    "Y_train = train_df['received'].values"
   ]
  },
  {
   "cell_type": "code",
   "execution_count": 19,
   "metadata": {},
   "outputs": [
    {
     "data": {
      "text/plain": [
       "ExtraTreesRegressor(bootstrap=False, compute_importances=None,\n",
       "          criterion='mse', max_depth=None, max_features='auto',\n",
       "          max_leaf_nodes=None, min_density=None, min_samples_leaf=1,\n",
       "          min_samples_split=2, n_estimators=50, n_jobs=1, oob_score=False,\n",
       "          random_state=None, verbose=0)"
      ]
     },
     "execution_count": 19,
     "metadata": {},
     "output_type": "execute_result"
    }
   ],
   "source": [
    "Extratrees = ensemble.ExtraTreesRegressor(n_estimators = 50)\n",
    "Extratrees.fit(X_train,Y_train)"
   ]
  },
  {
   "cell_type": "markdown",
   "metadata": {},
   "source": [
    "## CROSS VALIDATION DATASET"
   ]
  },
  {
   "cell_type": "code",
   "execution_count": 20,
   "metadata": {},
   "outputs": [],
   "source": [
    "#Create new features\n",
    "train_df_cv['received'] = train_df_cv.requester_received_pizza.map(lambda x: 0 if x == False else 1)\n",
    "train_df_cv['request_text_edit_aware_len'] = train_df_cv.request_text_edit_aware.map(lambda x: len(x))\n",
    "train_df_cv['request_title_len'] = train_df_cv.request_title.map(lambda x: len(x))"
   ]
  },
  {
   "cell_type": "code",
   "execution_count": 21,
   "metadata": {},
   "outputs": [],
   "source": [
    "X_cv = train_df_cv[variables].values"
   ]
  },
  {
   "cell_type": "markdown",
   "metadata": {},
   "source": [
    "#### Predict Cross Validation"
   ]
  },
  {
   "cell_type": "code",
   "execution_count": 22,
   "metadata": {},
   "outputs": [],
   "source": [
    "Output_cv  = Extratrees.predict(X_cv)"
   ]
  },
  {
   "cell_type": "code",
   "execution_count": 23,
   "metadata": {},
   "outputs": [],
   "source": [
    "Table1 = pd.DataFrame(Output_cv,columns=[\"Predicted\"])\n",
    "Table1[\"Actual\"] = train_df_cv['received'].values"
   ]
  },
  {
   "cell_type": "code",
   "execution_count": 24,
   "metadata": {},
   "outputs": [
    {
     "data": {
      "text/html": [
       "<div style=\"max-height:1000px;max-width:1500px;overflow:auto;\">\n",
       "<table border=\"1\" class=\"dataframe\">\n",
       "  <thead>\n",
       "    <tr style=\"text-align: right;\">\n",
       "      <th></th>\n",
       "      <th>Predicted</th>\n",
       "      <th>Actual</th>\n",
       "    </tr>\n",
       "  </thead>\n",
       "  <tbody>\n",
       "    <tr>\n",
       "      <th>0</th>\n",
       "      <td> 0.14</td>\n",
       "      <td> 0</td>\n",
       "    </tr>\n",
       "    <tr>\n",
       "      <th>1</th>\n",
       "      <td> 0.62</td>\n",
       "      <td> 0</td>\n",
       "    </tr>\n",
       "    <tr>\n",
       "      <th>2</th>\n",
       "      <td> 0.30</td>\n",
       "      <td> 0</td>\n",
       "    </tr>\n",
       "    <tr>\n",
       "      <th>3</th>\n",
       "      <td> 0.14</td>\n",
       "      <td> 0</td>\n",
       "    </tr>\n",
       "    <tr>\n",
       "      <th>4</th>\n",
       "      <td> 0.32</td>\n",
       "      <td> 1</td>\n",
       "    </tr>\n",
       "  </tbody>\n",
       "</table>\n",
       "</div>"
      ],
      "text/plain": [
       "   Predicted  Actual\n",
       "0       0.14       0\n",
       "1       0.62       0\n",
       "2       0.30       0\n",
       "3       0.14       0\n",
       "4       0.32       1"
      ]
     },
     "execution_count": 24,
     "metadata": {},
     "output_type": "execute_result"
    }
   ],
   "source": [
    "Table1.head()"
   ]
  },
  {
   "cell_type": "code",
   "execution_count": 25,
   "metadata": {},
   "outputs": [
    {
     "name": "stdout",
     "output_type": "stream",
     "text": [
      "Actual 0.238613861386\n",
      "Predicted 0.264079207921\n"
     ]
    }
   ],
   "source": [
    "print 'Actual',np.mean(Table1['Actual'])\n",
    "print 'Predicted',np.mean(Table1['Predicted'])"
   ]
  },
  {
   "cell_type": "code",
   "execution_count": 33,
   "metadata": {},
   "outputs": [
    {
     "name": "stdout",
     "output_type": "stream",
     "text": [
      "True Positive  =  43\n",
      "False Positive =  72\n",
      "True Negative  =  697\n",
      "False Negative =  198\n",
      "\n",
      "True Positive Rate   =  17.84 %\n",
      "False Positive Rate  =  9.36 %\n",
      "True Negative Rate   =  90.64 %\n",
      "False Negative Rate  =  82.16 %\n"
     ]
    }
   ],
   "source": [
    "print 'True Positive  = ', len(Table1[(Table1['Predicted'] >= 0.5) & (Table1['Actual'] == 1)])\n",
    "print 'False Positive = ', len(Table1[(Table1['Predicted'] >= 0.5) & (Table1['Actual'] == 0)])\n",
    "print 'True Negative  = ', len(Table1[(Table1['Predicted'] < 0.5) & (Table1['Actual'] == 0)])\n",
    "print 'False Negative = ', len(Table1[(Table1['Predicted'] < 0.5) & (Table1['Actual'] == 1)])\n",
    "print ''\n",
    "print 'True Positive Rate   = ', np.round((len(Table1[(Table1['Predicted'] >= 0.5) & (Table1['Actual'] == 1)])/float((len(Table1[(Table1['Predicted'] >= 0.5) & (Table1['Actual'] == 1)]) + len(Table1[(Table1['Predicted'] < 0.5) & (Table1['Actual'] == 1)]))) * 100),2),'%'\n",
    "print 'False Positive Rate  = ', np.round((len(Table1[(Table1['Predicted'] >= 0.5) & (Table1['Actual'] == 0)])/float((len(Table1[(Table1['Predicted'] >= 0.5) & (Table1['Actual'] == 0)]) + len(Table1[(Table1['Predicted'] < 0.5) & (Table1['Actual'] == 0)]))) * 100),2),'%'\n",
    "print 'True Negative Rate   = ', np.round((1-(len(Table1[(Table1['Predicted'] >= 0.5) & (Table1['Actual'] == 0)])/float((len(Table1[(Table1['Predicted'] >= 0.5) & (Table1['Actual'] == 0)]) + len(Table1[(Table1['Predicted'] < 0.5) & (Table1['Actual'] == 0)]))))) * 100,2),'%'\n",
    "print 'False Negative Rate  = ', np.round((1-(len(Table1[(Table1['Predicted'] >= 0.5) & (Table1['Actual'] == 1)])/float((len(Table1[(Table1['Predicted'] >= 0.5) & (Table1['Actual'] == 1)]) + len(Table1[(Table1['Predicted'] < 0.5) & (Table1['Actual'] == 1)]))))) * 100,2),'%'"
   ]
  },
  {
   "cell_type": "raw",
   "metadata": {},
   "source": [
    "True positive rate :TPR=TP/(TP+FN) #measures the proportion of correctly identified positives (high)\n",
    "False positive rate:FPR=FP/(FP+TN) #measures the proportion of uncorrectly identified as positives -> false alarm (low)"
   ]
  },
  {
   "cell_type": "code",
   "execution_count": 27,
   "metadata": {},
   "outputs": [
    {
     "name": "stdout",
     "output_type": "stream",
     "text": [
      "Area under the ROC curve : 0.631833\n"
     ]
    },
    {
     "data": {
      "image/png": "[encoded data removed]",
      "text/plain": [
       "<matplotlib.figure.Figure at 0x11929d210>"
      ]
     },
     "metadata": {},
     "output_type": "display_data"
    }
   ],
   "source": [
    "# Compute ROC curve and area the curve\n",
    "fpr, tpr, thresholds = roc_curve(Table1['Actual'],Table1['Predicted'])\n",
    "roc_auc = auc(fpr, tpr)\n",
    "print \"Area under the ROC curve : %f\" % roc_auc\n",
    "\n",
    "# Plot ROC curve\n",
    "pl.clf()\n",
    "pl.plot(fpr, tpr, label='ROC curve (area = %0.2f)' % roc_auc)\n",
    "pl.plot([0, 1], [0, 1], 'k--')\n",
    "pl.xlim([0.0, 1.0])\n",
    "pl.ylim([0.0, 1.0])\n",
    "pl.xlabel('False Positive Rate')\n",
    "pl.ylabel('True Positive Rate')\n",
    "pl.title('Receiver operating characteristic example')\n",
    "pl.legend(loc=\"lower right\")\n",
    "pl.show()"
   ]
  },
  {
   "cell_type": "markdown",
   "metadata": {},
   "source": [
    "## Test Dataset"
   ]
  },
  {
   "cell_type": "code",
   "execution_count": 28,
   "metadata": {},
   "outputs": [],
   "source": [
    "#Create new features\n",
    "test_df['received'] = test_df.requester_received_pizza.map(lambda x: 0 if x == False else 1)\n",
    "test_df['request_text_edit_aware_len'] = test_df.request_text_edit_aware.map(lambda x: len(x))\n",
    "test_df['request_title_len'] = test_df.request_title.map(lambda x: len(x))"
   ]
  },
  {
   "cell_type": "code",
   "execution_count": 29,
   "metadata": {},
   "outputs": [],
   "source": [
    "X_test = test_df[variables].values\n",
    "Output_test  = Extratrees.predict(X_test)"
   ]
  },
  {
   "cell_type": "code",
   "execution_count": 30,
   "metadata": {},
   "outputs": [],
   "source": [
    "Table2 = pd.DataFrame(Output_test,columns=[\"Predicted\"])\n",
    "Table2[\"Actual\"] = test_df['received'].values"
   ]
  },
  {
   "cell_type": "code",
   "execution_count": 31,
   "metadata": {},
   "outputs": [
    {
     "data": {
      "text/html": [
       "<div style=\"max-height:1000px;max-width:1500px;overflow:auto;\">\n",
       "<table border=\"1\" class=\"dataframe\">\n",
       "  <thead>\n",
       "    <tr style=\"text-align: right;\">\n",
       "      <th></th>\n",
       "      <th>Predicted</th>\n",
       "      <th>Actual</th>\n",
       "    </tr>\n",
       "  </thead>\n",
       "  <tbody>\n",
       "    <tr>\n",
       "      <th>0</th>\n",
       "      <td> 0.32</td>\n",
       "      <td> 0</td>\n",
       "    </tr>\n",
       "    <tr>\n",
       "      <th>1</th>\n",
       "      <td> 0.22</td>\n",
       "      <td> 0</td>\n",
       "    </tr>\n",
       "    <tr>\n",
       "      <th>2</th>\n",
       "      <td> 0.06</td>\n",
       "      <td> 0</td>\n",
       "    </tr>\n",
       "    <tr>\n",
       "      <th>3</th>\n",
       "      <td> 0.10</td>\n",
       "      <td> 0</td>\n",
       "    </tr>\n",
       "    <tr>\n",
       "      <th>4</th>\n",
       "      <td> 0.24</td>\n",
       "      <td> 1</td>\n",
       "    </tr>\n",
       "  </tbody>\n",
       "</table>\n",
       "</div>"
      ],
      "text/plain": [
       "   Predicted  Actual\n",
       "0       0.32       0\n",
       "1       0.22       0\n",
       "2       0.06       0\n",
       "3       0.10       0\n",
       "4       0.24       1"
      ]
     },
     "execution_count": 31,
     "metadata": {},
     "output_type": "execute_result"
    }
   ],
   "source": [
    "Table2.head()"
   ]
  },
  {
   "cell_type": "code",
   "execution_count": 32,
   "metadata": {},
   "outputs": [
    {
     "name": "stdout",
     "output_type": "stream",
     "text": [
      "Area under the ROC curve : 0.609284\n"
     ]
    },
    {
     "data": {
      "image/png": "[encoded data removed]",
      "text/plain": [
       "<matplotlib.figure.Figure at 0x11978c610>"
      ]
     },
     "metadata": {},
     "output_type": "display_data"
    }
   ],
   "source": [
    "# Compute ROC curve and area the curve\n",
    "fpr, tpr, thresholds = roc_curve(Table2['Actual'],Table2['Predicted'])\n",
    "roc_auc = auc(fpr, tpr)\n",
    "print \"Area under the ROC curve : %f\" % roc_auc\n",
    "\n",
    "# Plot ROC curve\n",
    "pl.clf()\n",
    "pl.plot(fpr, tpr, label='ROC curve (area = %0.2f)' % roc_auc)\n",
    "pl.plot([0, 1], [0, 1], 'k--')\n",
    "pl.xlim([0.0, 1.0])\n",
    "pl.ylim([0.0, 1.0])\n",
    "pl.xlabel('False Positive Rate')\n",
    "pl.ylabel('True Positive Rate')\n",
    "pl.title('Receiver operating characteristic example')\n",
    "pl.legend(loc=\"lower right\")\n",
    "pl.show()"
   ]
  }
 ],
 "metadata": {
  "kernelspec": {
   "display_name": "Python 3",
   "language": "python",
   "name": "python3"
  },
  "language_info": {
   "codemirror_mode": {
    "name": "ipython",
    "version": 3
   },
   "file_extension": ".py",
   "mimetype": "text/x-python",
   "name": "python",
   "nbconvert_exporter": "python",
   "pygments_lexer": "ipython3",
   "version": "3.7.3"
  }
 },
 "nbformat": 4,
 "nbformat_minor": 1
}
