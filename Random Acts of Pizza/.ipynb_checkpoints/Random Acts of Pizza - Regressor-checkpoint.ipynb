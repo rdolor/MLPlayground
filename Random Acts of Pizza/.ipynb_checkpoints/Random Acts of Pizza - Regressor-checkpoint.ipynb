{
 "cells": [
  {
   "cell_type": "markdown",
   "metadata": {},
   "source": [
    "## Random Acts of Pizza"
   ]
  },
  {
   "cell_type": "raw",
   "metadata": {},
   "source": [
    "This competition contains a dataset with 5671 textual requests for pizza from the Reddit community Random Acts of Pizza together with their outcome (successful/unsuccessful) and meta-data. Participants must create an algorithm capable of predicting which requests will garner a cheesy (but sincere!) act of kindness."
   ]
  },
  {
   "cell_type": "markdown",
   "metadata": {},
   "source": [
    "### ===================================================================================================="
   ]
  },
  {
   "cell_type": "code",
   "execution_count": 1,
   "metadata": {},
   "outputs": [
    {
     "name": "stdout",
     "output_type": "stream",
     "text": [
      "/Users/user/Downloads\n"
     ]
    }
   ],
   "source": [
    "%cd \\Users\\user\\Downloads\\"
   ]
  },
  {
   "cell_type": "code",
   "execution_count": 2,
   "metadata": {},
   "outputs": [],
   "source": [
    "import pandas as pd\n",
    "from sklearn import linear_model,tree, ensemble,decomposition,datasets,preprocessing, grid_search\n",
    "from sklearn.metrics import roc_curve, auc\n",
    "import numpy as np\n",
    "import pylab as pl\n",
    "import datetime\n",
    "import re\n",
    "from nltk.tag import pos_tag\n",
    "from sklearn.decomposition import ProjectedGradientNMF\n",
    "import sklearn.feature_extraction.text as text\n",
    "%matplotlib inline"
   ]
  },
  {
   "cell_type": "code",
   "execution_count": 3,
   "metadata": {},
   "outputs": [],
   "source": [
    "train = pd.read_json(\"train.json\")\n",
    "test = pd.read_json(\"test.json\")"
   ]
  },
  {
   "cell_type": "code",
   "execution_count": 4,
   "metadata": {},
   "outputs": [],
   "source": [
    "#Random sampling\n",
    "num_obs = len(train)\n",
    "num_train_sample = int((num_obs) * 0.70)\n",
    "\n",
    "from random import sample\n",
    "\n",
    "#create random index\n",
    "rindex = np.array(sample(xrange(len(trai n)),num_train_sample))\n",
    "\n",
    "#get \"num_train_sample\" random rows from train\n",
    "\n",
    "train_df = train.ix[rindex]\n",
    "\n",
    "train_df_cv = train.drop(rindex)"
   ]
  },
  {
   "cell_type": "code",
   "execution_count": 5,
   "metadata": {},
   "outputs": [
    {
     "name": "stdout",
     "output_type": "stream",
     "text": [
      "number of obs for training: 2828\n",
      "number of obs for cross validation: 1212\n",
      "number of obs for test dataset: 1631\n"
     ]
    }
   ],
   "source": [
    "print \"number of obs for training:\",len(train_df)\n",
    "print \"number of obs for cross validation:\",len(train_df_cv)\n",
    "print \"number of obs for test dataset:\",len(test)"
   ]
  },
  {
   "cell_type": "code",
   "execution_count": 6,
   "metadata": {},
   "outputs": [
    {
     "data": {
      "text/plain": [
       "[u'giver_username_if_known',\n",
       " u'number_of_downvotes_of_request_at_retrieval',\n",
       " u'number_of_upvotes_of_request_at_retrieval',\n",
       " u'post_was_edited',\n",
       " u'request_id',\n",
       " u'request_number_of_comments_at_retrieval',\n",
       " u'request_text',\n",
       " u'request_text_edit_aware',\n",
       " u'request_title',\n",
       " u'requester_account_age_in_days_at_request',\n",
       " u'requester_account_age_in_days_at_retrieval',\n",
       " u'requester_days_since_first_post_on_raop_at_request',\n",
       " u'requester_days_since_first_post_on_raop_at_retrieval',\n",
       " u'requester_number_of_comments_at_request',\n",
       " u'requester_number_of_comments_at_retrieval',\n",
       " u'requester_number_of_comments_in_raop_at_request',\n",
       " u'requester_number_of_comments_in_raop_at_retrieval',\n",
       " u'requester_number_of_posts_at_request',\n",
       " u'requester_number_of_posts_at_retrieval',\n",
       " u'requester_number_of_posts_on_raop_at_request',\n",
       " u'requester_number_of_posts_on_raop_at_retrieval',\n",
       " u'requester_number_of_subreddits_at_request',\n",
       " u'requester_received_pizza',\n",
       " u'requester_subreddits_at_request',\n",
       " u'requester_upvotes_minus_downvotes_at_request',\n",
       " u'requester_upvotes_minus_downvotes_at_retrieval',\n",
       " u'requester_upvotes_plus_downvotes_at_request',\n",
       " u'requester_upvotes_plus_downvotes_at_retrieval',\n",
       " u'requester_user_flair',\n",
       " u'requester_username',\n",
       " u'unix_timestamp_of_request',\n",
       " u'unix_timestamp_of_request_utc']"
      ]
     },
     "execution_count": 6,
     "metadata": {},
     "output_type": "execute_result"
    }
   ],
   "source": [
    "#Available columns in training dataset\n",
    "list(train.columns)"
   ]
  },
  {
   "cell_type": "code",
   "execution_count": 7,
   "metadata": {},
   "outputs": [
    {
     "data": {
      "text/plain": [
       "[u'giver_username_if_known',\n",
       " u'request_id',\n",
       " u'request_text_edit_aware',\n",
       " u'request_title',\n",
       " u'requester_account_age_in_days_at_request',\n",
       " u'requester_days_since_first_post_on_raop_at_request',\n",
       " u'requester_number_of_comments_at_request',\n",
       " u'requester_number_of_comments_in_raop_at_request',\n",
       " u'requester_number_of_posts_at_request',\n",
       " u'requester_number_of_posts_on_raop_at_request',\n",
       " u'requester_number_of_subreddits_at_request',\n",
       " u'requester_subreddits_at_request',\n",
       " u'requester_upvotes_minus_downvotes_at_request',\n",
       " u'requester_upvotes_plus_downvotes_at_request',\n",
       " u'requester_username',\n",
       " u'unix_timestamp_of_request',\n",
       " u'unix_timestamp_of_request_utc']"
      ]
     },
     "execution_count": 7,
     "metadata": {},
     "output_type": "execute_result"
    }
   ],
   "source": [
    "#Available columns in test dataset\n",
    "list(test.columns)"
   ]
  },
  {
   "cell_type": "code",
   "execution_count": 8,
   "metadata": {},
   "outputs": [
    {
     "name": "stdout",
     "output_type": "stream",
     "text": [
      "Number of variables in training dataset 32\n",
      "Number of variables in test dataset 17\n"
     ]
    }
   ],
   "source": [
    "print 'Number of variables in training dataset',len(train_df.columns)\n",
    "print 'Number of variables in test dataset',len(test.columns)"
   ]
  },
  {
   "cell_type": "markdown",
   "metadata": {},
   "source": [
    "## Training Dataset"
   ]
  },
  {
   "cell_type": "code",
   "execution_count": 9,
   "metadata": {},
   "outputs": [
    {
     "data": {
      "text/html": [
       "<div style=\"max-height:1000px;max-width:1500px;overflow:auto;\">\n",
       "<table border=\"1\" class=\"dataframe\">\n",
       "  <thead>\n",
       "    <tr style=\"text-align: right;\">\n",
       "      <th></th>\n",
       "      <th>giver_username_if_known</th>\n",
       "      <th>number_of_downvotes_of_request_at_retrieval</th>\n",
       "      <th>number_of_upvotes_of_request_at_retrieval</th>\n",
       "      <th>post_was_edited</th>\n",
       "      <th>request_id</th>\n",
       "      <th>request_number_of_comments_at_retrieval</th>\n",
       "      <th>request_text</th>\n",
       "      <th>request_text_edit_aware</th>\n",
       "      <th>request_title</th>\n",
       "      <th>requester_account_age_in_days_at_request</th>\n",
       "      <th>...</th>\n",
       "      <th>requester_received_pizza</th>\n",
       "      <th>requester_subreddits_at_request</th>\n",
       "      <th>requester_upvotes_minus_downvotes_at_request</th>\n",
       "      <th>requester_upvotes_minus_downvotes_at_retrieval</th>\n",
       "      <th>requester_upvotes_plus_downvotes_at_request</th>\n",
       "      <th>requester_upvotes_plus_downvotes_at_retrieval</th>\n",
       "      <th>requester_user_flair</th>\n",
       "      <th>requester_username</th>\n",
       "      <th>unix_timestamp_of_request</th>\n",
       "      <th>unix_timestamp_of_request_utc</th>\n",
       "    </tr>\n",
       "  </thead>\n",
       "  <tbody>\n",
       "    <tr>\n",
       "      <th>1959</th>\n",
       "      <td> N/A</td>\n",
       "      <td> 0</td>\n",
       "      <td> 3</td>\n",
       "      <td> 0</td>\n",
       "      <td> t3_meys2</td>\n",
       "      <td> 1</td>\n",
       "      <td> Hey, RAOP! I'm having a rather crappy day. Las...</td>\n",
       "      <td> Hey, RAOP! I'm having a rather crappy day. Las...</td>\n",
       "      <td> [REQ] I got my car towed today, Pizza would ma...</td>\n",
       "      <td>  0.000000</td>\n",
       "      <td>...</td>\n",
       "      <td> False</td>\n",
       "      <td>                            [Random_Acts_Of_Pizza]</td>\n",
       "      <td>    3</td>\n",
       "      <td>    3</td>\n",
       "      <td>    3</td>\n",
       "      <td>    3</td>\n",
       "      <td> None</td>\n",
       "      <td> jhansipower</td>\n",
       "      <td> 1321484822</td>\n",
       "      <td> 1321484822</td>\n",
       "    </tr>\n",
       "    <tr>\n",
       "      <th>1891</th>\n",
       "      <td> N/A</td>\n",
       "      <td> 0</td>\n",
       "      <td> 1</td>\n",
       "      <td> 0</td>\n",
       "      <td> t3_yfn0b</td>\n",
       "      <td> 0</td>\n",
       "      <td> Just started working yesterday and I'm tireeee...</td>\n",
       "      <td> Just started working yesterday and I'm tireeee...</td>\n",
       "      <td> [Request] Hangin with my friend tonight, would...</td>\n",
       "      <td> 52.623009</td>\n",
       "      <td>...</td>\n",
       "      <td> False</td>\n",
       "      <td> [BigBrother, CircLoLjerk, Fitness, GlobalOffen...</td>\n",
       "      <td> 1100</td>\n",
       "      <td> 3927</td>\n",
       "      <td> 1742</td>\n",
       "      <td> 6265</td>\n",
       "      <td> None</td>\n",
       "      <td>   Tankercow</td>\n",
       "      <td> 1345313297</td>\n",
       "      <td> 1345309697</td>\n",
       "    </tr>\n",
       "  </tbody>\n",
       "</table>\n",
       "<p>2 rows × 32 columns</p>\n",
       "</div>"
      ],
      "text/plain": [
       "     giver_username_if_known  number_of_downvotes_of_request_at_retrieval  \\\n",
       "1959                     N/A                                            0   \n",
       "1891                     N/A                                            0   \n",
       "\n",
       "      number_of_upvotes_of_request_at_retrieval  post_was_edited request_id  \\\n",
       "1959                                          3                0   t3_meys2   \n",
       "1891                                          1                0   t3_yfn0b   \n",
       "\n",
       "      request_number_of_comments_at_retrieval  \\\n",
       "1959                                        1   \n",
       "1891                                        0   \n",
       "\n",
       "                                           request_text  \\\n",
       "1959  Hey, RAOP! I'm having a rather crappy day. Las...   \n",
       "1891  Just started working yesterday and I'm tireeee...   \n",
       "\n",
       "                                request_text_edit_aware  \\\n",
       "1959  Hey, RAOP! I'm having a rather crappy day. Las...   \n",
       "1891  Just started working yesterday and I'm tireeee...   \n",
       "\n",
       "                                          request_title  \\\n",
       "1959  [REQ] I got my car towed today, Pizza would ma...   \n",
       "1891  [Request] Hangin with my friend tonight, would...   \n",
       "\n",
       "      requester_account_age_in_days_at_request              ...                \\\n",
       "1959                                  0.000000              ...                 \n",
       "1891                                 52.623009              ...                 \n",
       "\n",
       "      requester_received_pizza  \\\n",
       "1959                     False   \n",
       "1891                     False   \n",
       "\n",
       "                        requester_subreddits_at_request  \\\n",
       "1959                             [Random_Acts_Of_Pizza]   \n",
       "1891  [BigBrother, CircLoLjerk, Fitness, GlobalOffen...   \n",
       "\n",
       "      requester_upvotes_minus_downvotes_at_request  \\\n",
       "1959                                             3   \n",
       "1891                                          1100   \n",
       "\n",
       "      requester_upvotes_minus_downvotes_at_retrieval  \\\n",
       "1959                                               3   \n",
       "1891                                            3927   \n",
       "\n",
       "      requester_upvotes_plus_downvotes_at_request  \\\n",
       "1959                                            3   \n",
       "1891                                         1742   \n",
       "\n",
       "      requester_upvotes_plus_downvotes_at_retrieval  requester_user_flair  \\\n",
       "1959                                              3                  None   \n",
       "1891                                           6265                  None   \n",
       "\n",
       "      requester_username  unix_timestamp_of_request  \\\n",
       "1959         jhansipower                 1321484822   \n",
       "1891           Tankercow                 1345313297   \n",
       "\n",
       "      unix_timestamp_of_request_utc  \n",
       "1959                     1321484822  \n",
       "1891                     1345309697  \n",
       "\n",
       "[2 rows x 32 columns]"
      ]
     },
     "execution_count": 9,
     "metadata": {},
     "output_type": "execute_result"
    }
   ],
   "source": [
    "train_df.head(2)"
   ]
  },
  {
   "cell_type": "code",
   "execution_count": 10,
   "metadata": {},
   "outputs": [],
   "source": [
    "#Select only columns that are both present in the test data and training data \n",
    "train_df = train_df[[ u'requester_received_pizza',\n",
    " u'giver_username_if_known',\n",
    " u'request_id',\n",
    " u'request_text_edit_aware',\n",
    " u'request_title',\n",
    " u'requester_account_age_in_days_at_request',\n",
    " u'requester_days_since_first_post_on_raop_at_request',\n",
    " u'requester_number_of_comments_at_request',\n",
    " u'requester_number_of_comments_in_raop_at_request',\n",
    " u'requester_number_of_posts_at_request',\n",
    " u'requester_number_of_posts_on_raop_at_request',\n",
    " u'requester_number_of_subreddits_at_request',\n",
    " u'requester_subreddits_at_request',\n",
    " u'requester_upvotes_minus_downvotes_at_request',\n",
    " u'requester_upvotes_plus_downvotes_at_request',\n",
    " u'requester_username',\n",
    " u'unix_timestamp_of_request',\n",
    " u'unix_timestamp_of_request_utc']]"
   ]
  },
  {
   "cell_type": "code",
   "execution_count": 11,
   "metadata": {},
   "outputs": [
    {
     "data": {
      "text/html": [
       "<div style=\"max-height:1000px;max-width:1500px;overflow:auto;\">\n",
       "<table border=\"1\" class=\"dataframe\">\n",
       "  <thead>\n",
       "    <tr style=\"text-align: right;\">\n",
       "      <th></th>\n",
       "      <th>requester_received_pizza</th>\n",
       "      <th>giver_username_if_known</th>\n",
       "      <th>request_id</th>\n",
       "      <th>request_text_edit_aware</th>\n",
       "      <th>request_title</th>\n",
       "      <th>requester_account_age_in_days_at_request</th>\n",
       "      <th>requester_days_since_first_post_on_raop_at_request</th>\n",
       "      <th>requester_number_of_comments_at_request</th>\n",
       "      <th>requester_number_of_comments_in_raop_at_request</th>\n",
       "      <th>requester_number_of_posts_at_request</th>\n",
       "      <th>requester_number_of_posts_on_raop_at_request</th>\n",
       "      <th>requester_number_of_subreddits_at_request</th>\n",
       "      <th>requester_subreddits_at_request</th>\n",
       "      <th>requester_upvotes_minus_downvotes_at_request</th>\n",
       "      <th>requester_upvotes_plus_downvotes_at_request</th>\n",
       "      <th>requester_username</th>\n",
       "      <th>unix_timestamp_of_request</th>\n",
       "      <th>unix_timestamp_of_request_utc</th>\n",
       "    </tr>\n",
       "  </thead>\n",
       "  <tbody>\n",
       "    <tr>\n",
       "      <th>1959</th>\n",
       "      <td> False</td>\n",
       "      <td> N/A</td>\n",
       "      <td> t3_meys2</td>\n",
       "      <td> Hey, RAOP! I'm having a rather crappy day. Las...</td>\n",
       "      <td> [REQ] I got my car towed today, Pizza would ma...</td>\n",
       "      <td>  0.000000</td>\n",
       "      <td>  0.000000</td>\n",
       "      <td>   0</td>\n",
       "      <td> 0</td>\n",
       "      <td>  0</td>\n",
       "      <td> 0</td>\n",
       "      <td>  1</td>\n",
       "      <td>                            [Random_Acts_Of_Pizza]</td>\n",
       "      <td>    3</td>\n",
       "      <td>    3</td>\n",
       "      <td> jhansipower</td>\n",
       "      <td> 1321484822</td>\n",
       "      <td> 1321484822</td>\n",
       "    </tr>\n",
       "    <tr>\n",
       "      <th>1891</th>\n",
       "      <td> False</td>\n",
       "      <td> N/A</td>\n",
       "      <td> t3_yfn0b</td>\n",
       "      <td> Just started working yesterday and I'm tireeee...</td>\n",
       "      <td> [Request] Hangin with my friend tonight, would...</td>\n",
       "      <td> 52.623009</td>\n",
       "      <td> 17.892986</td>\n",
       "      <td> 179</td>\n",
       "      <td> 2</td>\n",
       "      <td> 13</td>\n",
       "      <td> 0</td>\n",
       "      <td> 26</td>\n",
       "      <td> [BigBrother, CircLoLjerk, Fitness, GlobalOffen...</td>\n",
       "      <td> 1100</td>\n",
       "      <td> 1742</td>\n",
       "      <td>   Tankercow</td>\n",
       "      <td> 1345313297</td>\n",
       "      <td> 1345309697</td>\n",
       "    </tr>\n",
       "  </tbody>\n",
       "</table>\n",
       "</div>"
      ],
      "text/plain": [
       "     requester_received_pizza giver_username_if_known request_id  \\\n",
       "1959                    False                     N/A   t3_meys2   \n",
       "1891                    False                     N/A   t3_yfn0b   \n",
       "\n",
       "                                request_text_edit_aware  \\\n",
       "1959  Hey, RAOP! I'm having a rather crappy day. Las...   \n",
       "1891  Just started working yesterday and I'm tireeee...   \n",
       "\n",
       "                                          request_title  \\\n",
       "1959  [REQ] I got my car towed today, Pizza would ma...   \n",
       "1891  [Request] Hangin with my friend tonight, would...   \n",
       "\n",
       "      requester_account_age_in_days_at_request  \\\n",
       "1959                                  0.000000   \n",
       "1891                                 52.623009   \n",
       "\n",
       "      requester_days_since_first_post_on_raop_at_request  \\\n",
       "1959                                           0.000000    \n",
       "1891                                          17.892986    \n",
       "\n",
       "      requester_number_of_comments_at_request  \\\n",
       "1959                                        0   \n",
       "1891                                      179   \n",
       "\n",
       "      requester_number_of_comments_in_raop_at_request  \\\n",
       "1959                                                0   \n",
       "1891                                                2   \n",
       "\n",
       "      requester_number_of_posts_at_request  \\\n",
       "1959                                     0   \n",
       "1891                                    13   \n",
       "\n",
       "      requester_number_of_posts_on_raop_at_request  \\\n",
       "1959                                             0   \n",
       "1891                                             0   \n",
       "\n",
       "      requester_number_of_subreddits_at_request  \\\n",
       "1959                                          1   \n",
       "1891                                         26   \n",
       "\n",
       "                        requester_subreddits_at_request  \\\n",
       "1959                             [Random_Acts_Of_Pizza]   \n",
       "1891  [BigBrother, CircLoLjerk, Fitness, GlobalOffen...   \n",
       "\n",
       "      requester_upvotes_minus_downvotes_at_request  \\\n",
       "1959                                             3   \n",
       "1891                                          1100   \n",
       "\n",
       "      requester_upvotes_plus_downvotes_at_request requester_username  \\\n",
       "1959                                            3        jhansipower   \n",
       "1891                                         1742          Tankercow   \n",
       "\n",
       "      unix_timestamp_of_request  unix_timestamp_of_request_utc  \n",
       "1959                 1321484822                     1321484822  \n",
       "1891                 1345313297                     1345309697  "
      ]
     },
     "execution_count": 11,
     "metadata": {},
     "output_type": "execute_result"
    }
   ],
   "source": [
    "train_df.head(2)"
   ]
  },
  {
   "cell_type": "code",
   "execution_count": 12,
   "metadata": {},
   "outputs": [],
   "source": [
    "re_pattern_img = r'\\b(?:img|jpg|gif|png)\\b'\n",
    "re_pattern_reciprocity = r'\\b(?:pay it forward|pay it back|return the favor)\\b'\n",
    "re_pattern_subreddit = r'\\b(?:Random_Acts_Of_Pizza|AskReddit)\\b'"
   ]
  },
  {
   "cell_type": "code",
   "execution_count": 13,
   "metadata": {},
   "outputs": [],
   "source": [
    "#Create new features\n",
    "train_df['received'] = train_df.requester_received_pizza.map(lambda x: 0 if x == False else 1)\n",
    "train_df['giver_username_if_known_011'] = train_df.giver_username_if_known.map(lambda x: 0 if x == \"N/A\" else 1)\n",
    "train_df['request_text_edit_aware_len'] = train_df.request_text_edit_aware.map(lambda x: len(x))\n",
    "train_df['request_title_len'] = train_df.request_title.map(lambda x: len(x))"
   ]
  },
  {
   "cell_type": "code",
   "execution_count": 14,
   "metadata": {},
   "outputs": [],
   "source": [
    "train_df['unix_timestamp_of_request_utc_year'] = train_df.unix_timestamp_of_request.map(lambda x: datetime.datetime.fromtimestamp(x).year)\n",
    "train_df['unix_timestamp_of_request_utc_month'] = train_df.unix_timestamp_of_request.map(lambda x: datetime.datetime.fromtimestamp(x).month)\n",
    "train_df['unix_timestamp_of_request_utc_day'] = train_df.unix_timestamp_of_request.map(lambda x: datetime.datetime.fromtimestamp(x).day)\n",
    "train_df['unix_timestamp_of_request_utc_hour'] = train_df.unix_timestamp_of_request.map(lambda x: datetime.datetime.fromtimestamp(x).hour)\n",
    "train_df['unix_timestamp_of_request_utc_wkday'] = train_df.unix_timestamp_of_request.map(lambda x: datetime.datetime.fromtimestamp(x).weekday())"
   ]
  },
  {
   "cell_type": "code",
   "execution_count": 15,
   "metadata": {},
   "outputs": [],
   "source": [
    "train_df['request_text_edit_aware_img'] = train_df.request_text_edit_aware.map(lambda x: 1 if len(re.findall(re_pattern_img, x)) <> 0 else 0 )\n",
    "train_df['request_text_edit_aware_reciprocity'] = train_df.request_text_edit_aware.map(lambda x: 1 if len(re.findall(re_pattern_reciprocity, x)) <> 0 else 0 )\n",
    "train_df['subreddit_groups'] = train_df.requester_subreddits_at_request.map(lambda x: 1 if len(re.findall(re_pattern_subreddit, str(x))) <> 0 else 0 )"
   ]
  },
  {
   "cell_type": "code",
   "execution_count": 16,
   "metadata": {},
   "outputs": [
    {
     "name": "stdout",
     "output_type": "stream",
     "text": [
      "Received : True    =  711\n",
      "Received : False   =  2117\n",
      "Percentage of True =  25.14 %\n"
     ]
    }
   ],
   "source": [
    "print 'Received : True    = ' , len(train_df.loc[train_df['received'] == 1])\n",
    "print 'Received : False   = ' , len(train_df.loc[train_df['received'] == 0])\n",
    "print 'Percentage of True = ' , np.round((float(len(train_df.loc[train_df['received'] == 1]))/ (len(train_df.loc[train_df['received'] == 1]) + len(train_df.loc[train_df['received'] == 0]))) * 100,2),'%'"
   ]
  },
  {
   "cell_type": "code",
   "execution_count": 17,
   "metadata": {},
   "outputs": [],
   "source": [
    "#List columns that will be included in the model\n",
    "train_cols = ['requester_account_age_in_days_at_request',\n",
    " 'requester_days_since_first_post_on_raop_at_request',\n",
    " 'requester_number_of_comments_at_request',\n",
    " 'requester_number_of_comments_in_raop_at_request',\n",
    " 'requester_number_of_posts_at_request',\n",
    " 'requester_number_of_posts_on_raop_at_request',\n",
    " 'requester_number_of_subreddits_at_request',\n",
    " 'requester_upvotes_minus_downvotes_at_request',\n",
    " 'requester_upvotes_plus_downvotes_at_request',\n",
    " 'giver_username_if_known_011',\n",
    " 'request_text_edit_aware_len',\n",
    " 'request_title_len',\n",
    " 'unix_timestamp_of_request_utc_year',\n",
    " 'unix_timestamp_of_request_utc_month',\n",
    " 'unix_timestamp_of_request_utc_day',\n",
    " 'unix_timestamp_of_request_utc_hour',\n",
    " 'unix_timestamp_of_request_utc_year',\n",
    " 'unix_timestamp_of_request_utc_wkday'\n",
    " ]"
   ]
  },
  {
   "cell_type": "markdown",
   "metadata": {},
   "source": [
    "#### Fit Model"
   ]
  },
  {
   "cell_type": "code",
   "execution_count": 18,
   "metadata": {},
   "outputs": [],
   "source": [
    "X_train = train_df[train_cols].values\n",
    "Y_train = train_df['received'].values"
   ]
  },
  {
   "cell_type": "code",
   "execution_count": 19,
   "metadata": {},
   "outputs": [
    {
     "data": {
      "text/plain": [
       "GradientBoostingRegressor(alpha=0.9, init=None, learning_rate=0.1, loss='ls',\n",
       "             max_depth=3, max_features=None, max_leaf_nodes=None,\n",
       "             min_samples_leaf=1, min_samples_split=2, n_estimators=100,\n",
       "             random_state=None, subsample=1.0, verbose=0, warm_start=False)"
      ]
     },
     "execution_count": 19,
     "metadata": {},
     "output_type": "execute_result"
    }
   ],
   "source": [
    "Extratrees = ensemble.GradientBoostingRegressor()\n",
    "Extratrees.fit(X_train,Y_train)"
   ]
  },
  {
   "cell_type": "markdown",
   "metadata": {},
   "source": [
    "## CROSS VALIDATION DATASET"
   ]
  },
  {
   "cell_type": "code",
   "execution_count": 20,
   "metadata": {},
   "outputs": [],
   "source": [
    "#Create new features\n",
    "train_df_cv['received'] = train_df_cv.requester_received_pizza.map(lambda x: 0 if x == False else 1)\n",
    "train_df_cv['giver_username_if_known_011'] = train_df_cv.giver_username_if_known.map(lambda x: 0 if x == \"N/A\" else 1)\n",
    "train_df_cv['request_text_edit_aware_len'] = train_df_cv.request_text_edit_aware.map(lambda x: len(x))\n",
    "train_df_cv['request_title_len'] = train_df_cv.request_title.map(lambda x: len(x))"
   ]
  },
  {
   "cell_type": "code",
   "execution_count": 21,
   "metadata": {},
   "outputs": [],
   "source": [
    "train_df_cv['unix_timestamp_of_request_utc_year'] = train_df_cv.unix_timestamp_of_request.map(lambda x: datetime.datetime.fromtimestamp(x).year)\n",
    "train_df_cv['unix_timestamp_of_request_utc_month'] = train_df_cv.unix_timestamp_of_request.map(lambda x: datetime.datetime.fromtimestamp(x).month)\n",
    "train_df_cv['unix_timestamp_of_request_utc_day'] = train_df_cv.unix_timestamp_of_request.map(lambda x: datetime.datetime.fromtimestamp(x).day)\n",
    "train_df_cv['unix_timestamp_of_request_utc_hour'] = train_df_cv.unix_timestamp_of_request.map(lambda x: datetime.datetime.fromtimestamp(x).hour)\n",
    "train_df_cv['unix_timestamp_of_request_utc_wkday'] = train_df_cv.unix_timestamp_of_request.map(lambda x: datetime.datetime.fromtimestamp(x).weekday())"
   ]
  },
  {
   "cell_type": "code",
   "execution_count": 22,
   "metadata": {},
   "outputs": [],
   "source": [
    "train_df_cv['request_text_edit_aware_img'] = train_df_cv.request_text_edit_aware.map(lambda x: 1 if len(re.findall(re_pattern_img, x)) <> 0 else 0 )\n",
    "train_df_cv['request_text_edit_aware_reciprocity'] = train_df_cv.request_text_edit_aware.map(lambda x: 1 if len(re.findall(re_pattern_reciprocity, x)) <> 0 else 0 )\n",
    "train_df_cv['subreddit_groups'] = train_df_cv.requester_subreddits_at_request.map(lambda x: 1 if len(re.findall(re_pattern_subreddit, str(x))) <> 0 else 0 )"
   ]
  },
  {
   "cell_type": "code",
   "execution_count": 23,
   "metadata": {},
   "outputs": [],
   "source": [
    "X_cv = train_df_cv[train_cols].values"
   ]
  },
  {
   "cell_type": "markdown",
   "metadata": {},
   "source": [
    "#### Predict Cross Validation"
   ]
  },
  {
   "cell_type": "code",
   "execution_count": 24,
   "metadata": {},
   "outputs": [],
   "source": [
    "Output_cv  = Extratrees.predict(X_cv)"
   ]
  },
  {
   "cell_type": "code",
   "execution_count": 25,
   "metadata": {},
   "outputs": [],
   "source": [
    "Table = pd.DataFrame(Output_cv,columns=[\"Predicted\"])\n",
    "Table[\"Actual\"] = train_df_cv['received'].values"
   ]
  },
  {
   "cell_type": "code",
   "execution_count": 26,
   "metadata": {},
   "outputs": [
    {
     "data": {
      "text/html": [
       "<div style=\"max-height:1000px;max-width:1500px;overflow:auto;\">\n",
       "<table border=\"1\" class=\"dataframe\">\n",
       "  <thead>\n",
       "    <tr style=\"text-align: right;\">\n",
       "      <th></th>\n",
       "      <th>Predicted</th>\n",
       "      <th>Actual</th>\n",
       "    </tr>\n",
       "  </thead>\n",
       "  <tbody>\n",
       "    <tr>\n",
       "      <th>0</th>\n",
       "      <td> 0.299218</td>\n",
       "      <td> 0</td>\n",
       "    </tr>\n",
       "    <tr>\n",
       "      <th>1</th>\n",
       "      <td> 0.197443</td>\n",
       "      <td> 0</td>\n",
       "    </tr>\n",
       "    <tr>\n",
       "      <th>2</th>\n",
       "      <td> 0.277710</td>\n",
       "      <td> 1</td>\n",
       "    </tr>\n",
       "    <tr>\n",
       "      <th>3</th>\n",
       "      <td> 0.132998</td>\n",
       "      <td> 0</td>\n",
       "    </tr>\n",
       "    <tr>\n",
       "      <th>4</th>\n",
       "      <td> 0.168324</td>\n",
       "      <td> 0</td>\n",
       "    </tr>\n",
       "  </tbody>\n",
       "</table>\n",
       "</div>"
      ],
      "text/plain": [
       "   Predicted  Actual\n",
       "0   0.299218       0\n",
       "1   0.197443       0\n",
       "2   0.277710       1\n",
       "3   0.132998       0\n",
       "4   0.168324       0"
      ]
     },
     "execution_count": 26,
     "metadata": {},
     "output_type": "execute_result"
    }
   ],
   "source": [
    "Table.head()"
   ]
  },
  {
   "cell_type": "code",
   "execution_count": 27,
   "metadata": {},
   "outputs": [
    {
     "name": "stdout",
     "output_type": "stream",
     "text": [
      "Actual 0.233498349835\n",
      "Predicted 0.244935811298\n"
     ]
    }
   ],
   "source": [
    "print 'Actual',np.mean(Table['Actual'])\n",
    "print 'Predicted',np.mean(Table['Predicted'])"
   ]
  },
  {
   "cell_type": "code",
   "execution_count": 28,
   "metadata": {},
   "outputs": [
    {
     "name": "stdout",
     "output_type": "stream",
     "text": [
      "Actual Received True     =  283\n",
      "Actual Received False    =  929\n",
      "Predicted Received True  =  0\n",
      "Predicted Received False =  1109\n",
      "\n",
      "True Positive  =  93\n",
      "False Positive =  10\n",
      "True Negative  =  919\n",
      "False Negative =  190\n",
      "\n",
      "True Positive Rate   =  32.86 %\n",
      "False Positive Rate  =  1.08 %\n",
      "True Negative Rate   =  98.92 %\n",
      "False Negative Rate  =  67.14 %\n"
     ]
    }
   ],
   "source": [
    "print 'Actual Received True     = ' , len(Table.loc[Table['Actual'] == 1])\n",
    "print 'Actual Received False    = ' , len(Table.loc[Table['Actual'] == 0])\n",
    "print 'Predicted Received True  = ' , len(Table.loc[Table['Predicted'] == 1 ])\n",
    "print 'Predicted Received False = ' , len(Table.loc[Table['Predicted'] < 0.5])\n",
    "print ''\n",
    "print 'True Positive  = ', len(Table[(Table['Predicted'] >= 0.5) & (Table['Actual'] == 1)])\n",
    "print 'False Positive = ', len(Table[(Table['Predicted'] >= 0.5) & (Table['Actual'] == 0)])\n",
    "print 'True Negative  = ', len(Table[(Table['Predicted'] < 0.5) & (Table['Actual'] == 0)])\n",
    "print 'False Negative = ', len(Table[(Table['Predicted'] < 0.5) & (Table['Actual'] == 1)])\n",
    "print ''\n",
    "print 'True Positive Rate   = ', np.round((len(Table[(Table['Predicted'] >= 0.5) & (Table['Actual'] == 1)])/float((len(Table[(Table['Predicted'] >= 0.5) & (Table['Actual'] == 1)]) + len(Table[(Table['Predicted'] < 0.5) & (Table['Actual'] == 1)]))) * 100),2),'%'\n",
    "print 'False Positive Rate  = ', np.round((len(Table[(Table['Predicted'] >= 0.5) & (Table['Actual'] == 0)])/float((len(Table[(Table['Predicted'] >= 0.5) & (Table['Actual'] == 0)]) + len(Table[(Table['Predicted'] < 0.5) & (Table['Actual'] == 0)]))) * 100),2),'%'\n",
    "print 'True Negative Rate   = ', np.round((1-(len(Table[(Table['Predicted'] >= 0.5) & (Table['Actual'] == 0)])/float((len(Table[(Table['Predicted'] >= 0.5) & (Table['Actual'] == 0)]) + len(Table[(Table['Predicted'] < 0.5) & (Table['Actual'] == 0)]))))) * 100,2),'%'\n",
    "print 'False Negative Rate  = ', np.round((1-(len(Table[(Table['Predicted'] >= 0.5) & (Table['Actual'] == 1)])/float((len(Table[(Table['Predicted'] >= 0.5) & (Table['Actual'] == 1)]) + len(Table[(Table['Predicted'] < 0.5) & (Table['Actual'] == 1)]))))) * 100,2),'%'"
   ]
  },
  {
   "cell_type": "code",
   "execution_count": 29,
   "metadata": {},
   "outputs": [
    {
     "name": "stdout",
     "output_type": "stream",
     "text": [
      "Area under the ROC curve : 0.782351\n"
     ]
    },
    {
     "data": {
      "image/png": "[encoded data removed]",
      "text/plain": [
       "<matplotlib.figure.Figure at 0x111240790>"
      ]
     },
     "metadata": {},
     "output_type": "display_data"
    }
   ],
   "source": [
    "# Compute ROC curve and area the curve\n",
    "fpr, tpr, thresholds = roc_curve(Table['Actual'],Table['Predicted'])\n",
    "roc_auc = auc(fpr, tpr)\n",
    "print \"Area under the ROC curve : %f\" % roc_auc\n",
    "\n",
    "# Plot ROC curve\n",
    "pl.clf()\n",
    "pl.plot(fpr, tpr, label='ROC curve (area = %0.2f)' % roc_auc)\n",
    "pl.plot([0, 1], [0, 1], 'k--')\n",
    "pl.xlim([0.0, 1.0])\n",
    "pl.ylim([0.0, 1.0])\n",
    "pl.xlabel('False Positive Rate')\n",
    "pl.ylabel('True Positive Rate')\n",
    "pl.title('Receiver operating characteristic example')\n",
    "pl.legend(loc=\"lower right\")\n",
    "pl.show()"
   ]
  },
  {
   "cell_type": "markdown",
   "metadata": {},
   "source": [
    "## Test Dataset"
   ]
  },
  {
   "cell_type": "code",
   "execution_count": 30,
   "metadata": {},
   "outputs": [],
   "source": [
    "#Create new features\n",
    "test['giver_username_if_known_011'] = test.giver_username_if_known.map(lambda x: 0 if x == \"N/A\" else 1)\n",
    "test['request_text_edit_aware_len'] = test.request_text_edit_aware.map(lambda x: len(x))\n",
    "test['request_title_len'] = test.request_title.map(lambda x: len(x))"
   ]
  },
  {
   "cell_type": "code",
   "execution_count": 31,
   "metadata": {},
   "outputs": [],
   "source": [
    "test['unix_timestamp_of_request_utc_year'] = test.unix_timestamp_of_request.map(lambda x: datetime.datetime.fromtimestamp(x).year)\n",
    "test['unix_timestamp_of_request_utc_month'] = test.unix_timestamp_of_request.map(lambda x: datetime.datetime.fromtimestamp(x).month)\n",
    "test['unix_timestamp_of_request_utc_day'] = test.unix_timestamp_of_request.map(lambda x: datetime.datetime.fromtimestamp(x).day)\n",
    "test['unix_timestamp_of_request_utc_hour'] = test.unix_timestamp_of_request.map(lambda x: datetime.datetime.fromtimestamp(x).hour)\n",
    "test['unix_timestamp_of_request_utc_wkday'] = test.unix_timestamp_of_request.map(lambda x: datetime.datetime.fromtimestamp(x).weekday())"
   ]
  },
  {
   "cell_type": "code",
   "execution_count": 32,
   "metadata": {},
   "outputs": [],
   "source": [
    "test['request_text_edit_aware_img'] = test.request_text_edit_aware.map(lambda x: 1 if len(re.findall(re_pattern_img, x)) <> 0 else 0 )\n",
    "test['request_text_edit_aware_reciprocity'] = test.request_text_edit_aware.map(lambda x: 1 if len(re.findall(re_pattern_reciprocity, x)) <> 0 else 0 )\n",
    "test['subreddit_groups'] = test.requester_subreddits_at_request.map(lambda x: 1 if len(re.findall(re_pattern_subreddit, str(x))) <> 0 else 0 )"
   ]
  },
  {
   "cell_type": "code",
   "execution_count": 33,
   "metadata": {},
   "outputs": [],
   "source": [
    "X_test = test[train_cols].values\n",
    "Output_test  = Extratrees.predict(X_test)"
   ]
  },
  {
   "cell_type": "code",
   "execution_count": 34,
   "metadata": {},
   "outputs": [],
   "source": [
    "ids  = pd.DataFrame(test['request_id'])\n",
    "predicted = pd.DataFrame(Output_test)"
   ]
  },
  {
   "cell_type": "code",
   "execution_count": 35,
   "metadata": {},
   "outputs": [],
   "source": [
    "Table2 = ids.join(predicted)\n",
    "Table2.columns = ['request_id','requester_received_pizza']"
   ]
  },
  {
   "cell_type": "code",
   "execution_count": 36,
   "metadata": {},
   "outputs": [
    {
     "data": {
      "text/html": [
       "<div style=\"max-height:1000px;max-width:1500px;overflow:auto;\">\n",
       "<table border=\"1\" class=\"dataframe\">\n",
       "  <thead>\n",
       "    <tr style=\"text-align: right;\">\n",
       "      <th></th>\n",
       "      <th>request_id</th>\n",
       "      <th>requester_received_pizza</th>\n",
       "    </tr>\n",
       "  </thead>\n",
       "  <tbody>\n",
       "    <tr>\n",
       "      <th>0</th>\n",
       "      <td>  t3_i8iy4</td>\n",
       "      <td> 0.408284</td>\n",
       "    </tr>\n",
       "    <tr>\n",
       "      <th>1</th>\n",
       "      <td> t3_1mfqi0</td>\n",
       "      <td> 0.163613</td>\n",
       "    </tr>\n",
       "    <tr>\n",
       "      <th>2</th>\n",
       "      <td>  t3_lclka</td>\n",
       "      <td> 0.084285</td>\n",
       "    </tr>\n",
       "    <tr>\n",
       "      <th>3</th>\n",
       "      <td> t3_1jdgdj</td>\n",
       "      <td> 0.021223</td>\n",
       "    </tr>\n",
       "    <tr>\n",
       "      <th>4</th>\n",
       "      <td>  t3_t2qt4</td>\n",
       "      <td> 0.098958</td>\n",
       "    </tr>\n",
       "  </tbody>\n",
       "</table>\n",
       "</div>"
      ],
      "text/plain": [
       "  request_id  requester_received_pizza\n",
       "0   t3_i8iy4                  0.408284\n",
       "1  t3_1mfqi0                  0.163613\n",
       "2   t3_lclka                  0.084285\n",
       "3  t3_1jdgdj                  0.021223\n",
       "4   t3_t2qt4                  0.098958"
      ]
     },
     "execution_count": 36,
     "metadata": {},
     "output_type": "execute_result"
    }
   ],
   "source": [
    "Table2.head()"
   ]
  },
  {
   "cell_type": "code",
   "execution_count": 37,
   "metadata": {},
   "outputs": [
    {
     "data": {
      "text/plain": [
       "0.24546345477429626"
      ]
     },
     "execution_count": 37,
     "metadata": {},
     "output_type": "execute_result"
    }
   ],
   "source": [
    "np.mean(Table2['requester_received_pizza'])"
   ]
  },
  {
   "cell_type": "code",
   "execution_count": 38,
   "metadata": {},
   "outputs": [
    {
     "data": {
      "text/plain": [
       "0.23537268516365273"
      ]
     },
     "execution_count": 38,
     "metadata": {},
     "output_type": "execute_result"
    }
   ],
   "source": [
    "np.std(Table2['requester_received_pizza'])"
   ]
  },
  {
   "cell_type": "code",
   "execution_count": 39,
   "metadata": {},
   "outputs": [
    {
     "name": "stdout",
     "output_type": "stream",
     "text": [
      "True 155\n",
      "False 1476\n"
     ]
    }
   ],
   "source": [
    "print 'True' , len(Table2.loc[Table2['requester_received_pizza'] >= 0.5])\n",
    "print 'False' , len(Table2.loc[Table2['requester_received_pizza'] < 0.5])"
   ]
  },
  {
   "cell_type": "code",
   "execution_count": 40,
   "metadata": {},
   "outputs": [],
   "source": [
    "#Export file\n",
    "Table2.to_csv('GradientBoostingRegressor10.csv',index=False)"
   ]
  },
  {
   "cell_type": "code",
   "execution_count": 1,
   "metadata": {},
   "outputs": [],
   "source": [
    "p1=60600/207369.0\n",
    "n1=207369\n",
    "p2=81567/221030.0\n",
    "n2=221030"
   ]
  },
  {
   "cell_type": "code",
   "execution_count": 2,
   "metadata": {},
   "outputs": [],
   "source": [
    "p = (p1 * n1 + p2 * n2) / (n1 + n2)"
   ]
  },
  {
   "cell_type": "code",
   "execution_count": 3,
   "metadata": {},
   "outputs": [
    {
     "data": {
      "text/plain": [
       "0.3318565169386483"
      ]
     },
     "execution_count": 3,
     "metadata": {},
     "output_type": "execute_result"
    }
   ],
   "source": [
    "p"
   ]
  },
  {
   "cell_type": "code",
   "execution_count": 4,
   "metadata": {},
   "outputs": [],
   "source": [
    "import numpy as np"
   ]
  },
  {
   "cell_type": "code",
   "execution_count": 5,
   "metadata": {},
   "outputs": [
    {
     "data": {
      "text/plain": [
       "0.22172776910399697"
      ]
     },
     "execution_count": 5,
     "metadata": {},
     "output_type": "execute_result"
    }
   ],
   "source": [
    "p*(1-p)"
   ]
  },
  {
   "cell_type": "code",
   "execution_count": 6,
   "metadata": {},
   "outputs": [
    {
     "data": {
      "text/plain": [
       "9.346594285206152e-06"
      ]
     },
     "execution_count": 6,
     "metadata": {},
     "output_type": "execute_result"
    }
   ],
   "source": [
    "(1/float(n1)) + (1/float(n2))"
   ]
  },
  {
   "cell_type": "code",
   "execution_count": 7,
   "metadata": {},
   "outputs": [],
   "source": [
    "SE = np.sqrt((p*(1-p)) * ((1/float(n1)) + (1/float(n2))))"
   ]
  },
  {
   "cell_type": "code",
   "execution_count": 8,
   "metadata": {},
   "outputs": [
    {
     "data": {
      "text/plain": [
       "0.0014395830992266225"
      ]
     },
     "execution_count": 8,
     "metadata": {},
     "output_type": "execute_result"
    }
   ],
   "source": [
    "SE"
   ]
  },
  {
   "cell_type": "code",
   "execution_count": 9,
   "metadata": {},
   "outputs": [],
   "source": [
    "z = (p1 - p2) / SE "
   ]
  },
  {
   "cell_type": "code",
   "execution_count": 10,
   "metadata": {},
   "outputs": [
    {
     "data": {
      "text/plain": [
       "-53.347852299195289"
      ]
     },
     "execution_count": 10,
     "metadata": {},
     "output_type": "execute_result"
    }
   ],
   "source": [
    "z"
   ]
  },
  {
   "cell_type": "code",
   "execution_count": null,
   "metadata": {},
   "outputs": [],
   "source": [
    "0.0014401275195201396"
   ]
  }
 ],
 "metadata": {
  "kernelspec": {
   "display_name": "Python 3",
   "language": "python",
   "name": "python3"
  },
  "language_info": {
   "codemirror_mode": {
    "name": "ipython",
    "version": 3
   },
   "file_extension": ".py",
   "mimetype": "text/x-python",
   "name": "python",
   "nbconvert_exporter": "python",
   "pygments_lexer": "ipython3",
   "version": "3.7.3"
  }
 },
 "nbformat": 4,
 "nbformat_minor": 1
}
