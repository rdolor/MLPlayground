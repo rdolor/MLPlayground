{
 "cells": [
  {
   "cell_type": "markdown",
   "metadata": {},
   "source": [
    "# Random Acts of Pizza"
   ]
  },
  {
   "cell_type": "raw",
   "metadata": {},
   "source": [
    "This competition contains a dataset with 5671 textual requests for pizza from the Reddit community Random Acts of Pizza together with their outcome (successful/unsuccessful) and meta-data. Participants must create an algorithm capable of predicting which requests will garner a cheesy (but sincere!) act of kindness."
   ]
  },
  {
   "cell_type": "markdown",
   "metadata": {},
   "source": [
    "### ===================================================================================================="
   ]
  },
  {
   "cell_type": "code",
   "execution_count": 1,
   "metadata": {},
   "outputs": [
    {
     "name": "stdout",
     "output_type": "stream",
     "text": [
      "/Users/user/Downloads\n"
     ]
    }
   ],
   "source": [
    "%cd \\Users\\user\\Downloads\\"
   ]
  },
  {
   "cell_type": "code",
   "execution_count": 2,
   "metadata": {},
   "outputs": [],
   "source": [
    "import pandas as pd\n",
    "from sklearn import linear_model,tree, ensemble,decomposition,datasets,preprocessing, grid_search\n",
    "import numpy as np\n",
    "import pylab as pl\n",
    "from sklearn.metrics import roc_curve, auc\n",
    "from random import sample\n",
    "import datetime\n",
    "import re\n",
    "%matplotlib inline"
   ]
  },
  {
   "cell_type": "code",
   "execution_count": 3,
   "metadata": {},
   "outputs": [
    {
     "name": "stdout",
     "output_type": "stream",
     "text": [
      "Number of observations =  4040\n"
     ]
    }
   ],
   "source": [
    "data = pd.read_json(\"train.json\")\n",
    "num_obs = len(data)\n",
    "print 'Number of observations = ',num_obs"
   ]
  },
  {
   "cell_type": "code",
   "execution_count": 4,
   "metadata": {},
   "outputs": [
    {
     "name": "stdout",
     "output_type": "stream",
     "text": [
      "Received : True  =  994\n",
      "Received : False =  3046\n",
      "Percentage of True =  24.6 %\n"
     ]
    }
   ],
   "source": [
    "print 'Received : True  = ' , len(data[data['requester_received_pizza'] == True])\n",
    "print 'Received : False = ' , len(data[data['requester_received_pizza'] == False])\n",
    "print 'Percentage of True = ',np.round((len(data[data['requester_received_pizza'] == True])/float(num_obs))*100,2),'%'"
   ]
  },
  {
   "cell_type": "markdown",
   "metadata": {},
   "source": [
    "## Create Train, Cross validation and Test sets"
   ]
  },
  {
   "cell_type": "code",
   "execution_count": 5,
   "metadata": {},
   "outputs": [
    {
     "name": "stdout",
     "output_type": "stream",
     "text": [
      "Train            =  2020\n",
      "Cross validation =  1010\n",
      "Test             =  1010\n"
     ]
    }
   ],
   "source": [
    "#50-25-25 separation\n",
    "\n",
    "num_train = int((num_obs) * 0.5)\n",
    "num_crossval = int((num_obs) * 0.25)\n",
    "num_test = num_obs - num_train - num_crossval\n",
    "print 'Train            = ',num_train\n",
    "print 'Cross validation = ',num_crossval\n",
    "print 'Test             = ',num_test"
   ]
  },
  {
   "cell_type": "markdown",
   "metadata": {},
   "source": [
    "### Random Sampling"
   ]
  },
  {
   "cell_type": "markdown",
   "metadata": {},
   "source": [
    "#### Hold out sample for test set (this will be like the Leaderboard)"
   ]
  },
  {
   "cell_type": "code",
   "execution_count": 6,
   "metadata": {},
   "outputs": [],
   "source": [
    "#create random index for the test set\n",
    "rindex1 = np.array(sample(xrange(len(data)),num_test))\n",
    "\n",
    "#This is the training set\n",
    "test_df = data.ix[rindex1]"
   ]
  },
  {
   "cell_type": "markdown",
   "metadata": {},
   "source": [
    "#### Training set and Cross validation set"
   ]
  },
  {
   "cell_type": "code",
   "execution_count": 7,
   "metadata": {},
   "outputs": [],
   "source": [
    "#Left: ALL - num_test\n",
    "data_minus_train = data.drop(rindex1).reset_index()\n",
    "\n",
    "#create random index for the cross validation set\n",
    "rindex2 = np.array(sample(xrange(len(data_minus_train)),num_train))\n",
    "\n",
    "#This is the cross validation set\n",
    "train_df = data_minus_train.ix[rindex2]\n",
    "\n",
    "#This is the test set\n",
    "train_df_cv = data_minus_train.drop(rindex2)\n",
    "\n",
    "train_df=train_df.drop('index',axis=1)\n",
    "train_df_cv=train_df_cv.drop('index',axis=1)"
   ]
  },
  {
   "cell_type": "markdown",
   "metadata": {},
   "source": [
    "#### Compare the data in train,cross validation and test sets"
   ]
  },
  {
   "cell_type": "code",
   "execution_count": 8,
   "metadata": {},
   "outputs": [
    {
     "name": "stdout",
     "output_type": "stream",
     "text": [
      "Received : True  =  495\n",
      "Received : False =  1525\n",
      "Percentage of True =  24.5 %\n"
     ]
    }
   ],
   "source": [
    "print 'Received : True  = ' , len(train_df[train_df['requester_received_pizza'] == True])\n",
    "print 'Received : False = ' , len(train_df[train_df['requester_received_pizza'] == False])\n",
    "print 'Percentage of True = ',np.round((len(train_df[train_df['requester_received_pizza'] == True])/float(len(train_df)))*100,2),'%'"
   ]
  },
  {
   "cell_type": "code",
   "execution_count": 9,
   "metadata": {},
   "outputs": [
    {
     "name": "stdout",
     "output_type": "stream",
     "text": [
      "Received : True  =  259\n",
      "Received : False =  751\n",
      "Percentage of True =  25.64 %\n"
     ]
    }
   ],
   "source": [
    "print 'Received : True  = ' , len(train_df_cv[train_df_cv['requester_received_pizza'] == True])\n",
    "print 'Received : False = ' , len(train_df_cv[train_df_cv['requester_received_pizza'] == False])\n",
    "print 'Percentage of True = ',np.round((len(train_df_cv[train_df_cv['requester_received_pizza'] == True])/float(len(train_df_cv)))*100,2),'%'"
   ]
  },
  {
   "cell_type": "code",
   "execution_count": 10,
   "metadata": {},
   "outputs": [
    {
     "name": "stdout",
     "output_type": "stream",
     "text": [
      "Received : True  =  240\n",
      "Received : False =  770\n",
      "Percentage of True =  23.76 %\n"
     ]
    }
   ],
   "source": [
    "print 'Received : True  = ' , len(test_df[test_df['requester_received_pizza'] == True])\n",
    "print 'Received : False = ' , len(test_df[test_df['requester_received_pizza'] == False])\n",
    "print 'Percentage of True = ',np.round((len(test_df[test_df['requester_received_pizza'] == True])/float(len(test_df)))*100,2),'%'"
   ]
  },
  {
   "cell_type": "code",
   "execution_count": 11,
   "metadata": {},
   "outputs": [
    {
     "name": "stdout",
     "output_type": "stream",
     "text": [
      "2020 1010 1010\n",
      "Intersection of the sets should be empty =  set([])\n"
     ]
    }
   ],
   "source": [
    "train_df_set = set(train_df['request_id'].tolist())\n",
    "train_df_cv_set = set(train_df_cv['request_id'].tolist())\n",
    "test_df_set = set(test_df['request_id'].tolist())\n",
    "print len(train_df_set),len(train_df_cv_set),len(test_df_set)\n",
    "print 'Intersection of the sets should be empty = ',train_df_set & train_df_cv_set & test_df_set"
   ]
  },
  {
   "cell_type": "markdown",
   "metadata": {},
   "source": [
    "## Training Dataset"
   ]
  },
  {
   "cell_type": "code",
   "execution_count": 12,
   "metadata": {},
   "outputs": [
    {
     "data": {
      "text/html": [
       "<div style=\"max-height:1000px;max-width:1500px;overflow:auto;\">\n",
       "<table border=\"1\" class=\"dataframe\">\n",
       "  <thead>\n",
       "    <tr style=\"text-align: right;\">\n",
       "      <th></th>\n",
       "      <th>giver_username_if_known</th>\n",
       "      <th>number_of_downvotes_of_request_at_retrieval</th>\n",
       "      <th>number_of_upvotes_of_request_at_retrieval</th>\n",
       "      <th>post_was_edited</th>\n",
       "      <th>request_id</th>\n",
       "      <th>request_number_of_comments_at_retrieval</th>\n",
       "      <th>request_text</th>\n",
       "      <th>request_text_edit_aware</th>\n",
       "      <th>request_title</th>\n",
       "      <th>requester_account_age_in_days_at_request</th>\n",
       "      <th>...</th>\n",
       "      <th>requester_received_pizza</th>\n",
       "      <th>requester_subreddits_at_request</th>\n",
       "      <th>requester_upvotes_minus_downvotes_at_request</th>\n",
       "      <th>requester_upvotes_minus_downvotes_at_retrieval</th>\n",
       "      <th>requester_upvotes_plus_downvotes_at_request</th>\n",
       "      <th>requester_upvotes_plus_downvotes_at_retrieval</th>\n",
       "      <th>requester_user_flair</th>\n",
       "      <th>requester_username</th>\n",
       "      <th>unix_timestamp_of_request</th>\n",
       "      <th>unix_timestamp_of_request_utc</th>\n",
       "    </tr>\n",
       "  </thead>\n",
       "  <tbody>\n",
       "    <tr>\n",
       "      <th>2486</th>\n",
       "      <td> N/A</td>\n",
       "      <td> 5</td>\n",
       "      <td> 6</td>\n",
       "      <td> 0</td>\n",
       "      <td> t3_1l8aoa</td>\n",
       "      <td> 0</td>\n",
       "      <td> I have just started a great job after being ou...</td>\n",
       "      <td> I have just started a great job after being ou...</td>\n",
       "      <td> [Request] Just started a new job. Out of work ...</td>\n",
       "      <td> 260.701019</td>\n",
       "      <td>...</td>\n",
       "      <td> False</td>\n",
       "      <td> [AskReddit, funny, videos]</td>\n",
       "      <td> 1</td>\n",
       "      <td> 2</td>\n",
       "      <td> 15</td>\n",
       "      <td> 26</td>\n",
       "      <td> None</td>\n",
       "      <td> truegreenarmy</td>\n",
       "      <td> 1377657261</td>\n",
       "      <td> 1377653661</td>\n",
       "    </tr>\n",
       "    <tr>\n",
       "      <th>363 </th>\n",
       "      <td> N/A</td>\n",
       "      <td> 1</td>\n",
       "      <td> 4</td>\n",
       "      <td> 0</td>\n",
       "      <td>  t3_p8i8g</td>\n",
       "      <td> 1</td>\n",
       "      <td> I would love to chill out with a pizza tonight...</td>\n",
       "      <td> I would love to chill out with a pizza tonight...</td>\n",
       "      <td>                              [Request] Texas, USA</td>\n",
       "      <td>   0.000000</td>\n",
       "      <td>...</td>\n",
       "      <td> False</td>\n",
       "      <td>     [Random_Acts_Of_Pizza]</td>\n",
       "      <td> 3</td>\n",
       "      <td> 6</td>\n",
       "      <td>  5</td>\n",
       "      <td> 14</td>\n",
       "      <td> None</td>\n",
       "      <td>  Cowboylikeme</td>\n",
       "      <td> 1328228555</td>\n",
       "      <td> 1328228555</td>\n",
       "    </tr>\n",
       "  </tbody>\n",
       "</table>\n",
       "<p>2 rows × 32 columns</p>\n",
       "</div>"
      ],
      "text/plain": [
       "     giver_username_if_known  number_of_downvotes_of_request_at_retrieval  \\\n",
       "2486                     N/A                                            5   \n",
       "363                      N/A                                            1   \n",
       "\n",
       "      number_of_upvotes_of_request_at_retrieval  post_was_edited request_id  \\\n",
       "2486                                          6                0  t3_1l8aoa   \n",
       "363                                           4                0   t3_p8i8g   \n",
       "\n",
       "      request_number_of_comments_at_retrieval  \\\n",
       "2486                                        0   \n",
       "363                                         1   \n",
       "\n",
       "                                           request_text  \\\n",
       "2486  I have just started a great job after being ou...   \n",
       "363   I would love to chill out with a pizza tonight...   \n",
       "\n",
       "                                request_text_edit_aware  \\\n",
       "2486  I have just started a great job after being ou...   \n",
       "363   I would love to chill out with a pizza tonight...   \n",
       "\n",
       "                                          request_title  \\\n",
       "2486  [Request] Just started a new job. Out of work ...   \n",
       "363                                [Request] Texas, USA   \n",
       "\n",
       "      requester_account_age_in_days_at_request              ...                \\\n",
       "2486                                260.701019              ...                 \n",
       "363                                   0.000000              ...                 \n",
       "\n",
       "      requester_received_pizza  requester_subreddits_at_request  \\\n",
       "2486                     False       [AskReddit, funny, videos]   \n",
       "363                      False           [Random_Acts_Of_Pizza]   \n",
       "\n",
       "      requester_upvotes_minus_downvotes_at_request  \\\n",
       "2486                                             1   \n",
       "363                                              3   \n",
       "\n",
       "      requester_upvotes_minus_downvotes_at_retrieval  \\\n",
       "2486                                               2   \n",
       "363                                                6   \n",
       "\n",
       "      requester_upvotes_plus_downvotes_at_request  \\\n",
       "2486                                           15   \n",
       "363                                             5   \n",
       "\n",
       "      requester_upvotes_plus_downvotes_at_retrieval  requester_user_flair  \\\n",
       "2486                                             26                  None   \n",
       "363                                              14                  None   \n",
       "\n",
       "      requester_username  unix_timestamp_of_request  \\\n",
       "2486       truegreenarmy                 1377657261   \n",
       "363         Cowboylikeme                 1328228555   \n",
       "\n",
       "      unix_timestamp_of_request_utc  \n",
       "2486                     1377653661  \n",
       "363                      1328228555  \n",
       "\n",
       "[2 rows x 32 columns]"
      ]
     },
     "execution_count": 12,
     "metadata": {},
     "output_type": "execute_result"
    }
   ],
   "source": [
    "train_df.head(2)"
   ]
  },
  {
   "cell_type": "code",
   "execution_count": 13,
   "metadata": {},
   "outputs": [
    {
     "data": {
      "text/plain": [
       "[u'giver_username_if_known',\n",
       " u'number_of_downvotes_of_request_at_retrieval',\n",
       " u'number_of_upvotes_of_request_at_retrieval',\n",
       " u'post_was_edited',\n",
       " u'request_id',\n",
       " u'request_number_of_comments_at_retrieval',\n",
       " u'request_text',\n",
       " u'request_text_edit_aware',\n",
       " u'request_title',\n",
       " u'requester_account_age_in_days_at_request',\n",
       " u'requester_account_age_in_days_at_retrieval',\n",
       " u'requester_days_since_first_post_on_raop_at_request',\n",
       " u'requester_days_since_first_post_on_raop_at_retrieval',\n",
       " u'requester_number_of_comments_at_request',\n",
       " u'requester_number_of_comments_at_retrieval',\n",
       " u'requester_number_of_comments_in_raop_at_request',\n",
       " u'requester_number_of_comments_in_raop_at_retrieval',\n",
       " u'requester_number_of_posts_at_request',\n",
       " u'requester_number_of_posts_at_retrieval',\n",
       " u'requester_number_of_posts_on_raop_at_request',\n",
       " u'requester_number_of_posts_on_raop_at_retrieval',\n",
       " u'requester_number_of_subreddits_at_request',\n",
       " u'requester_received_pizza',\n",
       " u'requester_subreddits_at_request',\n",
       " u'requester_upvotes_minus_downvotes_at_request',\n",
       " u'requester_upvotes_minus_downvotes_at_retrieval',\n",
       " u'requester_upvotes_plus_downvotes_at_request',\n",
       " u'requester_upvotes_plus_downvotes_at_retrieval',\n",
       " u'requester_user_flair',\n",
       " u'requester_username',\n",
       " u'unix_timestamp_of_request',\n",
       " u'unix_timestamp_of_request_utc']"
      ]
     },
     "execution_count": 13,
     "metadata": {},
     "output_type": "execute_result"
    }
   ],
   "source": [
    "list(train_df.columns)"
   ]
  },
  {
   "cell_type": "code",
   "execution_count": 14,
   "metadata": {},
   "outputs": [
    {
     "name": "stdout",
     "output_type": "stream",
     "text": [
      "Number of variables in training dataset 32\n"
     ]
    }
   ],
   "source": [
    "print 'Number of variables in training dataset',len(train_df.columns)"
   ]
  },
  {
   "cell_type": "code",
   "execution_count": 15,
   "metadata": {},
   "outputs": [],
   "source": [
    "#Create new features\n",
    "train_df['received'] = train_df.requester_received_pizza.map(lambda x: 0 if x == False else 1)\n",
    "train_df['giver_username_if_known_011'] = train_df.giver_username_if_known.map(lambda x: 0 if x == \"N/A\" else 1)\n",
    "train_df['request_text_edit_aware_len'] = train_df.request_text_edit_aware.map(lambda x: len(x))\n",
    "train_df['request_title_len'] = train_df.request_title.map(lambda x: len(x))"
   ]
  },
  {
   "cell_type": "code",
   "execution_count": 16,
   "metadata": {},
   "outputs": [],
   "source": [
    "train_df['unix_timestamp_of_request_utc_year'] = train_df.unix_timestamp_of_request.map(lambda x: datetime.datetime.fromtimestamp(x).year)\n",
    "train_df['unix_timestamp_of_request_utc_month'] = train_df.unix_timestamp_of_request.map(lambda x: datetime.datetime.fromtimestamp(x).month)\n",
    "train_df['unix_timestamp_of_request_utc_day'] = train_df.unix_timestamp_of_request.map(lambda x: datetime.datetime.fromtimestamp(x).day)\n",
    "train_df['unix_timestamp_of_request_utc_hour'] = train_df.unix_timestamp_of_request.map(lambda x: datetime.datetime.fromtimestamp(x).hour)\n",
    "train_df['unix_timestamp_of_request_utc_wkday'] = train_df.unix_timestamp_of_request.map(lambda x: datetime.datetime.fromtimestamp(x).weekday())"
   ]
  },
  {
   "cell_type": "code",
   "execution_count": 17,
   "metadata": {},
   "outputs": [],
   "source": [
    "re_pattern_img = r'\\b(?:img|jpg|gif|png)\\b'\n",
    "re_pattern_reciprocity = r'\\b(?:pay it forward|pay it back|return the favor)\\b'"
   ]
  },
  {
   "cell_type": "code",
   "execution_count": 18,
   "metadata": {},
   "outputs": [],
   "source": [
    "train_df['request_text_edit_aware_img'] = train_df.request_text_edit_aware.map(lambda x: 1 if len(re.findall(re_pattern_img, x)) <> 0 else 0 )\n",
    "train_df['request_text_edit_aware_reciprocity'] = train_df.request_text_edit_aware.map(lambda x: 1 if len(re.findall(re_pattern_reciprocity, x)) <> 0 else 0 )"
   ]
  },
  {
   "cell_type": "code",
   "execution_count": 19,
   "metadata": {},
   "outputs": [
    {
     "name": "stdout",
     "output_type": "stream",
     "text": [
      "Received : True  =  495\n",
      "Received : False =  1525\n"
     ]
    }
   ],
   "source": [
    "print 'Received : True  = ' , len(train_df.loc[train_df['received'] == 1])\n",
    "print 'Received : False = ' , len(train_df.loc[train_df['received'] == 0])"
   ]
  },
  {
   "cell_type": "code",
   "execution_count": 20,
   "metadata": {},
   "outputs": [],
   "source": [
    "#List columns that will be included in the model\n",
    "variables = [\n",
    " 'requester_account_age_in_days_at_request',\n",
    " 'requester_days_since_first_post_on_raop_at_request',\n",
    " 'requester_number_of_comments_at_request',\n",
    " 'requester_number_of_comments_in_raop_at_request',\n",
    " 'requester_number_of_posts_at_request',\n",
    " 'requester_number_of_posts_on_raop_at_request',\n",
    " 'requester_number_of_subreddits_at_request',\n",
    " 'requester_upvotes_minus_downvotes_at_request',\n",
    " 'requester_upvotes_plus_downvotes_at_request',\n",
    " 'giver_username_if_known_011',\n",
    " 'request_text_edit_aware_len',\n",
    " 'request_title_len',\n",
    " 'unix_timestamp_of_request_utc_year',\n",
    " 'unix_timestamp_of_request_utc_month',\n",
    " 'unix_timestamp_of_request_utc_day',\n",
    " 'unix_timestamp_of_request_utc_hour',\n",
    " 'unix_timestamp_of_request_utc_year',\n",
    " 'unix_timestamp_of_request_utc_wkday',\n",
    " 'request_text_edit_aware_img',\n",
    " 'request_text_edit_aware_reciprocity'\n",
    " ]"
   ]
  },
  {
   "cell_type": "markdown",
   "metadata": {},
   "source": [
    "#### Fit Model"
   ]
  },
  {
   "cell_type": "code",
   "execution_count": 21,
   "metadata": {},
   "outputs": [],
   "source": [
    "X_train = train_df[variables].values\n",
    "Y_train = train_df['received'].values"
   ]
  },
  {
   "cell_type": "code",
   "execution_count": 22,
   "metadata": {},
   "outputs": [
    {
     "data": {
      "text/plain": [
       "ExtraTreesRegressor(bootstrap=False, compute_importances=None,\n",
       "          criterion='mse', max_depth=None, max_features='auto',\n",
       "          max_leaf_nodes=None, min_density=None, min_samples_leaf=1,\n",
       "          min_samples_split=2, n_estimators=50, n_jobs=1, oob_score=False,\n",
       "          random_state=None, verbose=0)"
      ]
     },
     "execution_count": 22,
     "metadata": {},
     "output_type": "execute_result"
    }
   ],
   "source": [
    "Extratrees = ensemble.ExtraTreesRegressor(n_estimators = 50)\n",
    "Extratrees.fit(X_train,Y_train)"
   ]
  },
  {
   "cell_type": "markdown",
   "metadata": {},
   "source": [
    "## CROSS VALIDATION DATASET"
   ]
  },
  {
   "cell_type": "code",
   "execution_count": 23,
   "metadata": {},
   "outputs": [],
   "source": [
    "#Create new features\n",
    "train_df_cv['received'] = train_df_cv.requester_received_pizza.map(lambda x: 0 if x == False else 1)\n",
    "train_df_cv['giver_username_if_known_011'] = train_df_cv.giver_username_if_known.map(lambda x: 0 if x == \"N/A\" else 1)\n",
    "train_df_cv['request_text_edit_aware_len'] = train_df_cv.request_text_edit_aware.map(lambda x: len(x))\n",
    "train_df_cv['request_title_len'] = train_df_cv.request_title.map(lambda x: len(x))"
   ]
  },
  {
   "cell_type": "code",
   "execution_count": 24,
   "metadata": {},
   "outputs": [],
   "source": [
    "train_df_cv['unix_timestamp_of_request_utc_year'] = train_df_cv.unix_timestamp_of_request.map(lambda x: datetime.datetime.fromtimestamp(x).year)\n",
    "train_df_cv['unix_timestamp_of_request_utc_month'] = train_df_cv.unix_timestamp_of_request.map(lambda x: datetime.datetime.fromtimestamp(x).month)\n",
    "train_df_cv['unix_timestamp_of_request_utc_day'] = train_df_cv.unix_timestamp_of_request.map(lambda x: datetime.datetime.fromtimestamp(x).day)\n",
    "train_df_cv['unix_timestamp_of_request_utc_hour'] = train_df_cv.unix_timestamp_of_request.map(lambda x: datetime.datetime.fromtimestamp(x).hour)\n",
    "train_df_cv['unix_timestamp_of_request_utc_wkday'] = train_df_cv.unix_timestamp_of_request.map(lambda x: datetime.datetime.fromtimestamp(x).weekday())"
   ]
  },
  {
   "cell_type": "code",
   "execution_count": 25,
   "metadata": {},
   "outputs": [],
   "source": [
    "train_df_cv['request_text_edit_aware_img'] = train_df_cv.request_text_edit_aware.map(lambda x: 1 if len(re.findall(re_pattern_img, x)) <> 0 else 0 )\n",
    "train_df_cv['request_text_edit_aware_reciprocity'] = train_df_cv.request_text_edit_aware.map(lambda x: 1 if len(re.findall(re_pattern_reciprocity, x)) <> 0 else 0 )"
   ]
  },
  {
   "cell_type": "code",
   "execution_count": 26,
   "metadata": {},
   "outputs": [],
   "source": [
    "X_cv = train_df_cv[variables].values"
   ]
  },
  {
   "cell_type": "markdown",
   "metadata": {},
   "source": [
    "#### Predict Cross Validation"
   ]
  },
  {
   "cell_type": "code",
   "execution_count": 27,
   "metadata": {},
   "outputs": [],
   "source": [
    "Output_cv  = Extratrees.predict(X_cv)"
   ]
  },
  {
   "cell_type": "code",
   "execution_count": 28,
   "metadata": {},
   "outputs": [],
   "source": [
    "Table1 = pd.DataFrame(Output_cv,columns=[\"Predicted\"])\n",
    "Table1[\"Actual\"] = train_df_cv['received'].values"
   ]
  },
  {
   "cell_type": "code",
   "execution_count": 29,
   "metadata": {},
   "outputs": [
    {
     "data": {
      "text/html": [
       "<div style=\"max-height:1000px;max-width:1500px;overflow:auto;\">\n",
       "<table border=\"1\" class=\"dataframe\">\n",
       "  <thead>\n",
       "    <tr style=\"text-align: right;\">\n",
       "      <th></th>\n",
       "      <th>Predicted</th>\n",
       "      <th>Actual</th>\n",
       "    </tr>\n",
       "  </thead>\n",
       "  <tbody>\n",
       "    <tr>\n",
       "      <th>0</th>\n",
       "      <td> 0.24</td>\n",
       "      <td> 0</td>\n",
       "    </tr>\n",
       "    <tr>\n",
       "      <th>1</th>\n",
       "      <td> 0.24</td>\n",
       "      <td> 0</td>\n",
       "    </tr>\n",
       "    <tr>\n",
       "      <th>2</th>\n",
       "      <td> 0.08</td>\n",
       "      <td> 0</td>\n",
       "    </tr>\n",
       "    <tr>\n",
       "      <th>3</th>\n",
       "      <td> 0.02</td>\n",
       "      <td> 0</td>\n",
       "    </tr>\n",
       "    <tr>\n",
       "      <th>4</th>\n",
       "      <td> 0.34</td>\n",
       "      <td> 0</td>\n",
       "    </tr>\n",
       "  </tbody>\n",
       "</table>\n",
       "</div>"
      ],
      "text/plain": [
       "   Predicted  Actual\n",
       "0       0.24       0\n",
       "1       0.24       0\n",
       "2       0.08       0\n",
       "3       0.02       0\n",
       "4       0.34       0"
      ]
     },
     "execution_count": 29,
     "metadata": {},
     "output_type": "execute_result"
    }
   ],
   "source": [
    "Table1.head()"
   ]
  },
  {
   "cell_type": "code",
   "execution_count": 30,
   "metadata": {},
   "outputs": [
    {
     "name": "stdout",
     "output_type": "stream",
     "text": [
      "Actual 0.256435643564\n",
      "Predicted 0.263386138614\n"
     ]
    }
   ],
   "source": [
    "print 'Actual',np.mean(Table1['Actual'])\n",
    "print 'Predicted',np.mean(Table1['Predicted'])"
   ]
  },
  {
   "cell_type": "code",
   "execution_count": 31,
   "metadata": {},
   "outputs": [
    {
     "name": "stdout",
     "output_type": "stream",
     "text": [
      "Actual Received True     =  259\n",
      "Actual Received False    =  751\n",
      "Predicted Received True  =  71\n",
      "Predicted Received False =  859\n",
      "\n",
      "True Positive  =  107\n",
      "False Positive =  44\n",
      "True Negative  =  707\n",
      "False Negative =  152\n",
      "\n",
      "True Positive Rate   =  41.31 %\n",
      "False Positive Rate  =  5.86 %\n",
      "True Negative Rate   =  94.14 %\n",
      "False Negative Rate  =  58.69 %\n"
     ]
    }
   ],
   "source": [
    "print 'Actual Received True     = ' , len(Table1.loc[Table1['Actual'] == 1])\n",
    "print 'Actual Received False    = ' , len(Table1.loc[Table1['Actual'] == 0])\n",
    "print 'Predicted Received True  = ' , len(Table1.loc[Table1['Predicted'] == 1 ])\n",
    "print 'Predicted Received False = ' , len(Table1.loc[Table1['Predicted'] < 0.5])\n",
    "print ''\n",
    "print 'True Positive  = ', len(Table1[(Table1['Predicted'] >= 0.5) & (Table1['Actual'] == 1)])\n",
    "print 'False Positive = ', len(Table1[(Table1['Predicted'] >= 0.5) & (Table1['Actual'] == 0)])\n",
    "print 'True Negative  = ', len(Table1[(Table1['Predicted'] < 0.5) & (Table1['Actual'] == 0)])\n",
    "print 'False Negative = ', len(Table1[(Table1['Predicted'] < 0.5) & (Table1['Actual'] == 1)])\n",
    "print ''\n",
    "print 'True Positive Rate   = ', np.round((len(Table1[(Table1['Predicted'] >= 0.5) & (Table1['Actual'] == 1)])/float((len(Table1[(Table1['Predicted'] >= 0.5) & (Table1['Actual'] == 1)]) + len(Table1[(Table1['Predicted'] < 0.5) & (Table1['Actual'] == 1)]))) * 100),2),'%'\n",
    "print 'False Positive Rate  = ', np.round((len(Table1[(Table1['Predicted'] >= 0.5) & (Table1['Actual'] == 0)])/float((len(Table1[(Table1['Predicted'] >= 0.5) & (Table1['Actual'] == 0)]) + len(Table1[(Table1['Predicted'] < 0.5) & (Table1['Actual'] == 0)]))) * 100),2),'%'\n",
    "print 'True Negative Rate   = ', np.round((1-(len(Table1[(Table1['Predicted'] >= 0.5) & (Table1['Actual'] == 0)])/float((len(Table1[(Table1['Predicted'] >= 0.5) & (Table1['Actual'] == 0)]) + len(Table1[(Table1['Predicted'] < 0.5) & (Table1['Actual'] == 0)]))))) * 100,2),'%'\n",
    "print 'False Negative Rate  = ', np.round((1-(len(Table1[(Table1['Predicted'] >= 0.5) & (Table1['Actual'] == 1)])/float((len(Table1[(Table1['Predicted'] >= 0.5) & (Table1['Actual'] == 1)]) + len(Table1[(Table1['Predicted'] < 0.5) & (Table1['Actual'] == 1)]))))) * 100,2),'%'"
   ]
  },
  {
   "cell_type": "code",
   "execution_count": 32,
   "metadata": {},
   "outputs": [
    {
     "name": "stdout",
     "output_type": "stream",
     "text": [
      "Area under the ROC curve : 0.753343\n"
     ]
    },
    {
     "data": {
      "image/png": "[encoded data removed]",
      "text/plain": [
       "<matplotlib.figure.Figure at 0x10a7dd350>"
      ]
     },
     "metadata": {},
     "output_type": "display_data"
    }
   ],
   "source": [
    "# Compute ROC curve and area the curve\n",
    "fpr, tpr, thresholds = roc_curve(Table1['Actual'],Table1['Predicted'])\n",
    "roc_auc = auc(fpr, tpr)\n",
    "print \"Area under the ROC curve : %f\" % roc_auc\n",
    "\n",
    "# Plot ROC curve\n",
    "pl.clf()\n",
    "pl.plot(fpr, tpr, label='ROC curve (area = %0.2f)' % roc_auc)\n",
    "pl.plot([0, 1], [0, 1], 'k--')\n",
    "pl.xlim([0.0, 1.0])\n",
    "pl.ylim([0.0, 1.0])\n",
    "pl.xlabel('False Positive Rate')\n",
    "pl.ylabel('True Positive Rate')\n",
    "pl.title('Receiver operating characteristic example')\n",
    "pl.legend(loc=\"lower right\")\n",
    "pl.show()"
   ]
  },
  {
   "cell_type": "markdown",
   "metadata": {},
   "source": [
    "## Test Dataset"
   ]
  },
  {
   "cell_type": "code",
   "execution_count": 33,
   "metadata": {},
   "outputs": [],
   "source": [
    "#Create new features\n",
    "test_df['received'] = test_df.requester_received_pizza.map(lambda x: 0 if x == False else 1)\n",
    "test_df['giver_username_if_known_011'] = test_df.giver_username_if_known.map(lambda x: 0 if x == \"N/A\" else 1)\n",
    "test_df['request_text_edit_aware_len'] = test_df.request_text_edit_aware.map(lambda x: len(x))\n",
    "test_df['request_title_len'] = test_df.request_title.map(lambda x: len(x))"
   ]
  },
  {
   "cell_type": "code",
   "execution_count": 34,
   "metadata": {},
   "outputs": [],
   "source": [
    "test_df['unix_timestamp_of_request_utc_year'] = test_df.unix_timestamp_of_request.map(lambda x: datetime.datetime.fromtimestamp(x).year)\n",
    "test_df['unix_timestamp_of_request_utc_month'] = test_df.unix_timestamp_of_request.map(lambda x: datetime.datetime.fromtimestamp(x).month)\n",
    "test_df['unix_timestamp_of_request_utc_day'] = test_df.unix_timestamp_of_request.map(lambda x: datetime.datetime.fromtimestamp(x).day)\n",
    "test_df['unix_timestamp_of_request_utc_hour'] = test_df.unix_timestamp_of_request.map(lambda x: datetime.datetime.fromtimestamp(x).hour)\n",
    "test_df['unix_timestamp_of_request_utc_wkday'] = test_df.unix_timestamp_of_request.map(lambda x: datetime.datetime.fromtimestamp(x).weekday())"
   ]
  },
  {
   "cell_type": "code",
   "execution_count": 35,
   "metadata": {},
   "outputs": [],
   "source": [
    "test_df['request_text_edit_aware_img'] = test_df.request_text_edit_aware.map(lambda x: 1 if len(re.findall(re_pattern_img, x)) <> 0 else 0 )\n",
    "test_df['request_text_edit_aware_reciprocity'] = test_df.request_text_edit_aware.map(lambda x: 1 if len(re.findall(re_pattern_reciprocity, x)) <> 0 else 0 )"
   ]
  },
  {
   "cell_type": "code",
   "execution_count": 36,
   "metadata": {},
   "outputs": [],
   "source": [
    "X_test = test_df[variables].values\n",
    "Output_test  = Extratrees.predict(X_test)"
   ]
  },
  {
   "cell_type": "code",
   "execution_count": 37,
   "metadata": {},
   "outputs": [],
   "source": [
    "Table2 = pd.DataFrame(Output_test,columns=[\"Predicted\"])\n",
    "Table2[\"Actual\"] = test_df['received'].values"
   ]
  },
  {
   "cell_type": "code",
   "execution_count": 38,
   "metadata": {},
   "outputs": [
    {
     "data": {
      "text/html": [
       "<div style=\"max-height:1000px;max-width:1500px;overflow:auto;\">\n",
       "<table border=\"1\" class=\"dataframe\">\n",
       "  <thead>\n",
       "    <tr style=\"text-align: right;\">\n",
       "      <th></th>\n",
       "      <th>Predicted</th>\n",
       "      <th>Actual</th>\n",
       "    </tr>\n",
       "  </thead>\n",
       "  <tbody>\n",
       "    <tr>\n",
       "      <th>0</th>\n",
       "      <td> 0.44</td>\n",
       "      <td> 0</td>\n",
       "    </tr>\n",
       "    <tr>\n",
       "      <th>1</th>\n",
       "      <td> 0.10</td>\n",
       "      <td> 0</td>\n",
       "    </tr>\n",
       "    <tr>\n",
       "      <th>2</th>\n",
       "      <td> 0.12</td>\n",
       "      <td> 0</td>\n",
       "    </tr>\n",
       "    <tr>\n",
       "      <th>3</th>\n",
       "      <td> 0.20</td>\n",
       "      <td> 1</td>\n",
       "    </tr>\n",
       "    <tr>\n",
       "      <th>4</th>\n",
       "      <td> 1.00</td>\n",
       "      <td> 1</td>\n",
       "    </tr>\n",
       "  </tbody>\n",
       "</table>\n",
       "</div>"
      ],
      "text/plain": [
       "   Predicted  Actual\n",
       "0       0.44       0\n",
       "1       0.10       0\n",
       "2       0.12       0\n",
       "3       0.20       1\n",
       "4       1.00       1"
      ]
     },
     "execution_count": 38,
     "metadata": {},
     "output_type": "execute_result"
    }
   ],
   "source": [
    "Table2.head()"
   ]
  },
  {
   "cell_type": "code",
   "execution_count": 39,
   "metadata": {},
   "outputs": [
    {
     "name": "stdout",
     "output_type": "stream",
     "text": [
      "Area under the ROC curve : 0.744472\n"
     ]
    },
    {
     "data": {
      "image/png": "[encoded data removed]",
      "text/plain": [
       "<matplotlib.figure.Figure at 0x10a6f3650>"
      ]
     },
     "metadata": {},
     "output_type": "display_data"
    }
   ],
   "source": [
    "# Compute ROC curve and area the curve\n",
    "fpr, tpr, thresholds = roc_curve(Table2['Actual'],Table2['Predicted'])\n",
    "roc_auc = auc(fpr, tpr)\n",
    "print \"Area under the ROC curve : %f\" % roc_auc\n",
    "\n",
    "# Plot ROC curve\n",
    "pl.clf()\n",
    "pl.plot(fpr, tpr, label='ROC curve (area = %0.2f)' % roc_auc)\n",
    "pl.plot([0, 1], [0, 1], 'k--')\n",
    "pl.xlim([0.0, 1.0])\n",
    "pl.ylim([0.0, 1.0])\n",
    "pl.xlabel('False Positive Rate')\n",
    "pl.ylabel('True Positive Rate')\n",
    "pl.title('Receiver operating characteristic example')\n",
    "pl.legend(loc=\"lower right\")\n",
    "pl.show()"
   ]
  }
 ],
 "metadata": {
  "kernelspec": {
   "display_name": "Python 3",
   "language": "python",
   "name": "python3"
  },
  "language_info": {
   "codemirror_mode": {
    "name": "ipython",
    "version": 3
   },
   "file_extension": ".py",
   "mimetype": "text/x-python",
   "name": "python",
   "nbconvert_exporter": "python",
   "pygments_lexer": "ipython3",
   "version": "3.7.3"
  }
 },
 "nbformat": 4,
 "nbformat_minor": 1
}
