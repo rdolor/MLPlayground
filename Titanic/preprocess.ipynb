{
 "cells": [
  {
   "cell_type": "code",
   "execution_count": 187,
   "metadata": {
    "scrolled": true
   },
   "outputs": [
    {
     "data": {
      "text/html": [
       "<script>\n",
       "code_show=true; \n",
       "function code_toggle() {\n",
       " if (code_show){\n",
       " $('div.input').hide();\n",
       " } else {\n",
       " $('div.input').show();\n",
       " }\n",
       " code_show = !code_show\n",
       "} \n",
       "$( document ).ready(code_toggle);\n",
       "</script>\n",
       "<form action=\"javascript:code_toggle()\"><input type=\"submit\" value=\"Click here to toggle on/off the raw code.\"></form>"
      ],
      "text/plain": [
       "<IPython.core.display.HTML object>"
      ]
     },
     "execution_count": 187,
     "metadata": {},
     "output_type": "execute_result"
    }
   ],
   "source": [
    "from IPython.display import HTML\n",
    "\n",
    "HTML('''<script>\n",
    "code_show=true; \n",
    "function code_toggle() {\n",
    " if (code_show){\n",
    " $('div.input').hide();\n",
    " } else {\n",
    " $('div.input').show();\n",
    " }\n",
    " code_show = !code_show\n",
    "} \n",
    "$( document ).ready(code_toggle);\n",
    "</script>\n",
    "<form action=\"javascript:code_toggle()\"><input type=\"submit\" value=\"Click here to toggle on/off the raw code.\"></form>''')"
   ]
  },
  {
   "cell_type": "code",
   "execution_count": 228,
   "metadata": {},
   "outputs": [],
   "source": [
    "import pandas as pd\n",
    "import matplotlib\n",
    "import seaborn as sns\n",
    "\n",
    "from matplotlib import pyplot as plt\n",
    "%matplotlib inline\n",
    "\n",
    "font = {'family' : 'DejaVu Sans',\n",
    "        'weight' : 'bold',\n",
    "        'size'   : 12}\n",
    "matplotlib.rc('font', **font)"
   ]
  },
  {
   "cell_type": "markdown",
   "metadata": {},
   "source": [
    "## 1. Load the data"
   ]
  },
  {
   "cell_type": "code",
   "execution_count": 190,
   "metadata": {},
   "outputs": [
    {
     "name": "stdout",
     "output_type": "stream",
     "text": [
      "train and test shape =  (891, 12) (418, 11)\n",
      "label name {'Survived'}\n"
     ]
    }
   ],
   "source": [
    "train = pd.read_csv(\"data/train.csv\",header=0)\n",
    "test = pd.read_csv(\"data/test.csv\",header=0)\n",
    "print('train and test shape = ', train.shape, test.shape)\n",
    "print('label name', set(train.columns) - set(test.columns))"
   ]
  },
  {
   "cell_type": "markdown",
   "metadata": {},
   "source": [
    "#### Sample of data"
   ]
  },
  {
   "cell_type": "code",
   "execution_count": 191,
   "metadata": {
    "scrolled": true
   },
   "outputs": [
    {
     "data": {
      "text/html": [
       "<div>\n",
       "<style scoped>\n",
       "    .dataframe tbody tr th:only-of-type {\n",
       "        vertical-align: middle;\n",
       "    }\n",
       "\n",
       "    .dataframe tbody tr th {\n",
       "        vertical-align: top;\n",
       "    }\n",
       "\n",
       "    .dataframe thead th {\n",
       "        text-align: right;\n",
       "    }\n",
       "</style>\n",
       "<table border=\"1\" class=\"dataframe\">\n",
       "  <thead>\n",
       "    <tr style=\"text-align: right;\">\n",
       "      <th></th>\n",
       "      <th>PassengerId</th>\n",
       "      <th>Survived</th>\n",
       "      <th>Pclass</th>\n",
       "      <th>Name</th>\n",
       "      <th>Sex</th>\n",
       "      <th>Age</th>\n",
       "      <th>SibSp</th>\n",
       "      <th>Parch</th>\n",
       "      <th>Ticket</th>\n",
       "      <th>Fare</th>\n",
       "      <th>Cabin</th>\n",
       "      <th>Embarked</th>\n",
       "    </tr>\n",
       "  </thead>\n",
       "  <tbody>\n",
       "    <tr>\n",
       "      <th>0</th>\n",
       "      <td>1</td>\n",
       "      <td>0</td>\n",
       "      <td>3</td>\n",
       "      <td>Braund, Mr. Owen Harris</td>\n",
       "      <td>male</td>\n",
       "      <td>22.0</td>\n",
       "      <td>1</td>\n",
       "      <td>0</td>\n",
       "      <td>A/5 21171</td>\n",
       "      <td>7.2500</td>\n",
       "      <td>NaN</td>\n",
       "      <td>S</td>\n",
       "    </tr>\n",
       "    <tr>\n",
       "      <th>1</th>\n",
       "      <td>2</td>\n",
       "      <td>1</td>\n",
       "      <td>1</td>\n",
       "      <td>Cumings, Mrs. John Bradley (Florence Briggs Th...</td>\n",
       "      <td>female</td>\n",
       "      <td>38.0</td>\n",
       "      <td>1</td>\n",
       "      <td>0</td>\n",
       "      <td>PC 17599</td>\n",
       "      <td>71.2833</td>\n",
       "      <td>C85</td>\n",
       "      <td>C</td>\n",
       "    </tr>\n",
       "  </tbody>\n",
       "</table>\n",
       "</div>"
      ],
      "text/plain": [
       "   PassengerId  Survived  Pclass  \\\n",
       "0            1         0       3   \n",
       "1            2         1       1   \n",
       "\n",
       "                                                Name     Sex   Age  SibSp  \\\n",
       "0                            Braund, Mr. Owen Harris    male  22.0      1   \n",
       "1  Cumings, Mrs. John Bradley (Florence Briggs Th...  female  38.0      1   \n",
       "\n",
       "   Parch     Ticket     Fare Cabin Embarked  \n",
       "0      0  A/5 21171   7.2500   NaN        S  \n",
       "1      0   PC 17599  71.2833   C85        C  "
      ]
     },
     "execution_count": 191,
     "metadata": {},
     "output_type": "execute_result"
    }
   ],
   "source": [
    "train.head(2)"
   ]
  },
  {
   "cell_type": "markdown",
   "metadata": {},
   "source": [
    "#### Information\n",
    "\n",
    "|Variable|Definition|Key|\n",
    "|---|---|---|\n",
    "|survival|Ticket class|1 = 1st, 2 = 2nd, 3 = 3rd|\n",
    "|sex\t|Sex\t|\n",
    "|Age\t|Age in years|\t\n",
    "|sibsp\t|# of siblings / spouses aboard the Titanic\t|\n",
    "|parch\t|# of parents / children aboard the Titanic\t|\n",
    "|ticket\t|Ticket number\t|\n",
    "|fare\t|Passenger fare\t|\n",
    "|cabin\t|Cabin number\t|\n",
    "|embarked|\tPort of Embarkation|C = Cherbourg, Q = Queenstown, S = Southampton|### Information\n",
    "\n"
   ]
  },
  {
   "cell_type": "markdown",
   "metadata": {},
   "source": [
    "#### Features data type"
   ]
  },
  {
   "cell_type": "code",
   "execution_count": 192,
   "metadata": {},
   "outputs": [
    {
     "name": "stdout",
     "output_type": "stream",
     "text": [
      "<class 'pandas.core.frame.DataFrame'>\n",
      "RangeIndex: 891 entries, 0 to 890\n",
      "Data columns (total 12 columns):\n",
      "PassengerId    891 non-null int64\n",
      "Survived       891 non-null int64\n",
      "Pclass         891 non-null int64\n",
      "Name           891 non-null object\n",
      "Sex            891 non-null object\n",
      "Age            714 non-null float64\n",
      "SibSp          891 non-null int64\n",
      "Parch          891 non-null int64\n",
      "Ticket         891 non-null object\n",
      "Fare           891 non-null float64\n",
      "Cabin          204 non-null object\n",
      "Embarked       889 non-null object\n",
      "dtypes: float64(2), int64(5), object(5)\n",
      "memory usage: 83.7+ KB\n"
     ]
    }
   ],
   "source": [
    "train.info()"
   ]
  },
  {
   "cell_type": "markdown",
   "metadata": {},
   "source": [
    "* The data is a mixture of numerical features and categorical ones."
   ]
  },
  {
   "cell_type": "markdown",
   "metadata": {},
   "source": [
    "#### Number of missing values"
   ]
  },
  {
   "cell_type": "markdown",
   "metadata": {},
   "source": [
    "##### Training data:"
   ]
  },
  {
   "cell_type": "code",
   "execution_count": 193,
   "metadata": {},
   "outputs": [
    {
     "data": {
      "text/plain": [
       "PassengerId      0\n",
       "Survived         0\n",
       "Pclass           0\n",
       "Name             0\n",
       "Sex              0\n",
       "Age            177\n",
       "SibSp            0\n",
       "Parch            0\n",
       "Ticket           0\n",
       "Fare             0\n",
       "Cabin          687\n",
       "Embarked         2\n",
       "dtype: int64"
      ]
     },
     "execution_count": 193,
     "metadata": {},
     "output_type": "execute_result"
    }
   ],
   "source": [
    "train.isnull().sum()"
   ]
  },
  {
   "cell_type": "code",
   "execution_count": 196,
   "metadata": {},
   "outputs": [
    {
     "data": {
      "text/plain": [
       "'% of missing values in Training data = Age: 19.865319865319865, Cabin:77.10437710437711'"
      ]
     },
     "execution_count": 196,
     "metadata": {},
     "output_type": "execute_result"
    }
   ],
   "source": [
    "'% of missing values in Training data = Age: {}, Cabin:{}'.format(100*(177/891), 100*(687/891))"
   ]
  },
  {
   "cell_type": "markdown",
   "metadata": {},
   "source": [
    "* `Cabin` has so many missing values to be useful, will drop it. Imputing its information may cause a lot of noise."
   ]
  },
  {
   "cell_type": "code",
   "execution_count": 197,
   "metadata": {},
   "outputs": [],
   "source": [
    "train.drop('Cabin', axis=1, inplace=True)"
   ]
  },
  {
   "cell_type": "markdown",
   "metadata": {},
   "source": [
    "##### Test data:"
   ]
  },
  {
   "cell_type": "code",
   "execution_count": 198,
   "metadata": {},
   "outputs": [
    {
     "data": {
      "text/plain": [
       "PassengerId      0\n",
       "Pclass           0\n",
       "Name             0\n",
       "Sex              0\n",
       "Age             86\n",
       "SibSp            0\n",
       "Parch            0\n",
       "Ticket           0\n",
       "Fare             1\n",
       "Cabin          327\n",
       "Embarked         0\n",
       "dtype: int64"
      ]
     },
     "execution_count": 198,
     "metadata": {},
     "output_type": "execute_result"
    }
   ],
   "source": [
    "test.isnull().sum()"
   ]
  },
  {
   "cell_type": "markdown",
   "metadata": {},
   "source": [
    "* In real life, we will really not know which features will have missing values. It's best to give default values for each feature.\n",
    "* For this competition, for convenience, I will just create default values for those features I know have missing values on test file."
   ]
  },
  {
   "cell_type": "markdown",
   "metadata": {},
   "source": [
    "#### Number of unique elements in each column"
   ]
  },
  {
   "cell_type": "code",
   "execution_count": 199,
   "metadata": {},
   "outputs": [
    {
     "name": "stdout",
     "output_type": "stream",
     "text": [
      "PassengerId : 891\n",
      "Survived : 2\n",
      "Pclass : 3\n",
      "Name : 891\n",
      "Sex : 2\n",
      "Age : 265\n",
      "SibSp : 7\n",
      "Parch : 7\n",
      "Ticket : 681\n",
      "Fare : 248\n",
      "Embarked : 4\n"
     ]
    }
   ],
   "source": [
    "for col in train.columns:\n",
    "    print('{} : {}'.format(col,len(set(train[col]))))"
   ]
  },
  {
   "cell_type": "markdown",
   "metadata": {},
   "source": [
    "* each row has a unique PassengerId\n",
    "* `Name` and `Ticket` have to be parsed to collect useful information"
   ]
  },
  {
   "cell_type": "markdown",
   "metadata": {},
   "source": [
    "## 2. Visualize the relationship of each column with the label"
   ]
  },
  {
   "cell_type": "code",
   "execution_count": 200,
   "metadata": {},
   "outputs": [
    {
     "data": {
      "image/png": "[encoded data removed]",
      "text/plain": [
       "<Figure size 604.8x252 with 2 Axes>"
      ]
     },
     "metadata": {
      "needs_background": "light"
     },
     "output_type": "display_data"
    }
   ],
   "source": [
    "train[\"SurvivedCategory\"] = train.Survived.map(lambda x: \"Survived\" if x > 0 else \"Died\")\n",
    "\n",
    "g = sns.catplot(\"SurvivedCategory\", col=\"Sex\", col_wrap=4,\n",
    "                data=train,\n",
    "                kind=\"count\", height=3.5, aspect=.6, \n",
    "                palette='tab20')\n",
    "\n",
    "plt.show()"
   ]
  },
  {
   "cell_type": "markdown",
   "metadata": {},
   "source": [
    "* More male did not survive"
   ]
  },
  {
   "cell_type": "code",
   "execution_count": 201,
   "metadata": {},
   "outputs": [
    {
     "data": {
      "image/png": "[encoded data removed]",
      "text/plain": [
       "<Figure size 604.8x252 with 3 Axes>"
      ]
     },
     "metadata": {
      "needs_background": "light"
     },
     "output_type": "display_data"
    }
   ],
   "source": [
    "g = sns.catplot(\"SurvivedCategory\", col=\"Pclass\", col_wrap=4,\n",
    "                data=train,\n",
    "                kind=\"count\", height=3.5, aspect=.6, \n",
    "                palette='tab20')\n",
    "\n",
    "plt.show()"
   ]
  },
  {
   "cell_type": "markdown",
   "metadata": {},
   "source": [
    "* Class 3 did not survive the most"
   ]
  },
  {
   "cell_type": "code",
   "execution_count": 202,
   "metadata": {},
   "outputs": [
    {
     "data": {
      "image/png": "[encoded data removed]",
      "text/plain": [
       "<Figure size 604.8x252 with 3 Axes>"
      ]
     },
     "metadata": {
      "needs_background": "light"
     },
     "output_type": "display_data"
    }
   ],
   "source": [
    "g = sns.catplot(\"SurvivedCategory\", col=\"Embarked\", col_wrap=4,\n",
    "                data=train[train.Embarked.notnull()],\n",
    "                kind=\"count\", height=3.5, aspect=.6, \n",
    "                palette='tab20')\n",
    "\n",
    "plt.show()"
   ]
  },
  {
   "cell_type": "markdown",
   "metadata": {},
   "source": [
    "* There are so many people who embarked at \"S\"\n",
    "* Embarkation \"S\" has the biggest gap of dying and surviving"
   ]
  },
  {
   "cell_type": "code",
   "execution_count": 203,
   "metadata": {},
   "outputs": [
    {
     "data": {
      "text/plain": [
       "<seaborn.axisgrid.FacetGrid at 0x12cb11a10>"
      ]
     },
     "execution_count": 203,
     "metadata": {},
     "output_type": "execute_result"
    },
    {
     "data": {
      "image/png": "[encoded data removed]",
      "text/plain": [
       "<Figure size 1210.97x360 with 3 Axes>"
      ]
     },
     "metadata": {
      "needs_background": "light"
     },
     "output_type": "display_data"
    }
   ],
   "source": [
    "sns.catplot(x=\"Age\", y=\"Sex\",\n",
    "            hue=\"SurvivedCategory\", col=\"Pclass\",\n",
    "            data=train[train.Age.notnull()],\n",
    "            orient=\"h\", height=5, aspect=1, palette=\"tab10\",\n",
    "            kind=\"violin\", dodge=True, cut=0, bw=.2)"
   ]
  },
  {
   "cell_type": "markdown",
   "metadata": {},
   "source": [
    "* There's a different distribution of dying and surviving given the three features -- Age, Sex, and Class\n",
    "* There is a meaningful interaction between these three features"
   ]
  },
  {
   "cell_type": "code",
   "execution_count": 204,
   "metadata": {
    "scrolled": true
   },
   "outputs": [
    {
     "name": "stdout",
     "output_type": "stream",
     "text": [
      "Pclass\n",
      "   Pclass  Survived\n",
      "0       1  0.629630\n",
      "1       2  0.472826\n",
      "2       3  0.242363\n",
      "\n",
      "Sex\n",
      "      Sex  Survived\n",
      "0  female  0.742038\n",
      "1    male  0.188908\n",
      "\n",
      "Embarked\n",
      "  Embarked  Survived\n",
      "0        C  0.553571\n",
      "1        Q  0.389610\n",
      "2        S  0.336957\n",
      "\n"
     ]
    }
   ],
   "source": [
    "for col in ['Pclass', 'Sex', 'Embarked']:\n",
    "    print(col)\n",
    "    print(train[[col, 'Survived']].groupby([col], as_index=False).mean().sort_values(by=\"Survived\", ascending=False))\n",
    "    print()"
   ]
  },
  {
   "cell_type": "markdown",
   "metadata": {},
   "source": [
    "* There is higher chance of surviving for having Class 1, being Female, and embarking in C."
   ]
  },
  {
   "cell_type": "code",
   "execution_count": 205,
   "metadata": {},
   "outputs": [
    {
     "data": {
      "text/plain": [
       "<Figure size 800x640 with 0 Axes>"
      ]
     },
     "metadata": {},
     "output_type": "display_data"
    },
    {
     "data": {
      "image/png": "[encoded data removed]",
      "text/plain": [
       "<Figure size 850.975x720 with 20 Axes>"
      ]
     },
     "metadata": {
      "needs_background": "light"
     },
     "output_type": "display_data"
    }
   ],
   "source": [
    "plt.figure(figsize=(10,8), dpi= 80)\n",
    "sns.pairplot(train[train.Age.notnull()][[\"SurvivedCategory\",\"Age\",\"Fare\",\"SibSp\",\"Parch\"]], kind=\"scatter\", hue=\"SurvivedCategory\", plot_kws=dict(s=80, edgecolor=\"white\", linewidth=2.5))\n",
    "plt.show()"
   ]
  },
  {
   "cell_type": "markdown",
   "metadata": {},
   "source": [
    "* Most obvious difference in distribution of Survival in the `Fare` feature; Those who died have lower fare"
   ]
  },
  {
   "cell_type": "markdown",
   "metadata": {},
   "source": [
    "## 3. Feature engineering"
   ]
  },
  {
   "cell_type": "markdown",
   "metadata": {},
   "source": [
    "#### Fill in missing values of `Embark` with most frequent value"
   ]
  },
  {
   "cell_type": "code",
   "execution_count": 206,
   "metadata": {},
   "outputs": [
    {
     "name": "stdout",
     "output_type": "stream",
     "text": [
      "Most frequent embarkation is :  S\n"
     ]
    }
   ],
   "source": [
    "print('Most frequent embarkation is : ',train.Embarked.dropna().mode()[0])\n",
    "train['Embarked'] = train['Embarked'].fillna(train.Embarked.dropna().mode()[0])"
   ]
  },
  {
   "cell_type": "markdown",
   "metadata": {},
   "source": [
    "#### Make use of the `Name` by parsing some information from it"
   ]
  },
  {
   "cell_type": "code",
   "execution_count": 207,
   "metadata": {},
   "outputs": [
    {
     "data": {
      "text/plain": [
       "0                              Braund, Mr. Owen Harris\n",
       "1    Cumings, Mrs. John Bradley (Florence Briggs Th...\n",
       "2                               Heikkinen, Miss. Laina\n",
       "3         Futrelle, Mrs. Jacques Heath (Lily May Peel)\n",
       "4                             Allen, Mr. William Henry\n",
       "Name: Name, dtype: object"
      ]
     },
     "execution_count": 207,
     "metadata": {},
     "output_type": "execute_result"
    }
   ],
   "source": [
    "train.Name.head()"
   ]
  },
  {
   "cell_type": "markdown",
   "metadata": {},
   "source": [
    "##### Title of people can approximate for their age, position, and wealth"
   ]
  },
  {
   "cell_type": "code",
   "execution_count": 208,
   "metadata": {},
   "outputs": [
    {
     "data": {
      "text/html": [
       "<div>\n",
       "<style scoped>\n",
       "    .dataframe tbody tr th:only-of-type {\n",
       "        vertical-align: middle;\n",
       "    }\n",
       "\n",
       "    .dataframe tbody tr th {\n",
       "        vertical-align: top;\n",
       "    }\n",
       "\n",
       "    .dataframe thead th {\n",
       "        text-align: right;\n",
       "    }\n",
       "</style>\n",
       "<table border=\"1\" class=\"dataframe\">\n",
       "  <thead>\n",
       "    <tr style=\"text-align: right;\">\n",
       "      <th>Sex</th>\n",
       "      <th>female</th>\n",
       "      <th>male</th>\n",
       "    </tr>\n",
       "    <tr>\n",
       "      <th>Title</th>\n",
       "      <th></th>\n",
       "      <th></th>\n",
       "    </tr>\n",
       "  </thead>\n",
       "  <tbody>\n",
       "    <tr>\n",
       "      <th>Capt</th>\n",
       "      <td>0</td>\n",
       "      <td>1</td>\n",
       "    </tr>\n",
       "    <tr>\n",
       "      <th>Col</th>\n",
       "      <td>0</td>\n",
       "      <td>2</td>\n",
       "    </tr>\n",
       "    <tr>\n",
       "      <th>Countess</th>\n",
       "      <td>1</td>\n",
       "      <td>0</td>\n",
       "    </tr>\n",
       "    <tr>\n",
       "      <th>Don</th>\n",
       "      <td>0</td>\n",
       "      <td>1</td>\n",
       "    </tr>\n",
       "    <tr>\n",
       "      <th>Dr</th>\n",
       "      <td>1</td>\n",
       "      <td>6</td>\n",
       "    </tr>\n",
       "    <tr>\n",
       "      <th>Jonkheer</th>\n",
       "      <td>0</td>\n",
       "      <td>1</td>\n",
       "    </tr>\n",
       "    <tr>\n",
       "      <th>Lady</th>\n",
       "      <td>1</td>\n",
       "      <td>0</td>\n",
       "    </tr>\n",
       "    <tr>\n",
       "      <th>Major</th>\n",
       "      <td>0</td>\n",
       "      <td>2</td>\n",
       "    </tr>\n",
       "    <tr>\n",
       "      <th>Master</th>\n",
       "      <td>0</td>\n",
       "      <td>40</td>\n",
       "    </tr>\n",
       "    <tr>\n",
       "      <th>Miss</th>\n",
       "      <td>182</td>\n",
       "      <td>0</td>\n",
       "    </tr>\n",
       "    <tr>\n",
       "      <th>Mlle</th>\n",
       "      <td>2</td>\n",
       "      <td>0</td>\n",
       "    </tr>\n",
       "    <tr>\n",
       "      <th>Mme</th>\n",
       "      <td>1</td>\n",
       "      <td>0</td>\n",
       "    </tr>\n",
       "    <tr>\n",
       "      <th>Mr</th>\n",
       "      <td>0</td>\n",
       "      <td>517</td>\n",
       "    </tr>\n",
       "    <tr>\n",
       "      <th>Mrs</th>\n",
       "      <td>125</td>\n",
       "      <td>0</td>\n",
       "    </tr>\n",
       "    <tr>\n",
       "      <th>Ms</th>\n",
       "      <td>1</td>\n",
       "      <td>0</td>\n",
       "    </tr>\n",
       "    <tr>\n",
       "      <th>Rev</th>\n",
       "      <td>0</td>\n",
       "      <td>6</td>\n",
       "    </tr>\n",
       "    <tr>\n",
       "      <th>Sir</th>\n",
       "      <td>0</td>\n",
       "      <td>1</td>\n",
       "    </tr>\n",
       "  </tbody>\n",
       "</table>\n",
       "</div>"
      ],
      "text/plain": [
       "Sex       female  male\n",
       "Title                 \n",
       "Capt           0     1\n",
       "Col            0     2\n",
       "Countess       1     0\n",
       "Don            0     1\n",
       "Dr             1     6\n",
       "Jonkheer       0     1\n",
       "Lady           1     0\n",
       "Major          0     2\n",
       "Master         0    40\n",
       "Miss         182     0\n",
       "Mlle           2     0\n",
       "Mme            1     0\n",
       "Mr             0   517\n",
       "Mrs          125     0\n",
       "Ms             1     0\n",
       "Rev            0     6\n",
       "Sir            0     1"
      ]
     },
     "execution_count": 208,
     "metadata": {},
     "output_type": "execute_result"
    }
   ],
   "source": [
    "train['Title'] = train.Name.str.extract(' ([A-Za-z]+)\\.', expand=False)\n",
    "\n",
    "pd.crosstab(train['Title'], train['Sex'])"
   ]
  },
  {
   "cell_type": "code",
   "execution_count": 209,
   "metadata": {},
   "outputs": [
    {
     "data": {
      "text/html": [
       "<div>\n",
       "<style scoped>\n",
       "    .dataframe tbody tr th:only-of-type {\n",
       "        vertical-align: middle;\n",
       "    }\n",
       "\n",
       "    .dataframe tbody tr th {\n",
       "        vertical-align: top;\n",
       "    }\n",
       "\n",
       "    .dataframe thead th {\n",
       "        text-align: right;\n",
       "    }\n",
       "</style>\n",
       "<table border=\"1\" class=\"dataframe\">\n",
       "  <thead>\n",
       "    <tr style=\"text-align: right;\">\n",
       "      <th></th>\n",
       "      <th>Title</th>\n",
       "      <th>Survived</th>\n",
       "    </tr>\n",
       "  </thead>\n",
       "  <tbody>\n",
       "    <tr>\n",
       "      <th>0</th>\n",
       "      <td>Master</td>\n",
       "      <td>0.575000</td>\n",
       "    </tr>\n",
       "    <tr>\n",
       "      <th>1</th>\n",
       "      <td>Miss</td>\n",
       "      <td>0.702703</td>\n",
       "    </tr>\n",
       "    <tr>\n",
       "      <th>2</th>\n",
       "      <td>Mr</td>\n",
       "      <td>0.156673</td>\n",
       "    </tr>\n",
       "    <tr>\n",
       "      <th>3</th>\n",
       "      <td>Mrs</td>\n",
       "      <td>0.793651</td>\n",
       "    </tr>\n",
       "    <tr>\n",
       "      <th>4</th>\n",
       "      <td>Rare</td>\n",
       "      <td>0.347826</td>\n",
       "    </tr>\n",
       "  </tbody>\n",
       "</table>\n",
       "</div>"
      ],
      "text/plain": [
       "    Title  Survived\n",
       "0  Master  0.575000\n",
       "1    Miss  0.702703\n",
       "2      Mr  0.156673\n",
       "3     Mrs  0.793651\n",
       "4    Rare  0.347826"
      ]
     },
     "execution_count": 209,
     "metadata": {},
     "output_type": "execute_result"
    }
   ],
   "source": [
    "train['Title'] = train['Title'].replace(['Lady', 'Countess','Capt', 'Col',\\\n",
    "'Don', 'Dr', 'Major', 'Rev', 'Sir', 'Jonkheer', 'Dona'], 'Rare')\n",
    "\n",
    "train['Title'] = train['Title'].replace('Mlle', 'Miss')\n",
    "train['Title'] = train['Title'].replace('Ms', 'Miss')\n",
    "train['Title'] = train['Title'].replace('Mme', 'Mrs')\n",
    "    \n",
    "train[['Title', 'Survived']].groupby(['Title'], as_index=False).mean()"
   ]
  },
  {
   "cell_type": "markdown",
   "metadata": {},
   "source": [
    "* The young ones -- Master and Miss -- have high chance of surviving\n",
    "* Actually, it is more of gender.. women, such as \"Miss\" and \"Mrs\" have highest chance of surviving"
   ]
  },
  {
   "cell_type": "markdown",
   "metadata": {},
   "source": [
    "##### How about surnames?"
   ]
  },
  {
   "cell_type": "code",
   "execution_count": 210,
   "metadata": {},
   "outputs": [
    {
     "data": {
      "text/html": [
       "<div>\n",
       "<style scoped>\n",
       "    .dataframe tbody tr th:only-of-type {\n",
       "        vertical-align: middle;\n",
       "    }\n",
       "\n",
       "    .dataframe tbody tr th {\n",
       "        vertical-align: top;\n",
       "    }\n",
       "\n",
       "    .dataframe thead th {\n",
       "        text-align: right;\n",
       "    }\n",
       "</style>\n",
       "<table border=\"1\" class=\"dataframe\">\n",
       "  <thead>\n",
       "    <tr style=\"text-align: right;\">\n",
       "      <th></th>\n",
       "      <th>LastName</th>\n",
       "      <th>Total</th>\n",
       "      <th>Number survived</th>\n",
       "      <th>Ratio</th>\n",
       "    </tr>\n",
       "  </thead>\n",
       "  <tbody>\n",
       "    <tr>\n",
       "      <th>333</th>\n",
       "      <td>Lehmann</td>\n",
       "      <td>1</td>\n",
       "      <td>1</td>\n",
       "      <td>1.0</td>\n",
       "    </tr>\n",
       "    <tr>\n",
       "      <th>215</th>\n",
       "      <td>Glynn</td>\n",
       "      <td>1</td>\n",
       "      <td>1</td>\n",
       "      <td>1.0</td>\n",
       "    </tr>\n",
       "    <tr>\n",
       "      <th>249</th>\n",
       "      <td>Hedman</td>\n",
       "      <td>1</td>\n",
       "      <td>1</td>\n",
       "      <td>1.0</td>\n",
       "    </tr>\n",
       "    <tr>\n",
       "      <th>248</th>\n",
       "      <td>Healy</td>\n",
       "      <td>1</td>\n",
       "      <td>1</td>\n",
       "      <td>1.0</td>\n",
       "    </tr>\n",
       "    <tr>\n",
       "      <th>247</th>\n",
       "      <td>Hays</td>\n",
       "      <td>2</td>\n",
       "      <td>2</td>\n",
       "      <td>1.0</td>\n",
       "    </tr>\n",
       "    <tr>\n",
       "      <th>...</th>\n",
       "      <td>...</td>\n",
       "      <td>...</td>\n",
       "      <td>...</td>\n",
       "      <td>...</td>\n",
       "    </tr>\n",
       "    <tr>\n",
       "      <th>278</th>\n",
       "      <td>Isham</td>\n",
       "      <td>1</td>\n",
       "      <td>0</td>\n",
       "      <td>0.0</td>\n",
       "    </tr>\n",
       "    <tr>\n",
       "      <th>277</th>\n",
       "      <td>Ilmakangas</td>\n",
       "      <td>1</td>\n",
       "      <td>0</td>\n",
       "      <td>0.0</td>\n",
       "    </tr>\n",
       "    <tr>\n",
       "      <th>274</th>\n",
       "      <td>Ibrahim Shawah</td>\n",
       "      <td>1</td>\n",
       "      <td>0</td>\n",
       "      <td>0.0</td>\n",
       "    </tr>\n",
       "    <tr>\n",
       "      <th>273</th>\n",
       "      <td>Hunt</td>\n",
       "      <td>1</td>\n",
       "      <td>0</td>\n",
       "      <td>0.0</td>\n",
       "    </tr>\n",
       "    <tr>\n",
       "      <th>666</th>\n",
       "      <td>van Melkebeke</td>\n",
       "      <td>1</td>\n",
       "      <td>0</td>\n",
       "      <td>0.0</td>\n",
       "    </tr>\n",
       "  </tbody>\n",
       "</table>\n",
       "<p>667 rows × 4 columns</p>\n",
       "</div>"
      ],
      "text/plain": [
       "           LastName  Total  Number survived  Ratio\n",
       "333         Lehmann      1                1    1.0\n",
       "215           Glynn      1                1    1.0\n",
       "249          Hedman      1                1    1.0\n",
       "248           Healy      1                1    1.0\n",
       "247            Hays      2                2    1.0\n",
       "..              ...    ...              ...    ...\n",
       "278           Isham      1                0    0.0\n",
       "277      Ilmakangas      1                0    0.0\n",
       "274  Ibrahim Shawah      1                0    0.0\n",
       "273            Hunt      1                0    0.0\n",
       "666   van Melkebeke      1                0    0.0\n",
       "\n",
       "[667 rows x 4 columns]"
      ]
     },
     "execution_count": 210,
     "metadata": {},
     "output_type": "execute_result"
    }
   ],
   "source": [
    "train['LastName'] = train['Name'].map(lambda x: x.split(\",\")[0])\n",
    "total = train[['LastName', 'Survived']].groupby(['LastName'], as_index=False).count()\n",
    "count_survived = train[['LastName', 'Survived']].groupby(['LastName'], as_index=False).sum()\n",
    "merged = pd.merge(total,count_survived,how='inner',on=\"LastName\")\n",
    "merged.columns = ['LastName','Total','Number survived']\n",
    "merged['Ratio'] = merged['Number survived']/merged['Total']\n",
    "merged.sort_values('Ratio', ascending=False)"
   ]
  },
  {
   "cell_type": "code",
   "execution_count": 211,
   "metadata": {},
   "outputs": [
    {
     "data": {
      "text/html": [
       "<div>\n",
       "<style scoped>\n",
       "    .dataframe tbody tr th:only-of-type {\n",
       "        vertical-align: middle;\n",
       "    }\n",
       "\n",
       "    .dataframe tbody tr th {\n",
       "        vertical-align: top;\n",
       "    }\n",
       "\n",
       "    .dataframe thead th {\n",
       "        text-align: right;\n",
       "    }\n",
       "</style>\n",
       "<table border=\"1\" class=\"dataframe\">\n",
       "  <thead>\n",
       "    <tr style=\"text-align: right;\">\n",
       "      <th></th>\n",
       "      <th>LastNameSurvived</th>\n",
       "      <th>Survived</th>\n",
       "    </tr>\n",
       "  </thead>\n",
       "  <tbody>\n",
       "    <tr>\n",
       "      <th>0</th>\n",
       "      <td>0</td>\n",
       "      <td>0.000000</td>\n",
       "    </tr>\n",
       "    <tr>\n",
       "      <th>1</th>\n",
       "      <td>1</td>\n",
       "      <td>0.812352</td>\n",
       "    </tr>\n",
       "  </tbody>\n",
       "</table>\n",
       "</div>"
      ],
      "text/plain": [
       "   LastNameSurvived  Survived\n",
       "0                 0  0.000000\n",
       "1                 1  0.812352"
      ]
     },
     "execution_count": 211,
     "metadata": {},
     "output_type": "execute_result"
    }
   ],
   "source": [
    "agg = train[['LastName', 'Survived']].groupby(['LastName'], as_index=False).sum()\n",
    "LastNameSurvivors = list(agg[agg['Survived'] > 0]['LastName'])\n",
    "train['LastNameSurvived'] = train['LastName'].map(lambda x: 1 if x in LastNameSurvivors else 0)\n",
    "train[['LastNameSurvived', 'Survived']].groupby(['LastNameSurvived'], as_index=False).mean()"
   ]
  },
  {
   "cell_type": "markdown",
   "metadata": {},
   "source": [
    "* Not sure if this will help.. it might overfit the training. It will be a matter of how I am going to use this information.\n"
   ]
  },
  {
   "cell_type": "markdown",
   "metadata": {},
   "source": [
    "#### Size of family can be computed from `SibSp` and `Parch`"
   ]
  },
  {
   "cell_type": "code",
   "execution_count": 212,
   "metadata": {},
   "outputs": [],
   "source": [
    "train['FamilySize'] = train['SibSp'] + train['Parch'] + 1"
   ]
  },
  {
   "cell_type": "markdown",
   "metadata": {},
   "source": [
    "#### Fill missing values of `Age`"
   ]
  },
  {
   "cell_type": "markdown",
   "metadata": {},
   "source": [
    "* Filling it up with its average value is misleading\n",
    "* Check first how it relates with other features"
   ]
  },
  {
   "cell_type": "markdown",
   "metadata": {
    "collapsed": true
   },
   "source": [
    "##### Relationship of `Age` with other features"
   ]
  },
  {
   "cell_type": "markdown",
   "metadata": {},
   "source": [
    "* Look at the relationship of Age with other features\n",
    "* Convert all to numerics"
   ]
  },
  {
   "cell_type": "code",
   "execution_count": 213,
   "metadata": {},
   "outputs": [
    {
     "data": {
      "text/html": [
       "<div>\n",
       "<style scoped>\n",
       "    .dataframe tbody tr th:only-of-type {\n",
       "        vertical-align: middle;\n",
       "    }\n",
       "\n",
       "    .dataframe tbody tr th {\n",
       "        vertical-align: top;\n",
       "    }\n",
       "\n",
       "    .dataframe thead th {\n",
       "        text-align: right;\n",
       "    }\n",
       "</style>\n",
       "<table border=\"1\" class=\"dataframe\">\n",
       "  <thead>\n",
       "    <tr style=\"text-align: right;\">\n",
       "      <th></th>\n",
       "      <th>Sex</th>\n",
       "      <th>Age</th>\n",
       "    </tr>\n",
       "  </thead>\n",
       "  <tbody>\n",
       "    <tr>\n",
       "      <th>0</th>\n",
       "      <td>female</td>\n",
       "      <td>27.915709</td>\n",
       "    </tr>\n",
       "    <tr>\n",
       "      <th>1</th>\n",
       "      <td>male</td>\n",
       "      <td>30.726645</td>\n",
       "    </tr>\n",
       "  </tbody>\n",
       "</table>\n",
       "</div>"
      ],
      "text/plain": [
       "      Sex        Age\n",
       "0  female  27.915709\n",
       "1    male  30.726645"
      ]
     },
     "execution_count": 213,
     "metadata": {},
     "output_type": "execute_result"
    }
   ],
   "source": [
    "train.dropna()[['Sex','Age']].groupby(['Sex']).mean().reset_index()"
   ]
  },
  {
   "cell_type": "code",
   "execution_count": 214,
   "metadata": {},
   "outputs": [
    {
     "data": {
      "text/html": [
       "<div>\n",
       "<style scoped>\n",
       "    .dataframe tbody tr th:only-of-type {\n",
       "        vertical-align: middle;\n",
       "    }\n",
       "\n",
       "    .dataframe tbody tr th {\n",
       "        vertical-align: top;\n",
       "    }\n",
       "\n",
       "    .dataframe thead th {\n",
       "        text-align: right;\n",
       "    }\n",
       "</style>\n",
       "<table border=\"1\" class=\"dataframe\">\n",
       "  <thead>\n",
       "    <tr style=\"text-align: right;\">\n",
       "      <th></th>\n",
       "      <th>Pclass</th>\n",
       "      <th>Age</th>\n",
       "    </tr>\n",
       "  </thead>\n",
       "  <tbody>\n",
       "    <tr>\n",
       "      <th>0</th>\n",
       "      <td>1</td>\n",
       "      <td>38.233441</td>\n",
       "    </tr>\n",
       "    <tr>\n",
       "      <th>1</th>\n",
       "      <td>2</td>\n",
       "      <td>29.877630</td>\n",
       "    </tr>\n",
       "    <tr>\n",
       "      <th>2</th>\n",
       "      <td>3</td>\n",
       "      <td>25.140620</td>\n",
       "    </tr>\n",
       "  </tbody>\n",
       "</table>\n",
       "</div>"
      ],
      "text/plain": [
       "   Pclass        Age\n",
       "0       1  38.233441\n",
       "1       2  29.877630\n",
       "2       3  25.140620"
      ]
     },
     "execution_count": 214,
     "metadata": {},
     "output_type": "execute_result"
    }
   ],
   "source": [
    "train.dropna()[['Pclass','Age']].groupby(['Pclass']).mean().reset_index()"
   ]
  },
  {
   "cell_type": "code",
   "execution_count": 215,
   "metadata": {},
   "outputs": [
    {
     "data": {
      "text/html": [
       "<div>\n",
       "<style scoped>\n",
       "    .dataframe tbody tr th:only-of-type {\n",
       "        vertical-align: middle;\n",
       "    }\n",
       "\n",
       "    .dataframe tbody tr th {\n",
       "        vertical-align: top;\n",
       "    }\n",
       "\n",
       "    .dataframe thead th {\n",
       "        text-align: right;\n",
       "    }\n",
       "</style>\n",
       "<table border=\"1\" class=\"dataframe\">\n",
       "  <thead>\n",
       "    <tr style=\"text-align: right;\">\n",
       "      <th></th>\n",
       "      <th>Sex</th>\n",
       "      <th>Pclass</th>\n",
       "      <th>Age</th>\n",
       "    </tr>\n",
       "  </thead>\n",
       "  <tbody>\n",
       "    <tr>\n",
       "      <th>0</th>\n",
       "      <td>female</td>\n",
       "      <td>1</td>\n",
       "      <td>34.611765</td>\n",
       "    </tr>\n",
       "    <tr>\n",
       "      <th>1</th>\n",
       "      <td>female</td>\n",
       "      <td>2</td>\n",
       "      <td>28.722973</td>\n",
       "    </tr>\n",
       "    <tr>\n",
       "      <th>2</th>\n",
       "      <td>female</td>\n",
       "      <td>3</td>\n",
       "      <td>21.750000</td>\n",
       "    </tr>\n",
       "    <tr>\n",
       "      <th>3</th>\n",
       "      <td>male</td>\n",
       "      <td>1</td>\n",
       "      <td>41.281386</td>\n",
       "    </tr>\n",
       "    <tr>\n",
       "      <th>4</th>\n",
       "      <td>male</td>\n",
       "      <td>2</td>\n",
       "      <td>30.740707</td>\n",
       "    </tr>\n",
       "    <tr>\n",
       "      <th>5</th>\n",
       "      <td>male</td>\n",
       "      <td>3</td>\n",
       "      <td>26.507589</td>\n",
       "    </tr>\n",
       "  </tbody>\n",
       "</table>\n",
       "</div>"
      ],
      "text/plain": [
       "      Sex  Pclass        Age\n",
       "0  female       1  34.611765\n",
       "1  female       2  28.722973\n",
       "2  female       3  21.750000\n",
       "3    male       1  41.281386\n",
       "4    male       2  30.740707\n",
       "5    male       3  26.507589"
      ]
     },
     "execution_count": 215,
     "metadata": {},
     "output_type": "execute_result"
    }
   ],
   "source": [
    "train.dropna()[['Sex','Pclass','Age']].groupby(['Sex','Pclass']).mean().reset_index()"
   ]
  },
  {
   "cell_type": "markdown",
   "metadata": {},
   "source": [
    "* Average age decreases with `Pclass` and is different distribution for `Sex`"
   ]
  },
  {
   "cell_type": "code",
   "execution_count": 216,
   "metadata": {},
   "outputs": [],
   "source": [
    "import math\n",
    "def impute_age(row):\n",
    "    if math.isnan(row[\"Age\"]):\n",
    "        if row['Sex'] == 'female' and row['Pclass'] == 1:\n",
    "            return 34.61\n",
    "        elif row['Sex'] == 'female' and row['Pclass'] == 2:\n",
    "            return 28.72\n",
    "        elif row['Sex'] == 'female' and row['Pclass'] == 3:\n",
    "            return 21.75\n",
    "        elif row['Sex'] == 'male' and row['Pclass'] == 1:\n",
    "            return 41.28\n",
    "        elif row['Sex'] == 'male' and row['Pclass'] == 2:\n",
    "            return 30.74\n",
    "        elif row['Sex'] == 'male' and row['Pclass'] == 3:\n",
    "            return 26.51\n",
    "        else:\n",
    "            return 0.\n",
    "    \n",
    "    else:\n",
    "        return row[\"Age\"]      "
   ]
  },
  {
   "cell_type": "code",
   "execution_count": 217,
   "metadata": {},
   "outputs": [],
   "source": [
    "train[\"Age\"] = train.apply(lambda row: impute_age(row),axis=1)"
   ]
  },
  {
   "cell_type": "markdown",
   "metadata": {},
   "source": [
    "#### Fill missing values of `Fare`"
   ]
  },
  {
   "cell_type": "code",
   "execution_count": 218,
   "metadata": {},
   "outputs": [
    {
     "data": {
      "text/html": [
       "<div>\n",
       "<style scoped>\n",
       "    .dataframe tbody tr th:only-of-type {\n",
       "        vertical-align: middle;\n",
       "    }\n",
       "\n",
       "    .dataframe tbody tr th {\n",
       "        vertical-align: top;\n",
       "    }\n",
       "\n",
       "    .dataframe thead th {\n",
       "        text-align: right;\n",
       "    }\n",
       "</style>\n",
       "<table border=\"1\" class=\"dataframe\">\n",
       "  <thead>\n",
       "    <tr style=\"text-align: right;\">\n",
       "      <th></th>\n",
       "      <th>Pclass</th>\n",
       "      <th>Fare</th>\n",
       "    </tr>\n",
       "  </thead>\n",
       "  <tbody>\n",
       "    <tr>\n",
       "      <th>0</th>\n",
       "      <td>1</td>\n",
       "      <td>84.154687</td>\n",
       "    </tr>\n",
       "    <tr>\n",
       "      <th>1</th>\n",
       "      <td>2</td>\n",
       "      <td>20.662183</td>\n",
       "    </tr>\n",
       "    <tr>\n",
       "      <th>2</th>\n",
       "      <td>3</td>\n",
       "      <td>13.675550</td>\n",
       "    </tr>\n",
       "  </tbody>\n",
       "</table>\n",
       "</div>"
      ],
      "text/plain": [
       "   Pclass       Fare\n",
       "0       1  84.154687\n",
       "1       2  20.662183\n",
       "2       3  13.675550"
      ]
     },
     "execution_count": 218,
     "metadata": {},
     "output_type": "execute_result"
    }
   ],
   "source": [
    "train.dropna()[['Pclass','Fare']].groupby(['Pclass']).mean().reset_index()"
   ]
  },
  {
   "cell_type": "markdown",
   "metadata": {},
   "source": [
    "* Average `Fare` decreases with `Pclass`"
   ]
  },
  {
   "cell_type": "code",
   "execution_count": 219,
   "metadata": {},
   "outputs": [],
   "source": [
    "def impute_fare(row):\n",
    "    if math.isnan(row[\"Fare\"]):\n",
    "        if row['Pclass'] == 1:\n",
    "            return 84.15\n",
    "        elif row['Pclass'] == 2:\n",
    "            return 20.66\n",
    "        elif row['Pclass'] == 3:\n",
    "            return 13.68\n",
    "        else:\n",
    "            return 0.\n",
    "    \n",
    "    else:\n",
    "        return row[\"Fare\"]      "
   ]
  },
  {
   "cell_type": "code",
   "execution_count": 220,
   "metadata": {},
   "outputs": [],
   "source": [
    "train[\"Fare\"] = train.apply(lambda row: impute_fare(row),axis=1)"
   ]
  },
  {
   "cell_type": "markdown",
   "metadata": {},
   "source": [
    "##### Check missing values again"
   ]
  },
  {
   "cell_type": "code",
   "execution_count": 221,
   "metadata": {},
   "outputs": [
    {
     "data": {
      "text/plain": [
       "PassengerId         0\n",
       "Survived            0\n",
       "Pclass              0\n",
       "Name                0\n",
       "Sex                 0\n",
       "Age                 0\n",
       "SibSp               0\n",
       "Parch               0\n",
       "Ticket              0\n",
       "Fare                0\n",
       "Embarked            0\n",
       "SurvivedCategory    0\n",
       "Title               0\n",
       "LastName            0\n",
       "LastNameSurvived    0\n",
       "FamilySize          0\n",
       "dtype: int64"
      ]
     },
     "execution_count": 221,
     "metadata": {},
     "output_type": "execute_result"
    }
   ],
   "source": [
    "train.isnull().sum()"
   ]
  },
  {
   "cell_type": "markdown",
   "metadata": {},
   "source": [
    "* It is possible that the way the missing values are imputed can degrade the quality of predictions\n",
    "* Can try predicting the survival, when the missing values are dropped rather than imputed"
   ]
  },
  {
   "cell_type": "markdown",
   "metadata": {},
   "source": [
    "#### Create buckets for `Age` and `Fare`"
   ]
  },
  {
   "cell_type": "markdown",
   "metadata": {},
   "source": [
    "* Ordinal features are sometimes better inputs for some algorithms, especially tree-based ones"
   ]
  },
  {
   "cell_type": "code",
   "execution_count": 222,
   "metadata": {},
   "outputs": [
    {
     "data": {
      "text/html": [
       "<div>\n",
       "<style scoped>\n",
       "    .dataframe tbody tr th:only-of-type {\n",
       "        vertical-align: middle;\n",
       "    }\n",
       "\n",
       "    .dataframe tbody tr th {\n",
       "        vertical-align: top;\n",
       "    }\n",
       "\n",
       "    .dataframe thead th {\n",
       "        text-align: right;\n",
       "    }\n",
       "</style>\n",
       "<table border=\"1\" class=\"dataframe\">\n",
       "  <thead>\n",
       "    <tr style=\"text-align: right;\">\n",
       "      <th></th>\n",
       "      <th>Age_bucket</th>\n",
       "      <th>Survived</th>\n",
       "    </tr>\n",
       "  </thead>\n",
       "  <tbody>\n",
       "    <tr>\n",
       "      <th>0</th>\n",
       "      <td>(0.34, 16.336]</td>\n",
       "      <td>0.550000</td>\n",
       "    </tr>\n",
       "    <tr>\n",
       "      <th>1</th>\n",
       "      <td>(16.336, 32.252]</td>\n",
       "      <td>0.336714</td>\n",
       "    </tr>\n",
       "    <tr>\n",
       "      <th>2</th>\n",
       "      <td>(32.252, 48.168]</td>\n",
       "      <td>0.412844</td>\n",
       "    </tr>\n",
       "    <tr>\n",
       "      <th>3</th>\n",
       "      <td>(48.168, 64.084]</td>\n",
       "      <td>0.434783</td>\n",
       "    </tr>\n",
       "    <tr>\n",
       "      <th>4</th>\n",
       "      <td>(64.084, 80.0]</td>\n",
       "      <td>0.090909</td>\n",
       "    </tr>\n",
       "  </tbody>\n",
       "</table>\n",
       "</div>"
      ],
      "text/plain": [
       "         Age_bucket  Survived\n",
       "0    (0.34, 16.336]  0.550000\n",
       "1  (16.336, 32.252]  0.336714\n",
       "2  (32.252, 48.168]  0.412844\n",
       "3  (48.168, 64.084]  0.434783\n",
       "4    (64.084, 80.0]  0.090909"
      ]
     },
     "execution_count": 222,
     "metadata": {},
     "output_type": "execute_result"
    }
   ],
   "source": [
    "train['Age_bucket'] = pd.cut(train['Age'], 5)\n",
    "train[['Age_bucket', 'Survived']].groupby(['Age_bucket'], as_index=False).mean().sort_values(by='Age_bucket', ascending=True)"
   ]
  },
  {
   "cell_type": "markdown",
   "metadata": {},
   "source": [
    "* The chance of survival decreases from youngest to oldest"
   ]
  },
  {
   "cell_type": "code",
   "execution_count": 223,
   "metadata": {
    "scrolled": true
   },
   "outputs": [],
   "source": [
    "train['Age_bucket'] =  train.Age\n",
    "train.loc[ train['Age'] <= 16, 'Age_bucket'] = 0\n",
    "train.loc[(train['Age'] > 16) & (train['Age'] <= 32), 'Age_bucket'] = 1\n",
    "train.loc[(train['Age'] > 32) & (train['Age'] <= 48), 'Age_bucket'] = 2\n",
    "train.loc[(train['Age'] > 48) & (train['Age'] <= 64), 'Age_bucket'] = 3\n",
    "train.loc[train['Age'] > 64, 'Age_bucket'] = 4\n",
    "train['Age_bucket'] = train['Age_bucket'].astype(int)"
   ]
  },
  {
   "cell_type": "code",
   "execution_count": 224,
   "metadata": {},
   "outputs": [
    {
     "data": {
      "text/html": [
       "<div>\n",
       "<style scoped>\n",
       "    .dataframe tbody tr th:only-of-type {\n",
       "        vertical-align: middle;\n",
       "    }\n",
       "\n",
       "    .dataframe tbody tr th {\n",
       "        vertical-align: top;\n",
       "    }\n",
       "\n",
       "    .dataframe thead th {\n",
       "        text-align: right;\n",
       "    }\n",
       "</style>\n",
       "<table border=\"1\" class=\"dataframe\">\n",
       "  <thead>\n",
       "    <tr style=\"text-align: right;\">\n",
       "      <th></th>\n",
       "      <th>Fare_bucket</th>\n",
       "      <th>Survived</th>\n",
       "    </tr>\n",
       "  </thead>\n",
       "  <tbody>\n",
       "    <tr>\n",
       "      <th>0</th>\n",
       "      <td>(-0.001, 7.91]</td>\n",
       "      <td>0.197309</td>\n",
       "    </tr>\n",
       "    <tr>\n",
       "      <th>1</th>\n",
       "      <td>(7.91, 14.454]</td>\n",
       "      <td>0.303571</td>\n",
       "    </tr>\n",
       "    <tr>\n",
       "      <th>2</th>\n",
       "      <td>(14.454, 31.0]</td>\n",
       "      <td>0.454955</td>\n",
       "    </tr>\n",
       "    <tr>\n",
       "      <th>3</th>\n",
       "      <td>(31.0, 512.329]</td>\n",
       "      <td>0.581081</td>\n",
       "    </tr>\n",
       "  </tbody>\n",
       "</table>\n",
       "</div>"
      ],
      "text/plain": [
       "       Fare_bucket  Survived\n",
       "0   (-0.001, 7.91]  0.197309\n",
       "1   (7.91, 14.454]  0.303571\n",
       "2   (14.454, 31.0]  0.454955\n",
       "3  (31.0, 512.329]  0.581081"
      ]
     },
     "execution_count": 224,
     "metadata": {},
     "output_type": "execute_result"
    }
   ],
   "source": [
    "train['Fare_bucket'] = pd.qcut(train['Fare'], 4)\n",
    "train[['Fare_bucket', 'Survived']].groupby(['Fare_bucket'], as_index=False).mean().sort_values(by='Fare_bucket', ascending=True)"
   ]
  },
  {
   "cell_type": "markdown",
   "metadata": {},
   "source": [
    "* The higher the fare, the higher the chance of surviving"
   ]
  },
  {
   "cell_type": "code",
   "execution_count": 225,
   "metadata": {},
   "outputs": [],
   "source": [
    "train['Fare_bucket'] = train.Fare\n",
    "train.loc[ train['Fare'] <= 7.91, 'Fare_bucket'] = 0\n",
    "train.loc[(train['Fare'] > 7.91) & (train['Fare'] <= 14.454), 'Fare_bucket'] = 1\n",
    "train.loc[(train['Fare'] > 14.454) & (train['Fare'] <= 31.0), 'Fare_bucket']   = 2\n",
    "train.loc[ train['Fare'] > 31.0, 'Fare_bucket'] = 3\n",
    "train['Fare_bucket'] = train['Fare_bucket'].astype(int)"
   ]
  },
  {
   "cell_type": "markdown",
   "metadata": {},
   "source": [
    "* Can also check the interaction of two variables"
   ]
  },
  {
   "cell_type": "code",
   "execution_count": 226,
   "metadata": {},
   "outputs": [],
   "source": [
    "train['Age_bucket*Class'] = train.Age_bucket * train.Pclass\n",
    "train['Fare_bucket*Class'] = train.Fare_bucket * train.Pclass"
   ]
  },
  {
   "cell_type": "markdown",
   "metadata": {},
   "source": [
    "## Correlation"
   ]
  },
  {
   "cell_type": "code",
   "execution_count": 227,
   "metadata": {
    "scrolled": true
   },
   "outputs": [
    {
     "data": {
      "text/html": [
       "<style  type=\"text/css\" >\n",
       "    #T_b48be118_0395_11ea_8a5a_c4b301a11ae4row0_col0 {\n",
       "            background-color:  #b40426;\n",
       "            color:  #f1f1f1;\n",
       "        }    #T_b48be118_0395_11ea_8a5a_c4b301a11ae4row0_col1 {\n",
       "            background-color:  #6b8df0;\n",
       "            color:  #000000;\n",
       "        }    #T_b48be118_0395_11ea_8a5a_c4b301a11ae4row0_col2 {\n",
       "            background-color:  #7295f4;\n",
       "            color:  #000000;\n",
       "        }    #T_b48be118_0395_11ea_8a5a_c4b301a11ae4row0_col3 {\n",
       "            background-color:  #82a6fb;\n",
       "            color:  #000000;\n",
       "        }    #T_b48be118_0395_11ea_8a5a_c4b301a11ae4row0_col4 {\n",
       "            background-color:  #c0d4f5;\n",
       "            color:  #000000;\n",
       "        }    #T_b48be118_0395_11ea_8a5a_c4b301a11ae4row0_col5 {\n",
       "            background-color:  #82a6fb;\n",
       "            color:  #000000;\n",
       "        }    #T_b48be118_0395_11ea_8a5a_c4b301a11ae4row0_col6 {\n",
       "            background-color:  #6c8ff1;\n",
       "            color:  #000000;\n",
       "        }    #T_b48be118_0395_11ea_8a5a_c4b301a11ae4row0_col7 {\n",
       "            background-color:  #d7dce3;\n",
       "            color:  #000000;\n",
       "        }    #T_b48be118_0395_11ea_8a5a_c4b301a11ae4row0_col8 {\n",
       "            background-color:  #4c66d6;\n",
       "            color:  #000000;\n",
       "        }    #T_b48be118_0395_11ea_8a5a_c4b301a11ae4row0_col9 {\n",
       "            background-color:  #85a8fc;\n",
       "            color:  #000000;\n",
       "        }    #T_b48be118_0395_11ea_8a5a_c4b301a11ae4row1_col0 {\n",
       "            background-color:  #6c8ff1;\n",
       "            color:  #000000;\n",
       "        }    #T_b48be118_0395_11ea_8a5a_c4b301a11ae4row1_col1 {\n",
       "            background-color:  #b40426;\n",
       "            color:  #f1f1f1;\n",
       "        }    #T_b48be118_0395_11ea_8a5a_c4b301a11ae4row1_col2 {\n",
       "            background-color:  #3b4cc0;\n",
       "            color:  #f1f1f1;\n",
       "        }    #T_b48be118_0395_11ea_8a5a_c4b301a11ae4row1_col3 {\n",
       "            background-color:  #3b4cc0;\n",
       "            color:  #f1f1f1;\n",
       "        }    #T_b48be118_0395_11ea_8a5a_c4b301a11ae4row1_col4 {\n",
       "            background-color:  #9bbcff;\n",
       "            color:  #000000;\n",
       "        }    #T_b48be118_0395_11ea_8a5a_c4b301a11ae4row1_col5 {\n",
       "            background-color:  #3b4cc0;\n",
       "            color:  #f1f1f1;\n",
       "        }    #T_b48be118_0395_11ea_8a5a_c4b301a11ae4row1_col6 {\n",
       "            background-color:  #c43032;\n",
       "            color:  #f1f1f1;\n",
       "        }    #T_b48be118_0395_11ea_8a5a_c4b301a11ae4row1_col7 {\n",
       "            background-color:  #aec9fc;\n",
       "            color:  #000000;\n",
       "        }    #T_b48be118_0395_11ea_8a5a_c4b301a11ae4row1_col8 {\n",
       "            background-color:  #f6a283;\n",
       "            color:  #000000;\n",
       "        }    #T_b48be118_0395_11ea_8a5a_c4b301a11ae4row1_col9 {\n",
       "            background-color:  #3f53c6;\n",
       "            color:  #f1f1f1;\n",
       "        }    #T_b48be118_0395_11ea_8a5a_c4b301a11ae4row2_col0 {\n",
       "            background-color:  #7699f6;\n",
       "            color:  #000000;\n",
       "        }    #T_b48be118_0395_11ea_8a5a_c4b301a11ae4row2_col1 {\n",
       "            background-color:  #3d50c3;\n",
       "            color:  #f1f1f1;\n",
       "        }    #T_b48be118_0395_11ea_8a5a_c4b301a11ae4row2_col2 {\n",
       "            background-color:  #b40426;\n",
       "            color:  #f1f1f1;\n",
       "        }    #T_b48be118_0395_11ea_8a5a_c4b301a11ae4row2_col3 {\n",
       "            background-color:  #dedcdb;\n",
       "            color:  #000000;\n",
       "        }    #T_b48be118_0395_11ea_8a5a_c4b301a11ae4row2_col4 {\n",
       "            background-color:  #a6c4fe;\n",
       "            color:  #000000;\n",
       "        }    #T_b48be118_0395_11ea_8a5a_c4b301a11ae4row2_col5 {\n",
       "            background-color:  #d24b40;\n",
       "            color:  #f1f1f1;\n",
       "        }    #T_b48be118_0395_11ea_8a5a_c4b301a11ae4row2_col6 {\n",
       "            background-color:  #3b4cc0;\n",
       "            color:  #f1f1f1;\n",
       "        }    #T_b48be118_0395_11ea_8a5a_c4b301a11ae4row2_col7 {\n",
       "            background-color:  #ead5c9;\n",
       "            color:  #000000;\n",
       "        }    #T_b48be118_0395_11ea_8a5a_c4b301a11ae4row2_col8 {\n",
       "            background-color:  #5572df;\n",
       "            color:  #000000;\n",
       "        }    #T_b48be118_0395_11ea_8a5a_c4b301a11ae4row2_col9 {\n",
       "            background-color:  #f7ba9f;\n",
       "            color:  #000000;\n",
       "        }    #T_b48be118_0395_11ea_8a5a_c4b301a11ae4row3_col0 {\n",
       "            background-color:  #96b7ff;\n",
       "            color:  #000000;\n",
       "        }    #T_b48be118_0395_11ea_8a5a_c4b301a11ae4row3_col1 {\n",
       "            background-color:  #4e68d8;\n",
       "            color:  #000000;\n",
       "        }    #T_b48be118_0395_11ea_8a5a_c4b301a11ae4row3_col2 {\n",
       "            background-color:  #e5d8d1;\n",
       "            color:  #000000;\n",
       "        }    #T_b48be118_0395_11ea_8a5a_c4b301a11ae4row3_col3 {\n",
       "            background-color:  #b40426;\n",
       "            color:  #f1f1f1;\n",
       "        }    #T_b48be118_0395_11ea_8a5a_c4b301a11ae4row3_col4 {\n",
       "            background-color:  #b6cefa;\n",
       "            color:  #000000;\n",
       "        }    #T_b48be118_0395_11ea_8a5a_c4b301a11ae4row3_col5 {\n",
       "            background-color:  #e8765c;\n",
       "            color:  #000000;\n",
       "        }    #T_b48be118_0395_11ea_8a5a_c4b301a11ae4row3_col6 {\n",
       "            background-color:  #4e68d8;\n",
       "            color:  #000000;\n",
       "        }    #T_b48be118_0395_11ea_8a5a_c4b301a11ae4row3_col7 {\n",
       "            background-color:  #ead5c9;\n",
       "            color:  #000000;\n",
       "        }    #T_b48be118_0395_11ea_8a5a_c4b301a11ae4row3_col8 {\n",
       "            background-color:  #6e90f2;\n",
       "            color:  #000000;\n",
       "        }    #T_b48be118_0395_11ea_8a5a_c4b301a11ae4row3_col9 {\n",
       "            background-color:  #f2c9b4;\n",
       "            color:  #000000;\n",
       "        }    #T_b48be118_0395_11ea_8a5a_c4b301a11ae4row4_col0 {\n",
       "            background-color:  #c5d6f2;\n",
       "            color:  #000000;\n",
       "        }    #T_b48be118_0395_11ea_8a5a_c4b301a11ae4row4_col1 {\n",
       "            background-color:  #9fbfff;\n",
       "            color:  #000000;\n",
       "        }    #T_b48be118_0395_11ea_8a5a_c4b301a11ae4row4_col2 {\n",
       "            background-color:  #a9c6fd;\n",
       "            color:  #000000;\n",
       "        }    #T_b48be118_0395_11ea_8a5a_c4b301a11ae4row4_col3 {\n",
       "            background-color:  #abc8fd;\n",
       "            color:  #000000;\n",
       "        }    #T_b48be118_0395_11ea_8a5a_c4b301a11ae4row4_col4 {\n",
       "            background-color:  #b40426;\n",
       "            color:  #f1f1f1;\n",
       "        }    #T_b48be118_0395_11ea_8a5a_c4b301a11ae4row4_col5 {\n",
       "            background-color:  #bad0f8;\n",
       "            color:  #000000;\n",
       "        }    #T_b48be118_0395_11ea_8a5a_c4b301a11ae4row4_col6 {\n",
       "            background-color:  #a1c0ff;\n",
       "            color:  #000000;\n",
       "        }    #T_b48be118_0395_11ea_8a5a_c4b301a11ae4row4_col7 {\n",
       "            background-color:  #f7b194;\n",
       "            color:  #000000;\n",
       "        }    #T_b48be118_0395_11ea_8a5a_c4b301a11ae4row4_col8 {\n",
       "            background-color:  #536edd;\n",
       "            color:  #000000;\n",
       "        }    #T_b48be118_0395_11ea_8a5a_c4b301a11ae4row4_col9 {\n",
       "            background-color:  #a5c3fe;\n",
       "            color:  #000000;\n",
       "        }    #T_b48be118_0395_11ea_8a5a_c4b301a11ae4row5_col0 {\n",
       "            background-color:  #84a7fc;\n",
       "            color:  #000000;\n",
       "        }    #T_b48be118_0395_11ea_8a5a_c4b301a11ae4row5_col1 {\n",
       "            background-color:  #3b4cc0;\n",
       "            color:  #f1f1f1;\n",
       "        }    #T_b48be118_0395_11ea_8a5a_c4b301a11ae4row5_col2 {\n",
       "            background-color:  #d24b40;\n",
       "            color:  #f1f1f1;\n",
       "        }    #T_b48be118_0395_11ea_8a5a_c4b301a11ae4row5_col3 {\n",
       "            background-color:  #eb7d62;\n",
       "            color:  #000000;\n",
       "        }    #T_b48be118_0395_11ea_8a5a_c4b301a11ae4row5_col4 {\n",
       "            background-color:  #b6cefa;\n",
       "            color:  #000000;\n",
       "        }    #T_b48be118_0395_11ea_8a5a_c4b301a11ae4row5_col5 {\n",
       "            background-color:  #b40426;\n",
       "            color:  #f1f1f1;\n",
       "        }    #T_b48be118_0395_11ea_8a5a_c4b301a11ae4row5_col6 {\n",
       "            background-color:  #3b4cc0;\n",
       "            color:  #f1f1f1;\n",
       "        }    #T_b48be118_0395_11ea_8a5a_c4b301a11ae4row5_col7 {\n",
       "            background-color:  #f2cab5;\n",
       "            color:  #000000;\n",
       "        }    #T_b48be118_0395_11ea_8a5a_c4b301a11ae4row5_col8 {\n",
       "            background-color:  #5673e0;\n",
       "            color:  #000000;\n",
       "        }    #T_b48be118_0395_11ea_8a5a_c4b301a11ae4row5_col9 {\n",
       "            background-color:  #f6a385;\n",
       "            color:  #000000;\n",
       "        }    #T_b48be118_0395_11ea_8a5a_c4b301a11ae4row6_col0 {\n",
       "            background-color:  #7699f6;\n",
       "            color:  #000000;\n",
       "        }    #T_b48be118_0395_11ea_8a5a_c4b301a11ae4row6_col1 {\n",
       "            background-color:  #c43032;\n",
       "            color:  #f1f1f1;\n",
       "        }    #T_b48be118_0395_11ea_8a5a_c4b301a11ae4row6_col2 {\n",
       "            background-color:  #3f53c6;\n",
       "            color:  #f1f1f1;\n",
       "        }    #T_b48be118_0395_11ea_8a5a_c4b301a11ae4row6_col3 {\n",
       "            background-color:  #4257c9;\n",
       "            color:  #f1f1f1;\n",
       "        }    #T_b48be118_0395_11ea_8a5a_c4b301a11ae4row6_col4 {\n",
       "            background-color:  #a2c1ff;\n",
       "            color:  #000000;\n",
       "        }    #T_b48be118_0395_11ea_8a5a_c4b301a11ae4row6_col5 {\n",
       "            background-color:  #4257c9;\n",
       "            color:  #f1f1f1;\n",
       "        }    #T_b48be118_0395_11ea_8a5a_c4b301a11ae4row6_col6 {\n",
       "            background-color:  #b40426;\n",
       "            color:  #f1f1f1;\n",
       "        }    #T_b48be118_0395_11ea_8a5a_c4b301a11ae4row6_col7 {\n",
       "            background-color:  #b2ccfb;\n",
       "            color:  #000000;\n",
       "        }    #T_b48be118_0395_11ea_8a5a_c4b301a11ae4row6_col8 {\n",
       "            background-color:  #f39577;\n",
       "            color:  #000000;\n",
       "        }    #T_b48be118_0395_11ea_8a5a_c4b301a11ae4row6_col9 {\n",
       "            background-color:  #4055c8;\n",
       "            color:  #f1f1f1;\n",
       "        }    #T_b48be118_0395_11ea_8a5a_c4b301a11ae4row7_col0 {\n",
       "            background-color:  #cedaeb;\n",
       "            color:  #000000;\n",
       "        }    #T_b48be118_0395_11ea_8a5a_c4b301a11ae4row7_col1 {\n",
       "            background-color:  #9ebeff;\n",
       "            color:  #000000;\n",
       "        }    #T_b48be118_0395_11ea_8a5a_c4b301a11ae4row7_col2 {\n",
       "            background-color:  #e1dad6;\n",
       "            color:  #000000;\n",
       "        }    #T_b48be118_0395_11ea_8a5a_c4b301a11ae4row7_col3 {\n",
       "            background-color:  #d9dce1;\n",
       "            color:  #000000;\n",
       "        }    #T_b48be118_0395_11ea_8a5a_c4b301a11ae4row7_col4 {\n",
       "            background-color:  #f7ba9f;\n",
       "            color:  #000000;\n",
       "        }    #T_b48be118_0395_11ea_8a5a_c4b301a11ae4row7_col5 {\n",
       "            background-color:  #eed0c0;\n",
       "            color:  #000000;\n",
       "        }    #T_b48be118_0395_11ea_8a5a_c4b301a11ae4row7_col6 {\n",
       "            background-color:  #9dbdff;\n",
       "            color:  #000000;\n",
       "        }    #T_b48be118_0395_11ea_8a5a_c4b301a11ae4row7_col7 {\n",
       "            background-color:  #b40426;\n",
       "            color:  #f1f1f1;\n",
       "        }    #T_b48be118_0395_11ea_8a5a_c4b301a11ae4row7_col8 {\n",
       "            background-color:  #3b4cc0;\n",
       "            color:  #f1f1f1;\n",
       "        }    #T_b48be118_0395_11ea_8a5a_c4b301a11ae4row7_col9 {\n",
       "            background-color:  #f29072;\n",
       "            color:  #000000;\n",
       "        }    #T_b48be118_0395_11ea_8a5a_c4b301a11ae4row8_col0 {\n",
       "            background-color:  #3b4cc0;\n",
       "            color:  #f1f1f1;\n",
       "        }    #T_b48be118_0395_11ea_8a5a_c4b301a11ae4row8_col1 {\n",
       "            background-color:  #f7a98b;\n",
       "            color:  #000000;\n",
       "        }    #T_b48be118_0395_11ea_8a5a_c4b301a11ae4row8_col2 {\n",
       "            background-color:  #3e51c5;\n",
       "            color:  #f1f1f1;\n",
       "        }    #T_b48be118_0395_11ea_8a5a_c4b301a11ae4row8_col3 {\n",
       "            background-color:  #465ecf;\n",
       "            color:  #f1f1f1;\n",
       "        }    #T_b48be118_0395_11ea_8a5a_c4b301a11ae4row8_col4 {\n",
       "            background-color:  #3b4cc0;\n",
       "            color:  #f1f1f1;\n",
       "        }    #T_b48be118_0395_11ea_8a5a_c4b301a11ae4row8_col5 {\n",
       "            background-color:  #4358cb;\n",
       "            color:  #f1f1f1;\n",
       "        }    #T_b48be118_0395_11ea_8a5a_c4b301a11ae4row8_col6 {\n",
       "            background-color:  #f59f80;\n",
       "            color:  #000000;\n",
       "        }    #T_b48be118_0395_11ea_8a5a_c4b301a11ae4row8_col7 {\n",
       "            background-color:  #3b4cc0;\n",
       "            color:  #f1f1f1;\n",
       "        }    #T_b48be118_0395_11ea_8a5a_c4b301a11ae4row8_col8 {\n",
       "            background-color:  #b40426;\n",
       "            color:  #f1f1f1;\n",
       "        }    #T_b48be118_0395_11ea_8a5a_c4b301a11ae4row8_col9 {\n",
       "            background-color:  #3b4cc0;\n",
       "            color:  #f1f1f1;\n",
       "        }    #T_b48be118_0395_11ea_8a5a_c4b301a11ae4row9_col0 {\n",
       "            background-color:  #93b5fe;\n",
       "            color:  #000000;\n",
       "        }    #T_b48be118_0395_11ea_8a5a_c4b301a11ae4row9_col1 {\n",
       "            background-color:  #4c66d6;\n",
       "            color:  #000000;\n",
       "        }    #T_b48be118_0395_11ea_8a5a_c4b301a11ae4row9_col2 {\n",
       "            background-color:  #f7b599;\n",
       "            color:  #000000;\n",
       "        }    #T_b48be118_0395_11ea_8a5a_c4b301a11ae4row9_col3 {\n",
       "            background-color:  #f2cbb7;\n",
       "            color:  #000000;\n",
       "        }    #T_b48be118_0395_11ea_8a5a_c4b301a11ae4row9_col4 {\n",
       "            background-color:  #abc8fd;\n",
       "            color:  #000000;\n",
       "        }    #T_b48be118_0395_11ea_8a5a_c4b301a11ae4row9_col5 {\n",
       "            background-color:  #f59f80;\n",
       "            color:  #000000;\n",
       "        }    #T_b48be118_0395_11ea_8a5a_c4b301a11ae4row9_col6 {\n",
       "            background-color:  #465ecf;\n",
       "            color:  #f1f1f1;\n",
       "        }    #T_b48be118_0395_11ea_8a5a_c4b301a11ae4row9_col7 {\n",
       "            background-color:  #ee8468;\n",
       "            color:  #000000;\n",
       "        }    #T_b48be118_0395_11ea_8a5a_c4b301a11ae4row9_col8 {\n",
       "            background-color:  #5b7ae5;\n",
       "            color:  #000000;\n",
       "        }    #T_b48be118_0395_11ea_8a5a_c4b301a11ae4row9_col9 {\n",
       "            background-color:  #b40426;\n",
       "            color:  #f1f1f1;\n",
       "        }</style><table id=\"T_b48be118_0395_11ea_8a5a_c4b301a11ae4\" ><thead>    <tr>        <th class=\"blank level0\" ></th>        <th class=\"col_heading level0 col0\" >Survived</th>        <th class=\"col_heading level0 col1\" >Age</th>        <th class=\"col_heading level0 col2\" >SibSp</th>        <th class=\"col_heading level0 col3\" >Parch</th>        <th class=\"col_heading level0 col4\" >Fare</th>        <th class=\"col_heading level0 col5\" >FamilySize</th>        <th class=\"col_heading level0 col6\" >Age_bucket</th>        <th class=\"col_heading level0 col7\" >Fare_bucket</th>        <th class=\"col_heading level0 col8\" >Age_bucket*Class</th>        <th class=\"col_heading level0 col9\" >Fare_bucket*Class</th>    </tr></thead><tbody>\n",
       "                <tr>\n",
       "                        <th id=\"T_b48be118_0395_11ea_8a5a_c4b301a11ae4level0_row0\" class=\"row_heading level0 row0\" >Survived</th>\n",
       "                        <td id=\"T_b48be118_0395_11ea_8a5a_c4b301a11ae4row0_col0\" class=\"data row0 col0\" >1</td>\n",
       "                        <td id=\"T_b48be118_0395_11ea_8a5a_c4b301a11ae4row0_col1\" class=\"data row0 col1\" >-0.067</td>\n",
       "                        <td id=\"T_b48be118_0395_11ea_8a5a_c4b301a11ae4row0_col2\" class=\"data row0 col2\" >-0.035</td>\n",
       "                        <td id=\"T_b48be118_0395_11ea_8a5a_c4b301a11ae4row0_col3\" class=\"data row0 col3\" >0.082</td>\n",
       "                        <td id=\"T_b48be118_0395_11ea_8a5a_c4b301a11ae4row0_col4\" class=\"data row0 col4\" >0.26</td>\n",
       "                        <td id=\"T_b48be118_0395_11ea_8a5a_c4b301a11ae4row0_col5\" class=\"data row0 col5\" >0.017</td>\n",
       "                        <td id=\"T_b48be118_0395_11ea_8a5a_c4b301a11ae4row0_col6\" class=\"data row0 col6\" >-0.036</td>\n",
       "                        <td id=\"T_b48be118_0395_11ea_8a5a_c4b301a11ae4row0_col7\" class=\"data row0 col7\" >0.3</td>\n",
       "                        <td id=\"T_b48be118_0395_11ea_8a5a_c4b301a11ae4row0_col8\" class=\"data row0 col8\" >-0.27</td>\n",
       "                        <td id=\"T_b48be118_0395_11ea_8a5a_c4b301a11ae4row0_col9\" class=\"data row0 col9\" >0.071</td>\n",
       "            </tr>\n",
       "            <tr>\n",
       "                        <th id=\"T_b48be118_0395_11ea_8a5a_c4b301a11ae4level0_row1\" class=\"row_heading level0 row1\" >Age</th>\n",
       "                        <td id=\"T_b48be118_0395_11ea_8a5a_c4b301a11ae4row1_col0\" class=\"data row1 col0\" >-0.067</td>\n",
       "                        <td id=\"T_b48be118_0395_11ea_8a5a_c4b301a11ae4row1_col1\" class=\"data row1 col1\" >1</td>\n",
       "                        <td id=\"T_b48be118_0395_11ea_8a5a_c4b301a11ae4row1_col2\" class=\"data row1 col2\" >-0.25</td>\n",
       "                        <td id=\"T_b48be118_0395_11ea_8a5a_c4b301a11ae4row1_col3\" class=\"data row1 col3\" >-0.18</td>\n",
       "                        <td id=\"T_b48be118_0395_11ea_8a5a_c4b301a11ae4row1_col4\" class=\"data row1 col4\" >0.12</td>\n",
       "                        <td id=\"T_b48be118_0395_11ea_8a5a_c4b301a11ae4row1_col5\" class=\"data row1 col5\" >-0.26</td>\n",
       "                        <td id=\"T_b48be118_0395_11ea_8a5a_c4b301a11ae4row1_col6\" class=\"data row1 col6\" >0.94</td>\n",
       "                        <td id=\"T_b48be118_0395_11ea_8a5a_c4b301a11ae4row1_col7\" class=\"data row1 col7\" >0.12</td>\n",
       "                        <td id=\"T_b48be118_0395_11ea_8a5a_c4b301a11ae4row1_col8\" class=\"data row1 col8\" >0.63</td>\n",
       "                        <td id=\"T_b48be118_0395_11ea_8a5a_c4b301a11ae4row1_col9\" class=\"data row1 col9\" >-0.18</td>\n",
       "            </tr>\n",
       "            <tr>\n",
       "                        <th id=\"T_b48be118_0395_11ea_8a5a_c4b301a11ae4level0_row2\" class=\"row_heading level0 row2\" >SibSp</th>\n",
       "                        <td id=\"T_b48be118_0395_11ea_8a5a_c4b301a11ae4row2_col0\" class=\"data row2 col0\" >-0.035</td>\n",
       "                        <td id=\"T_b48be118_0395_11ea_8a5a_c4b301a11ae4row2_col1\" class=\"data row2 col1\" >-0.25</td>\n",
       "                        <td id=\"T_b48be118_0395_11ea_8a5a_c4b301a11ae4row2_col2\" class=\"data row2 col2\" >1</td>\n",
       "                        <td id=\"T_b48be118_0395_11ea_8a5a_c4b301a11ae4row2_col3\" class=\"data row2 col3\" >0.41</td>\n",
       "                        <td id=\"T_b48be118_0395_11ea_8a5a_c4b301a11ae4row2_col4\" class=\"data row2 col4\" >0.16</td>\n",
       "                        <td id=\"T_b48be118_0395_11ea_8a5a_c4b301a11ae4row2_col5\" class=\"data row2 col5\" >0.89</td>\n",
       "                        <td id=\"T_b48be118_0395_11ea_8a5a_c4b301a11ae4row2_col6\" class=\"data row2 col6\" >-0.23</td>\n",
       "                        <td id=\"T_b48be118_0395_11ea_8a5a_c4b301a11ae4row2_col7\" class=\"data row2 col7\" >0.39</td>\n",
       "                        <td id=\"T_b48be118_0395_11ea_8a5a_c4b301a11ae4row2_col8\" class=\"data row2 col8\" >-0.23</td>\n",
       "                        <td id=\"T_b48be118_0395_11ea_8a5a_c4b301a11ae4row2_col9\" class=\"data row2 col9\" >0.59</td>\n",
       "            </tr>\n",
       "            <tr>\n",
       "                        <th id=\"T_b48be118_0395_11ea_8a5a_c4b301a11ae4level0_row3\" class=\"row_heading level0 row3\" >Parch</th>\n",
       "                        <td id=\"T_b48be118_0395_11ea_8a5a_c4b301a11ae4row3_col0\" class=\"data row3 col0\" >0.082</td>\n",
       "                        <td id=\"T_b48be118_0395_11ea_8a5a_c4b301a11ae4row3_col1\" class=\"data row3 col1\" >-0.18</td>\n",
       "                        <td id=\"T_b48be118_0395_11ea_8a5a_c4b301a11ae4row3_col2\" class=\"data row3 col2\" >0.41</td>\n",
       "                        <td id=\"T_b48be118_0395_11ea_8a5a_c4b301a11ae4row3_col3\" class=\"data row3 col3\" >1</td>\n",
       "                        <td id=\"T_b48be118_0395_11ea_8a5a_c4b301a11ae4row3_col4\" class=\"data row3 col4\" >0.22</td>\n",
       "                        <td id=\"T_b48be118_0395_11ea_8a5a_c4b301a11ae4row3_col5\" class=\"data row3 col5\" >0.78</td>\n",
       "                        <td id=\"T_b48be118_0395_11ea_8a5a_c4b301a11ae4row3_col6\" class=\"data row3 col6\" >-0.15</td>\n",
       "                        <td id=\"T_b48be118_0395_11ea_8a5a_c4b301a11ae4row3_col7\" class=\"data row3 col7\" >0.39</td>\n",
       "                        <td id=\"T_b48be118_0395_11ea_8a5a_c4b301a11ae4row3_col8\" class=\"data row3 col8\" >-0.13</td>\n",
       "                        <td id=\"T_b48be118_0395_11ea_8a5a_c4b301a11ae4row3_col9\" class=\"data row3 col9\" >0.53</td>\n",
       "            </tr>\n",
       "            <tr>\n",
       "                        <th id=\"T_b48be118_0395_11ea_8a5a_c4b301a11ae4level0_row4\" class=\"row_heading level0 row4\" >Fare</th>\n",
       "                        <td id=\"T_b48be118_0395_11ea_8a5a_c4b301a11ae4row4_col0\" class=\"data row4 col0\" >0.26</td>\n",
       "                        <td id=\"T_b48be118_0395_11ea_8a5a_c4b301a11ae4row4_col1\" class=\"data row4 col1\" >0.12</td>\n",
       "                        <td id=\"T_b48be118_0395_11ea_8a5a_c4b301a11ae4row4_col2\" class=\"data row4 col2\" >0.16</td>\n",
       "                        <td id=\"T_b48be118_0395_11ea_8a5a_c4b301a11ae4row4_col3\" class=\"data row4 col3\" >0.22</td>\n",
       "                        <td id=\"T_b48be118_0395_11ea_8a5a_c4b301a11ae4row4_col4\" class=\"data row4 col4\" >1</td>\n",
       "                        <td id=\"T_b48be118_0395_11ea_8a5a_c4b301a11ae4row4_col5\" class=\"data row4 col5\" >0.22</td>\n",
       "                        <td id=\"T_b48be118_0395_11ea_8a5a_c4b301a11ae4row4_col6\" class=\"data row4 col6\" >0.15</td>\n",
       "                        <td id=\"T_b48be118_0395_11ea_8a5a_c4b301a11ae4row4_col7\" class=\"data row4 col7\" >0.58</td>\n",
       "                        <td id=\"T_b48be118_0395_11ea_8a5a_c4b301a11ae4row4_col8\" class=\"data row4 col8\" >-0.24</td>\n",
       "                        <td id=\"T_b48be118_0395_11ea_8a5a_c4b301a11ae4row4_col9\" class=\"data row4 col9\" >0.18</td>\n",
       "            </tr>\n",
       "            <tr>\n",
       "                        <th id=\"T_b48be118_0395_11ea_8a5a_c4b301a11ae4level0_row5\" class=\"row_heading level0 row5\" >FamilySize</th>\n",
       "                        <td id=\"T_b48be118_0395_11ea_8a5a_c4b301a11ae4row5_col0\" class=\"data row5 col0\" >0.017</td>\n",
       "                        <td id=\"T_b48be118_0395_11ea_8a5a_c4b301a11ae4row5_col1\" class=\"data row5 col1\" >-0.26</td>\n",
       "                        <td id=\"T_b48be118_0395_11ea_8a5a_c4b301a11ae4row5_col2\" class=\"data row5 col2\" >0.89</td>\n",
       "                        <td id=\"T_b48be118_0395_11ea_8a5a_c4b301a11ae4row5_col3\" class=\"data row5 col3\" >0.78</td>\n",
       "                        <td id=\"T_b48be118_0395_11ea_8a5a_c4b301a11ae4row5_col4\" class=\"data row5 col4\" >0.22</td>\n",
       "                        <td id=\"T_b48be118_0395_11ea_8a5a_c4b301a11ae4row5_col5\" class=\"data row5 col5\" >1</td>\n",
       "                        <td id=\"T_b48be118_0395_11ea_8a5a_c4b301a11ae4row5_col6\" class=\"data row5 col6\" >-0.23</td>\n",
       "                        <td id=\"T_b48be118_0395_11ea_8a5a_c4b301a11ae4row5_col7\" class=\"data row5 col7\" >0.47</td>\n",
       "                        <td id=\"T_b48be118_0395_11ea_8a5a_c4b301a11ae4row5_col8\" class=\"data row5 col8\" >-0.23</td>\n",
       "                        <td id=\"T_b48be118_0395_11ea_8a5a_c4b301a11ae4row5_col9\" class=\"data row5 col9\" >0.67</td>\n",
       "            </tr>\n",
       "            <tr>\n",
       "                        <th id=\"T_b48be118_0395_11ea_8a5a_c4b301a11ae4level0_row6\" class=\"row_heading level0 row6\" >Age_bucket</th>\n",
       "                        <td id=\"T_b48be118_0395_11ea_8a5a_c4b301a11ae4row6_col0\" class=\"data row6 col0\" >-0.036</td>\n",
       "                        <td id=\"T_b48be118_0395_11ea_8a5a_c4b301a11ae4row6_col1\" class=\"data row6 col1\" >0.94</td>\n",
       "                        <td id=\"T_b48be118_0395_11ea_8a5a_c4b301a11ae4row6_col2\" class=\"data row6 col2\" >-0.23</td>\n",
       "                        <td id=\"T_b48be118_0395_11ea_8a5a_c4b301a11ae4row6_col3\" class=\"data row6 col3\" >-0.15</td>\n",
       "                        <td id=\"T_b48be118_0395_11ea_8a5a_c4b301a11ae4row6_col4\" class=\"data row6 col4\" >0.15</td>\n",
       "                        <td id=\"T_b48be118_0395_11ea_8a5a_c4b301a11ae4row6_col5\" class=\"data row6 col5\" >-0.23</td>\n",
       "                        <td id=\"T_b48be118_0395_11ea_8a5a_c4b301a11ae4row6_col6\" class=\"data row6 col6\" >1</td>\n",
       "                        <td id=\"T_b48be118_0395_11ea_8a5a_c4b301a11ae4row6_col7\" class=\"data row6 col7\" >0.13</td>\n",
       "                        <td id=\"T_b48be118_0395_11ea_8a5a_c4b301a11ae4row6_col8\" class=\"data row6 col8\" >0.68</td>\n",
       "                        <td id=\"T_b48be118_0395_11ea_8a5a_c4b301a11ae4row6_col9\" class=\"data row6 col9\" >-0.18</td>\n",
       "            </tr>\n",
       "            <tr>\n",
       "                        <th id=\"T_b48be118_0395_11ea_8a5a_c4b301a11ae4level0_row7\" class=\"row_heading level0 row7\" >Fare_bucket</th>\n",
       "                        <td id=\"T_b48be118_0395_11ea_8a5a_c4b301a11ae4row7_col0\" class=\"data row7 col0\" >0.3</td>\n",
       "                        <td id=\"T_b48be118_0395_11ea_8a5a_c4b301a11ae4row7_col1\" class=\"data row7 col1\" >0.12</td>\n",
       "                        <td id=\"T_b48be118_0395_11ea_8a5a_c4b301a11ae4row7_col2\" class=\"data row7 col2\" >0.39</td>\n",
       "                        <td id=\"T_b48be118_0395_11ea_8a5a_c4b301a11ae4row7_col3\" class=\"data row7 col3\" >0.39</td>\n",
       "                        <td id=\"T_b48be118_0395_11ea_8a5a_c4b301a11ae4row7_col4\" class=\"data row7 col4\" >0.58</td>\n",
       "                        <td id=\"T_b48be118_0395_11ea_8a5a_c4b301a11ae4row7_col5\" class=\"data row7 col5\" >0.47</td>\n",
       "                        <td id=\"T_b48be118_0395_11ea_8a5a_c4b301a11ae4row7_col6\" class=\"data row7 col6\" >0.13</td>\n",
       "                        <td id=\"T_b48be118_0395_11ea_8a5a_c4b301a11ae4row7_col7\" class=\"data row7 col7\" >1</td>\n",
       "                        <td id=\"T_b48be118_0395_11ea_8a5a_c4b301a11ae4row7_col8\" class=\"data row7 col8\" >-0.35</td>\n",
       "                        <td id=\"T_b48be118_0395_11ea_8a5a_c4b301a11ae4row7_col9\" class=\"data row7 col9\" >0.73</td>\n",
       "            </tr>\n",
       "            <tr>\n",
       "                        <th id=\"T_b48be118_0395_11ea_8a5a_c4b301a11ae4level0_row8\" class=\"row_heading level0 row8\" >Age_bucket*Class</th>\n",
       "                        <td id=\"T_b48be118_0395_11ea_8a5a_c4b301a11ae4row8_col0\" class=\"data row8 col0\" >-0.27</td>\n",
       "                        <td id=\"T_b48be118_0395_11ea_8a5a_c4b301a11ae4row8_col1\" class=\"data row8 col1\" >0.63</td>\n",
       "                        <td id=\"T_b48be118_0395_11ea_8a5a_c4b301a11ae4row8_col2\" class=\"data row8 col2\" >-0.23</td>\n",
       "                        <td id=\"T_b48be118_0395_11ea_8a5a_c4b301a11ae4row8_col3\" class=\"data row8 col3\" >-0.13</td>\n",
       "                        <td id=\"T_b48be118_0395_11ea_8a5a_c4b301a11ae4row8_col4\" class=\"data row8 col4\" >-0.24</td>\n",
       "                        <td id=\"T_b48be118_0395_11ea_8a5a_c4b301a11ae4row8_col5\" class=\"data row8 col5\" >-0.23</td>\n",
       "                        <td id=\"T_b48be118_0395_11ea_8a5a_c4b301a11ae4row8_col6\" class=\"data row8 col6\" >0.68</td>\n",
       "                        <td id=\"T_b48be118_0395_11ea_8a5a_c4b301a11ae4row8_col7\" class=\"data row8 col7\" >-0.35</td>\n",
       "                        <td id=\"T_b48be118_0395_11ea_8a5a_c4b301a11ae4row8_col8\" class=\"data row8 col8\" >1</td>\n",
       "                        <td id=\"T_b48be118_0395_11ea_8a5a_c4b301a11ae4row8_col9\" class=\"data row8 col9\" >-0.21</td>\n",
       "            </tr>\n",
       "            <tr>\n",
       "                        <th id=\"T_b48be118_0395_11ea_8a5a_c4b301a11ae4level0_row9\" class=\"row_heading level0 row9\" >Fare_bucket*Class</th>\n",
       "                        <td id=\"T_b48be118_0395_11ea_8a5a_c4b301a11ae4row9_col0\" class=\"data row9 col0\" >0.071</td>\n",
       "                        <td id=\"T_b48be118_0395_11ea_8a5a_c4b301a11ae4row9_col1\" class=\"data row9 col1\" >-0.18</td>\n",
       "                        <td id=\"T_b48be118_0395_11ea_8a5a_c4b301a11ae4row9_col2\" class=\"data row9 col2\" >0.59</td>\n",
       "                        <td id=\"T_b48be118_0395_11ea_8a5a_c4b301a11ae4row9_col3\" class=\"data row9 col3\" >0.53</td>\n",
       "                        <td id=\"T_b48be118_0395_11ea_8a5a_c4b301a11ae4row9_col4\" class=\"data row9 col4\" >0.18</td>\n",
       "                        <td id=\"T_b48be118_0395_11ea_8a5a_c4b301a11ae4row9_col5\" class=\"data row9 col5\" >0.67</td>\n",
       "                        <td id=\"T_b48be118_0395_11ea_8a5a_c4b301a11ae4row9_col6\" class=\"data row9 col6\" >-0.18</td>\n",
       "                        <td id=\"T_b48be118_0395_11ea_8a5a_c4b301a11ae4row9_col7\" class=\"data row9 col7\" >0.73</td>\n",
       "                        <td id=\"T_b48be118_0395_11ea_8a5a_c4b301a11ae4row9_col8\" class=\"data row9 col8\" >-0.21</td>\n",
       "                        <td id=\"T_b48be118_0395_11ea_8a5a_c4b301a11ae4row9_col9\" class=\"data row9 col9\" >1</td>\n",
       "            </tr>\n",
       "    </tbody></table>"
      ],
      "text/plain": [
       "<pandas.io.formats.style.Styler at 0x12d5da690>"
      ]
     },
     "execution_count": 227,
     "metadata": {},
     "output_type": "execute_result"
    }
   ],
   "source": [
    "categorical_features = ['Survived','Pclass', 'Sex', 'Embarked', 'Title']\n",
    "numerical_features   = ['Age', 'SibSp','Parch', 'Fare','FamilySize',\n",
    "                        'Age_bucket', 'Fare_bucket','Age_bucket*Class','Fare_bucket*Class']\n",
    "\n",
    "\n",
    "from sklearn.preprocessing import LabelEncoder\n",
    "\n",
    "catego_le = LabelEncoder()\n",
    "for feature in categorical_features:\n",
    "    train[feature] = catego_le.fit_transform(train[feature].values)\n",
    "    \n",
    "corr = train[['Survived'] + numerical_features].corr()\n",
    "corr.style.background_gradient(cmap='coolwarm').set_precision(2)"
   ]
  },
  {
   "cell_type": "markdown",
   "metadata": {},
   "source": [
    "* Highly correlated features can be chosen not to go together to avoid repetition of information. Some linear algorithms are sensitive to correlation."
   ]
  }
 ],
 "metadata": {
  "kernelspec": {
   "display_name": "Python 3",
   "language": "python",
   "name": "python3"
  },
  "language_info": {
   "codemirror_mode": {
    "name": "ipython",
    "version": 3
   },
   "file_extension": ".py",
   "mimetype": "text/x-python",
   "name": "python",
   "nbconvert_exporter": "python",
   "pygments_lexer": "ipython3",
   "version": "3.7.4"
  }
 },
 "nbformat": 4,
 "nbformat_minor": 2
}
