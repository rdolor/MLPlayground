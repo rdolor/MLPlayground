{
  "nbformat": 4,
  "nbformat_minor": 0,
  "metadata": {
    "kernelspec": {
      "name": "python3",
      "display_name": "Python 3"
    },
    "language_info": {
      "codemirror_mode": {
        "name": "ipython",
        "version": 3
      },
      "file_extension": ".py",
      "mimetype": "text/x-python",
      "name": "python",
      "nbconvert_exporter": "python",
      "pygments_lexer": "ipython3",
      "version": "3.7.4"
    },
    "colab": {
      "name": "preprocess.ipynb",
      "provenance": [],
      "include_colab_link": true
    },
    "accelerator": "TPU"
  },
  "cells": [
    {
      "cell_type": "markdown",
      "metadata": {
        "id": "view-in-github",
        "colab_type": "text"
      },
      "source": [
        "<a href=\"https://colab.research.google.com/github/rdolor/MLPlayground/blob/master/Titanic/preprocess-colab.ipynb\" target=\"_parent\"><img src=\"https://colab.research.google.com/assets/colab-badge.svg\" alt=\"Open In Colab\"/></a>"
      ]
    },
    {
      "cell_type": "code",
      "metadata": {
        "scrolled": true,
        "id": "DeSEFMW1uHLZ",
        "colab_type": "code",
        "colab": {
          "resources": {
            "http://localhost:8080/nbextensions/google.colab/files.js": {
              "data": "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",
              "ok": true,
              "headers": [
                [
                  "content-type",
                  "application/javascript"
                ]
              ],
              "status": 200,
              "status_text": ""
            }
          },
          "base_uri": "https://localhost:8080/",
          "height": 75
        },
        "outputId": "73bef24b-20c0-4f04-d7d6-ba78cc13bc1b"
      },
      "source": [
        "from google.colab import files\n",
        "uploaded = files.upload()"
      ],
      "execution_count": 2,
      "outputs": [
        {
          "output_type": "display_data",
          "data": {
            "text/html": [
              "\n",
              "     <input type=\"file\" id=\"files-431d51da-5539-4af7-bc0a-2a6096de4da9\" name=\"files[]\" multiple disabled />\n",
              "     <output id=\"result-431d51da-5539-4af7-bc0a-2a6096de4da9\">\n",
              "      Upload widget is only available when the cell has been executed in the\n",
              "      current browser session. Please rerun this cell to enable.\n",
              "      </output>\n",
              "      <script src=\"/nbextensions/google.colab/files.js\"></script> "
            ],
            "text/plain": [
              "<IPython.core.display.HTML object>"
            ]
          },
          "metadata": {
            "tags": []
          }
        },
        {
          "output_type": "stream",
          "text": [
            "Saving kaggle.json to kaggle.json\n"
          ],
          "name": "stdout"
        }
      ]
    },
    {
      "cell_type": "code",
      "metadata": {
        "id": "d3aGt6PyzcnW",
        "colab_type": "code",
        "colab": {}
      },
      "source": [
        "import json\n",
        "with open('kaggle.json') as f:\n",
        "  kaggle_api = json.load(f)\n",
        "  \n",
        "import os\n",
        "os.environ['KAGGLE_USERNAME'] = kaggle_api['username']\n",
        "os.environ['KAGGLE_KEY'] = kaggle_api['key']"
      ],
      "execution_count": 0,
      "outputs": []
    },
    {
      "cell_type": "code",
      "metadata": {
        "id": "5dNGUoOAy7Be",
        "colab_type": "code",
        "colab": {
          "base_uri": "https://localhost:8080/",
          "height": 115
        },
        "outputId": "6db44e34-08ce-4a2b-e0f3-8e8b5b761e05"
      },
      "source": [
        "!kaggle competitions download -c titanic"
      ],
      "execution_count": 6,
      "outputs": [
        {
          "output_type": "stream",
          "text": [
            "Warning: Looks like you're using an outdated API Version, please consider updating (server 1.5.6 / client 1.5.4)\n",
            "test.csv: Skipping, found more recently modified local copy (use --force to force download)\n",
            "train.csv: Skipping, found more recently modified local copy (use --force to force download)\n",
            "gender_submission.csv: Skipping, found more recently modified local copy (use --force to force download)\n"
          ],
          "name": "stdout"
        }
      ]
    },
    {
      "cell_type": "code",
      "metadata": {
        "id": "Cno69hWK05mq",
        "colab_type": "code",
        "colab": {
          "base_uri": "https://localhost:8080/",
          "height": 64
        },
        "outputId": "e86fe550-2dd4-4f7c-f54b-c4be515deb80"
      },
      "source": [
        "ls"
      ],
      "execution_count": 7,
      "outputs": [
        {
          "output_type": "stream",
          "text": [
            "gender_submission.csv  kaggle.json  \u001b[0m\u001b[01;34msample_data\u001b[0m/  test.csv  train.csv\n"
          ],
          "name": "stdout"
        }
      ]
    },
    {
      "cell_type": "code",
      "metadata": {
        "id": "ZndIoBz0uHLg",
        "colab_type": "code",
        "colab": {}
      },
      "source": [
        "import pandas as pd\n",
        "import matplotlib\n",
        "import seaborn as sns\n",
        "\n",
        "from matplotlib import pyplot as plt\n",
        "%matplotlib inline\n",
        "\n",
        "font = {'family' : 'DejaVu Sans',\n",
        "        'weight' : 'bold',\n",
        "        'size'   : 12}\n",
        "matplotlib.rc('font', **font)"
      ],
      "execution_count": 0,
      "outputs": []
    },
    {
      "cell_type": "markdown",
      "metadata": {
        "id": "_PmpBZzquHLk",
        "colab_type": "text"
      },
      "source": [
        "## 1. Load the data"
      ]
    },
    {
      "cell_type": "code",
      "metadata": {
        "id": "1cAwi9EUuHLm",
        "colab_type": "code",
        "colab": {
          "base_uri": "https://localhost:8080/",
          "height": 51
        },
        "outputId": "f36cd7ce-1a56-4c24-8e5d-8d501e8348d9"
      },
      "source": [
        "train = pd.read_csv(\"train.csv\",header=0)\n",
        "test = pd.read_csv(\"test.csv\",header=0)\n",
        "print('train and test shape = ', train.shape, test.shape)\n",
        "print('label name', set(train.columns) - set(test.columns))"
      ],
      "execution_count": 9,
      "outputs": [
        {
          "output_type": "stream",
          "text": [
            "train and test shape =  (891, 12) (418, 11)\n",
            "label name {'Survived'}\n"
          ],
          "name": "stdout"
        }
      ]
    },
    {
      "cell_type": "markdown",
      "metadata": {
        "id": "pGcCRsaTuHLr",
        "colab_type": "text"
      },
      "source": [
        "#### Sample of data"
      ]
    },
    {
      "cell_type": "code",
      "metadata": {
        "scrolled": true,
        "id": "wjkp1xPMuHLt",
        "colab_type": "code",
        "colab": {
          "base_uri": "https://localhost:8080/",
          "height": 111
        },
        "outputId": "ca50bf75-7a24-48f0-c640-b4340669d07d"
      },
      "source": [
        "train.head(2)"
      ],
      "execution_count": 10,
      "outputs": [
        {
          "output_type": "execute_result",
          "data": {
            "text/html": [
              "<div>\n",
              "<style scoped>\n",
              "    .dataframe tbody tr th:only-of-type {\n",
              "        vertical-align: middle;\n",
              "    }\n",
              "\n",
              "    .dataframe tbody tr th {\n",
              "        vertical-align: top;\n",
              "    }\n",
              "\n",
              "    .dataframe thead th {\n",
              "        text-align: right;\n",
              "    }\n",
              "</style>\n",
              "<table border=\"1\" class=\"dataframe\">\n",
              "  <thead>\n",
              "    <tr style=\"text-align: right;\">\n",
              "      <th></th>\n",
              "      <th>PassengerId</th>\n",
              "      <th>Survived</th>\n",
              "      <th>Pclass</th>\n",
              "      <th>Name</th>\n",
              "      <th>Sex</th>\n",
              "      <th>Age</th>\n",
              "      <th>SibSp</th>\n",
              "      <th>Parch</th>\n",
              "      <th>Ticket</th>\n",
              "      <th>Fare</th>\n",
              "      <th>Cabin</th>\n",
              "      <th>Embarked</th>\n",
              "    </tr>\n",
              "  </thead>\n",
              "  <tbody>\n",
              "    <tr>\n",
              "      <th>0</th>\n",
              "      <td>1</td>\n",
              "      <td>0</td>\n",
              "      <td>3</td>\n",
              "      <td>Braund, Mr. Owen Harris</td>\n",
              "      <td>male</td>\n",
              "      <td>22.0</td>\n",
              "      <td>1</td>\n",
              "      <td>0</td>\n",
              "      <td>A/5 21171</td>\n",
              "      <td>7.2500</td>\n",
              "      <td>NaN</td>\n",
              "      <td>S</td>\n",
              "    </tr>\n",
              "    <tr>\n",
              "      <th>1</th>\n",
              "      <td>2</td>\n",
              "      <td>1</td>\n",
              "      <td>1</td>\n",
              "      <td>Cumings, Mrs. John Bradley (Florence Briggs Th...</td>\n",
              "      <td>female</td>\n",
              "      <td>38.0</td>\n",
              "      <td>1</td>\n",
              "      <td>0</td>\n",
              "      <td>PC 17599</td>\n",
              "      <td>71.2833</td>\n",
              "      <td>C85</td>\n",
              "      <td>C</td>\n",
              "    </tr>\n",
              "  </tbody>\n",
              "</table>\n",
              "</div>"
            ],
            "text/plain": [
              "   PassengerId  Survived  Pclass  ...     Fare Cabin  Embarked\n",
              "0            1         0       3  ...   7.2500   NaN         S\n",
              "1            2         1       1  ...  71.2833   C85         C\n",
              "\n",
              "[2 rows x 12 columns]"
            ]
          },
          "metadata": {
            "tags": []
          },
          "execution_count": 10
        }
      ]
    },
    {
      "cell_type": "markdown",
      "metadata": {
        "id": "Qro_JpNvuHLx",
        "colab_type": "text"
      },
      "source": [
        "#### Information\n",
        "\n",
        "|Variable|Definition|Key|\n",
        "|---|---|---|\n",
        "|survival|Ticket class|1 = 1st, 2 = 2nd, 3 = 3rd|\n",
        "|sex\t|Sex\t|\n",
        "|Age\t|Age in years|\t\n",
        "|sibsp\t|# of siblings / spouses aboard the Titanic\t|\n",
        "|parch\t|# of parents / children aboard the Titanic\t|\n",
        "|ticket\t|Ticket number\t|\n",
        "|fare\t|Passenger fare\t|\n",
        "|cabin\t|Cabin number\t|\n",
        "|embarked|\tPort of Embarkation|C = Cherbourg, Q = Queenstown, S = Southampton|### Information\n",
        "\n"
      ]
    },
    {
      "cell_type": "markdown",
      "metadata": {
        "id": "hBMVmsiUuHLy",
        "colab_type": "text"
      },
      "source": [
        "#### Features data type"
      ]
    },
    {
      "cell_type": "code",
      "metadata": {
        "id": "JlfrgzkVuHL0",
        "colab_type": "code",
        "colab": {
          "base_uri": "https://localhost:8080/",
          "height": 306
        },
        "outputId": "3d0bfd71-fadc-42b8-ed0b-ac9a7f636d82"
      },
      "source": [
        "train.info()"
      ],
      "execution_count": 11,
      "outputs": [
        {
          "output_type": "stream",
          "text": [
            "<class 'pandas.core.frame.DataFrame'>\n",
            "RangeIndex: 891 entries, 0 to 890\n",
            "Data columns (total 12 columns):\n",
            "PassengerId    891 non-null int64\n",
            "Survived       891 non-null int64\n",
            "Pclass         891 non-null int64\n",
            "Name           891 non-null object\n",
            "Sex            891 non-null object\n",
            "Age            714 non-null float64\n",
            "SibSp          891 non-null int64\n",
            "Parch          891 non-null int64\n",
            "Ticket         891 non-null object\n",
            "Fare           891 non-null float64\n",
            "Cabin          204 non-null object\n",
            "Embarked       889 non-null object\n",
            "dtypes: float64(2), int64(5), object(5)\n",
            "memory usage: 83.7+ KB\n"
          ],
          "name": "stdout"
        }
      ]
    },
    {
      "cell_type": "markdown",
      "metadata": {
        "id": "kGHCsNGRuHL5",
        "colab_type": "text"
      },
      "source": [
        "* The data is a mixture of numerical features and categorical ones."
      ]
    },
    {
      "cell_type": "markdown",
      "metadata": {
        "id": "ne0M5X8uuHL7",
        "colab_type": "text"
      },
      "source": [
        "#### Number of missing values"
      ]
    },
    {
      "cell_type": "markdown",
      "metadata": {
        "id": "J8-oUU7SuHL8",
        "colab_type": "text"
      },
      "source": [
        "##### Training data:"
      ]
    },
    {
      "cell_type": "code",
      "metadata": {
        "id": "xp_-VJaIuHL-",
        "colab_type": "code",
        "colab": {
          "base_uri": "https://localhost:8080/",
          "height": 238
        },
        "outputId": "ffa71a5d-ad2c-4cd9-a7df-9378f7cd670a"
      },
      "source": [
        "train.isnull().sum()"
      ],
      "execution_count": 12,
      "outputs": [
        {
          "output_type": "execute_result",
          "data": {
            "text/plain": [
              "PassengerId      0\n",
              "Survived         0\n",
              "Pclass           0\n",
              "Name             0\n",
              "Sex              0\n",
              "Age            177\n",
              "SibSp            0\n",
              "Parch            0\n",
              "Ticket           0\n",
              "Fare             0\n",
              "Cabin          687\n",
              "Embarked         2\n",
              "dtype: int64"
            ]
          },
          "metadata": {
            "tags": []
          },
          "execution_count": 12
        }
      ]
    },
    {
      "cell_type": "code",
      "metadata": {
        "id": "FNrULzCguHMC",
        "colab_type": "code",
        "colab": {
          "base_uri": "https://localhost:8080/",
          "height": 34
        },
        "outputId": "281c24ae-bec0-4dd9-b825-ff1d893a9a78"
      },
      "source": [
        "'% of missing values in Training data = Age: {}, Cabin:{}'.format(100*(177/891), 100*(687/891))"
      ],
      "execution_count": 13,
      "outputs": [
        {
          "output_type": "execute_result",
          "data": {
            "text/plain": [
              "'% of missing values in Training data = Age: 19.865319865319865, Cabin:77.10437710437711'"
            ]
          },
          "metadata": {
            "tags": []
          },
          "execution_count": 13
        }
      ]
    },
    {
      "cell_type": "markdown",
      "metadata": {
        "id": "4GcKfSq_uHMF",
        "colab_type": "text"
      },
      "source": [
        "* `Cabin` has so many missing values to be useful, will drop it. Imputing its information may cause a lot of noise."
      ]
    },
    {
      "cell_type": "code",
      "metadata": {
        "id": "bFisWTlCuHMG",
        "colab_type": "code",
        "colab": {}
      },
      "source": [
        "train.drop('Cabin', axis=1, inplace=True)"
      ],
      "execution_count": 0,
      "outputs": []
    },
    {
      "cell_type": "markdown",
      "metadata": {
        "id": "y9vh4kITuHMJ",
        "colab_type": "text"
      },
      "source": [
        "##### Test data:"
      ]
    },
    {
      "cell_type": "code",
      "metadata": {
        "id": "tniQC1HHuHMK",
        "colab_type": "code",
        "colab": {
          "base_uri": "https://localhost:8080/",
          "height": 221
        },
        "outputId": "7bccb6c0-3cf2-45a4-9fc7-47d194e428bd"
      },
      "source": [
        "test.isnull().sum()"
      ],
      "execution_count": 15,
      "outputs": [
        {
          "output_type": "execute_result",
          "data": {
            "text/plain": [
              "PassengerId      0\n",
              "Pclass           0\n",
              "Name             0\n",
              "Sex              0\n",
              "Age             86\n",
              "SibSp            0\n",
              "Parch            0\n",
              "Ticket           0\n",
              "Fare             1\n",
              "Cabin          327\n",
              "Embarked         0\n",
              "dtype: int64"
            ]
          },
          "metadata": {
            "tags": []
          },
          "execution_count": 15
        }
      ]
    },
    {
      "cell_type": "markdown",
      "metadata": {
        "id": "gi11kUWtuHMO",
        "colab_type": "text"
      },
      "source": [
        "* In real life, we will really not know which features will have missing values. It's best to give default values for each feature.\n",
        "* For this competition, for convenience, I will just create default values for those features I know have missing values on test file."
      ]
    },
    {
      "cell_type": "markdown",
      "metadata": {
        "id": "G99_CsXEuHMP",
        "colab_type": "text"
      },
      "source": [
        "#### Number of unique elements in each column"
      ]
    },
    {
      "cell_type": "code",
      "metadata": {
        "id": "Cf5hYocnuHMP",
        "colab_type": "code",
        "colab": {
          "base_uri": "https://localhost:8080/",
          "height": 204
        },
        "outputId": "32d5f4b0-6b8f-4c4a-8685-fdb12ae4093a"
      },
      "source": [
        "for col in train.columns:\n",
        "    print('{} : {}'.format(col,len(set(train[col]))))"
      ],
      "execution_count": 16,
      "outputs": [
        {
          "output_type": "stream",
          "text": [
            "PassengerId : 891\n",
            "Survived : 2\n",
            "Pclass : 3\n",
            "Name : 891\n",
            "Sex : 2\n",
            "Age : 265\n",
            "SibSp : 7\n",
            "Parch : 7\n",
            "Ticket : 681\n",
            "Fare : 248\n",
            "Embarked : 4\n"
          ],
          "name": "stdout"
        }
      ]
    },
    {
      "cell_type": "markdown",
      "metadata": {
        "id": "bsk-wH0nuHMR",
        "colab_type": "text"
      },
      "source": [
        "* each row has a unique PassengerId\n",
        "* `Name` and `Ticket` have to be parsed to collect useful information"
      ]
    },
    {
      "cell_type": "markdown",
      "metadata": {
        "id": "c9VQ9ZJHuHMR",
        "colab_type": "text"
      },
      "source": [
        "## 2. Visualize the relationship of each column with the label"
      ]
    },
    {
      "cell_type": "code",
      "metadata": {
        "id": "0QCLo1xpuHMS",
        "colab_type": "code",
        "colab": {
          "base_uri": "https://localhost:8080/",
          "height": 257
        },
        "outputId": "ae4c7c88-994b-4714-aa85-931aa42439fc"
      },
      "source": [
        "train[\"SurvivedCategory\"] = train.Survived.map(lambda x: \"Survived\" if x > 0 else \"Died\")\n",
        "\n",
        "g = sns.catplot(\"SurvivedCategory\", col=\"Sex\", col_wrap=4,\n",
        "                data=train,\n",
        "                kind=\"count\", height=3.5, aspect=.6, \n",
        "                palette='tab20')\n",
        "\n",
        "plt.show()"
      ],
      "execution_count": 17,
      "outputs": [
        {
          "output_type": "display_data",
          "data": {
            "image/png": "[encoded data removed]",
            "text/plain": [
              "<Figure size 604.8x252 with 2 Axes>"
            ]
          },
          "metadata": {
            "tags": []
          }
        }
      ]
    },
    {
      "cell_type": "markdown",
      "metadata": {
        "id": "JUmhqXzMuHMU",
        "colab_type": "text"
      },
      "source": [
        "* More male did not survive"
      ]
    },
    {
      "cell_type": "code",
      "metadata": {
        "id": "fAST9AfOuHMU",
        "colab_type": "code",
        "colab": {
          "base_uri": "https://localhost:8080/",
          "height": 257
        },
        "outputId": "1128c4e3-f830-4da6-80c0-56d504bcbf20"
      },
      "source": [
        "g = sns.catplot(\"SurvivedCategory\", col=\"Pclass\", col_wrap=4,\n",
        "                data=train,\n",
        "                kind=\"count\", height=3.5, aspect=.6, \n",
        "                palette='tab20')\n",
        "\n",
        "plt.show()"
      ],
      "execution_count": 18,
      "outputs": [
        {
          "output_type": "display_data",
          "data": {
            "image/png": "[encoded data removed]",
            "text/plain": [
              "<Figure size 604.8x252 with 3 Axes>"
            ]
          },
          "metadata": {
            "tags": []
          }
        }
      ]
    },
    {
      "cell_type": "markdown",
      "metadata": {
        "id": "cCyQfnWVuHMX",
        "colab_type": "text"
      },
      "source": [
        "* Class 3 did not survive the most"
      ]
    },
    {
      "cell_type": "code",
      "metadata": {
        "id": "6qYmV3kpuHMX",
        "colab_type": "code",
        "colab": {
          "base_uri": "https://localhost:8080/",
          "height": 257
        },
        "outputId": "2b880cee-afc2-4994-e4ba-510a092003c2"
      },
      "source": [
        "g = sns.catplot(\"SurvivedCategory\", col=\"Embarked\", col_wrap=4,\n",
        "                data=train[train.Embarked.notnull()],\n",
        "                kind=\"count\", height=3.5, aspect=.6, \n",
        "                palette='tab20')\n",
        "\n",
        "plt.show()"
      ],
      "execution_count": 19,
      "outputs": [
        {
          "output_type": "display_data",
          "data": {
            "image/png": "[encoded data removed]",
            "text/plain": [
              "<Figure size 604.8x252 with 3 Axes>"
            ]
          },
          "metadata": {
            "tags": []
          }
        }
      ]
    },
    {
      "cell_type": "markdown",
      "metadata": {
        "id": "jkFS-HGRuHMZ",
        "colab_type": "text"
      },
      "source": [
        "* There are so many people who embarked at \"S\"\n",
        "* Embarkation \"S\" has the biggest gap of dying and surviving"
      ]
    },
    {
      "cell_type": "code",
      "metadata": {
        "id": "jkQcsVeMuHMa",
        "colab_type": "code",
        "colab": {
          "base_uri": "https://localhost:8080/",
          "height": 382
        },
        "outputId": "7e23171c-46e8-4a6f-c9c0-7fb6bd0b4023"
      },
      "source": [
        "sns.catplot(x=\"Age\", y=\"Sex\",\n",
        "            hue=\"SurvivedCategory\", col=\"Pclass\",\n",
        "            data=train[train.Age.notnull()],\n",
        "            orient=\"h\", height=5, aspect=1, palette=\"tab10\",\n",
        "            kind=\"violin\", dodge=True, cut=0, bw=.2)"
      ],
      "execution_count": 20,
      "outputs": [
        {
          "output_type": "execute_result",
          "data": {
            "text/plain": [
              "<seaborn.axisgrid.FacetGrid at 0x7f5eea2ac8d0>"
            ]
          },
          "metadata": {
            "tags": []
          },
          "execution_count": 20
        },
        {
          "output_type": "display_data",
          "data": {
            "image/png": "[encoded data removed]",
            "text/plain": [
              "<Figure size 1210.97x360 with 3 Axes>"
            ]
          },
          "metadata": {
            "tags": []
          }
        }
      ]
    },
    {
      "cell_type": "markdown",
      "metadata": {
        "id": "-sdaMPtTuHMc",
        "colab_type": "text"
      },
      "source": [
        "* There's a different distribution of dying and surviving given the three features -- Age, Sex, and Class\n",
        "* There is a meaningful interaction between these three features"
      ]
    },
    {
      "cell_type": "code",
      "metadata": {
        "scrolled": true,
        "id": "8Y2BB6xYuHMc",
        "colab_type": "code",
        "colab": {
          "base_uri": "https://localhost:8080/",
          "height": 306
        },
        "outputId": "5d315abe-fbaf-476a-a16c-dc28b4d0bc6f"
      },
      "source": [
        "for col in ['Pclass', 'Sex', 'Embarked']:\n",
        "    print(col)\n",
        "    print(train[[col, 'Survived']].groupby([col], as_index=False).mean().sort_values(by=\"Survived\", ascending=False))\n",
        "    print()"
      ],
      "execution_count": 21,
      "outputs": [
        {
          "output_type": "stream",
          "text": [
            "Pclass\n",
            "   Pclass  Survived\n",
            "0       1  0.629630\n",
            "1       2  0.472826\n",
            "2       3  0.242363\n",
            "\n",
            "Sex\n",
            "      Sex  Survived\n",
            "0  female  0.742038\n",
            "1    male  0.188908\n",
            "\n",
            "Embarked\n",
            "  Embarked  Survived\n",
            "0        C  0.553571\n",
            "1        Q  0.389610\n",
            "2        S  0.336957\n",
            "\n"
          ],
          "name": "stdout"
        }
      ]
    },
    {
      "cell_type": "markdown",
      "metadata": {
        "id": "QUzPMJbPuHMe",
        "colab_type": "text"
      },
      "source": [
        "* There is higher chance of surviving for having Class 1, being Female, and embarking in C."
      ]
    },
    {
      "cell_type": "code",
      "metadata": {
        "id": "6UMuOmnFuHMf",
        "colab_type": "code",
        "colab": {
          "base_uri": "https://localhost:8080/",
          "height": 737
        },
        "outputId": "6557458d-73c6-4117-9bcd-e61c903e19f9"
      },
      "source": [
        "plt.figure(figsize=(10,8), dpi= 80)\n",
        "sns.pairplot(train[train.Age.notnull()][[\"SurvivedCategory\",\"Age\",\"Fare\",\"SibSp\",\"Parch\"]], kind=\"scatter\", hue=\"SurvivedCategory\", plot_kws=dict(s=80, edgecolor=\"white\", linewidth=2.5))\n",
        "plt.show()"
      ],
      "execution_count": 22,
      "outputs": [
        {
          "output_type": "display_data",
          "data": {
            "text/plain": [
              "<Figure size 800x640 with 0 Axes>"
            ]
          },
          "metadata": {
            "tags": []
          }
        },
        {
          "output_type": "display_data",
          "data": {
            "image/png": "[encoded data removed]",
            "text/plain": [
              "<Figure size 850.975x720 with 20 Axes>"
            ]
          },
          "metadata": {
            "tags": []
          }
        }
      ]
    },
    {
      "cell_type": "markdown",
      "metadata": {
        "id": "KamKCQT7uHMi",
        "colab_type": "text"
      },
      "source": [
        "* Most obvious difference in distribution of Survival in the `Fare` feature; Those who died have lower fare"
      ]
    },
    {
      "cell_type": "markdown",
      "metadata": {
        "id": "PIyKG3ayuHMi",
        "colab_type": "text"
      },
      "source": [
        "## 3. Feature engineering"
      ]
    },
    {
      "cell_type": "markdown",
      "metadata": {
        "id": "eRrXSTKQuHMj",
        "colab_type": "text"
      },
      "source": [
        "#### Fill in missing values of `Embark` with most frequent value"
      ]
    },
    {
      "cell_type": "code",
      "metadata": {
        "id": "ZyQo9JV8uHMj",
        "colab_type": "code",
        "colab": {
          "base_uri": "https://localhost:8080/",
          "height": 34
        },
        "outputId": "3b7b6051-af78-4a9f-a74e-bb09e2f43336"
      },
      "source": [
        "print('Most frequent embarkation is : ',train.Embarked.dropna().mode()[0])\n",
        "train['Embarked'] = train['Embarked'].fillna(train.Embarked.dropna().mode()[0])"
      ],
      "execution_count": 23,
      "outputs": [
        {
          "output_type": "stream",
          "text": [
            "Most frequent embarkation is :  S\n"
          ],
          "name": "stdout"
        }
      ]
    },
    {
      "cell_type": "markdown",
      "metadata": {
        "id": "v_pxZQEOuHMl",
        "colab_type": "text"
      },
      "source": [
        "#### Make use of the `Name` by parsing some information from it"
      ]
    },
    {
      "cell_type": "code",
      "metadata": {
        "id": "k_YxcIRtuHMl",
        "colab_type": "code",
        "colab": {
          "base_uri": "https://localhost:8080/",
          "height": 119
        },
        "outputId": "bfb0c6a7-38dd-4a56-88f7-347707052097"
      },
      "source": [
        "train.Name.head()"
      ],
      "execution_count": 24,
      "outputs": [
        {
          "output_type": "execute_result",
          "data": {
            "text/plain": [
              "0                              Braund, Mr. Owen Harris\n",
              "1    Cumings, Mrs. John Bradley (Florence Briggs Th...\n",
              "2                               Heikkinen, Miss. Laina\n",
              "3         Futrelle, Mrs. Jacques Heath (Lily May Peel)\n",
              "4                             Allen, Mr. William Henry\n",
              "Name: Name, dtype: object"
            ]
          },
          "metadata": {
            "tags": []
          },
          "execution_count": 24
        }
      ]
    },
    {
      "cell_type": "markdown",
      "metadata": {
        "id": "56HuHgLzuHMn",
        "colab_type": "text"
      },
      "source": [
        "##### Title of people can approximate for their age, position, and wealth"
      ]
    },
    {
      "cell_type": "code",
      "metadata": {
        "id": "-xUh5_r_uHMn",
        "colab_type": "code",
        "colab": {
          "base_uri": "https://localhost:8080/",
          "height": 607
        },
        "outputId": "158a28d7-0c54-49a9-8703-156fef07f6fd"
      },
      "source": [
        "train['Title'] = train.Name.str.extract(' ([A-Za-z]+)\\.', expand=False)\n",
        "\n",
        "pd.crosstab(train['Title'], train['Sex'])"
      ],
      "execution_count": 25,
      "outputs": [
        {
          "output_type": "execute_result",
          "data": {
            "text/html": [
              "<div>\n",
              "<style scoped>\n",
              "    .dataframe tbody tr th:only-of-type {\n",
              "        vertical-align: middle;\n",
              "    }\n",
              "\n",
              "    .dataframe tbody tr th {\n",
              "        vertical-align: top;\n",
              "    }\n",
              "\n",
              "    .dataframe thead th {\n",
              "        text-align: right;\n",
              "    }\n",
              "</style>\n",
              "<table border=\"1\" class=\"dataframe\">\n",
              "  <thead>\n",
              "    <tr style=\"text-align: right;\">\n",
              "      <th>Sex</th>\n",
              "      <th>female</th>\n",
              "      <th>male</th>\n",
              "    </tr>\n",
              "    <tr>\n",
              "      <th>Title</th>\n",
              "      <th></th>\n",
              "      <th></th>\n",
              "    </tr>\n",
              "  </thead>\n",
              "  <tbody>\n",
              "    <tr>\n",
              "      <th>Capt</th>\n",
              "      <td>0</td>\n",
              "      <td>1</td>\n",
              "    </tr>\n",
              "    <tr>\n",
              "      <th>Col</th>\n",
              "      <td>0</td>\n",
              "      <td>2</td>\n",
              "    </tr>\n",
              "    <tr>\n",
              "      <th>Countess</th>\n",
              "      <td>1</td>\n",
              "      <td>0</td>\n",
              "    </tr>\n",
              "    <tr>\n",
              "      <th>Don</th>\n",
              "      <td>0</td>\n",
              "      <td>1</td>\n",
              "    </tr>\n",
              "    <tr>\n",
              "      <th>Dr</th>\n",
              "      <td>1</td>\n",
              "      <td>6</td>\n",
              "    </tr>\n",
              "    <tr>\n",
              "      <th>Jonkheer</th>\n",
              "      <td>0</td>\n",
              "      <td>1</td>\n",
              "    </tr>\n",
              "    <tr>\n",
              "      <th>Lady</th>\n",
              "      <td>1</td>\n",
              "      <td>0</td>\n",
              "    </tr>\n",
              "    <tr>\n",
              "      <th>Major</th>\n",
              "      <td>0</td>\n",
              "      <td>2</td>\n",
              "    </tr>\n",
              "    <tr>\n",
              "      <th>Master</th>\n",
              "      <td>0</td>\n",
              "      <td>40</td>\n",
              "    </tr>\n",
              "    <tr>\n",
              "      <th>Miss</th>\n",
              "      <td>182</td>\n",
              "      <td>0</td>\n",
              "    </tr>\n",
              "    <tr>\n",
              "      <th>Mlle</th>\n",
              "      <td>2</td>\n",
              "      <td>0</td>\n",
              "    </tr>\n",
              "    <tr>\n",
              "      <th>Mme</th>\n",
              "      <td>1</td>\n",
              "      <td>0</td>\n",
              "    </tr>\n",
              "    <tr>\n",
              "      <th>Mr</th>\n",
              "      <td>0</td>\n",
              "      <td>517</td>\n",
              "    </tr>\n",
              "    <tr>\n",
              "      <th>Mrs</th>\n",
              "      <td>125</td>\n",
              "      <td>0</td>\n",
              "    </tr>\n",
              "    <tr>\n",
              "      <th>Ms</th>\n",
              "      <td>1</td>\n",
              "      <td>0</td>\n",
              "    </tr>\n",
              "    <tr>\n",
              "      <th>Rev</th>\n",
              "      <td>0</td>\n",
              "      <td>6</td>\n",
              "    </tr>\n",
              "    <tr>\n",
              "      <th>Sir</th>\n",
              "      <td>0</td>\n",
              "      <td>1</td>\n",
              "    </tr>\n",
              "  </tbody>\n",
              "</table>\n",
              "</div>"
            ],
            "text/plain": [
              "Sex       female  male\n",
              "Title                 \n",
              "Capt           0     1\n",
              "Col            0     2\n",
              "Countess       1     0\n",
              "Don            0     1\n",
              "Dr             1     6\n",
              "Jonkheer       0     1\n",
              "Lady           1     0\n",
              "Major          0     2\n",
              "Master         0    40\n",
              "Miss         182     0\n",
              "Mlle           2     0\n",
              "Mme            1     0\n",
              "Mr             0   517\n",
              "Mrs          125     0\n",
              "Ms             1     0\n",
              "Rev            0     6\n",
              "Sir            0     1"
            ]
          },
          "metadata": {
            "tags": []
          },
          "execution_count": 25
        }
      ]
    },
    {
      "cell_type": "code",
      "metadata": {
        "id": "Q7a6L_sPuHMp",
        "colab_type": "code",
        "colab": {
          "base_uri": "https://localhost:8080/",
          "height": 204
        },
        "outputId": "ccec0378-a4e6-4afe-9633-ca0ad1d54d6d"
      },
      "source": [
        "train['Title'] = train['Title'].replace(['Lady', 'Countess','Capt', 'Col',\\\n",
        "'Don', 'Dr', 'Major', 'Rev', 'Sir', 'Jonkheer', 'Dona'], 'Rare')\n",
        "\n",
        "train['Title'] = train['Title'].replace('Mlle', 'Miss')\n",
        "train['Title'] = train['Title'].replace('Ms', 'Miss')\n",
        "train['Title'] = train['Title'].replace('Mme', 'Mrs')\n",
        "    \n",
        "train[['Title', 'Survived']].groupby(['Title'], as_index=False).mean()"
      ],
      "execution_count": 26,
      "outputs": [
        {
          "output_type": "execute_result",
          "data": {
            "text/html": [
              "<div>\n",
              "<style scoped>\n",
              "    .dataframe tbody tr th:only-of-type {\n",
              "        vertical-align: middle;\n",
              "    }\n",
              "\n",
              "    .dataframe tbody tr th {\n",
              "        vertical-align: top;\n",
              "    }\n",
              "\n",
              "    .dataframe thead th {\n",
              "        text-align: right;\n",
              "    }\n",
              "</style>\n",
              "<table border=\"1\" class=\"dataframe\">\n",
              "  <thead>\n",
              "    <tr style=\"text-align: right;\">\n",
              "      <th></th>\n",
              "      <th>Title</th>\n",
              "      <th>Survived</th>\n",
              "    </tr>\n",
              "  </thead>\n",
              "  <tbody>\n",
              "    <tr>\n",
              "      <th>0</th>\n",
              "      <td>Master</td>\n",
              "      <td>0.575000</td>\n",
              "    </tr>\n",
              "    <tr>\n",
              "      <th>1</th>\n",
              "      <td>Miss</td>\n",
              "      <td>0.702703</td>\n",
              "    </tr>\n",
              "    <tr>\n",
              "      <th>2</th>\n",
              "      <td>Mr</td>\n",
              "      <td>0.156673</td>\n",
              "    </tr>\n",
              "    <tr>\n",
              "      <th>3</th>\n",
              "      <td>Mrs</td>\n",
              "      <td>0.793651</td>\n",
              "    </tr>\n",
              "    <tr>\n",
              "      <th>4</th>\n",
              "      <td>Rare</td>\n",
              "      <td>0.347826</td>\n",
              "    </tr>\n",
              "  </tbody>\n",
              "</table>\n",
              "</div>"
            ],
            "text/plain": [
              "    Title  Survived\n",
              "0  Master  0.575000\n",
              "1    Miss  0.702703\n",
              "2      Mr  0.156673\n",
              "3     Mrs  0.793651\n",
              "4    Rare  0.347826"
            ]
          },
          "metadata": {
            "tags": []
          },
          "execution_count": 26
        }
      ]
    },
    {
      "cell_type": "markdown",
      "metadata": {
        "id": "JRor6sCouHMq",
        "colab_type": "text"
      },
      "source": [
        "* The young ones -- Master and Miss -- have high chance of surviving\n",
        "* Actually, it is more of gender.. women, such as \"Miss\" and \"Mrs\" have highest chance of surviving"
      ]
    },
    {
      "cell_type": "markdown",
      "metadata": {
        "id": "cB82M8GLuHMr",
        "colab_type": "text"
      },
      "source": [
        "##### How about surnames?"
      ]
    },
    {
      "cell_type": "code",
      "metadata": {
        "id": "duaWPG0GuHMr",
        "colab_type": "code",
        "colab": {
          "base_uri": "https://localhost:8080/",
          "height": 419
        },
        "outputId": "d82eaf5a-403f-4dfb-a44d-aa0f3fa7372f"
      },
      "source": [
        "train['LastName'] = train['Name'].map(lambda x: x.split(\",\")[0])\n",
        "total = train[['LastName', 'Survived']].groupby(['LastName'], as_index=False).count()\n",
        "count_survived = train[['LastName', 'Survived']].groupby(['LastName'], as_index=False).sum()\n",
        "merged = pd.merge(total,count_survived,how='inner',on=\"LastName\")\n",
        "merged.columns = ['LastName','Total','Number survived']\n",
        "merged['Ratio'] = merged['Number survived']/merged['Total']\n",
        "merged.sort_values('Ratio', ascending=False)"
      ],
      "execution_count": 27,
      "outputs": [
        {
          "output_type": "execute_result",
          "data": {
            "text/html": [
              "<div>\n",
              "<style scoped>\n",
              "    .dataframe tbody tr th:only-of-type {\n",
              "        vertical-align: middle;\n",
              "    }\n",
              "\n",
              "    .dataframe tbody tr th {\n",
              "        vertical-align: top;\n",
              "    }\n",
              "\n",
              "    .dataframe thead th {\n",
              "        text-align: right;\n",
              "    }\n",
              "</style>\n",
              "<table border=\"1\" class=\"dataframe\">\n",
              "  <thead>\n",
              "    <tr style=\"text-align: right;\">\n",
              "      <th></th>\n",
              "      <th>LastName</th>\n",
              "      <th>Total</th>\n",
              "      <th>Number survived</th>\n",
              "      <th>Ratio</th>\n",
              "    </tr>\n",
              "  </thead>\n",
              "  <tbody>\n",
              "    <tr>\n",
              "      <th>333</th>\n",
              "      <td>Lehmann</td>\n",
              "      <td>1</td>\n",
              "      <td>1</td>\n",
              "      <td>1.0</td>\n",
              "    </tr>\n",
              "    <tr>\n",
              "      <th>215</th>\n",
              "      <td>Glynn</td>\n",
              "      <td>1</td>\n",
              "      <td>1</td>\n",
              "      <td>1.0</td>\n",
              "    </tr>\n",
              "    <tr>\n",
              "      <th>249</th>\n",
              "      <td>Hedman</td>\n",
              "      <td>1</td>\n",
              "      <td>1</td>\n",
              "      <td>1.0</td>\n",
              "    </tr>\n",
              "    <tr>\n",
              "      <th>248</th>\n",
              "      <td>Healy</td>\n",
              "      <td>1</td>\n",
              "      <td>1</td>\n",
              "      <td>1.0</td>\n",
              "    </tr>\n",
              "    <tr>\n",
              "      <th>247</th>\n",
              "      <td>Hays</td>\n",
              "      <td>2</td>\n",
              "      <td>2</td>\n",
              "      <td>1.0</td>\n",
              "    </tr>\n",
              "    <tr>\n",
              "      <th>...</th>\n",
              "      <td>...</td>\n",
              "      <td>...</td>\n",
              "      <td>...</td>\n",
              "      <td>...</td>\n",
              "    </tr>\n",
              "    <tr>\n",
              "      <th>278</th>\n",
              "      <td>Isham</td>\n",
              "      <td>1</td>\n",
              "      <td>0</td>\n",
              "      <td>0.0</td>\n",
              "    </tr>\n",
              "    <tr>\n",
              "      <th>277</th>\n",
              "      <td>Ilmakangas</td>\n",
              "      <td>1</td>\n",
              "      <td>0</td>\n",
              "      <td>0.0</td>\n",
              "    </tr>\n",
              "    <tr>\n",
              "      <th>274</th>\n",
              "      <td>Ibrahim Shawah</td>\n",
              "      <td>1</td>\n",
              "      <td>0</td>\n",
              "      <td>0.0</td>\n",
              "    </tr>\n",
              "    <tr>\n",
              "      <th>273</th>\n",
              "      <td>Hunt</td>\n",
              "      <td>1</td>\n",
              "      <td>0</td>\n",
              "      <td>0.0</td>\n",
              "    </tr>\n",
              "    <tr>\n",
              "      <th>666</th>\n",
              "      <td>van Melkebeke</td>\n",
              "      <td>1</td>\n",
              "      <td>0</td>\n",
              "      <td>0.0</td>\n",
              "    </tr>\n",
              "  </tbody>\n",
              "</table>\n",
              "<p>667 rows × 4 columns</p>\n",
              "</div>"
            ],
            "text/plain": [
              "           LastName  Total  Number survived  Ratio\n",
              "333         Lehmann      1                1    1.0\n",
              "215           Glynn      1                1    1.0\n",
              "249          Hedman      1                1    1.0\n",
              "248           Healy      1                1    1.0\n",
              "247            Hays      2                2    1.0\n",
              "..              ...    ...              ...    ...\n",
              "278           Isham      1                0    0.0\n",
              "277      Ilmakangas      1                0    0.0\n",
              "274  Ibrahim Shawah      1                0    0.0\n",
              "273            Hunt      1                0    0.0\n",
              "666   van Melkebeke      1                0    0.0\n",
              "\n",
              "[667 rows x 4 columns]"
            ]
          },
          "metadata": {
            "tags": []
          },
          "execution_count": 27
        }
      ]
    },
    {
      "cell_type": "code",
      "metadata": {
        "id": "1IOc5u3suHMs",
        "colab_type": "code",
        "colab": {
          "base_uri": "https://localhost:8080/",
          "height": 111
        },
        "outputId": "8616a947-6e5a-461e-e252-e6d2f3720fcb"
      },
      "source": [
        "agg = train[['LastName', 'Survived']].groupby(['LastName'], as_index=False).sum()\n",
        "LastNameSurvivors = list(agg[agg['Survived'] > 0]['LastName'])\n",
        "train['LastNameSurvived'] = train['LastName'].map(lambda x: 1 if x in LastNameSurvivors else 0)\n",
        "train[['LastNameSurvived', 'Survived']].groupby(['LastNameSurvived'], as_index=False).mean()"
      ],
      "execution_count": 28,
      "outputs": [
        {
          "output_type": "execute_result",
          "data": {
            "text/html": [
              "<div>\n",
              "<style scoped>\n",
              "    .dataframe tbody tr th:only-of-type {\n",
              "        vertical-align: middle;\n",
              "    }\n",
              "\n",
              "    .dataframe tbody tr th {\n",
              "        vertical-align: top;\n",
              "    }\n",
              "\n",
              "    .dataframe thead th {\n",
              "        text-align: right;\n",
              "    }\n",
              "</style>\n",
              "<table border=\"1\" class=\"dataframe\">\n",
              "  <thead>\n",
              "    <tr style=\"text-align: right;\">\n",
              "      <th></th>\n",
              "      <th>LastNameSurvived</th>\n",
              "      <th>Survived</th>\n",
              "    </tr>\n",
              "  </thead>\n",
              "  <tbody>\n",
              "    <tr>\n",
              "      <th>0</th>\n",
              "      <td>0</td>\n",
              "      <td>0.000000</td>\n",
              "    </tr>\n",
              "    <tr>\n",
              "      <th>1</th>\n",
              "      <td>1</td>\n",
              "      <td>0.812352</td>\n",
              "    </tr>\n",
              "  </tbody>\n",
              "</table>\n",
              "</div>"
            ],
            "text/plain": [
              "   LastNameSurvived  Survived\n",
              "0                 0  0.000000\n",
              "1                 1  0.812352"
            ]
          },
          "metadata": {
            "tags": []
          },
          "execution_count": 28
        }
      ]
    },
    {
      "cell_type": "markdown",
      "metadata": {
        "id": "VHbaRi20uHMu",
        "colab_type": "text"
      },
      "source": [
        "* Not sure if this will help.. it might overfit the training. It will be a matter of how I am going to use this information.\n"
      ]
    },
    {
      "cell_type": "markdown",
      "metadata": {
        "id": "gG9BAAC2uHMu",
        "colab_type": "text"
      },
      "source": [
        "#### Size of family can be computed from `SibSp` and `Parch`"
      ]
    },
    {
      "cell_type": "code",
      "metadata": {
        "id": "WL2zrqqIuHMu",
        "colab_type": "code",
        "colab": {}
      },
      "source": [
        "train['FamilySize'] = train['SibSp'] + train['Parch'] + 1"
      ],
      "execution_count": 0,
      "outputs": []
    },
    {
      "cell_type": "markdown",
      "metadata": {
        "id": "3XZOyo87uHMv",
        "colab_type": "text"
      },
      "source": [
        "#### Fill missing values of `Age`"
      ]
    },
    {
      "cell_type": "markdown",
      "metadata": {
        "id": "BoJ9wdKUuHMw",
        "colab_type": "text"
      },
      "source": [
        "* Filling it up with its average value is misleading\n",
        "* Check first how it relates with other features"
      ]
    },
    {
      "cell_type": "markdown",
      "metadata": {
        "collapsed": true,
        "id": "had43yq2uHMw",
        "colab_type": "text"
      },
      "source": [
        "##### Relationship of `Age` with other features"
      ]
    },
    {
      "cell_type": "markdown",
      "metadata": {
        "id": "ejRRXWzPuHMx",
        "colab_type": "text"
      },
      "source": [
        "* Look at the relationship of Age with other features\n",
        "* Convert all to numerics"
      ]
    },
    {
      "cell_type": "code",
      "metadata": {
        "id": "apIbL7epuHMx",
        "colab_type": "code",
        "colab": {
          "base_uri": "https://localhost:8080/",
          "height": 111
        },
        "outputId": "f1876464-bbb9-4395-a74e-e81dfdf5637e"
      },
      "source": [
        "train.dropna()[['Sex','Age']].groupby(['Sex']).mean().reset_index()"
      ],
      "execution_count": 30,
      "outputs": [
        {
          "output_type": "execute_result",
          "data": {
            "text/html": [
              "<div>\n",
              "<style scoped>\n",
              "    .dataframe tbody tr th:only-of-type {\n",
              "        vertical-align: middle;\n",
              "    }\n",
              "\n",
              "    .dataframe tbody tr th {\n",
              "        vertical-align: top;\n",
              "    }\n",
              "\n",
              "    .dataframe thead th {\n",
              "        text-align: right;\n",
              "    }\n",
              "</style>\n",
              "<table border=\"1\" class=\"dataframe\">\n",
              "  <thead>\n",
              "    <tr style=\"text-align: right;\">\n",
              "      <th></th>\n",
              "      <th>Sex</th>\n",
              "      <th>Age</th>\n",
              "    </tr>\n",
              "  </thead>\n",
              "  <tbody>\n",
              "    <tr>\n",
              "      <th>0</th>\n",
              "      <td>female</td>\n",
              "      <td>27.915709</td>\n",
              "    </tr>\n",
              "    <tr>\n",
              "      <th>1</th>\n",
              "      <td>male</td>\n",
              "      <td>30.726645</td>\n",
              "    </tr>\n",
              "  </tbody>\n",
              "</table>\n",
              "</div>"
            ],
            "text/plain": [
              "      Sex        Age\n",
              "0  female  27.915709\n",
              "1    male  30.726645"
            ]
          },
          "metadata": {
            "tags": []
          },
          "execution_count": 30
        }
      ]
    },
    {
      "cell_type": "code",
      "metadata": {
        "id": "Kk65bHG4uHMz",
        "colab_type": "code",
        "colab": {
          "base_uri": "https://localhost:8080/",
          "height": 142
        },
        "outputId": "2364aee5-8cea-4d8a-f07e-137c6fb5d5d8"
      },
      "source": [
        "train.dropna()[['Pclass','Age']].groupby(['Pclass']).mean().reset_index()"
      ],
      "execution_count": 31,
      "outputs": [
        {
          "output_type": "execute_result",
          "data": {
            "text/html": [
              "<div>\n",
              "<style scoped>\n",
              "    .dataframe tbody tr th:only-of-type {\n",
              "        vertical-align: middle;\n",
              "    }\n",
              "\n",
              "    .dataframe tbody tr th {\n",
              "        vertical-align: top;\n",
              "    }\n",
              "\n",
              "    .dataframe thead th {\n",
              "        text-align: right;\n",
              "    }\n",
              "</style>\n",
              "<table border=\"1\" class=\"dataframe\">\n",
              "  <thead>\n",
              "    <tr style=\"text-align: right;\">\n",
              "      <th></th>\n",
              "      <th>Pclass</th>\n",
              "      <th>Age</th>\n",
              "    </tr>\n",
              "  </thead>\n",
              "  <tbody>\n",
              "    <tr>\n",
              "      <th>0</th>\n",
              "      <td>1</td>\n",
              "      <td>38.233441</td>\n",
              "    </tr>\n",
              "    <tr>\n",
              "      <th>1</th>\n",
              "      <td>2</td>\n",
              "      <td>29.877630</td>\n",
              "    </tr>\n",
              "    <tr>\n",
              "      <th>2</th>\n",
              "      <td>3</td>\n",
              "      <td>25.140620</td>\n",
              "    </tr>\n",
              "  </tbody>\n",
              "</table>\n",
              "</div>"
            ],
            "text/plain": [
              "   Pclass        Age\n",
              "0       1  38.233441\n",
              "1       2  29.877630\n",
              "2       3  25.140620"
            ]
          },
          "metadata": {
            "tags": []
          },
          "execution_count": 31
        }
      ]
    },
    {
      "cell_type": "code",
      "metadata": {
        "id": "OBqutFUnuHM0",
        "colab_type": "code",
        "colab": {
          "base_uri": "https://localhost:8080/",
          "height": 235
        },
        "outputId": "ac4f0c07-4af0-48e8-bac3-713aa45cdf2a"
      },
      "source": [
        "train.dropna()[['Sex','Pclass','Age']].groupby(['Sex','Pclass']).mean().reset_index()"
      ],
      "execution_count": 32,
      "outputs": [
        {
          "output_type": "execute_result",
          "data": {
            "text/html": [
              "<div>\n",
              "<style scoped>\n",
              "    .dataframe tbody tr th:only-of-type {\n",
              "        vertical-align: middle;\n",
              "    }\n",
              "\n",
              "    .dataframe tbody tr th {\n",
              "        vertical-align: top;\n",
              "    }\n",
              "\n",
              "    .dataframe thead th {\n",
              "        text-align: right;\n",
              "    }\n",
              "</style>\n",
              "<table border=\"1\" class=\"dataframe\">\n",
              "  <thead>\n",
              "    <tr style=\"text-align: right;\">\n",
              "      <th></th>\n",
              "      <th>Sex</th>\n",
              "      <th>Pclass</th>\n",
              "      <th>Age</th>\n",
              "    </tr>\n",
              "  </thead>\n",
              "  <tbody>\n",
              "    <tr>\n",
              "      <th>0</th>\n",
              "      <td>female</td>\n",
              "      <td>1</td>\n",
              "      <td>34.611765</td>\n",
              "    </tr>\n",
              "    <tr>\n",
              "      <th>1</th>\n",
              "      <td>female</td>\n",
              "      <td>2</td>\n",
              "      <td>28.722973</td>\n",
              "    </tr>\n",
              "    <tr>\n",
              "      <th>2</th>\n",
              "      <td>female</td>\n",
              "      <td>3</td>\n",
              "      <td>21.750000</td>\n",
              "    </tr>\n",
              "    <tr>\n",
              "      <th>3</th>\n",
              "      <td>male</td>\n",
              "      <td>1</td>\n",
              "      <td>41.281386</td>\n",
              "    </tr>\n",
              "    <tr>\n",
              "      <th>4</th>\n",
              "      <td>male</td>\n",
              "      <td>2</td>\n",
              "      <td>30.740707</td>\n",
              "    </tr>\n",
              "    <tr>\n",
              "      <th>5</th>\n",
              "      <td>male</td>\n",
              "      <td>3</td>\n",
              "      <td>26.507589</td>\n",
              "    </tr>\n",
              "  </tbody>\n",
              "</table>\n",
              "</div>"
            ],
            "text/plain": [
              "      Sex  Pclass        Age\n",
              "0  female       1  34.611765\n",
              "1  female       2  28.722973\n",
              "2  female       3  21.750000\n",
              "3    male       1  41.281386\n",
              "4    male       2  30.740707\n",
              "5    male       3  26.507589"
            ]
          },
          "metadata": {
            "tags": []
          },
          "execution_count": 32
        }
      ]
    },
    {
      "cell_type": "markdown",
      "metadata": {
        "id": "DErW0iPVuHM2",
        "colab_type": "text"
      },
      "source": [
        "* Average age decreases with `Pclass` and is different distribution for `Sex`"
      ]
    },
    {
      "cell_type": "code",
      "metadata": {
        "id": "6zE-bTbfuHM2",
        "colab_type": "code",
        "colab": {}
      },
      "source": [
        "import math\n",
        "def impute_age(row):\n",
        "    if math.isnan(row[\"Age\"]):\n",
        "        if row['Sex'] == 'female' and row['Pclass'] == 1:\n",
        "            return 34.61\n",
        "        elif row['Sex'] == 'female' and row['Pclass'] == 2:\n",
        "            return 28.72\n",
        "        elif row['Sex'] == 'female' and row['Pclass'] == 3:\n",
        "            return 21.75\n",
        "        elif row['Sex'] == 'male' and row['Pclass'] == 1:\n",
        "            return 41.28\n",
        "        elif row['Sex'] == 'male' and row['Pclass'] == 2:\n",
        "            return 30.74\n",
        "        elif row['Sex'] == 'male' and row['Pclass'] == 3:\n",
        "            return 26.51\n",
        "        else:\n",
        "            return 0.\n",
        "    \n",
        "    else:\n",
        "        return row[\"Age\"]      "
      ],
      "execution_count": 0,
      "outputs": []
    },
    {
      "cell_type": "code",
      "metadata": {
        "id": "53e3bwgRuHM3",
        "colab_type": "code",
        "colab": {}
      },
      "source": [
        "train[\"Age\"] = train.apply(lambda row: impute_age(row),axis=1)"
      ],
      "execution_count": 0,
      "outputs": []
    },
    {
      "cell_type": "markdown",
      "metadata": {
        "id": "DIy0aHAYuHM4",
        "colab_type": "text"
      },
      "source": [
        "#### Fill missing values of `Fare`"
      ]
    },
    {
      "cell_type": "code",
      "metadata": {
        "id": "qF5bqfGfuHM4",
        "colab_type": "code",
        "colab": {
          "base_uri": "https://localhost:8080/",
          "height": 142
        },
        "outputId": "5149fb68-1b52-4b5d-c311-74b21587295e"
      },
      "source": [
        "train.dropna()[['Pclass','Fare']].groupby(['Pclass']).mean().reset_index()"
      ],
      "execution_count": 35,
      "outputs": [
        {
          "output_type": "execute_result",
          "data": {
            "text/html": [
              "<div>\n",
              "<style scoped>\n",
              "    .dataframe tbody tr th:only-of-type {\n",
              "        vertical-align: middle;\n",
              "    }\n",
              "\n",
              "    .dataframe tbody tr th {\n",
              "        vertical-align: top;\n",
              "    }\n",
              "\n",
              "    .dataframe thead th {\n",
              "        text-align: right;\n",
              "    }\n",
              "</style>\n",
              "<table border=\"1\" class=\"dataframe\">\n",
              "  <thead>\n",
              "    <tr style=\"text-align: right;\">\n",
              "      <th></th>\n",
              "      <th>Pclass</th>\n",
              "      <th>Fare</th>\n",
              "    </tr>\n",
              "  </thead>\n",
              "  <tbody>\n",
              "    <tr>\n",
              "      <th>0</th>\n",
              "      <td>1</td>\n",
              "      <td>84.154687</td>\n",
              "    </tr>\n",
              "    <tr>\n",
              "      <th>1</th>\n",
              "      <td>2</td>\n",
              "      <td>20.662183</td>\n",
              "    </tr>\n",
              "    <tr>\n",
              "      <th>2</th>\n",
              "      <td>3</td>\n",
              "      <td>13.675550</td>\n",
              "    </tr>\n",
              "  </tbody>\n",
              "</table>\n",
              "</div>"
            ],
            "text/plain": [
              "   Pclass       Fare\n",
              "0       1  84.154687\n",
              "1       2  20.662183\n",
              "2       3  13.675550"
            ]
          },
          "metadata": {
            "tags": []
          },
          "execution_count": 35
        }
      ]
    },
    {
      "cell_type": "markdown",
      "metadata": {
        "id": "Z4IXq-bRuHM5",
        "colab_type": "text"
      },
      "source": [
        "* Average `Fare` decreases with `Pclass`"
      ]
    },
    {
      "cell_type": "code",
      "metadata": {
        "id": "3qeNRxHhuHM6",
        "colab_type": "code",
        "colab": {}
      },
      "source": [
        "def impute_fare(row):\n",
        "    if math.isnan(row[\"Fare\"]):\n",
        "        if row['Pclass'] == 1:\n",
        "            return 84.15\n",
        "        elif row['Pclass'] == 2:\n",
        "            return 20.66\n",
        "        elif row['Pclass'] == 3:\n",
        "            return 13.68\n",
        "        else:\n",
        "            return 0.\n",
        "    \n",
        "    else:\n",
        "        return row[\"Fare\"]      "
      ],
      "execution_count": 0,
      "outputs": []
    },
    {
      "cell_type": "code",
      "metadata": {
        "id": "nGD_bBhzuHM7",
        "colab_type": "code",
        "colab": {}
      },
      "source": [
        "train[\"Fare\"] = train.apply(lambda row: impute_fare(row),axis=1)"
      ],
      "execution_count": 0,
      "outputs": []
    },
    {
      "cell_type": "markdown",
      "metadata": {
        "id": "jcQvroysuHM_",
        "colab_type": "text"
      },
      "source": [
        "##### Check missing values again"
      ]
    },
    {
      "cell_type": "code",
      "metadata": {
        "id": "ulJm6N5QuHM_",
        "colab_type": "code",
        "colab": {
          "base_uri": "https://localhost:8080/",
          "height": 306
        },
        "outputId": "697c6756-ffeb-449a-b3e1-c28e98ae0787"
      },
      "source": [
        "train.isnull().sum()"
      ],
      "execution_count": 38,
      "outputs": [
        {
          "output_type": "execute_result",
          "data": {
            "text/plain": [
              "PassengerId         0\n",
              "Survived            0\n",
              "Pclass              0\n",
              "Name                0\n",
              "Sex                 0\n",
              "Age                 0\n",
              "SibSp               0\n",
              "Parch               0\n",
              "Ticket              0\n",
              "Fare                0\n",
              "Embarked            0\n",
              "SurvivedCategory    0\n",
              "Title               0\n",
              "LastName            0\n",
              "LastNameSurvived    0\n",
              "FamilySize          0\n",
              "dtype: int64"
            ]
          },
          "metadata": {
            "tags": []
          },
          "execution_count": 38
        }
      ]
    },
    {
      "cell_type": "markdown",
      "metadata": {
        "id": "fApzc63euHNA",
        "colab_type": "text"
      },
      "source": [
        "* It is possible that the way the missing values are imputed can degrade the quality of predictions\n",
        "* Can try predicting the survival, when the missing values are dropped rather than imputed"
      ]
    },
    {
      "cell_type": "markdown",
      "metadata": {
        "id": "uJ4yI6pUuHNB",
        "colab_type": "text"
      },
      "source": [
        "#### Create buckets for `Age` and `Fare`"
      ]
    },
    {
      "cell_type": "markdown",
      "metadata": {
        "id": "TDRtrFkxuHNB",
        "colab_type": "text"
      },
      "source": [
        "* Ordinal features are sometimes better inputs for some algorithms, especially tree-based ones"
      ]
    },
    {
      "cell_type": "code",
      "metadata": {
        "id": "9Zey0TWjuHNC",
        "colab_type": "code",
        "colab": {
          "base_uri": "https://localhost:8080/",
          "height": 204
        },
        "outputId": "4013b6fc-8af7-4637-b929-582c7936be1c"
      },
      "source": [
        "train['Age_bucket'] = pd.cut(train['Age'], 5)\n",
        "train[['Age_bucket', 'Survived']].groupby(['Age_bucket'], as_index=False).mean().sort_values(by='Age_bucket', ascending=True)"
      ],
      "execution_count": 39,
      "outputs": [
        {
          "output_type": "execute_result",
          "data": {
            "text/html": [
              "<div>\n",
              "<style scoped>\n",
              "    .dataframe tbody tr th:only-of-type {\n",
              "        vertical-align: middle;\n",
              "    }\n",
              "\n",
              "    .dataframe tbody tr th {\n",
              "        vertical-align: top;\n",
              "    }\n",
              "\n",
              "    .dataframe thead th {\n",
              "        text-align: right;\n",
              "    }\n",
              "</style>\n",
              "<table border=\"1\" class=\"dataframe\">\n",
              "  <thead>\n",
              "    <tr style=\"text-align: right;\">\n",
              "      <th></th>\n",
              "      <th>Age_bucket</th>\n",
              "      <th>Survived</th>\n",
              "    </tr>\n",
              "  </thead>\n",
              "  <tbody>\n",
              "    <tr>\n",
              "      <th>0</th>\n",
              "      <td>(0.34, 16.336]</td>\n",
              "      <td>0.550000</td>\n",
              "    </tr>\n",
              "    <tr>\n",
              "      <th>1</th>\n",
              "      <td>(16.336, 32.252]</td>\n",
              "      <td>0.336714</td>\n",
              "    </tr>\n",
              "    <tr>\n",
              "      <th>2</th>\n",
              "      <td>(32.252, 48.168]</td>\n",
              "      <td>0.412844</td>\n",
              "    </tr>\n",
              "    <tr>\n",
              "      <th>3</th>\n",
              "      <td>(48.168, 64.084]</td>\n",
              "      <td>0.434783</td>\n",
              "    </tr>\n",
              "    <tr>\n",
              "      <th>4</th>\n",
              "      <td>(64.084, 80.0]</td>\n",
              "      <td>0.090909</td>\n",
              "    </tr>\n",
              "  </tbody>\n",
              "</table>\n",
              "</div>"
            ],
            "text/plain": [
              "         Age_bucket  Survived\n",
              "0    (0.34, 16.336]  0.550000\n",
              "1  (16.336, 32.252]  0.336714\n",
              "2  (32.252, 48.168]  0.412844\n",
              "3  (48.168, 64.084]  0.434783\n",
              "4    (64.084, 80.0]  0.090909"
            ]
          },
          "metadata": {
            "tags": []
          },
          "execution_count": 39
        }
      ]
    },
    {
      "cell_type": "markdown",
      "metadata": {
        "id": "o8GjFPOeuHND",
        "colab_type": "text"
      },
      "source": [
        "* The chance of survival decreases from youngest to oldest"
      ]
    },
    {
      "cell_type": "code",
      "metadata": {
        "scrolled": true,
        "id": "VgyG3Mk6uHND",
        "colab_type": "code",
        "colab": {}
      },
      "source": [
        "train['Age_bucket'] =  train.Age\n",
        "train.loc[ train['Age'] <= 16, 'Age_bucket'] = 0\n",
        "train.loc[(train['Age'] > 16) & (train['Age'] <= 32), 'Age_bucket'] = 1\n",
        "train.loc[(train['Age'] > 32) & (train['Age'] <= 48), 'Age_bucket'] = 2\n",
        "train.loc[(train['Age'] > 48) & (train['Age'] <= 64), 'Age_bucket'] = 3\n",
        "train.loc[train['Age'] > 64, 'Age_bucket'] = 4\n",
        "train['Age_bucket'] = train['Age_bucket'].astype(int)"
      ],
      "execution_count": 0,
      "outputs": []
    },
    {
      "cell_type": "code",
      "metadata": {
        "id": "N-NYSCe9uHNE",
        "colab_type": "code",
        "colab": {
          "base_uri": "https://localhost:8080/",
          "height": 173
        },
        "outputId": "6ff85866-c67f-4941-c320-b3ffab03e34a"
      },
      "source": [
        "train['Fare_bucket'] = pd.qcut(train['Fare'], 4)\n",
        "train[['Fare_bucket', 'Survived']].groupby(['Fare_bucket'], as_index=False).mean().sort_values(by='Fare_bucket', ascending=True)"
      ],
      "execution_count": 41,
      "outputs": [
        {
          "output_type": "execute_result",
          "data": {
            "text/html": [
              "<div>\n",
              "<style scoped>\n",
              "    .dataframe tbody tr th:only-of-type {\n",
              "        vertical-align: middle;\n",
              "    }\n",
              "\n",
              "    .dataframe tbody tr th {\n",
              "        vertical-align: top;\n",
              "    }\n",
              "\n",
              "    .dataframe thead th {\n",
              "        text-align: right;\n",
              "    }\n",
              "</style>\n",
              "<table border=\"1\" class=\"dataframe\">\n",
              "  <thead>\n",
              "    <tr style=\"text-align: right;\">\n",
              "      <th></th>\n",
              "      <th>Fare_bucket</th>\n",
              "      <th>Survived</th>\n",
              "    </tr>\n",
              "  </thead>\n",
              "  <tbody>\n",
              "    <tr>\n",
              "      <th>0</th>\n",
              "      <td>(-0.001, 7.91]</td>\n",
              "      <td>0.197309</td>\n",
              "    </tr>\n",
              "    <tr>\n",
              "      <th>1</th>\n",
              "      <td>(7.91, 14.454]</td>\n",
              "      <td>0.303571</td>\n",
              "    </tr>\n",
              "    <tr>\n",
              "      <th>2</th>\n",
              "      <td>(14.454, 31.0]</td>\n",
              "      <td>0.454955</td>\n",
              "    </tr>\n",
              "    <tr>\n",
              "      <th>3</th>\n",
              "      <td>(31.0, 512.329]</td>\n",
              "      <td>0.581081</td>\n",
              "    </tr>\n",
              "  </tbody>\n",
              "</table>\n",
              "</div>"
            ],
            "text/plain": [
              "       Fare_bucket  Survived\n",
              "0   (-0.001, 7.91]  0.197309\n",
              "1   (7.91, 14.454]  0.303571\n",
              "2   (14.454, 31.0]  0.454955\n",
              "3  (31.0, 512.329]  0.581081"
            ]
          },
          "metadata": {
            "tags": []
          },
          "execution_count": 41
        }
      ]
    },
    {
      "cell_type": "markdown",
      "metadata": {
        "id": "IrkneqLEuHNF",
        "colab_type": "text"
      },
      "source": [
        "* The higher the fare, the higher the chance of surviving"
      ]
    },
    {
      "cell_type": "code",
      "metadata": {
        "id": "Az4rmw8ouHNG",
        "colab_type": "code",
        "colab": {}
      },
      "source": [
        "train['Fare_bucket'] = train.Fare\n",
        "train.loc[ train['Fare'] <= 7.91, 'Fare_bucket'] = 0\n",
        "train.loc[(train['Fare'] > 7.91) & (train['Fare'] <= 14.454), 'Fare_bucket'] = 1\n",
        "train.loc[(train['Fare'] > 14.454) & (train['Fare'] <= 31.0), 'Fare_bucket']   = 2\n",
        "train.loc[ train['Fare'] > 31.0, 'Fare_bucket'] = 3\n",
        "train['Fare_bucket'] = train['Fare_bucket'].astype(int)"
      ],
      "execution_count": 0,
      "outputs": []
    },
    {
      "cell_type": "markdown",
      "metadata": {
        "id": "NwNtTxaJuHNe",
        "colab_type": "text"
      },
      "source": [
        "* Can also check the interaction of two variables"
      ]
    },
    {
      "cell_type": "code",
      "metadata": {
        "id": "MHiXdGsFuHNf",
        "colab_type": "code",
        "colab": {}
      },
      "source": [
        "train['Age_bucket*Class'] = train.Age_bucket * train.Pclass\n",
        "train['Fare_bucket*Class'] = train.Fare_bucket * train.Pclass"
      ],
      "execution_count": 0,
      "outputs": []
    },
    {
      "cell_type": "markdown",
      "metadata": {
        "id": "yzGGJaStuHNf",
        "colab_type": "text"
      },
      "source": [
        "## Correlation"
      ]
    },
    {
      "cell_type": "code",
      "metadata": {
        "scrolled": true,
        "id": "KUf7QdbvuHNg",
        "colab_type": "code",
        "colab": {
          "base_uri": "https://localhost:8080/",
          "height": 250
        },
        "outputId": "a0a6404a-072f-43de-a2a2-a48711cb3092"
      },
      "source": [
        "categorical_features = ['Survived','Pclass', 'Sex', 'Embarked', 'Title']\n",
        "numerical_features   = ['Age', 'SibSp','Parch', 'Fare','FamilySize',\n",
        "                        'Age_bucket', 'Fare_bucket','Age_bucket*Class','Fare_bucket*Class']\n",
        "\n",
        "\n",
        "from sklearn.preprocessing import LabelEncoder\n",
        "\n",
        "catego_le = LabelEncoder()\n",
        "for feature in categorical_features:\n",
        "    train[feature] = catego_le.fit_transform(train[feature].values)\n",
        "    \n",
        "corr = train[['Survived'] + numerical_features].corr()\n",
        "corr.style.background_gradient(cmap='coolwarm').set_precision(2)"
      ],
      "execution_count": 44,
      "outputs": [
        {
          "output_type": "execute_result",
          "data": {
            "text/html": [
              "<style  type=\"text/css\" >\n",
              "    #T_ffd81fac_3477_11ea_977f_0242ac1c0002row0_col0 {\n",
              "            background-color:  #b40426;\n",
              "            color:  #f1f1f1;\n",
              "        }    #T_ffd81fac_3477_11ea_977f_0242ac1c0002row0_col1 {\n",
              "            background-color:  #6b8df0;\n",
              "            color:  #000000;\n",
              "        }    #T_ffd81fac_3477_11ea_977f_0242ac1c0002row0_col2 {\n",
              "            background-color:  #7295f4;\n",
              "            color:  #000000;\n",
              "        }    #T_ffd81fac_3477_11ea_977f_0242ac1c0002row0_col3 {\n",
              "            background-color:  #82a6fb;\n",
              "            color:  #000000;\n",
              "        }    #T_ffd81fac_3477_11ea_977f_0242ac1c0002row0_col4 {\n",
              "            background-color:  #c0d4f5;\n",
              "            color:  #000000;\n",
              "        }    #T_ffd81fac_3477_11ea_977f_0242ac1c0002row0_col5 {\n",
              "            background-color:  #82a6fb;\n",
              "            color:  #000000;\n",
              "        }    #T_ffd81fac_3477_11ea_977f_0242ac1c0002row0_col6 {\n",
              "            background-color:  #6c8ff1;\n",
              "            color:  #000000;\n",
              "        }    #T_ffd81fac_3477_11ea_977f_0242ac1c0002row0_col7 {\n",
              "            background-color:  #d7dce3;\n",
              "            color:  #000000;\n",
              "        }    #T_ffd81fac_3477_11ea_977f_0242ac1c0002row0_col8 {\n",
              "            background-color:  #4c66d6;\n",
              "            color:  #000000;\n",
              "        }    #T_ffd81fac_3477_11ea_977f_0242ac1c0002row0_col9 {\n",
              "            background-color:  #85a8fc;\n",
              "            color:  #000000;\n",
              "        }    #T_ffd81fac_3477_11ea_977f_0242ac1c0002row1_col0 {\n",
              "            background-color:  #6c8ff1;\n",
              "            color:  #000000;\n",
              "        }    #T_ffd81fac_3477_11ea_977f_0242ac1c0002row1_col1 {\n",
              "            background-color:  #b40426;\n",
              "            color:  #f1f1f1;\n",
              "        }    #T_ffd81fac_3477_11ea_977f_0242ac1c0002row1_col2 {\n",
              "            background-color:  #3b4cc0;\n",
              "            color:  #f1f1f1;\n",
              "        }    #T_ffd81fac_3477_11ea_977f_0242ac1c0002row1_col3 {\n",
              "            background-color:  #3b4cc0;\n",
              "            color:  #f1f1f1;\n",
              "        }    #T_ffd81fac_3477_11ea_977f_0242ac1c0002row1_col4 {\n",
              "            background-color:  #9bbcff;\n",
              "            color:  #000000;\n",
              "        }    #T_ffd81fac_3477_11ea_977f_0242ac1c0002row1_col5 {\n",
              "            background-color:  #3b4cc0;\n",
              "            color:  #f1f1f1;\n",
              "        }    #T_ffd81fac_3477_11ea_977f_0242ac1c0002row1_col6 {\n",
              "            background-color:  #c43032;\n",
              "            color:  #f1f1f1;\n",
              "        }    #T_ffd81fac_3477_11ea_977f_0242ac1c0002row1_col7 {\n",
              "            background-color:  #aec9fc;\n",
              "            color:  #000000;\n",
              "        }    #T_ffd81fac_3477_11ea_977f_0242ac1c0002row1_col8 {\n",
              "            background-color:  #f6a283;\n",
              "            color:  #000000;\n",
              "        }    #T_ffd81fac_3477_11ea_977f_0242ac1c0002row1_col9 {\n",
              "            background-color:  #3f53c6;\n",
              "            color:  #f1f1f1;\n",
              "        }    #T_ffd81fac_3477_11ea_977f_0242ac1c0002row2_col0 {\n",
              "            background-color:  #7699f6;\n",
              "            color:  #000000;\n",
              "        }    #T_ffd81fac_3477_11ea_977f_0242ac1c0002row2_col1 {\n",
              "            background-color:  #3d50c3;\n",
              "            color:  #f1f1f1;\n",
              "        }    #T_ffd81fac_3477_11ea_977f_0242ac1c0002row2_col2 {\n",
              "            background-color:  #b40426;\n",
              "            color:  #f1f1f1;\n",
              "        }    #T_ffd81fac_3477_11ea_977f_0242ac1c0002row2_col3 {\n",
              "            background-color:  #dedcdb;\n",
              "            color:  #000000;\n",
              "        }    #T_ffd81fac_3477_11ea_977f_0242ac1c0002row2_col4 {\n",
              "            background-color:  #a6c4fe;\n",
              "            color:  #000000;\n",
              "        }    #T_ffd81fac_3477_11ea_977f_0242ac1c0002row2_col5 {\n",
              "            background-color:  #d24b40;\n",
              "            color:  #f1f1f1;\n",
              "        }    #T_ffd81fac_3477_11ea_977f_0242ac1c0002row2_col6 {\n",
              "            background-color:  #3b4cc0;\n",
              "            color:  #f1f1f1;\n",
              "        }    #T_ffd81fac_3477_11ea_977f_0242ac1c0002row2_col7 {\n",
              "            background-color:  #ead5c9;\n",
              "            color:  #000000;\n",
              "        }    #T_ffd81fac_3477_11ea_977f_0242ac1c0002row2_col8 {\n",
              "            background-color:  #5572df;\n",
              "            color:  #000000;\n",
              "        }    #T_ffd81fac_3477_11ea_977f_0242ac1c0002row2_col9 {\n",
              "            background-color:  #f7ba9f;\n",
              "            color:  #000000;\n",
              "        }    #T_ffd81fac_3477_11ea_977f_0242ac1c0002row3_col0 {\n",
              "            background-color:  #96b7ff;\n",
              "            color:  #000000;\n",
              "        }    #T_ffd81fac_3477_11ea_977f_0242ac1c0002row3_col1 {\n",
              "            background-color:  #4e68d8;\n",
              "            color:  #000000;\n",
              "        }    #T_ffd81fac_3477_11ea_977f_0242ac1c0002row3_col2 {\n",
              "            background-color:  #e5d8d1;\n",
              "            color:  #000000;\n",
              "        }    #T_ffd81fac_3477_11ea_977f_0242ac1c0002row3_col3 {\n",
              "            background-color:  #b40426;\n",
              "            color:  #f1f1f1;\n",
              "        }    #T_ffd81fac_3477_11ea_977f_0242ac1c0002row3_col4 {\n",
              "            background-color:  #b6cefa;\n",
              "            color:  #000000;\n",
              "        }    #T_ffd81fac_3477_11ea_977f_0242ac1c0002row3_col5 {\n",
              "            background-color:  #e8765c;\n",
              "            color:  #000000;\n",
              "        }    #T_ffd81fac_3477_11ea_977f_0242ac1c0002row3_col6 {\n",
              "            background-color:  #4e68d8;\n",
              "            color:  #000000;\n",
              "        }    #T_ffd81fac_3477_11ea_977f_0242ac1c0002row3_col7 {\n",
              "            background-color:  #ead5c9;\n",
              "            color:  #000000;\n",
              "        }    #T_ffd81fac_3477_11ea_977f_0242ac1c0002row3_col8 {\n",
              "            background-color:  #6e90f2;\n",
              "            color:  #000000;\n",
              "        }    #T_ffd81fac_3477_11ea_977f_0242ac1c0002row3_col9 {\n",
              "            background-color:  #f2c9b4;\n",
              "            color:  #000000;\n",
              "        }    #T_ffd81fac_3477_11ea_977f_0242ac1c0002row4_col0 {\n",
              "            background-color:  #c5d6f2;\n",
              "            color:  #000000;\n",
              "        }    #T_ffd81fac_3477_11ea_977f_0242ac1c0002row4_col1 {\n",
              "            background-color:  #9fbfff;\n",
              "            color:  #000000;\n",
              "        }    #T_ffd81fac_3477_11ea_977f_0242ac1c0002row4_col2 {\n",
              "            background-color:  #a9c6fd;\n",
              "            color:  #000000;\n",
              "        }    #T_ffd81fac_3477_11ea_977f_0242ac1c0002row4_col3 {\n",
              "            background-color:  #abc8fd;\n",
              "            color:  #000000;\n",
              "        }    #T_ffd81fac_3477_11ea_977f_0242ac1c0002row4_col4 {\n",
              "            background-color:  #b40426;\n",
              "            color:  #f1f1f1;\n",
              "        }    #T_ffd81fac_3477_11ea_977f_0242ac1c0002row4_col5 {\n",
              "            background-color:  #bad0f8;\n",
              "            color:  #000000;\n",
              "        }    #T_ffd81fac_3477_11ea_977f_0242ac1c0002row4_col6 {\n",
              "            background-color:  #a1c0ff;\n",
              "            color:  #000000;\n",
              "        }    #T_ffd81fac_3477_11ea_977f_0242ac1c0002row4_col7 {\n",
              "            background-color:  #f7b194;\n",
              "            color:  #000000;\n",
              "        }    #T_ffd81fac_3477_11ea_977f_0242ac1c0002row4_col8 {\n",
              "            background-color:  #536edd;\n",
              "            color:  #000000;\n",
              "        }    #T_ffd81fac_3477_11ea_977f_0242ac1c0002row4_col9 {\n",
              "            background-color:  #a5c3fe;\n",
              "            color:  #000000;\n",
              "        }    #T_ffd81fac_3477_11ea_977f_0242ac1c0002row5_col0 {\n",
              "            background-color:  #84a7fc;\n",
              "            color:  #000000;\n",
              "        }    #T_ffd81fac_3477_11ea_977f_0242ac1c0002row5_col1 {\n",
              "            background-color:  #3b4cc0;\n",
              "            color:  #f1f1f1;\n",
              "        }    #T_ffd81fac_3477_11ea_977f_0242ac1c0002row5_col2 {\n",
              "            background-color:  #d24b40;\n",
              "            color:  #f1f1f1;\n",
              "        }    #T_ffd81fac_3477_11ea_977f_0242ac1c0002row5_col3 {\n",
              "            background-color:  #eb7d62;\n",
              "            color:  #000000;\n",
              "        }    #T_ffd81fac_3477_11ea_977f_0242ac1c0002row5_col4 {\n",
              "            background-color:  #b6cefa;\n",
              "            color:  #000000;\n",
              "        }    #T_ffd81fac_3477_11ea_977f_0242ac1c0002row5_col5 {\n",
              "            background-color:  #b40426;\n",
              "            color:  #f1f1f1;\n",
              "        }    #T_ffd81fac_3477_11ea_977f_0242ac1c0002row5_col6 {\n",
              "            background-color:  #3b4cc0;\n",
              "            color:  #f1f1f1;\n",
              "        }    #T_ffd81fac_3477_11ea_977f_0242ac1c0002row5_col7 {\n",
              "            background-color:  #f2cab5;\n",
              "            color:  #000000;\n",
              "        }    #T_ffd81fac_3477_11ea_977f_0242ac1c0002row5_col8 {\n",
              "            background-color:  #5673e0;\n",
              "            color:  #000000;\n",
              "        }    #T_ffd81fac_3477_11ea_977f_0242ac1c0002row5_col9 {\n",
              "            background-color:  #f6a385;\n",
              "            color:  #000000;\n",
              "        }    #T_ffd81fac_3477_11ea_977f_0242ac1c0002row6_col0 {\n",
              "            background-color:  #7699f6;\n",
              "            color:  #000000;\n",
              "        }    #T_ffd81fac_3477_11ea_977f_0242ac1c0002row6_col1 {\n",
              "            background-color:  #c43032;\n",
              "            color:  #f1f1f1;\n",
              "        }    #T_ffd81fac_3477_11ea_977f_0242ac1c0002row6_col2 {\n",
              "            background-color:  #3f53c6;\n",
              "            color:  #f1f1f1;\n",
              "        }    #T_ffd81fac_3477_11ea_977f_0242ac1c0002row6_col3 {\n",
              "            background-color:  #4257c9;\n",
              "            color:  #f1f1f1;\n",
              "        }    #T_ffd81fac_3477_11ea_977f_0242ac1c0002row6_col4 {\n",
              "            background-color:  #a2c1ff;\n",
              "            color:  #000000;\n",
              "        }    #T_ffd81fac_3477_11ea_977f_0242ac1c0002row6_col5 {\n",
              "            background-color:  #4257c9;\n",
              "            color:  #f1f1f1;\n",
              "        }    #T_ffd81fac_3477_11ea_977f_0242ac1c0002row6_col6 {\n",
              "            background-color:  #b40426;\n",
              "            color:  #f1f1f1;\n",
              "        }    #T_ffd81fac_3477_11ea_977f_0242ac1c0002row6_col7 {\n",
              "            background-color:  #b2ccfb;\n",
              "            color:  #000000;\n",
              "        }    #T_ffd81fac_3477_11ea_977f_0242ac1c0002row6_col8 {\n",
              "            background-color:  #f39577;\n",
              "            color:  #000000;\n",
              "        }    #T_ffd81fac_3477_11ea_977f_0242ac1c0002row6_col9 {\n",
              "            background-color:  #4055c8;\n",
              "            color:  #f1f1f1;\n",
              "        }    #T_ffd81fac_3477_11ea_977f_0242ac1c0002row7_col0 {\n",
              "            background-color:  #cedaeb;\n",
              "            color:  #000000;\n",
              "        }    #T_ffd81fac_3477_11ea_977f_0242ac1c0002row7_col1 {\n",
              "            background-color:  #9ebeff;\n",
              "            color:  #000000;\n",
              "        }    #T_ffd81fac_3477_11ea_977f_0242ac1c0002row7_col2 {\n",
              "            background-color:  #e1dad6;\n",
              "            color:  #000000;\n",
              "        }    #T_ffd81fac_3477_11ea_977f_0242ac1c0002row7_col3 {\n",
              "            background-color:  #d9dce1;\n",
              "            color:  #000000;\n",
              "        }    #T_ffd81fac_3477_11ea_977f_0242ac1c0002row7_col4 {\n",
              "            background-color:  #f7ba9f;\n",
              "            color:  #000000;\n",
              "        }    #T_ffd81fac_3477_11ea_977f_0242ac1c0002row7_col5 {\n",
              "            background-color:  #eed0c0;\n",
              "            color:  #000000;\n",
              "        }    #T_ffd81fac_3477_11ea_977f_0242ac1c0002row7_col6 {\n",
              "            background-color:  #9dbdff;\n",
              "            color:  #000000;\n",
              "        }    #T_ffd81fac_3477_11ea_977f_0242ac1c0002row7_col7 {\n",
              "            background-color:  #b40426;\n",
              "            color:  #f1f1f1;\n",
              "        }    #T_ffd81fac_3477_11ea_977f_0242ac1c0002row7_col8 {\n",
              "            background-color:  #3b4cc0;\n",
              "            color:  #f1f1f1;\n",
              "        }    #T_ffd81fac_3477_11ea_977f_0242ac1c0002row7_col9 {\n",
              "            background-color:  #f29072;\n",
              "            color:  #000000;\n",
              "        }    #T_ffd81fac_3477_11ea_977f_0242ac1c0002row8_col0 {\n",
              "            background-color:  #3b4cc0;\n",
              "            color:  #f1f1f1;\n",
              "        }    #T_ffd81fac_3477_11ea_977f_0242ac1c0002row8_col1 {\n",
              "            background-color:  #f7a98b;\n",
              "            color:  #000000;\n",
              "        }    #T_ffd81fac_3477_11ea_977f_0242ac1c0002row8_col2 {\n",
              "            background-color:  #3e51c5;\n",
              "            color:  #f1f1f1;\n",
              "        }    #T_ffd81fac_3477_11ea_977f_0242ac1c0002row8_col3 {\n",
              "            background-color:  #465ecf;\n",
              "            color:  #f1f1f1;\n",
              "        }    #T_ffd81fac_3477_11ea_977f_0242ac1c0002row8_col4 {\n",
              "            background-color:  #3b4cc0;\n",
              "            color:  #f1f1f1;\n",
              "        }    #T_ffd81fac_3477_11ea_977f_0242ac1c0002row8_col5 {\n",
              "            background-color:  #4358cb;\n",
              "            color:  #f1f1f1;\n",
              "        }    #T_ffd81fac_3477_11ea_977f_0242ac1c0002row8_col6 {\n",
              "            background-color:  #f59f80;\n",
              "            color:  #000000;\n",
              "        }    #T_ffd81fac_3477_11ea_977f_0242ac1c0002row8_col7 {\n",
              "            background-color:  #3b4cc0;\n",
              "            color:  #f1f1f1;\n",
              "        }    #T_ffd81fac_3477_11ea_977f_0242ac1c0002row8_col8 {\n",
              "            background-color:  #b40426;\n",
              "            color:  #f1f1f1;\n",
              "        }    #T_ffd81fac_3477_11ea_977f_0242ac1c0002row8_col9 {\n",
              "            background-color:  #3b4cc0;\n",
              "            color:  #f1f1f1;\n",
              "        }    #T_ffd81fac_3477_11ea_977f_0242ac1c0002row9_col0 {\n",
              "            background-color:  #93b5fe;\n",
              "            color:  #000000;\n",
              "        }    #T_ffd81fac_3477_11ea_977f_0242ac1c0002row9_col1 {\n",
              "            background-color:  #4c66d6;\n",
              "            color:  #000000;\n",
              "        }    #T_ffd81fac_3477_11ea_977f_0242ac1c0002row9_col2 {\n",
              "            background-color:  #f7b599;\n",
              "            color:  #000000;\n",
              "        }    #T_ffd81fac_3477_11ea_977f_0242ac1c0002row9_col3 {\n",
              "            background-color:  #f2cbb7;\n",
              "            color:  #000000;\n",
              "        }    #T_ffd81fac_3477_11ea_977f_0242ac1c0002row9_col4 {\n",
              "            background-color:  #abc8fd;\n",
              "            color:  #000000;\n",
              "        }    #T_ffd81fac_3477_11ea_977f_0242ac1c0002row9_col5 {\n",
              "            background-color:  #f59f80;\n",
              "            color:  #000000;\n",
              "        }    #T_ffd81fac_3477_11ea_977f_0242ac1c0002row9_col6 {\n",
              "            background-color:  #465ecf;\n",
              "            color:  #f1f1f1;\n",
              "        }    #T_ffd81fac_3477_11ea_977f_0242ac1c0002row9_col7 {\n",
              "            background-color:  #ee8468;\n",
              "            color:  #000000;\n",
              "        }    #T_ffd81fac_3477_11ea_977f_0242ac1c0002row9_col8 {\n",
              "            background-color:  #5b7ae5;\n",
              "            color:  #000000;\n",
              "        }    #T_ffd81fac_3477_11ea_977f_0242ac1c0002row9_col9 {\n",
              "            background-color:  #b40426;\n",
              "            color:  #f1f1f1;\n",
              "        }</style><table id=\"T_ffd81fac_3477_11ea_977f_0242ac1c0002\" ><thead>    <tr>        <th class=\"blank level0\" ></th>        <th class=\"col_heading level0 col0\" >Survived</th>        <th class=\"col_heading level0 col1\" >Age</th>        <th class=\"col_heading level0 col2\" >SibSp</th>        <th class=\"col_heading level0 col3\" >Parch</th>        <th class=\"col_heading level0 col4\" >Fare</th>        <th class=\"col_heading level0 col5\" >FamilySize</th>        <th class=\"col_heading level0 col6\" >Age_bucket</th>        <th class=\"col_heading level0 col7\" >Fare_bucket</th>        <th class=\"col_heading level0 col8\" >Age_bucket*Class</th>        <th class=\"col_heading level0 col9\" >Fare_bucket*Class</th>    </tr></thead><tbody>\n",
              "                <tr>\n",
              "                        <th id=\"T_ffd81fac_3477_11ea_977f_0242ac1c0002level0_row0\" class=\"row_heading level0 row0\" >Survived</th>\n",
              "                        <td id=\"T_ffd81fac_3477_11ea_977f_0242ac1c0002row0_col0\" class=\"data row0 col0\" >1</td>\n",
              "                        <td id=\"T_ffd81fac_3477_11ea_977f_0242ac1c0002row0_col1\" class=\"data row0 col1\" >-0.067</td>\n",
              "                        <td id=\"T_ffd81fac_3477_11ea_977f_0242ac1c0002row0_col2\" class=\"data row0 col2\" >-0.035</td>\n",
              "                        <td id=\"T_ffd81fac_3477_11ea_977f_0242ac1c0002row0_col3\" class=\"data row0 col3\" >0.082</td>\n",
              "                        <td id=\"T_ffd81fac_3477_11ea_977f_0242ac1c0002row0_col4\" class=\"data row0 col4\" >0.26</td>\n",
              "                        <td id=\"T_ffd81fac_3477_11ea_977f_0242ac1c0002row0_col5\" class=\"data row0 col5\" >0.017</td>\n",
              "                        <td id=\"T_ffd81fac_3477_11ea_977f_0242ac1c0002row0_col6\" class=\"data row0 col6\" >-0.036</td>\n",
              "                        <td id=\"T_ffd81fac_3477_11ea_977f_0242ac1c0002row0_col7\" class=\"data row0 col7\" >0.3</td>\n",
              "                        <td id=\"T_ffd81fac_3477_11ea_977f_0242ac1c0002row0_col8\" class=\"data row0 col8\" >-0.27</td>\n",
              "                        <td id=\"T_ffd81fac_3477_11ea_977f_0242ac1c0002row0_col9\" class=\"data row0 col9\" >0.071</td>\n",
              "            </tr>\n",
              "            <tr>\n",
              "                        <th id=\"T_ffd81fac_3477_11ea_977f_0242ac1c0002level0_row1\" class=\"row_heading level0 row1\" >Age</th>\n",
              "                        <td id=\"T_ffd81fac_3477_11ea_977f_0242ac1c0002row1_col0\" class=\"data row1 col0\" >-0.067</td>\n",
              "                        <td id=\"T_ffd81fac_3477_11ea_977f_0242ac1c0002row1_col1\" class=\"data row1 col1\" >1</td>\n",
              "                        <td id=\"T_ffd81fac_3477_11ea_977f_0242ac1c0002row1_col2\" class=\"data row1 col2\" >-0.25</td>\n",
              "                        <td id=\"T_ffd81fac_3477_11ea_977f_0242ac1c0002row1_col3\" class=\"data row1 col3\" >-0.18</td>\n",
              "                        <td id=\"T_ffd81fac_3477_11ea_977f_0242ac1c0002row1_col4\" class=\"data row1 col4\" >0.12</td>\n",
              "                        <td id=\"T_ffd81fac_3477_11ea_977f_0242ac1c0002row1_col5\" class=\"data row1 col5\" >-0.26</td>\n",
              "                        <td id=\"T_ffd81fac_3477_11ea_977f_0242ac1c0002row1_col6\" class=\"data row1 col6\" >0.94</td>\n",
              "                        <td id=\"T_ffd81fac_3477_11ea_977f_0242ac1c0002row1_col7\" class=\"data row1 col7\" >0.12</td>\n",
              "                        <td id=\"T_ffd81fac_3477_11ea_977f_0242ac1c0002row1_col8\" class=\"data row1 col8\" >0.63</td>\n",
              "                        <td id=\"T_ffd81fac_3477_11ea_977f_0242ac1c0002row1_col9\" class=\"data row1 col9\" >-0.18</td>\n",
              "            </tr>\n",
              "            <tr>\n",
              "                        <th id=\"T_ffd81fac_3477_11ea_977f_0242ac1c0002level0_row2\" class=\"row_heading level0 row2\" >SibSp</th>\n",
              "                        <td id=\"T_ffd81fac_3477_11ea_977f_0242ac1c0002row2_col0\" class=\"data row2 col0\" >-0.035</td>\n",
              "                        <td id=\"T_ffd81fac_3477_11ea_977f_0242ac1c0002row2_col1\" class=\"data row2 col1\" >-0.25</td>\n",
              "                        <td id=\"T_ffd81fac_3477_11ea_977f_0242ac1c0002row2_col2\" class=\"data row2 col2\" >1</td>\n",
              "                        <td id=\"T_ffd81fac_3477_11ea_977f_0242ac1c0002row2_col3\" class=\"data row2 col3\" >0.41</td>\n",
              "                        <td id=\"T_ffd81fac_3477_11ea_977f_0242ac1c0002row2_col4\" class=\"data row2 col4\" >0.16</td>\n",
              "                        <td id=\"T_ffd81fac_3477_11ea_977f_0242ac1c0002row2_col5\" class=\"data row2 col5\" >0.89</td>\n",
              "                        <td id=\"T_ffd81fac_3477_11ea_977f_0242ac1c0002row2_col6\" class=\"data row2 col6\" >-0.23</td>\n",
              "                        <td id=\"T_ffd81fac_3477_11ea_977f_0242ac1c0002row2_col7\" class=\"data row2 col7\" >0.39</td>\n",
              "                        <td id=\"T_ffd81fac_3477_11ea_977f_0242ac1c0002row2_col8\" class=\"data row2 col8\" >-0.23</td>\n",
              "                        <td id=\"T_ffd81fac_3477_11ea_977f_0242ac1c0002row2_col9\" class=\"data row2 col9\" >0.59</td>\n",
              "            </tr>\n",
              "            <tr>\n",
              "                        <th id=\"T_ffd81fac_3477_11ea_977f_0242ac1c0002level0_row3\" class=\"row_heading level0 row3\" >Parch</th>\n",
              "                        <td id=\"T_ffd81fac_3477_11ea_977f_0242ac1c0002row3_col0\" class=\"data row3 col0\" >0.082</td>\n",
              "                        <td id=\"T_ffd81fac_3477_11ea_977f_0242ac1c0002row3_col1\" class=\"data row3 col1\" >-0.18</td>\n",
              "                        <td id=\"T_ffd81fac_3477_11ea_977f_0242ac1c0002row3_col2\" class=\"data row3 col2\" >0.41</td>\n",
              "                        <td id=\"T_ffd81fac_3477_11ea_977f_0242ac1c0002row3_col3\" class=\"data row3 col3\" >1</td>\n",
              "                        <td id=\"T_ffd81fac_3477_11ea_977f_0242ac1c0002row3_col4\" class=\"data row3 col4\" >0.22</td>\n",
              "                        <td id=\"T_ffd81fac_3477_11ea_977f_0242ac1c0002row3_col5\" class=\"data row3 col5\" >0.78</td>\n",
              "                        <td id=\"T_ffd81fac_3477_11ea_977f_0242ac1c0002row3_col6\" class=\"data row3 col6\" >-0.15</td>\n",
              "                        <td id=\"T_ffd81fac_3477_11ea_977f_0242ac1c0002row3_col7\" class=\"data row3 col7\" >0.39</td>\n",
              "                        <td id=\"T_ffd81fac_3477_11ea_977f_0242ac1c0002row3_col8\" class=\"data row3 col8\" >-0.13</td>\n",
              "                        <td id=\"T_ffd81fac_3477_11ea_977f_0242ac1c0002row3_col9\" class=\"data row3 col9\" >0.53</td>\n",
              "            </tr>\n",
              "            <tr>\n",
              "                        <th id=\"T_ffd81fac_3477_11ea_977f_0242ac1c0002level0_row4\" class=\"row_heading level0 row4\" >Fare</th>\n",
              "                        <td id=\"T_ffd81fac_3477_11ea_977f_0242ac1c0002row4_col0\" class=\"data row4 col0\" >0.26</td>\n",
              "                        <td id=\"T_ffd81fac_3477_11ea_977f_0242ac1c0002row4_col1\" class=\"data row4 col1\" >0.12</td>\n",
              "                        <td id=\"T_ffd81fac_3477_11ea_977f_0242ac1c0002row4_col2\" class=\"data row4 col2\" >0.16</td>\n",
              "                        <td id=\"T_ffd81fac_3477_11ea_977f_0242ac1c0002row4_col3\" class=\"data row4 col3\" >0.22</td>\n",
              "                        <td id=\"T_ffd81fac_3477_11ea_977f_0242ac1c0002row4_col4\" class=\"data row4 col4\" >1</td>\n",
              "                        <td id=\"T_ffd81fac_3477_11ea_977f_0242ac1c0002row4_col5\" class=\"data row4 col5\" >0.22</td>\n",
              "                        <td id=\"T_ffd81fac_3477_11ea_977f_0242ac1c0002row4_col6\" class=\"data row4 col6\" >0.15</td>\n",
              "                        <td id=\"T_ffd81fac_3477_11ea_977f_0242ac1c0002row4_col7\" class=\"data row4 col7\" >0.58</td>\n",
              "                        <td id=\"T_ffd81fac_3477_11ea_977f_0242ac1c0002row4_col8\" class=\"data row4 col8\" >-0.24</td>\n",
              "                        <td id=\"T_ffd81fac_3477_11ea_977f_0242ac1c0002row4_col9\" class=\"data row4 col9\" >0.18</td>\n",
              "            </tr>\n",
              "            <tr>\n",
              "                        <th id=\"T_ffd81fac_3477_11ea_977f_0242ac1c0002level0_row5\" class=\"row_heading level0 row5\" >FamilySize</th>\n",
              "                        <td id=\"T_ffd81fac_3477_11ea_977f_0242ac1c0002row5_col0\" class=\"data row5 col0\" >0.017</td>\n",
              "                        <td id=\"T_ffd81fac_3477_11ea_977f_0242ac1c0002row5_col1\" class=\"data row5 col1\" >-0.26</td>\n",
              "                        <td id=\"T_ffd81fac_3477_11ea_977f_0242ac1c0002row5_col2\" class=\"data row5 col2\" >0.89</td>\n",
              "                        <td id=\"T_ffd81fac_3477_11ea_977f_0242ac1c0002row5_col3\" class=\"data row5 col3\" >0.78</td>\n",
              "                        <td id=\"T_ffd81fac_3477_11ea_977f_0242ac1c0002row5_col4\" class=\"data row5 col4\" >0.22</td>\n",
              "                        <td id=\"T_ffd81fac_3477_11ea_977f_0242ac1c0002row5_col5\" class=\"data row5 col5\" >1</td>\n",
              "                        <td id=\"T_ffd81fac_3477_11ea_977f_0242ac1c0002row5_col6\" class=\"data row5 col6\" >-0.23</td>\n",
              "                        <td id=\"T_ffd81fac_3477_11ea_977f_0242ac1c0002row5_col7\" class=\"data row5 col7\" >0.47</td>\n",
              "                        <td id=\"T_ffd81fac_3477_11ea_977f_0242ac1c0002row5_col8\" class=\"data row5 col8\" >-0.23</td>\n",
              "                        <td id=\"T_ffd81fac_3477_11ea_977f_0242ac1c0002row5_col9\" class=\"data row5 col9\" >0.67</td>\n",
              "            </tr>\n",
              "            <tr>\n",
              "                        <th id=\"T_ffd81fac_3477_11ea_977f_0242ac1c0002level0_row6\" class=\"row_heading level0 row6\" >Age_bucket</th>\n",
              "                        <td id=\"T_ffd81fac_3477_11ea_977f_0242ac1c0002row6_col0\" class=\"data row6 col0\" >-0.036</td>\n",
              "                        <td id=\"T_ffd81fac_3477_11ea_977f_0242ac1c0002row6_col1\" class=\"data row6 col1\" >0.94</td>\n",
              "                        <td id=\"T_ffd81fac_3477_11ea_977f_0242ac1c0002row6_col2\" class=\"data row6 col2\" >-0.23</td>\n",
              "                        <td id=\"T_ffd81fac_3477_11ea_977f_0242ac1c0002row6_col3\" class=\"data row6 col3\" >-0.15</td>\n",
              "                        <td id=\"T_ffd81fac_3477_11ea_977f_0242ac1c0002row6_col4\" class=\"data row6 col4\" >0.15</td>\n",
              "                        <td id=\"T_ffd81fac_3477_11ea_977f_0242ac1c0002row6_col5\" class=\"data row6 col5\" >-0.23</td>\n",
              "                        <td id=\"T_ffd81fac_3477_11ea_977f_0242ac1c0002row6_col6\" class=\"data row6 col6\" >1</td>\n",
              "                        <td id=\"T_ffd81fac_3477_11ea_977f_0242ac1c0002row6_col7\" class=\"data row6 col7\" >0.13</td>\n",
              "                        <td id=\"T_ffd81fac_3477_11ea_977f_0242ac1c0002row6_col8\" class=\"data row6 col8\" >0.68</td>\n",
              "                        <td id=\"T_ffd81fac_3477_11ea_977f_0242ac1c0002row6_col9\" class=\"data row6 col9\" >-0.18</td>\n",
              "            </tr>\n",
              "            <tr>\n",
              "                        <th id=\"T_ffd81fac_3477_11ea_977f_0242ac1c0002level0_row7\" class=\"row_heading level0 row7\" >Fare_bucket</th>\n",
              "                        <td id=\"T_ffd81fac_3477_11ea_977f_0242ac1c0002row7_col0\" class=\"data row7 col0\" >0.3</td>\n",
              "                        <td id=\"T_ffd81fac_3477_11ea_977f_0242ac1c0002row7_col1\" class=\"data row7 col1\" >0.12</td>\n",
              "                        <td id=\"T_ffd81fac_3477_11ea_977f_0242ac1c0002row7_col2\" class=\"data row7 col2\" >0.39</td>\n",
              "                        <td id=\"T_ffd81fac_3477_11ea_977f_0242ac1c0002row7_col3\" class=\"data row7 col3\" >0.39</td>\n",
              "                        <td id=\"T_ffd81fac_3477_11ea_977f_0242ac1c0002row7_col4\" class=\"data row7 col4\" >0.58</td>\n",
              "                        <td id=\"T_ffd81fac_3477_11ea_977f_0242ac1c0002row7_col5\" class=\"data row7 col5\" >0.47</td>\n",
              "                        <td id=\"T_ffd81fac_3477_11ea_977f_0242ac1c0002row7_col6\" class=\"data row7 col6\" >0.13</td>\n",
              "                        <td id=\"T_ffd81fac_3477_11ea_977f_0242ac1c0002row7_col7\" class=\"data row7 col7\" >1</td>\n",
              "                        <td id=\"T_ffd81fac_3477_11ea_977f_0242ac1c0002row7_col8\" class=\"data row7 col8\" >-0.35</td>\n",
              "                        <td id=\"T_ffd81fac_3477_11ea_977f_0242ac1c0002row7_col9\" class=\"data row7 col9\" >0.73</td>\n",
              "            </tr>\n",
              "            <tr>\n",
              "                        <th id=\"T_ffd81fac_3477_11ea_977f_0242ac1c0002level0_row8\" class=\"row_heading level0 row8\" >Age_bucket*Class</th>\n",
              "                        <td id=\"T_ffd81fac_3477_11ea_977f_0242ac1c0002row8_col0\" class=\"data row8 col0\" >-0.27</td>\n",
              "                        <td id=\"T_ffd81fac_3477_11ea_977f_0242ac1c0002row8_col1\" class=\"data row8 col1\" >0.63</td>\n",
              "                        <td id=\"T_ffd81fac_3477_11ea_977f_0242ac1c0002row8_col2\" class=\"data row8 col2\" >-0.23</td>\n",
              "                        <td id=\"T_ffd81fac_3477_11ea_977f_0242ac1c0002row8_col3\" class=\"data row8 col3\" >-0.13</td>\n",
              "                        <td id=\"T_ffd81fac_3477_11ea_977f_0242ac1c0002row8_col4\" class=\"data row8 col4\" >-0.24</td>\n",
              "                        <td id=\"T_ffd81fac_3477_11ea_977f_0242ac1c0002row8_col5\" class=\"data row8 col5\" >-0.23</td>\n",
              "                        <td id=\"T_ffd81fac_3477_11ea_977f_0242ac1c0002row8_col6\" class=\"data row8 col6\" >0.68</td>\n",
              "                        <td id=\"T_ffd81fac_3477_11ea_977f_0242ac1c0002row8_col7\" class=\"data row8 col7\" >-0.35</td>\n",
              "                        <td id=\"T_ffd81fac_3477_11ea_977f_0242ac1c0002row8_col8\" class=\"data row8 col8\" >1</td>\n",
              "                        <td id=\"T_ffd81fac_3477_11ea_977f_0242ac1c0002row8_col9\" class=\"data row8 col9\" >-0.21</td>\n",
              "            </tr>\n",
              "            <tr>\n",
              "                        <th id=\"T_ffd81fac_3477_11ea_977f_0242ac1c0002level0_row9\" class=\"row_heading level0 row9\" >Fare_bucket*Class</th>\n",
              "                        <td id=\"T_ffd81fac_3477_11ea_977f_0242ac1c0002row9_col0\" class=\"data row9 col0\" >0.071</td>\n",
              "                        <td id=\"T_ffd81fac_3477_11ea_977f_0242ac1c0002row9_col1\" class=\"data row9 col1\" >-0.18</td>\n",
              "                        <td id=\"T_ffd81fac_3477_11ea_977f_0242ac1c0002row9_col2\" class=\"data row9 col2\" >0.59</td>\n",
              "                        <td id=\"T_ffd81fac_3477_11ea_977f_0242ac1c0002row9_col3\" class=\"data row9 col3\" >0.53</td>\n",
              "                        <td id=\"T_ffd81fac_3477_11ea_977f_0242ac1c0002row9_col4\" class=\"data row9 col4\" >0.18</td>\n",
              "                        <td id=\"T_ffd81fac_3477_11ea_977f_0242ac1c0002row9_col5\" class=\"data row9 col5\" >0.67</td>\n",
              "                        <td id=\"T_ffd81fac_3477_11ea_977f_0242ac1c0002row9_col6\" class=\"data row9 col6\" >-0.18</td>\n",
              "                        <td id=\"T_ffd81fac_3477_11ea_977f_0242ac1c0002row9_col7\" class=\"data row9 col7\" >0.73</td>\n",
              "                        <td id=\"T_ffd81fac_3477_11ea_977f_0242ac1c0002row9_col8\" class=\"data row9 col8\" >-0.21</td>\n",
              "                        <td id=\"T_ffd81fac_3477_11ea_977f_0242ac1c0002row9_col9\" class=\"data row9 col9\" >1</td>\n",
              "            </tr>\n",
              "    </tbody></table>"
            ],
            "text/plain": [
              "<pandas.io.formats.style.Styler at 0x7f5ee54b0d68>"
            ]
          },
          "metadata": {
            "tags": []
          },
          "execution_count": 44
        }
      ]
    },
    {
      "cell_type": "markdown",
      "metadata": {
        "id": "7vkXlRfkuHNh",
        "colab_type": "text"
      },
      "source": [
        "* Highly correlated features can be chosen not to go together to avoid repetition of information. Some linear algorithms are sensitive to correlation."
      ]
    },
    {
      "cell_type": "code",
      "metadata": {
        "id": "tzHeCn8F1h8o",
        "colab_type": "code",
        "colab": {}
      },
      "source": [
        ""
      ],
      "execution_count": 0,
      "outputs": []
    }
  ]
}